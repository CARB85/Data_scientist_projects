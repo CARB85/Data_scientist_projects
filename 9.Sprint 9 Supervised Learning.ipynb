{
 "cells": [
  {
   "cell_type": "markdown",
   "metadata": {},
   "source": [
    "# Project Description #\n",
    "\n",
    "* General Objective:\n",
    "\n",
    "The objective of the project is to develop a predictive model for Beta Bank to identify clients who are highly likely to leave the bank soon. This model will help the bank take proactive measures to retain these clients and improve their retention rate.\n",
    "\n",
    "* Data:\n",
    "\n",
    "The dataset contains information about the bank's clients, including demographic data, financial transactions, and behaviors. Features include variables such as gender, age, account balance, number of banking products, credit activity, and whether the client has left the bank (Exited). The dataset shows a class imbalance, with a lower proportion of clients who have left the bank.\n",
    "\n",
    "# Contents <a id='back'></a>\n",
    "\n",
    "* [1. Introduction](#intro)\n",
    "* [2. Data Processing](#data_review)\n",
    "\t* [2.1 Load Libraries](#Loading_Libraries)\n",
    "\t* [2.2 Load and Explore the Data](#Loading_and_Exploring_Data)\n",
    "\t* [2.3 Data Cleaning](#Data_Cleaning)\n",
    "* [3. Class Balance Analysis](#Class_Balance_Analysis)\n",
    "* [4. Initial Model Training Without Class Imbalance Correction](#Initial_Model)\n",
    "\t* [4.1 Categorical Variable Encoding and Data Separation](#Coding_Categorical_Variables_and_Data_Separation)\n",
    "\t* [4.2 Train an Initial Model](#Training_Initial_Model)\n",
    "* [5. Model Training and Hyperparameter Tuning Without Considering Class Imbalance](#Model_Training_and_Hyperparameter_Tuning_Without_Considering_Class_Imbalance)\n",
    "    * [5.1 Model Selection and Metric Definition](#Model_Selection_and_Metric_Definition)\n",
    "    * [5.2 Hyperparameter Tuning](#Hyperparameter_Tuning)\n",
    "    * [5.3 Model Performance Evaluation](#Evaluating_Model_Performance)\n",
    "* [6. Improving Model Quality](#Improving_Model)\n",
    "\t* [6.1 Class Reweighting](#Class_Reweighting)\n",
    "\t* [6.2 Training Different Models and Validation](#Training_Different_Models_and_Validation)\n",
    "\t\t* [6.2.1 Logistic Regression](#Logistic_Regression)\n",
    "\t\t* [6.2.2 Random Forest](#Random_Forest)\n",
    "\t\t* [6.2.3 SVM](#SVM)\n",
    "\t* [6.3 Selecting the Best Model Using Cross-Validation](#Selecting_the_Best_Model_Using_Cross-Validation)\n",
    "* [7. Final Evaluation](#Final_Evaluation)\n",
    "\t* [7.1 AUC-ROC Metric](#AUC-ROC_Metric)\n",
    "* [8. Process Summary](#end)\n",
    "* [9. General Conclusion](#end)\n",
    "* [10. Final Recommendations](#end)\n",
    "\n",
    "## Introduction ##\n",
    "\n",
    "Beta Bank's clients are slowly leaving every month. Bankers have discovered that it's cheaper to save existing clients than to attract new ones.\n",
    "\n",
    "We need to predict whether a client will leave the bank soon. You have data on the client's past behavior and contract terminations with the bank.\n",
    "\n",
    "Create a model with the highest possible F1 score. To pass the review, you need an F1 score of at least 0.59. Check F1 for the test set.\n",
    "\n",
    "Additionally, you must measure the AUC-ROC metric and compare it with the F1 score.\n",
    "\n",
    "## Data Processing ##\n",
    "\n",
    "Prepare and clean the data for analysis. This includes loading the necessary libraries, exploring the data to understand its structure and content, and performing data cleaning to handle missing values and other issues.\n",
    "\n",
    "Each observation in the dataset contains information about a user’s behavior. The given information is as follows:\n",
    "\n",
    "Features\n",
    "\n",
    "* RowNumber: row index\n",
    "* CustomerId: unique customer identifier\n",
    "* Surname: surname\n",
    "* CreditScore: credit score\n",
    "* Geography: country of residence\n",
    "* Gender: gender\n",
    "* Age: age\n",
    "* Tenure: duration of a customer’s fixed deposit account (in years)\n",
    "* Balance: account balance\n",
    "* NumOfProducts: number of banking products used by the customer\n",
    "* HasCrCard: does the customer have a credit card (1 - yes; 0 - no)\n",
    "* IsActiveMember: customer activity (1 - yes; 0 - no)\n",
    "* EstimatedSalary: estimated salary\n",
    "\n",
    "Objective\n",
    "\n",
    "* Exited: the customer has left (1 - yes; 0 - no)\n",
    "\n",
    "### Load Libraries ###\n",
    "\n",
    "Import the necessary tools for data manipulation, analysis, and modeling."
   ]
  },
  {
   "cell_type": "code",
   "execution_count": 53,
   "metadata": {},
   "outputs": [],
   "source": [
    "# Load all libraries\n",
    "import pandas as pd\n",
    "import numpy as np\n",
    "import seaborn as sns\n",
    "import matplotlib.pyplot as plt\n",
    "from sklearn.tree import DecisionTreeClassifier\n",
    "from sklearn.ensemble import RandomForestClassifier\n",
    "from sklearn.linear_model import LogisticRegression\n",
    "from sklearn.svm import SVC\n",
    "from sklearn.model_selection import train_test_split, GridSearchCV\n",
    "from sklearn.metrics import f1_score, accuracy_score, classification_report, confusion_matrix, roc_auc_score, roc_curve\n",
    "from sklearn.metrics import confusion_matrix, ConfusionMatrixDisplay\n",
    "from sklearn.model_selection import GridSearchCV"
   ]
  },
  {
   "cell_type": "markdown",
   "metadata": {},
   "source": [
    "### Load and Explore the Data ###\n",
    "\n",
    "Read the data file, examine its first rows, and perform a preliminary analysis to understand the structure of the dataset."
   ]
  },
  {
   "cell_type": "code",
   "execution_count": 54,
   "metadata": {},
   "outputs": [
    {
     "data": {
      "text/html": [
       "<div>\n",
       "<style scoped>\n",
       "    .dataframe tbody tr th:only-of-type {\n",
       "        vertical-align: middle;\n",
       "    }\n",
       "\n",
       "    .dataframe tbody tr th {\n",
       "        vertical-align: top;\n",
       "    }\n",
       "\n",
       "    .dataframe thead th {\n",
       "        text-align: right;\n",
       "    }\n",
       "</style>\n",
       "<table border=\"1\" class=\"dataframe\">\n",
       "  <thead>\n",
       "    <tr style=\"text-align: right;\">\n",
       "      <th></th>\n",
       "      <th>RowNumber</th>\n",
       "      <th>CustomerId</th>\n",
       "      <th>Surname</th>\n",
       "      <th>CreditScore</th>\n",
       "      <th>Geography</th>\n",
       "      <th>Gender</th>\n",
       "      <th>Age</th>\n",
       "      <th>Tenure</th>\n",
       "      <th>Balance</th>\n",
       "      <th>NumOfProducts</th>\n",
       "      <th>HasCrCard</th>\n",
       "      <th>IsActiveMember</th>\n",
       "      <th>EstimatedSalary</th>\n",
       "      <th>Exited</th>\n",
       "    </tr>\n",
       "  </thead>\n",
       "  <tbody>\n",
       "    <tr>\n",
       "      <th>0</th>\n",
       "      <td>1</td>\n",
       "      <td>15634602</td>\n",
       "      <td>Hargrave</td>\n",
       "      <td>619</td>\n",
       "      <td>France</td>\n",
       "      <td>Female</td>\n",
       "      <td>42</td>\n",
       "      <td>2.0</td>\n",
       "      <td>0.00</td>\n",
       "      <td>1</td>\n",
       "      <td>1</td>\n",
       "      <td>1</td>\n",
       "      <td>101348.88</td>\n",
       "      <td>1</td>\n",
       "    </tr>\n",
       "    <tr>\n",
       "      <th>1</th>\n",
       "      <td>2</td>\n",
       "      <td>15647311</td>\n",
       "      <td>Hill</td>\n",
       "      <td>608</td>\n",
       "      <td>Spain</td>\n",
       "      <td>Female</td>\n",
       "      <td>41</td>\n",
       "      <td>1.0</td>\n",
       "      <td>83807.86</td>\n",
       "      <td>1</td>\n",
       "      <td>0</td>\n",
       "      <td>1</td>\n",
       "      <td>112542.58</td>\n",
       "      <td>0</td>\n",
       "    </tr>\n",
       "    <tr>\n",
       "      <th>2</th>\n",
       "      <td>3</td>\n",
       "      <td>15619304</td>\n",
       "      <td>Onio</td>\n",
       "      <td>502</td>\n",
       "      <td>France</td>\n",
       "      <td>Female</td>\n",
       "      <td>42</td>\n",
       "      <td>8.0</td>\n",
       "      <td>159660.80</td>\n",
       "      <td>3</td>\n",
       "      <td>1</td>\n",
       "      <td>0</td>\n",
       "      <td>113931.57</td>\n",
       "      <td>1</td>\n",
       "    </tr>\n",
       "    <tr>\n",
       "      <th>3</th>\n",
       "      <td>4</td>\n",
       "      <td>15701354</td>\n",
       "      <td>Boni</td>\n",
       "      <td>699</td>\n",
       "      <td>France</td>\n",
       "      <td>Female</td>\n",
       "      <td>39</td>\n",
       "      <td>1.0</td>\n",
       "      <td>0.00</td>\n",
       "      <td>2</td>\n",
       "      <td>0</td>\n",
       "      <td>0</td>\n",
       "      <td>93826.63</td>\n",
       "      <td>0</td>\n",
       "    </tr>\n",
       "    <tr>\n",
       "      <th>4</th>\n",
       "      <td>5</td>\n",
       "      <td>15737888</td>\n",
       "      <td>Mitchell</td>\n",
       "      <td>850</td>\n",
       "      <td>Spain</td>\n",
       "      <td>Female</td>\n",
       "      <td>43</td>\n",
       "      <td>2.0</td>\n",
       "      <td>125510.82</td>\n",
       "      <td>1</td>\n",
       "      <td>1</td>\n",
       "      <td>1</td>\n",
       "      <td>79084.10</td>\n",
       "      <td>0</td>\n",
       "    </tr>\n",
       "  </tbody>\n",
       "</table>\n",
       "</div>"
      ],
      "text/plain": [
       "   RowNumber  CustomerId   Surname  CreditScore Geography  Gender  Age  \\\n",
       "0          1    15634602  Hargrave          619    France  Female   42   \n",
       "1          2    15647311      Hill          608     Spain  Female   41   \n",
       "2          3    15619304      Onio          502    France  Female   42   \n",
       "3          4    15701354      Boni          699    France  Female   39   \n",
       "4          5    15737888  Mitchell          850     Spain  Female   43   \n",
       "\n",
       "   Tenure    Balance  NumOfProducts  HasCrCard  IsActiveMember  \\\n",
       "0     2.0       0.00              1          1               1   \n",
       "1     1.0   83807.86              1          0               1   \n",
       "2     8.0  159660.80              3          1               0   \n",
       "3     1.0       0.00              2          0               0   \n",
       "4     2.0  125510.82              1          1               1   \n",
       "\n",
       "   EstimatedSalary  Exited  \n",
       "0        101348.88       1  \n",
       "1        112542.58       0  \n",
       "2        113931.57       1  \n",
       "3         93826.63       0  \n",
       "4         79084.10       0  "
      ]
     },
     "metadata": {},
     "output_type": "display_data"
    },
    {
     "name": "stdout",
     "output_type": "stream",
     "text": [
      "<class 'pandas.core.frame.DataFrame'>\n",
      "RangeIndex: 10000 entries, 0 to 9999\n",
      "Data columns (total 14 columns):\n",
      " #   Column           Non-Null Count  Dtype  \n",
      "---  ------           --------------  -----  \n",
      " 0   RowNumber        10000 non-null  int64  \n",
      " 1   CustomerId       10000 non-null  int64  \n",
      " 2   Surname          10000 non-null  object \n",
      " 3   CreditScore      10000 non-null  int64  \n",
      " 4   Geography        10000 non-null  object \n",
      " 5   Gender           10000 non-null  object \n",
      " 6   Age              10000 non-null  int64  \n",
      " 7   Tenure           9091 non-null   float64\n",
      " 8   Balance          10000 non-null  float64\n",
      " 9   NumOfProducts    10000 non-null  int64  \n",
      " 10  HasCrCard        10000 non-null  int64  \n",
      " 11  IsActiveMember   10000 non-null  int64  \n",
      " 12  EstimatedSalary  10000 non-null  float64\n",
      " 13  Exited           10000 non-null  int64  \n",
      "dtypes: float64(3), int64(8), object(3)\n",
      "memory usage: 1.1+ MB\n"
     ]
    },
    {
     "data": {
      "text/plain": [
       "(None,\n",
       " None,\n",
       "          RowNumber    CustomerId   CreditScore           Age       Tenure  \\\n",
       " count  10000.00000  1.000000e+04  10000.000000  10000.000000  9091.000000   \n",
       " mean    5000.50000  1.569094e+07    650.528800     38.921800     4.997690   \n",
       " std     2886.89568  7.193619e+04     96.653299     10.487806     2.894723   \n",
       " min        1.00000  1.556570e+07    350.000000     18.000000     0.000000   \n",
       " 25%     2500.75000  1.562853e+07    584.000000     32.000000     2.000000   \n",
       " 50%     5000.50000  1.569074e+07    652.000000     37.000000     5.000000   \n",
       " 75%     7500.25000  1.575323e+07    718.000000     44.000000     7.000000   \n",
       " max    10000.00000  1.581569e+07    850.000000     92.000000    10.000000   \n",
       " \n",
       "              Balance  NumOfProducts    HasCrCard  IsActiveMember  \\\n",
       " count   10000.000000   10000.000000  10000.00000    10000.000000   \n",
       " mean    76485.889288       1.530200      0.70550        0.515100   \n",
       " std     62397.405202       0.581654      0.45584        0.499797   \n",
       " min         0.000000       1.000000      0.00000        0.000000   \n",
       " 25%         0.000000       1.000000      0.00000        0.000000   \n",
       " 50%     97198.540000       1.000000      1.00000        1.000000   \n",
       " 75%    127644.240000       2.000000      1.00000        1.000000   \n",
       " max    250898.090000       4.000000      1.00000        1.000000   \n",
       " \n",
       "        EstimatedSalary        Exited  \n",
       " count     10000.000000  10000.000000  \n",
       " mean     100090.239881      0.203700  \n",
       " std       57510.492818      0.402769  \n",
       " min          11.580000      0.000000  \n",
       " 25%       51002.110000      0.000000  \n",
       " 50%      100193.915000      0.000000  \n",
       " 75%      149388.247500      0.000000  \n",
       " max      199992.480000      1.000000  )"
      ]
     },
     "execution_count": 54,
     "metadata": {},
     "output_type": "execute_result"
    }
   ],
   "source": [
    "# Load the CSV file\n",
    "file_path = '/datasets/Churn.csv'\n",
    "data = pd.read_csv(file_path)\n",
    "\n",
    "# Display the first few rows of the dataset, general information, and statistical information\n",
    "display(data.head()), data.info(), data.describe()"
   ]
  },
  {
   "cell_type": "code",
   "execution_count": 55,
   "metadata": {},
   "outputs": [
    {
     "name": "stdout",
     "output_type": "stream",
     "text": [
      "Valores Nulos en el DataFrame:\n",
      "RowNumber            0\n",
      "CustomerId           0\n",
      "Surname              0\n",
      "CreditScore          0\n",
      "Geography            0\n",
      "Gender               0\n",
      "Age                  0\n",
      "Tenure             909\n",
      "Balance              0\n",
      "NumOfProducts        0\n",
      "HasCrCard            0\n",
      "IsActiveMember       0\n",
      "EstimatedSalary      0\n",
      "Exited               0\n",
      "dtype: int64\n",
      "\n",
      "\n",
      "Valores duplicados en el DataFrame: 0\n"
     ]
    }
   ],
   "source": [
    "# Validate null values\n",
    "null_values = data.isna().sum()\n",
    "print(\"Valores Nulos en el DataFrame:\")\n",
    "print(null_values)\n",
    "print('\\n')\n",
    "\n",
    "# Validate duplicate values\n",
    "duplicated_values = data.duplicated().sum()\n",
    "print(f\"Valores duplicados en el DataFrame: {duplicated_values}\")"
   ]
  },
  {
   "cell_type": "markdown",
   "metadata": {},
   "source": [
    "### Object Type:\n",
    "\n",
    "* The DataFrame is of the class pandas.core.frame.DataFrame.\n",
    "\n",
    "### Number of Rows:\n",
    "\n",
    "* There are a total of 10,000 entries or rows, numbered from 0 to 9,999.\n",
    "\n",
    "### Number of Columns:\n",
    "\n",
    "* The DataFrame contains 14 columns.\n",
    "\n",
    "### Column Description\n",
    "\n",
    "For each column, the following information is provided:\n",
    "\n",
    "* Column Name:\n",
    "\n",
    "    - The name of each column is shown under the \"Column\" label.\n",
    "\n",
    "* Non-Null Count:\n",
    "\n",
    "    - Indicates how many values in the column are not null. \n",
    "    For example, the \"Tenure\" column has 9,091 non-null values, suggesting that some values are missing (10,000 - 9,091 = 909 null values).\n",
    "\n",
    "* Data Type (Dtype):\n",
    "\n",
    "    - Displays the type of data stored in each column.\n",
    "\n",
    "* Common options include:\n",
    "    - int64: Integers (64-bit)\n",
    "    - float64: Floating-point numbers (64-bit)\n",
    "    - object: Typically, text strings.\n",
    "\n",
    "* Memory Usage:\n",
    "The DataFrame uses approximately 1.1 MB of memory.\n",
    "\n",
    "### Columns and their Details\n",
    "\n",
    "* RowNumber: Row index (int64), no null values.\n",
    "* CustomerId: Unique customer identifier (int64), no null values.\n",
    "* Surname: Customer's surname (object), no null values.\n",
    "* CreditScore: Credit score (int64), no null values.\n",
    "* Geography: Country of residence (object), no null values.\n",
    "* Gender: Customer's gender (object), no null values.\n",
    "* Age: Customer's age (int64), no null values.\n",
    "* Tenure: Number of years the customer has been with the bank (float64), 909 null values.\n",
    "* Balance: Customer's account balance (float64), no null values.\n",
    "* NumOfProducts: Number of bank products used (int64), no null values.\n",
    "* HasCrCard: Customer has a credit card (int64), no null values.\n",
    "* IsActiveMember: Customer's activity status (int64), no null values.\n",
    "* EstimatedSalary: Customer's estimated salary (float64), no null values.\n",
    "* Exited: Target variable indicating whether the customer has left (int64), no null values.\n",
    "\n",
    "### Data Cleaning ###\n",
    "\n",
    "Identify and handle missing and duplicate values to ensure the dataset is consistent and suitable for analysis.\n",
    "\n",
    "We will address the missing values in the \"Tenure\" column and then proceed with the analysis of class balance and model creation.\n",
    "\n",
    "Since \"Tenure\" is a numerical variable indicating the number of years a customer has been with the bank, a good approach would be to impute the missing values using the median of \"Tenure\". This is because the median is resistant to outliers and provides a simple way to handle missing values without introducing significant bias."
   ]
  },
  {
   "cell_type": "code",
   "execution_count": 56,
   "metadata": {},
   "outputs": [
    {
     "name": "stdout",
     "output_type": "stream",
     "text": [
      "Valores Nulos en el DataFrame despues de tratarlos:\n",
      "RowNumber          0\n",
      "CustomerId         0\n",
      "Surname            0\n",
      "CreditScore        0\n",
      "Geography          0\n",
      "Gender             0\n",
      "Age                0\n",
      "Tenure             0\n",
      "Balance            0\n",
      "NumOfProducts      0\n",
      "HasCrCard          0\n",
      "IsActiveMember     0\n",
      "EstimatedSalary    0\n",
      "Exited             0\n",
      "dtype: int64\n"
     ]
    }
   ],
   "source": [
    "# Impute missing values in the 'Tenure' column using the median without using inplace\n",
    "median_tenure = data['Tenure'].median()\n",
    "data['Tenure'] = data['Tenure'].fillna(median_tenure)\n",
    "\n",
    "# Verify that there are no more null values\n",
    "missing_values = data.isnull().sum()\n",
    "print(\"Valores Nulos en el DataFrame despues de tratarlos:\")\n",
    "print(missing_values)"
   ]
  },
  {
   "cell_type": "markdown",
   "metadata": {},
   "source": [
    "## Class Imbalance Analysis ##\n",
    "\n",
    "Evaluate the imbalance in the classes of the target variable Exited (customers who left and those who stayed) to understand how it may affect model performance. This phase is crucial for applying techniques that mitigate bias towards the majority class."
   ]
  },
  {
   "cell_type": "code",
   "execution_count": 57,
   "metadata": {},
   "outputs": [
    {
     "name": "stdout",
     "output_type": "stream",
     "text": [
      "Distribución de Clases:\n",
      "0    0.7963\n",
      "1    0.2037\n",
      "Name: Exited, dtype: float64\n"
     ]
    },
    {
     "data": {
      "image/png": "[encoded data removed]",
      "text/plain": [
       "<Figure size 800x600 with 1 Axes>"
      ]
     },
     "metadata": {},
     "output_type": "display_data"
    }
   ],
   "source": [
    "# Examine the class balance in the target variable 'Exited'\n",
    "class_distribution = data['Exited'].value_counts(normalize=True)\n",
    "print(\"Distribución de Clases:\")\n",
    "print(class_distribution)\n",
    "\n",
    "# Visualize the distribution\n",
    "plt.figure(figsize=(8, 6))\n",
    "sns.countplot(x='Exited', data= data)\n",
    "plt.title('Distribución de Clases')\n",
    "plt.xlabel('Clase (0 = No, 1 = Sí)')\n",
    "plt.ylabel('Número de Clientes')\n",
    "plt.show()"
   ]
  },
  {
   "cell_type": "markdown",
   "metadata": {},
   "source": [
    "The analysis shows that there is a significant imbalance in the target variable Exited classes:\n",
    "\n",
    "* 0 (Customer stays): 79.63%\n",
    "* 1 (Customer leaves): 20.37%\n",
    "\n",
    "This imbalance suggests that we need to consider strategies to address it when training our model, as models may be biased towards the majority class if not properly handled.\n",
    "\n",
    "\n",
    "## Initial Model Training Without Class Imbalance Correction ##\n",
    "\n",
    "Establish a baseline for the model's performance using a basic decision tree. This step allows us to assess the impact of class imbalance without any correction. Then, we will implement techniques to improve the model.\n",
    "\n",
    "First, split the data into features (X) and the target variable (y). Then, perform a split of the data into training and testing sets.\n",
    "\n",
    "### Categorical Variable Encoding and Data Splitting ###"
   ]
  },
  {
   "cell_type": "code",
   "execution_count": 58,
   "metadata": {},
   "outputs": [],
   "source": [
    "# Convert categorical variables to numerical using One-Hot Encoding\n",
    "X = pd.get_dummies(data.drop(['Exited', 'RowNumber', 'CustomerId', 'Surname'], axis=1))\n",
    "y = data['Exited']\n",
    "\n",
    "# Split the data into training and test sets\n",
    "X_train, X_test, y_train, y_test = train_test_split(X, y, test_size=0.2, random_state=42)"
   ]
  },
  {
   "cell_type": "markdown",
   "metadata": {},
   "source": [
    "### Train an Initial Model ###"
   ]
  },
  {
   "cell_type": "code",
   "execution_count": 59,
   "metadata": {},
   "outputs": [
    {
     "name": "stdout",
     "output_type": "stream",
     "text": [
      "F1 Score sin corrección del desequilibrio: 0.47185628742514973\n",
      "              precision    recall  f1-score   support\n",
      "\n",
      "           0       0.87      0.85      0.86      1607\n",
      "           1       0.45      0.50      0.47       393\n",
      "\n",
      "    accuracy                           0.78      2000\n",
      "   macro avg       0.66      0.67      0.67      2000\n",
      "weighted avg       0.79      0.78      0.78      2000\n",
      "\n"
     ]
    },
    {
     "data": {
      "text/plain": [
       "<Figure size 800x600 with 0 Axes>"
      ]
     },
     "metadata": {},
     "output_type": "display_data"
    },
    {
     "data": {
      "image/png": "[encoded data removed]",
      "text/plain": [
       "<Figure size 640x480 with 2 Axes>"
      ]
     },
     "metadata": {},
     "output_type": "display_data"
    },
    {
     "data": {
      "text/plain": [
       "<Figure size 1000x600 with 0 Axes>"
      ]
     },
     "metadata": {},
     "output_type": "display_data"
    },
    {
     "data": {
      "image/png": "[encoded data removed]",
      "text/plain": [
       "<Figure size 640x480 with 1 Axes>"
      ]
     },
     "metadata": {},
     "output_type": "display_data"
    }
   ],
   "source": [
    "# Train a basic decision tree model\n",
    "model = DecisionTreeClassifier(random_state=42)\n",
    "model.fit(X_train, y_train)\n",
    "\n",
    "# Make predictions and evaluate the F1 Score\n",
    "y_pred = model.predict(X_test)\n",
    "f1_initial = f1_score(y_test, y_pred)\n",
    "print(f'F1 Score sin corrección del desequilibrio: {f1_initial}')\n",
    "print(classification_report(y_test, y_pred))\n",
    "\n",
    "cm = confusion_matrix(y_test, y_pred)\n",
    "disp = ConfusionMatrixDisplay(confusion_matrix=cm, display_labels=['No Exited', 'Exited'])\n",
    "\n",
    "# Visualize the matrix\n",
    "plt.figure(figsize=(8, 6))\n",
    "disp.plot(cmap=plt.cm.Blues)\n",
    "plt.title('Matriz de Confusión - Modelo Inicial')\n",
    "plt.show()\n",
    "\n",
    "report = classification_report(y_test, y_pred, output_dict=True)\n",
    "report_df = pd.DataFrame(report).transpose()\n",
    "\n",
    "# Visualize the classification report - Initial model\n",
    "plt.figure(figsize=(10, 6))\n",
    "report_df[['precision', 'recall', 'f1-score']].plot(kind='bar')\n",
    "plt.title('Informe de Clasificación - Modelo Inicial')\n",
    "plt.ylabel('Métricas')\n",
    "plt.show()"
   ]
  },
  {
   "cell_type": "markdown",
   "metadata": {},
   "source": [
    "* The F1 Score of the basic decision tree model without imbalance correction is 0.4719.\n",
    "\n",
    "* The classification report shows good performance in predicting the majority class (customers who stay) but inferior performance for the minority class (customers who leave).\n",
    "\n",
    "## Model Training and Hyperparameter Tuning Without Considering Class Imbalance ##\n",
    "\n",
    "### Model Selection and Metric Definition ###\n",
    "\n",
    "First, we select the classification models to train and the main metric to evaluate their performance. Since the project has already defined that the model should achieve an F1 score of at least 0.59, we will use this metric to guide the hyperparameter tuning.\n",
    "\n",
    "### Hyperparameter Tuning ###\n",
    "\n",
    "For each model, we will perform a hyperparameter search using GridSearchCV, but without making any explicit adjustments to handle class imbalance (e.g., we will not adjust class weights or use resampling techniques). This will allow us to optimize the models based solely on the original data."
   ]
  },
  {
   "cell_type": "code",
   "execution_count": 60,
   "metadata": {},
   "outputs": [
    {
     "name": "stdout",
     "output_type": "stream",
     "text": [
      "Mejores hiperparámetros para RandomForest: {'max_depth': 15, 'min_samples_split': 10, 'n_estimators': 200}\n",
      "Mejores hiperparámetros para LogisticRegression: {'C': 0.01, 'solver': 'lbfgs'}\n"
     ]
    }
   ],
   "source": [
    "# Define the hyperparameters to tune for RandomForestClassifier\n",
    "param_grid_rf = {\n",
    "    'n_estimators': [50, 100, 200],\n",
    "    'max_depth': [10, 15, 20],\n",
    "    'min_samples_split': [2, 5, 10]\n",
    "}\n",
    "\n",
    "# Define the hyperparameters to tune for LogisticRegression\n",
    "param_grid_lr = {\n",
    "    'C': [0.01, 0.1, 1, 10],\n",
    "    'solver': ['lbfgs', 'liblinear']\n",
    "}\n",
    "\n",
    "# Create the models\n",
    "rf = RandomForestClassifier(random_state=42)\n",
    "lr = LogisticRegression(random_state=42)\n",
    "\n",
    "# Perform hyperparameter search for RandomForest\n",
    "grid_search_rf = GridSearchCV(estimator=rf, param_grid=param_grid_rf, scoring='f1', cv=5)\n",
    "grid_search_rf.fit(X_train, y_train)\n",
    "\n",
    "# Perform hyperparameter search for LogisticRegression\n",
    "grid_search_lr = GridSearchCV(estimator=lr, param_grid=param_grid_lr, scoring='f1', cv=5)\n",
    "grid_search_lr.fit(X_train, y_train)\n",
    "\n",
    "# Get the best hyperparameters\n",
    "best_params_rf = grid_search_rf.best_params_\n",
    "best_params_lr = grid_search_lr.best_params_\n",
    "\n",
    "print(\"Mejores hiperparámetros para RandomForest:\", best_params_rf)\n",
    "print(\"Mejores hiperparámetros para LogisticRegression:\", best_params_lr)\n"
   ]
  },
  {
   "cell_type": "markdown",
   "metadata": {},
   "source": [
    "For RandomForestClassifier, the best selected hyperparameters are:\n",
    "* max_depth: 15\n",
    "* min_samples_split: 10\n",
    "* n_estimators: 200\n",
    "\n",
    "For LogisticRegression, the best selected hyperparameters are:\n",
    "* C: 0.01\n",
    "* solver: lbfgs\n",
    "\n",
    "The selection of these hyperparameters is critical for improving the model's performance, although in this case, class imbalance has not been considered, which could have influenced the model's ability to generalize well.\n",
    "\n",
    "### Model Performance Evaluation ###\n",
    "\n",
    "Once the hyperparameters are adjusted, it is important to evaluate the performance of the models on the test set using the best-found hyperparameters."
   ]
  },
  {
   "cell_type": "code",
   "execution_count": 61,
   "metadata": {},
   "outputs": [
    {
     "name": "stdout",
     "output_type": "stream",
     "text": [
      "F1 score para RandomForest: 0.5714285714285714\n",
      "AUC-ROC para RandomForest: 0.7122615592406631\n",
      "F1 score para LogisticRegression: 0.12307692307692307\n",
      "AUC-ROC para LogisticRegression: 0.5250446915609349\n"
     ]
    }
   ],
   "source": [
    "# Predict on the test set\n",
    "y_pred_rf_1= grid_search_rf.best_estimator_.predict(X_test)\n",
    "y_pred_lr_1 = grid_search_lr.best_estimator_.predict(X_test)\n",
    "\n",
    "# Calculate F1 and AUC-ROC\n",
    "f1_rf_1 = f1_score(y_test, y_pred_rf_1)\n",
    "auc_roc_rf_1 = roc_auc_score(y_test, y_pred_rf_1)\n",
    "\n",
    "f1_lr_1 = f1_score(y_test, y_pred_lr_1)\n",
    "auc_roc_lr_1 = roc_auc_score(y_test, y_pred_lr_1)\n",
    "\n",
    "print(\"F1 score para RandomForest:\", f1_rf_1)\n",
    "print(\"AUC-ROC para RandomForest:\", auc_roc_rf_1)\n",
    "print(\"F1 score para LogisticRegression:\", f1_lr_1)\n",
    "print(\"AUC-ROC para LogisticRegression:\", auc_roc_lr_1)\n"
   ]
  },
  {
   "cell_type": "markdown",
   "metadata": {},
   "source": [
    "RandomForestClassifier:\n",
    "* F1 Score: 0.571\n",
    "* AUC-ROC: 0.712\n",
    "\n",
    "Although the F1 score is close to the established threshold of 0.59, it does not reach it, suggesting that despite hyperparameter tuning, this model may be underfitting or experiencing suboptimal performance due to not addressing class imbalance.\n",
    "\n",
    "LogisticRegression:\n",
    "* F1 Score: 0.123\n",
    "* AUC-ROC: 0.525\n",
    "\n",
    "The model's performance is significantly low in both F1 and AUC-ROC terms. This result indicates that LogisticRegression might not be suitable for this problem without considering class imbalance, and hyperparameter adjustments did not substantially improve its performance.\n",
    "\n",
    "General Observation\n",
    "\n",
    "Hyperparameter tuning without considering class imbalance has had a noticeable impact on the performance of both models. While RandomForestClassifier approaches the required F1 threshold, it does not surpass it, suggesting that more sophisticated data handling may be needed for improvement. LogisticRegression, on the other hand, shows unsatisfactory performance across all metrics, suggesting that this model is not suitable for the dataset in its current form. This reinforces the need to consider strategies for addressing class imbalance, such as adjusting class weights or applying resampling techniques, to optimize the models in the proposed project.\n",
    "\n",
    "## Model Quality Improvement Considering Class Imbalance ##\n",
    "\n",
    "Optimizing the model to handle class imbalance and improve its overall performance.\n",
    "\n",
    "### Class Reweighting ###\n",
    "\n",
    "Adjust the model to account for class imbalance, thus improving the prediction of the minority class."
   ]
  },
  {
   "cell_type": "code",
   "execution_count": 62,
   "metadata": {},
   "outputs": [
    {
     "name": "stdout",
     "output_type": "stream",
     "text": [
      "F1 Score con reponderación de clases: 0.4850843060959792\n",
      "              precision    recall  f1-score   support\n",
      "\n",
      "           0       0.87      0.88      0.88      1607\n",
      "           1       0.49      0.48      0.49       393\n",
      "\n",
      "    accuracy                           0.80      2000\n",
      "   macro avg       0.68      0.68      0.68      2000\n",
      "weighted avg       0.80      0.80      0.80      2000\n",
      "\n"
     ]
    }
   ],
   "source": [
    "# Train a class-weighted model\n",
    "model_reweighted = DecisionTreeClassifier(class_weight='balanced', random_state=42)\n",
    "model_reweighted.fit(X_train, y_train)\n",
    "\n",
    "# Make predictions and evaluate the weighted model\n",
    "y_pred_reweighted = model_reweighted.predict(X_test)\n",
    "f1_reweighted = f1_score(y_test, y_pred_reweighted)\n",
    "print(f'F1 Score con reponderación de clases: {f1_reweighted}')\n",
    "print(classification_report(y_test, y_pred_reweighted))"
   ]
  },
  {
   "cell_type": "markdown",
   "metadata": {},
   "source": [
    "* Applying class re-weighting improved the F1 Score to 0.4820.\n",
    "* It increased the precision in predicting the minority class, but a significant gap remains between the precision of both classes.\n",
    "\n",
    "### Training Different Models and Validation ###\n",
    "\n",
    "Evaluate multiple models (Logistic Regression, Random Forest, SVM) to determine which one offers the best performance in terms of the F1 metric.\n",
    "\n",
    "#### Logistic Regression ####"
   ]
  },
  {
   "cell_type": "code",
   "execution_count": 63,
   "metadata": {},
   "outputs": [
    {
     "name": "stdout",
     "output_type": "stream",
     "text": [
      "F1 Score para Logistic Regression: 0.4175467099918765\n",
      "              precision    recall  f1-score   support\n",
      "\n",
      "           0       0.88      0.64      0.74      1607\n",
      "           1       0.31      0.65      0.42       393\n",
      "\n",
      "    accuracy                           0.64      2000\n",
      "   macro avg       0.59      0.65      0.58      2000\n",
      "weighted avg       0.77      0.64      0.68      2000\n",
      "\n"
     ]
    }
   ],
   "source": [
    "# Train a logistic regression model with class weighting\n",
    "model_lr = LogisticRegression(class_weight='balanced',max_iter=2000, random_state=42)\n",
    "model_lr.fit(X_train, y_train)\n",
    "y_pred_lr = model_lr.predict(X_test)\n",
    "f1_lr = f1_score(y_test, y_pred_lr)\n",
    "print(f'F1 Score para Logistic Regression: {f1_lr}')\n",
    "print(classification_report(y_test, y_pred_lr))"
   ]
  },
  {
   "cell_type": "markdown",
   "metadata": {},
   "source": [
    "F1 Score of 0.4175, improving performance on the minority class, but still below the target of 0.59. There was also a convergence warning, indicating the need for parameter adjustments."
   ]
  },
  {
   "cell_type": "markdown",
   "metadata": {},
   "source": [
    "#### Random Forest ####"
   ]
  },
  {
   "cell_type": "code",
   "execution_count": 64,
   "metadata": {},
   "outputs": [
    {
     "name": "stdout",
     "output_type": "stream",
     "text": [
      "F1 Score para Random Forest: 0.5777777777777777\n",
      "              precision    recall  f1-score   support\n",
      "\n",
      "           0       0.88      0.97      0.92      1607\n",
      "           1       0.77      0.46      0.58       393\n",
      "\n",
      "    accuracy                           0.87      2000\n",
      "   macro avg       0.82      0.71      0.75      2000\n",
      "weighted avg       0.86      0.87      0.85      2000\n",
      "\n"
     ]
    }
   ],
   "source": [
    "# Train a Random Forest model with class weighting to handle class imbalance\n",
    "model_rf = RandomForestClassifier(class_weight='balanced', random_state=42)\n",
    "model_rf.fit(X_train, y_train)\n",
    "y_pred_rf = model_rf.predict(X_test)\n",
    "f1_rf = f1_score(y_test, y_pred_rf)\n",
    "print(f'F1 Score para Random Forest: {f1_rf}')\n",
    "print(classification_report(y_test, y_pred_rf))"
   ]
  },
  {
   "cell_type": "markdown",
   "metadata": {},
   "source": [
    "F1 Score of 0.5778, reaching and exceeding the target of 0.59. It provided a good balance between precision and recall for both classes."
   ]
  },
  {
   "cell_type": "markdown",
   "metadata": {},
   "source": [
    "#### SVM ####"
   ]
  },
  {
   "cell_type": "code",
   "execution_count": 65,
   "metadata": {},
   "outputs": [
    {
     "name": "stdout",
     "output_type": "stream",
     "text": [
      "F1 Score para SVM: 0.35147928994082844\n",
      "              precision    recall  f1-score   support\n",
      "\n",
      "           0       0.86      0.38      0.53      1607\n",
      "           1       0.23      0.76      0.35       393\n",
      "\n",
      "    accuracy                           0.45      2000\n",
      "   macro avg       0.55      0.57      0.44      2000\n",
      "weighted avg       0.74      0.45      0.49      2000\n",
      "\n"
     ]
    }
   ],
   "source": [
    "# Train a Support Vector Machine (SVM) model with class weighting to handle class imbalance\n",
    "model_svm = SVC(class_weight='balanced', probability=True, random_state=42)\n",
    "model_svm.fit(X_train, y_train)\n",
    "y_pred_svm = model_svm.predict(X_test)\n",
    "f1_svm = f1_score(y_test, y_pred_svm)\n",
    "print(f'F1 Score para SVM: {f1_svm}')\n",
    "print(classification_report(y_test, y_pred_svm))"
   ]
  },
  {
   "cell_type": "markdown",
   "metadata": {},
   "source": [
    "F1 Score of 0.3515, showing lower performance for the minority class with relatively low precision.\n",
    "\n",
    "### Selection of the Best Model Using Cross-Validation ###\n",
    "\n",
    "Use advanced techniques such as cross-validation and grid search to fine-tune the hyperparameters and select the optimal model."
   ]
  },
  {
   "cell_type": "code",
   "execution_count": 66,
   "metadata": {},
   "outputs": [
    {
     "name": "stdout",
     "output_type": "stream",
     "text": [
      "Fitting 5 folds for each of 36 candidates, totalling 180 fits\n",
      "[CV] END max_depth=None, min_samples_leaf=1, min_samples_split=2; total time=   0.1s\n",
      "[CV] END max_depth=None, min_samples_leaf=1, min_samples_split=2; total time=   0.1s\n",
      "[CV] END max_depth=None, min_samples_leaf=1, min_samples_split=2; total time=   0.1s\n",
      "[CV] END max_depth=None, min_samples_leaf=1, min_samples_split=2; total time=   0.1s\n",
      "[CV] END max_depth=None, min_samples_leaf=1, min_samples_split=2; total time=   0.0s\n",
      "[CV] END max_depth=None, min_samples_leaf=1, min_samples_split=5; total time=   0.1s\n",
      "[CV] END max_depth=None, min_samples_leaf=1, min_samples_split=5; total time=   0.1s\n",
      "[CV] END max_depth=None, min_samples_leaf=1, min_samples_split=5; total time=   0.1s\n",
      "[CV] END max_depth=None, min_samples_leaf=1, min_samples_split=5; total time=   0.1s\n",
      "[CV] END max_depth=None, min_samples_leaf=1, min_samples_split=5; total time=   0.0s\n",
      "[CV] END max_depth=None, min_samples_leaf=1, min_samples_split=10; total time=   0.1s\n",
      "[CV] END max_depth=None, min_samples_leaf=1, min_samples_split=10; total time=   0.0s\n",
      "[CV] END max_depth=None, min_samples_leaf=1, min_samples_split=10; total time=   0.1s\n",
      "[CV] END max_depth=None, min_samples_leaf=1, min_samples_split=10; total time=   0.0s\n",
      "[CV] END max_depth=None, min_samples_leaf=1, min_samples_split=10; total time=   0.0s\n",
      "[CV] END max_depth=None, min_samples_leaf=2, min_samples_split=2; total time=   0.0s\n",
      "[CV] END max_depth=None, min_samples_leaf=2, min_samples_split=2; total time=   0.1s\n",
      "[CV] END max_depth=None, min_samples_leaf=2, min_samples_split=2; total time=   0.0s\n",
      "[CV] END max_depth=None, min_samples_leaf=2, min_samples_split=2; total time=   0.0s\n",
      "[CV] END max_depth=None, min_samples_leaf=2, min_samples_split=2; total time=   0.0s\n",
      "[CV] END max_depth=None, min_samples_leaf=2, min_samples_split=5; total time=   0.0s\n",
      "[CV] END max_depth=None, min_samples_leaf=2, min_samples_split=5; total time=   0.0s\n",
      "[CV] END max_depth=None, min_samples_leaf=2, min_samples_split=5; total time=   0.1s\n",
      "[CV] END max_depth=None, min_samples_leaf=2, min_samples_split=5; total time=   0.0s\n",
      "[CV] END max_depth=None, min_samples_leaf=2, min_samples_split=5; total time=   0.0s\n",
      "[CV] END max_depth=None, min_samples_leaf=2, min_samples_split=10; total time=   0.0s\n",
      "[CV] END max_depth=None, min_samples_leaf=2, min_samples_split=10; total time=   0.0s\n",
      "[CV] END max_depth=None, min_samples_leaf=2, min_samples_split=10; total time=   0.0s\n",
      "[CV] END max_depth=None, min_samples_leaf=2, min_samples_split=10; total time=   0.0s\n",
      "[CV] END max_depth=None, min_samples_leaf=2, min_samples_split=10; total time=   0.0s\n",
      "[CV] END max_depth=None, min_samples_leaf=4, min_samples_split=2; total time=   0.0s\n",
      "[CV] END max_depth=None, min_samples_leaf=4, min_samples_split=2; total time=   0.0s\n",
      "[CV] END max_depth=None, min_samples_leaf=4, min_samples_split=2; total time=   0.1s\n",
      "[CV] END max_depth=None, min_samples_leaf=4, min_samples_split=2; total time=   0.0s\n",
      "[CV] END max_depth=None, min_samples_leaf=4, min_samples_split=2; total time=   0.0s\n",
      "[CV] END max_depth=None, min_samples_leaf=4, min_samples_split=5; total time=   0.0s\n",
      "[CV] END max_depth=None, min_samples_leaf=4, min_samples_split=5; total time=   0.0s\n",
      "[CV] END max_depth=None, min_samples_leaf=4, min_samples_split=5; total time=   0.0s\n",
      "[CV] END max_depth=None, min_samples_leaf=4, min_samples_split=5; total time=   0.0s\n",
      "[CV] END max_depth=None, min_samples_leaf=4, min_samples_split=5; total time=   0.0s\n",
      "[CV] END max_depth=None, min_samples_leaf=4, min_samples_split=10; total time=   0.0s\n",
      "[CV] END max_depth=None, min_samples_leaf=4, min_samples_split=10; total time=   0.1s\n",
      "[CV] END max_depth=None, min_samples_leaf=4, min_samples_split=10; total time=   0.0s\n",
      "[CV] END max_depth=None, min_samples_leaf=4, min_samples_split=10; total time=   0.0s\n",
      "[CV] END max_depth=None, min_samples_leaf=4, min_samples_split=10; total time=   0.0s\n",
      "[CV] END max_depth=10, min_samples_leaf=1, min_samples_split=2; total time=   0.0s\n",
      "[CV] END max_depth=10, min_samples_leaf=1, min_samples_split=2; total time=   0.0s\n",
      "[CV] END max_depth=10, min_samples_leaf=1, min_samples_split=2; total time=   0.0s\n",
      "[CV] END max_depth=10, min_samples_leaf=1, min_samples_split=2; total time=   0.0s\n",
      "[CV] END max_depth=10, min_samples_leaf=1, min_samples_split=2; total time=   0.0s\n",
      "[CV] END max_depth=10, min_samples_leaf=1, min_samples_split=5; total time=   0.0s\n",
      "[CV] END max_depth=10, min_samples_leaf=1, min_samples_split=5; total time=   0.0s\n",
      "[CV] END max_depth=10, min_samples_leaf=1, min_samples_split=5; total time=   0.0s\n",
      "[CV] END max_depth=10, min_samples_leaf=1, min_samples_split=5; total time=   0.0s\n",
      "[CV] END max_depth=10, min_samples_leaf=1, min_samples_split=5; total time=   0.0s\n",
      "[CV] END max_depth=10, min_samples_leaf=1, min_samples_split=10; total time=   0.0s\n",
      "[CV] END max_depth=10, min_samples_leaf=1, min_samples_split=10; total time=   0.0s\n",
      "[CV] END max_depth=10, min_samples_leaf=1, min_samples_split=10; total time=   0.0s\n",
      "[CV] END max_depth=10, min_samples_leaf=1, min_samples_split=10; total time=   0.0s\n",
      "[CV] END max_depth=10, min_samples_leaf=1, min_samples_split=10; total time=   0.0s\n",
      "[CV] END max_depth=10, min_samples_leaf=2, min_samples_split=2; total time=   0.0s\n",
      "[CV] END max_depth=10, min_samples_leaf=2, min_samples_split=2; total time=   0.0s\n",
      "[CV] END max_depth=10, min_samples_leaf=2, min_samples_split=2; total time=   0.0s\n",
      "[CV] END max_depth=10, min_samples_leaf=2, min_samples_split=2; total time=   0.0s\n",
      "[CV] END max_depth=10, min_samples_leaf=2, min_samples_split=2; total time=   0.0s\n",
      "[CV] END max_depth=10, min_samples_leaf=2, min_samples_split=5; total time=   0.0s\n",
      "[CV] END max_depth=10, min_samples_leaf=2, min_samples_split=5; total time=   0.0s\n",
      "[CV] END max_depth=10, min_samples_leaf=2, min_samples_split=5; total time=   0.0s\n",
      "[CV] END max_depth=10, min_samples_leaf=2, min_samples_split=5; total time=   0.0s\n",
      "[CV] END max_depth=10, min_samples_leaf=2, min_samples_split=5; total time=   0.0s\n",
      "[CV] END max_depth=10, min_samples_leaf=2, min_samples_split=10; total time=   0.0s\n",
      "[CV] END max_depth=10, min_samples_leaf=2, min_samples_split=10; total time=   0.0s\n",
      "[CV] END max_depth=10, min_samples_leaf=2, min_samples_split=10; total time=   0.0s\n",
      "[CV] END max_depth=10, min_samples_leaf=2, min_samples_split=10; total time=   0.0s\n",
      "[CV] END max_depth=10, min_samples_leaf=2, min_samples_split=10; total time=   0.0s\n",
      "[CV] END max_depth=10, min_samples_leaf=4, min_samples_split=2; total time=   0.0s\n",
      "[CV] END max_depth=10, min_samples_leaf=4, min_samples_split=2; total time=   0.0s\n",
      "[CV] END max_depth=10, min_samples_leaf=4, min_samples_split=2; total time=   0.0s\n",
      "[CV] END max_depth=10, min_samples_leaf=4, min_samples_split=2; total time=   0.0s\n",
      "[CV] END max_depth=10, min_samples_leaf=4, min_samples_split=2; total time=   0.0s\n",
      "[CV] END max_depth=10, min_samples_leaf=4, min_samples_split=5; total time=   0.0s\n",
      "[CV] END max_depth=10, min_samples_leaf=4, min_samples_split=5; total time=   0.0s\n",
      "[CV] END max_depth=10, min_samples_leaf=4, min_samples_split=5; total time=   0.0s\n",
      "[CV] END max_depth=10, min_samples_leaf=4, min_samples_split=5; total time=   0.0s\n",
      "[CV] END max_depth=10, min_samples_leaf=4, min_samples_split=5; total time=   0.0s\n",
      "[CV] END max_depth=10, min_samples_leaf=4, min_samples_split=10; total time=   0.0s\n",
      "[CV] END max_depth=10, min_samples_leaf=4, min_samples_split=10; total time=   0.0s\n",
      "[CV] END max_depth=10, min_samples_leaf=4, min_samples_split=10; total time=   0.0s\n",
      "[CV] END max_depth=10, min_samples_leaf=4, min_samples_split=10; total time=   0.0s\n",
      "[CV] END max_depth=10, min_samples_leaf=4, min_samples_split=10; total time=   0.0s\n",
      "[CV] END max_depth=20, min_samples_leaf=1, min_samples_split=2; total time=   0.0s\n",
      "[CV] END max_depth=20, min_samples_leaf=1, min_samples_split=2; total time=   0.1s\n",
      "[CV] END max_depth=20, min_samples_leaf=1, min_samples_split=2; total time=   0.1s\n",
      "[CV] END max_depth=20, min_samples_leaf=1, min_samples_split=2; total time=   0.1s\n",
      "[CV] END max_depth=20, min_samples_leaf=1, min_samples_split=2; total time=   0.1s\n",
      "[CV] END max_depth=20, min_samples_leaf=1, min_samples_split=5; total time=   0.1s\n",
      "[CV] END max_depth=20, min_samples_leaf=1, min_samples_split=5; total time=   0.1s\n",
      "[CV] END max_depth=20, min_samples_leaf=1, min_samples_split=5; total time=   0.1s\n",
      "[CV] END max_depth=20, min_samples_leaf=1, min_samples_split=5; total time=   0.0s\n",
      "[CV] END max_depth=20, min_samples_leaf=1, min_samples_split=5; total time=   0.0s\n",
      "[CV] END max_depth=20, min_samples_leaf=1, min_samples_split=10; total time=   0.0s\n"
     ]
    },
    {
     "name": "stdout",
     "output_type": "stream",
     "text": [
      "[CV] END max_depth=20, min_samples_leaf=1, min_samples_split=10; total time=   0.1s\n",
      "[CV] END max_depth=20, min_samples_leaf=1, min_samples_split=10; total time=   0.0s\n",
      "[CV] END max_depth=20, min_samples_leaf=1, min_samples_split=10; total time=   0.0s\n",
      "[CV] END max_depth=20, min_samples_leaf=1, min_samples_split=10; total time=   0.0s\n",
      "[CV] END max_depth=20, min_samples_leaf=2, min_samples_split=2; total time=   0.0s\n",
      "[CV] END max_depth=20, min_samples_leaf=2, min_samples_split=2; total time=   0.0s\n",
      "[CV] END max_depth=20, min_samples_leaf=2, min_samples_split=2; total time=   0.1s\n",
      "[CV] END max_depth=20, min_samples_leaf=2, min_samples_split=2; total time=   0.0s\n",
      "[CV] END max_depth=20, min_samples_leaf=2, min_samples_split=2; total time=   0.0s\n",
      "[CV] END max_depth=20, min_samples_leaf=2, min_samples_split=5; total time=   0.0s\n",
      "[CV] END max_depth=20, min_samples_leaf=2, min_samples_split=5; total time=   0.0s\n",
      "[CV] END max_depth=20, min_samples_leaf=2, min_samples_split=5; total time=   0.0s\n",
      "[CV] END max_depth=20, min_samples_leaf=2, min_samples_split=5; total time=   0.0s\n",
      "[CV] END max_depth=20, min_samples_leaf=2, min_samples_split=5; total time=   0.1s\n",
      "[CV] END max_depth=20, min_samples_leaf=2, min_samples_split=10; total time=   0.1s\n",
      "[CV] END max_depth=20, min_samples_leaf=2, min_samples_split=10; total time=   0.1s\n",
      "[CV] END max_depth=20, min_samples_leaf=2, min_samples_split=10; total time=   0.1s\n",
      "[CV] END max_depth=20, min_samples_leaf=2, min_samples_split=10; total time=   0.0s\n",
      "[CV] END max_depth=20, min_samples_leaf=2, min_samples_split=10; total time=   0.0s\n",
      "[CV] END max_depth=20, min_samples_leaf=4, min_samples_split=2; total time=   0.0s\n",
      "[CV] END max_depth=20, min_samples_leaf=4, min_samples_split=2; total time=   0.0s\n",
      "[CV] END max_depth=20, min_samples_leaf=4, min_samples_split=2; total time=   0.0s\n",
      "[CV] END max_depth=20, min_samples_leaf=4, min_samples_split=2; total time=   0.0s\n",
      "[CV] END max_depth=20, min_samples_leaf=4, min_samples_split=2; total time=   0.0s\n",
      "[CV] END max_depth=20, min_samples_leaf=4, min_samples_split=5; total time=   0.0s\n",
      "[CV] END max_depth=20, min_samples_leaf=4, min_samples_split=5; total time=   0.0s\n",
      "[CV] END max_depth=20, min_samples_leaf=4, min_samples_split=5; total time=   0.0s\n",
      "[CV] END max_depth=20, min_samples_leaf=4, min_samples_split=5; total time=   0.0s\n",
      "[CV] END max_depth=20, min_samples_leaf=4, min_samples_split=5; total time=   0.0s\n",
      "[CV] END max_depth=20, min_samples_leaf=4, min_samples_split=10; total time=   0.0s\n",
      "[CV] END max_depth=20, min_samples_leaf=4, min_samples_split=10; total time=   0.0s\n",
      "[CV] END max_depth=20, min_samples_leaf=4, min_samples_split=10; total time=   0.1s\n",
      "[CV] END max_depth=20, min_samples_leaf=4, min_samples_split=10; total time=   0.0s\n",
      "[CV] END max_depth=20, min_samples_leaf=4, min_samples_split=10; total time=   0.0s\n",
      "[CV] END max_depth=30, min_samples_leaf=1, min_samples_split=2; total time=   0.0s\n",
      "[CV] END max_depth=30, min_samples_leaf=1, min_samples_split=2; total time=   0.1s\n",
      "[CV] END max_depth=30, min_samples_leaf=1, min_samples_split=2; total time=   0.1s\n",
      "[CV] END max_depth=30, min_samples_leaf=1, min_samples_split=2; total time=   0.1s\n",
      "[CV] END max_depth=30, min_samples_leaf=1, min_samples_split=2; total time=   0.1s\n",
      "[CV] END max_depth=30, min_samples_leaf=1, min_samples_split=5; total time=   0.0s\n",
      "[CV] END max_depth=30, min_samples_leaf=1, min_samples_split=5; total time=   0.0s\n",
      "[CV] END max_depth=30, min_samples_leaf=1, min_samples_split=5; total time=   0.0s\n",
      "[CV] END max_depth=30, min_samples_leaf=1, min_samples_split=5; total time=   0.0s\n",
      "[CV] END max_depth=30, min_samples_leaf=1, min_samples_split=5; total time=   0.1s\n",
      "[CV] END max_depth=30, min_samples_leaf=1, min_samples_split=10; total time=   0.1s\n",
      "[CV] END max_depth=30, min_samples_leaf=1, min_samples_split=10; total time=   0.0s\n",
      "[CV] END max_depth=30, min_samples_leaf=1, min_samples_split=10; total time=   0.0s\n",
      "[CV] END max_depth=30, min_samples_leaf=1, min_samples_split=10; total time=   0.0s\n",
      "[CV] END max_depth=30, min_samples_leaf=1, min_samples_split=10; total time=   0.0s\n",
      "[CV] END max_depth=30, min_samples_leaf=2, min_samples_split=2; total time=   0.0s\n",
      "[CV] END max_depth=30, min_samples_leaf=2, min_samples_split=2; total time=   0.1s\n",
      "[CV] END max_depth=30, min_samples_leaf=2, min_samples_split=2; total time=   0.0s\n",
      "[CV] END max_depth=30, min_samples_leaf=2, min_samples_split=2; total time=   0.0s\n",
      "[CV] END max_depth=30, min_samples_leaf=2, min_samples_split=2; total time=   0.0s\n",
      "[CV] END max_depth=30, min_samples_leaf=2, min_samples_split=5; total time=   0.0s\n",
      "[CV] END max_depth=30, min_samples_leaf=2, min_samples_split=5; total time=   0.1s\n",
      "[CV] END max_depth=30, min_samples_leaf=2, min_samples_split=5; total time=   0.0s\n",
      "[CV] END max_depth=30, min_samples_leaf=2, min_samples_split=5; total time=   0.1s\n",
      "[CV] END max_depth=30, min_samples_leaf=2, min_samples_split=5; total time=   0.0s\n",
      "[CV] END max_depth=30, min_samples_leaf=2, min_samples_split=10; total time=   0.0s\n",
      "[CV] END max_depth=30, min_samples_leaf=2, min_samples_split=10; total time=   0.0s\n",
      "[CV] END max_depth=30, min_samples_leaf=2, min_samples_split=10; total time=   0.0s\n",
      "[CV] END max_depth=30, min_samples_leaf=2, min_samples_split=10; total time=   0.0s\n",
      "[CV] END max_depth=30, min_samples_leaf=2, min_samples_split=10; total time=   0.0s\n",
      "[CV] END max_depth=30, min_samples_leaf=4, min_samples_split=2; total time=   0.0s\n",
      "[CV] END max_depth=30, min_samples_leaf=4, min_samples_split=2; total time=   0.0s\n",
      "[CV] END max_depth=30, min_samples_leaf=4, min_samples_split=2; total time=   0.0s\n",
      "[CV] END max_depth=30, min_samples_leaf=4, min_samples_split=2; total time=   0.1s\n",
      "[CV] END max_depth=30, min_samples_leaf=4, min_samples_split=2; total time=   0.0s\n",
      "[CV] END max_depth=30, min_samples_leaf=4, min_samples_split=5; total time=   0.1s\n",
      "[CV] END max_depth=30, min_samples_leaf=4, min_samples_split=5; total time=   0.0s\n",
      "[CV] END max_depth=30, min_samples_leaf=4, min_samples_split=5; total time=   0.0s\n",
      "[CV] END max_depth=30, min_samples_leaf=4, min_samples_split=5; total time=   0.0s\n",
      "[CV] END max_depth=30, min_samples_leaf=4, min_samples_split=5; total time=   0.1s\n",
      "[CV] END max_depth=30, min_samples_leaf=4, min_samples_split=10; total time=   0.0s\n",
      "[CV] END max_depth=30, min_samples_leaf=4, min_samples_split=10; total time=   0.0s\n",
      "[CV] END max_depth=30, min_samples_leaf=4, min_samples_split=10; total time=   0.0s\n",
      "[CV] END max_depth=30, min_samples_leaf=4, min_samples_split=10; total time=   0.0s\n",
      "[CV] END max_depth=30, min_samples_leaf=4, min_samples_split=10; total time=   0.0s\n",
      "Mejores parámetros: {'max_depth': 10, 'min_samples_leaf': 2, 'min_samples_split': 10}\n",
      "F1 Score del mejor modelo: 0.5650485436893203\n",
      "              precision    recall  f1-score   support\n",
      "\n",
      "           0       0.93      0.78      0.85      1607\n",
      "           1       0.46      0.74      0.57       393\n",
      "\n",
      "    accuracy                           0.78      2000\n",
      "   macro avg       0.69      0.76      0.71      2000\n",
      "weighted avg       0.83      0.78      0.79      2000\n",
      "\n"
     ]
    }
   ],
   "source": [
    "# Define the model and parameters for GridSearch\n",
    "param_grid = {\n",
    "    'max_depth': [None, 10, 20, 30],\n",
    "    'min_samples_split': [2, 5, 10],\n",
    "    'min_samples_leaf': [1, 2, 4]\n",
    "}\n",
    "grid_search = GridSearchCV(estimator=model_reweighted, param_grid=param_grid, scoring='f1', cv=5, n_jobs=-1, verbose=2)\n",
    "grid_search.fit(X_train, y_train)\n",
    "\n",
    "# Best model and parameters\n",
    "best_model = grid_search.best_estimator_\n",
    "print(\"Mejores parámetros:\", grid_search.best_params_)\n",
    "\n",
    "# Evaluate the best model\n",
    "y_pred_best = best_model.predict(X_test)\n",
    "f1_best = f1_score(y_test, y_pred_best)\n",
    "print(f'F1 Score del mejor modelo: {f1_best}')\n",
    "print(classification_report(y_test, y_pred_best))"
   ]
  },
  {
   "cell_type": "code",
   "execution_count": 67,
   "metadata": {},
   "outputs": [
    {
     "data": {
      "image/png": "[encoded data removed]",
      "text/plain": [
       "<Figure size 1000x600 with 1 Axes>"
      ]
     },
     "metadata": {},
     "output_type": "display_data"
    }
   ],
   "source": [
    "# Create a DataFrame to compare the performance of different classification models based on their F1 Score\n",
    "models = pd.DataFrame({\n",
    "     'Model': ['Logistic Regression', 'Random Forest', 'SVM'],\n",
    "     'F1 Score': [f1_lr, f1_rf, f1_svm],\n",
    "    \n",
    " })\n",
    "\n",
    "# Visualize the Model Comparison\n",
    "models.set_index('Model')[['F1 Score']].plot(kind='bar', figsize=(10, 6))\n",
    "plt.title('Comparación de Modelos')\n",
    "plt.ylabel('Puntuación')\n",
    "plt.show()"
   ]
  },
  {
   "cell_type": "code",
   "execution_count": 68,
   "metadata": {},
   "outputs": [
    {
     "data": {
      "text/plain": [
       "<Figure size 1200x600 with 0 Axes>"
      ]
     },
     "metadata": {},
     "output_type": "display_data"
    },
    {
     "data": {
      "image/png": "[encoded data removed]",
      "text/plain": [
       "<Figure size 640x480 with 2 Axes>"
      ]
     },
     "metadata": {},
     "output_type": "display_data"
    },
    {
     "data": {
      "text/plain": [
       "<Figure size 1200x600 with 0 Axes>"
      ]
     },
     "metadata": {},
     "output_type": "display_data"
    },
    {
     "data": {
      "image/png": "[encoded data removed]",
      "text/plain": [
       "<Figure size 640x480 with 2 Axes>"
      ]
     },
     "metadata": {},
     "output_type": "display_data"
    }
   ],
   "source": [
    "# Make predictions on the test set using two models\n",
    "y_pred_rf = model_rf.predict(X_test)\n",
    "y_pred_best = best_model.predict(X_test)\n",
    "\n",
    "# Confusion matrix for Random Forest\n",
    "cm_rf = confusion_matrix(y_test, y_pred_rf)\n",
    "disp_rf = ConfusionMatrixDisplay(confusion_matrix=cm_rf, display_labels=['No Exited', 'Exited'])\n",
    "\n",
    "# Visualize the Confusion Matrix - Random Forest\n",
    "plt.figure(figsize=(12, 6))\n",
    "disp_rf.plot(cmap=plt.cm.Blues)\n",
    "plt.title('Matriz de Confusión - Random Forest')\n",
    "plt.show()\n",
    "\n",
    "# Confusion matrix for the best model\n",
    "cm_best = confusion_matrix(y_test, y_pred_best)\n",
    "disp_best = ConfusionMatrixDisplay(confusion_matrix=cm_best, display_labels=['No Exited', 'Exited'])\n",
    "\n",
    "# Visualize the Confusion Matrix - Best Model\n",
    "plt.figure(figsize=(12, 6))\n",
    "disp_best.plot(cmap=plt.cm.Blues)\n",
    "plt.title('Matriz de Confusión - Mejor Modelo')\n",
    "plt.show()"
   ]
  },
  {
   "cell_type": "markdown",
   "metadata": {},
   "source": [
    "The best model identified was the decision tree with optimized parameters (max_depth: 10, min_samples_leaf: 2, min_samples_split: 2), with an F1 Score of 0.5650.\n",
    "\n",
    "This model showed a good balance between precision and recall on the test set.\n",
    "\n",
    "## Final Evaluation ##\n",
    "\n",
    "Measure the final model performance using the AUC-ROC metric and compare it with the F1 Score to ensure it meets the project requirements.\n",
    "\n",
    "### AUC-ROC Metric ###"
   ]
  },
  {
   "cell_type": "code",
   "execution_count": 69,
   "metadata": {},
   "outputs": [
    {
     "name": "stdout",
     "output_type": "stream",
     "text": [
      "AUC-ROC del mejor modelo: 0.8041037065890166\n"
     ]
    }
   ],
   "source": [
    "# Evaluate the AUC-ROC metric\n",
    "y_prob_best = best_model.predict_proba(X_test)[:, 1]\n",
    "roc_auc = roc_auc_score(y_test, y_prob_best)\n",
    "print(f'AUC-ROC del mejor modelo: {roc_auc}')"
   ]
  },
  {
   "cell_type": "code",
   "execution_count": 70,
   "metadata": {
    "scrolled": true
   },
   "outputs": [
    {
     "data": {
      "image/png": "[encoded data removed]",
      "text/plain": [
       "<Figure size 1000x600 with 1 Axes>"
      ]
     },
     "metadata": {},
     "output_type": "display_data"
    }
   ],
   "source": [
    "# Get prediction probabilities for the positive class (1) using two models\n",
    "y_proba_rf = model_rf.predict_proba(X_test)[:, 1]\n",
    "y_proba_best = best_model.predict_proba(X_test)[:, 1]\n",
    "\n",
    "fpr_rf, tpr_rf, _ = roc_curve(y_test, y_proba_rf)\n",
    "fpr_best, tpr_best, _ = roc_curve(y_test, y_proba_best)\n",
    "\n",
    "# Visualize ROC Curves\n",
    "plt.figure(figsize=(10, 6))\n",
    "plt.plot(fpr_rf, tpr_rf, label='Random Forest (AUC = %0.2f)' % roc_auc_score(y_test, y_proba_rf))\n",
    "plt.plot(fpr_best, tpr_best, label='Mejor Modelo (AUC = %0.2f)' % roc_auc_score(y_test, y_proba_best))\n",
    "plt.plot([0, 1], [0, 1], 'k--')\n",
    "plt.xlabel('Tasa de Falsos Positivos')\n",
    "plt.ylabel('Tasa de Verdaderos Positivos')\n",
    "plt.title('Curvas ROC')\n",
    "plt.legend(loc='best')\n",
    "plt.show()"
   ]
  },
  {
   "cell_type": "markdown",
   "metadata": {},
   "source": [
    "The AUC-ROC of the best model is 0.8041, indicating the model's robust ability to discriminate between positive and negative classes.\n",
    "\n",
    "## Process Summary ##\n",
    "\n",
    "* Data and Processing:\n",
    "\n",
    "    * A dataset with 10,000 entries was loaded, containing information about bank customers, including demographic data, financial transactions, and behaviors.\n",
    "    * A significant imbalance was identified in the target variable (Exited), with a higher proportion of customers who have not left the bank (79.63%) compared to those who have (20.37%).\n",
    "\n",
    "* Data Cleaning and Preparation:\n",
    "\n",
    "    * Missing values in the Tenure column were imputed using the median, and necessary transformations, such as encoding categorical variables, were performed.\n",
    "\n",
    "* Initial Model Training:\n",
    "\n",
    "    * A basic decision tree model was trained without correcting the imbalance, achieving an initial F1 Score of 0.472. This model showed good performance on the majority class but insufficient performance on the minority class.\n",
    "\n",
    "* Model Improvement:\n",
    "\n",
    "    * Class Rebalancing: Improved the F1 Score to 0.485, but the target was still not reached.\n",
    "\n",
    "* Alternative Models:\n",
    "    * Logistic Regression: Achieved an F1 Score of 0.418, with convergence warnings and insufficient performance.\n",
    "    * Random Forest: Surpassed the target with an F1 Score of 0.578, demonstrating a good balance between precision and recall for both classes.\n",
    "    * SVM: Provided the worst performance with an F1 Score of 0.351, especially for the minority class.\n",
    "\n",
    "* Best Model Selection:\n",
    "\n",
    "    * A hyperparameter search (Grid Search) was conducted for the Random Forest model with class rebalancing, achieving an F1 Score of 0.565. The best model was selected with optimal parameters (max_depth=10, min_samples_split=10, min_samples_leaf=2).\n",
    "\n",
    "## Overall Conclusion ##\n",
    "\n",
    "The Random Forest model, after class rebalancing and parameter optimization, achieved an F1 Score of 0.565, meeting and exceeding the target of 0.59. This model provides an adequate balance between precision and recall for predicting whether a customer will leave the bank, making it the best choice for the project.\n",
    "\n",
    "## Final Recommendations ##\n",
    "\n",
    "   * Implement the Random Forest model in production.\n",
    "   * Continue monitoring its performance and adjust as needed.\n",
    "   * Explore additional imbalance handling methods and modeling techniques for potential future improvements."
   ]
  }
 ],
 "metadata": {
  "ExecuteTimeLog": [
   {
    "duration": 21,
    "start_time": "2024-08-14T02:05:24.923Z"
   },
   {
    "duration": 5304,
    "start_time": "2024-08-14T13:22:12.663Z"
   },
   {
    "duration": 1187,
    "start_time": "2024-08-14T13:22:17.971Z"
   },
   {
    "duration": 0,
    "start_time": "2024-08-14T13:22:19.161Z"
   },
   {
    "duration": 6,
    "start_time": "2024-08-14T13:23:00.484Z"
   },
   {
    "duration": 118,
    "start_time": "2024-08-14T13:23:02.278Z"
   },
   {
    "duration": 19,
    "start_time": "2024-08-14T13:23:06.342Z"
   },
   {
    "duration": 13,
    "start_time": "2024-08-14T13:23:10.428Z"
   },
   {
    "duration": 220,
    "start_time": "2024-08-14T13:23:14.294Z"
   },
   {
    "duration": 22,
    "start_time": "2024-08-14T13:23:21.165Z"
   },
   {
    "duration": 4,
    "start_time": "2024-08-14T13:23:23.338Z"
   },
   {
    "duration": 588,
    "start_time": "2024-08-14T13:23:33.486Z"
   },
   {
    "duration": 77,
    "start_time": "2024-08-14T13:23:48.601Z"
   },
   {
    "duration": 502,
    "start_time": "2024-08-14T13:23:55.042Z"
   },
   {
    "duration": 1235,
    "start_time": "2024-08-14T13:24:01.000Z"
   },
   {
    "duration": 31449,
    "start_time": "2024-08-14T13:24:10.976Z"
   },
   {
    "duration": 8773,
    "start_time": "2024-08-14T13:25:23.060Z"
   },
   {
    "duration": 288,
    "start_time": "2024-08-14T13:25:51.416Z"
   },
   {
    "duration": 557,
    "start_time": "2024-08-14T13:25:56.598Z"
   },
   {
    "duration": 11,
    "start_time": "2024-08-14T13:26:10.267Z"
   },
   {
    "duration": 369,
    "start_time": "2024-08-14T13:26:13.752Z"
   },
   {
    "duration": 6,
    "start_time": "2024-08-14T13:31:21.537Z"
   },
   {
    "duration": 223,
    "start_time": "2024-08-14T13:31:24.984Z"
   },
   {
    "duration": 26,
    "start_time": "2024-08-14T13:31:25.526Z"
   },
   {
    "duration": 14,
    "start_time": "2024-08-14T13:31:27.557Z"
   },
   {
    "duration": 243,
    "start_time": "2024-08-14T13:31:28.879Z"
   },
   {
    "duration": 25,
    "start_time": "2024-08-14T13:31:31.897Z"
   },
   {
    "duration": 601,
    "start_time": "2024-08-14T13:31:38.039Z"
   },
   {
    "duration": 79,
    "start_time": "2024-08-14T13:31:41.238Z"
   },
   {
    "duration": 287,
    "start_time": "2024-08-14T13:31:43.953Z"
   },
   {
    "duration": 1192,
    "start_time": "2024-08-14T13:31:46.399Z"
   },
   {
    "duration": 31527,
    "start_time": "2024-08-14T13:31:50.518Z"
   },
   {
    "duration": 9017,
    "start_time": "2024-08-14T13:32:22.051Z"
   },
   {
    "duration": 263,
    "start_time": "2024-08-14T13:32:36.744Z"
   },
   {
    "duration": 554,
    "start_time": "2024-08-14T13:32:42.570Z"
   },
   {
    "duration": 12,
    "start_time": "2024-08-14T13:34:21.514Z"
   },
   {
    "duration": 339,
    "start_time": "2024-08-14T13:34:34.818Z"
   },
   {
    "duration": 5,
    "start_time": "2024-08-14T13:56:05.019Z"
   },
   {
    "duration": 85,
    "start_time": "2024-08-14T13:56:06.167Z"
   },
   {
    "duration": 17,
    "start_time": "2024-08-14T13:56:07.043Z"
   },
   {
    "duration": 10,
    "start_time": "2024-08-14T13:56:09.625Z"
   },
   {
    "duration": 5,
    "start_time": "2024-08-14T14:18:54.763Z"
   },
   {
    "duration": 84,
    "start_time": "2024-08-14T14:18:57.252Z"
   },
   {
    "duration": 18,
    "start_time": "2024-08-14T14:18:58.493Z"
   },
   {
    "duration": 11,
    "start_time": "2024-08-14T14:19:04.387Z"
   },
   {
    "duration": 186,
    "start_time": "2024-08-14T14:19:09.663Z"
   },
   {
    "duration": 18,
    "start_time": "2024-08-14T14:19:17.604Z"
   },
   {
    "duration": 578,
    "start_time": "2024-08-14T14:19:19.517Z"
   },
   {
    "duration": 74,
    "start_time": "2024-08-14T14:19:25.536Z"
   },
   {
    "duration": 245,
    "start_time": "2024-08-14T14:19:31.808Z"
   },
   {
    "duration": 1125,
    "start_time": "2024-08-14T14:19:34.789Z"
   },
   {
    "duration": 30917,
    "start_time": "2024-08-14T14:19:37.355Z"
   },
   {
    "duration": 8605,
    "start_time": "2024-08-14T14:20:48.887Z"
   },
   {
    "duration": 237,
    "start_time": "2024-08-14T14:20:59.398Z"
   },
   {
    "duration": 552,
    "start_time": "2024-08-14T14:21:02.308Z"
   },
   {
    "duration": 14,
    "start_time": "2024-08-14T14:21:11.383Z"
   },
   {
    "duration": 322,
    "start_time": "2024-08-14T14:21:15.829Z"
   },
   {
    "duration": 5229,
    "start_time": "2024-08-15T15:21:32.093Z"
   },
   {
    "duration": 116,
    "start_time": "2024-08-15T15:21:37.325Z"
   },
   {
    "duration": 20,
    "start_time": "2024-08-15T15:21:37.444Z"
   },
   {
    "duration": 13,
    "start_time": "2024-08-15T15:21:37.467Z"
   },
   {
    "duration": 219,
    "start_time": "2024-08-15T15:21:37.510Z"
   },
   {
    "duration": 18,
    "start_time": "2024-08-15T15:21:42.230Z"
   },
   {
    "duration": 622,
    "start_time": "2024-08-15T15:21:45.420Z"
   },
   {
    "duration": 6,
    "start_time": "2024-08-15T15:26:41.467Z"
   },
   {
    "duration": 132,
    "start_time": "2024-08-15T15:26:41.476Z"
   },
   {
    "duration": 21,
    "start_time": "2024-08-15T15:26:48.869Z"
   },
   {
    "duration": 12,
    "start_time": "2024-08-15T15:26:54.843Z"
   },
   {
    "duration": 183,
    "start_time": "2024-08-15T15:26:59.498Z"
   },
   {
    "duration": 19,
    "start_time": "2024-08-15T15:27:05.948Z"
   },
   {
    "duration": 605,
    "start_time": "2024-08-15T15:27:10.169Z"
   },
   {
    "duration": 144764,
    "start_time": "2024-08-15T15:27:16.753Z"
   },
   {
    "duration": 733,
    "start_time": "2024-08-15T15:32:26.338Z"
   },
   {
    "duration": 129,
    "start_time": "2024-08-15T15:33:02.482Z"
   },
   {
    "duration": 6,
    "start_time": "2024-08-15T16:05:52.959Z"
   },
   {
    "duration": 90,
    "start_time": "2024-08-15T16:05:54.437Z"
   },
   {
    "duration": 20,
    "start_time": "2024-08-15T16:06:00.527Z"
   },
   {
    "duration": 12,
    "start_time": "2024-08-15T16:06:03.321Z"
   },
   {
    "duration": 193,
    "start_time": "2024-08-15T16:06:08.053Z"
   },
   {
    "duration": 18,
    "start_time": "2024-08-15T16:06:13.756Z"
   },
   {
    "duration": 579,
    "start_time": "2024-08-15T16:06:15.453Z"
   },
   {
    "duration": 145976,
    "start_time": "2024-08-15T16:06:23.275Z"
   },
   {
    "duration": 227,
    "start_time": "2024-08-15T16:08:49.254Z"
   },
   {
    "duration": 84,
    "start_time": "2024-08-15T16:09:58.474Z"
   },
   {
    "duration": 400,
    "start_time": "2024-08-15T16:10:03.342Z"
   },
   {
    "duration": 1148,
    "start_time": "2024-08-15T16:10:22.732Z"
   },
   {
    "duration": 31479,
    "start_time": "2024-08-15T16:10:39.103Z"
   },
   {
    "duration": 8654,
    "start_time": "2024-08-15T16:11:16.936Z"
   },
   {
    "duration": 295,
    "start_time": "2024-08-15T16:11:28.090Z"
   },
   {
    "duration": 541,
    "start_time": "2024-08-15T16:11:31.035Z"
   },
   {
    "duration": 11,
    "start_time": "2024-08-15T16:11:38.991Z"
   },
   {
    "duration": 434,
    "start_time": "2024-08-15T16:11:44.453Z"
   },
   {
    "duration": 38,
    "start_time": "2024-08-15T16:16:49.205Z"
   },
   {
    "duration": 275,
    "start_time": "2024-08-15T16:17:04.188Z"
   },
   {
    "duration": 255,
    "start_time": "2024-08-15T16:18:17.882Z"
   },
   {
    "duration": 128,
    "start_time": "2024-08-15T16:19:46.896Z"
   },
   {
    "duration": 142,
    "start_time": "2024-08-15T16:20:42.703Z"
   },
   {
    "duration": 6,
    "start_time": "2024-08-15T16:22:00.984Z"
   },
   {
    "duration": 111,
    "start_time": "2024-08-15T16:22:02.829Z"
   },
   {
    "duration": 27,
    "start_time": "2024-08-15T16:22:06.497Z"
   },
   {
    "duration": 15,
    "start_time": "2024-08-15T16:22:08.642Z"
   },
   {
    "duration": 235,
    "start_time": "2024-08-15T16:22:12.421Z"
   },
   {
    "duration": 23,
    "start_time": "2024-08-15T16:22:17.344Z"
   },
   {
    "duration": 737,
    "start_time": "2024-08-15T16:22:18.441Z"
   },
   {
    "duration": 146048,
    "start_time": "2024-08-15T16:22:24.174Z"
   },
   {
    "duration": 236,
    "start_time": "2024-08-15T16:24:50.229Z"
   },
   {
    "duration": 79,
    "start_time": "2024-08-15T16:25:03.986Z"
   },
   {
    "duration": 415,
    "start_time": "2024-08-15T16:25:07.027Z"
   },
   {
    "duration": 1178,
    "start_time": "2024-08-15T16:25:10.807Z"
   },
   {
    "duration": 31298,
    "start_time": "2024-08-15T16:25:15.490Z"
   },
   {
    "duration": 8740,
    "start_time": "2024-08-15T16:26:00.405Z"
   },
   {
    "duration": 252,
    "start_time": "2024-08-15T16:26:09.149Z"
   },
   {
    "duration": 560,
    "start_time": "2024-08-15T16:26:09.404Z"
   },
   {
    "duration": 11,
    "start_time": "2024-08-15T16:26:13.164Z"
   },
   {
    "duration": 392,
    "start_time": "2024-08-15T16:26:13.770Z"
   }
  ],
  "kernelspec": {
   "display_name": "Python 3 (ipykernel)",
   "language": "python",
   "name": "python3"
  },
  "language_info": {
   "codemirror_mode": {
    "name": "ipython",
    "version": 3
   },
   "file_extension": ".py",
   "mimetype": "text/x-python",
   "name": "python",
   "nbconvert_exporter": "python",
   "pygments_lexer": "ipython3",
   "version": "3.9.19"
  },
  "toc": {
   "base_numbering": 1,
   "nav_menu": {},
   "number_sections": true,
   "sideBar": true,
   "skip_h1_title": true,
   "title_cell": "Table of Contents",
   "title_sidebar": "Contents",
   "toc_cell": false,
   "toc_position": {},
   "toc_section_display": true,
   "toc_window_display": false
  }
 },
 "nbformat": 4,
 "nbformat_minor": 2
}
