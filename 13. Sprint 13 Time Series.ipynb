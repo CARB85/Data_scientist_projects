{
 "cells": [
  {
   "cell_type": "markdown",
   "metadata": {},
   "source": [
    "# Abstract\n",
    "\n",
    "The objective of this project is to build a machine learning model for Sweet Lift Taxi that predicts the number of taxi orders for the next hour. This will allow the company to manage the supply of drivers more efficiently during peak hours, optimizing the availability of taxis at airports. Different models will be tested, and their performance will be evaluated using the Root Mean Squared Error (RMSE) metric, with a goal of not exceeding a value of 48 on the test set.\n",
    "\n",
    "# Introduction\n",
    "\n",
    "**Context**\n",
    "\n",
    "Sweet Lift Taxi is a company operating in the transportation sector, offering taxi services at airports. In order to improve the customer experience and maximize operational efficiency, the company seeks to accurately predict the number of taxi orders per hour. This prediction capability will allow them to adjust the supply of taxis during peak demand periods and avoid vehicle shortages.\n",
    "\n",
    "**Problem**\n",
    "\n",
    "Currently, driver management during peak hours is done without an accurate prediction of order demand. This can lead to situations where there are too many or too few taxis available. An effective predictive model could help Sweet Lift Taxi anticipate these demand fluctuations, improving customer satisfaction and driver profitability.\n",
    "\n",
    "**Objectives**\n",
    "\n",
    "The primary objective of this project is to build a machine learning model that predicts the number of taxi orders for the next hour, ensuring that the evaluation metric, RMSE, does not exceed a value of 48 on the test set.\n",
    "\n",
    "**Approach**\n",
    "\n",
    "To achieve the proposed objectives, the following steps will be carried out:\n",
    "\n",
    "1. **Data Loading and Preprocessing**: The provided historical dataset will be analyzed, adjusting time intervals to hourly intervals.\n",
    "2. **Exploratory Data Analysis**: The data distribution will be examined to identify trends and patterns in taxi orders.\n",
    "3. **Model Training**: Different machine learning models will be tested, including linear regression and advanced models such as random forests and gradient boosting.\n",
    "4. **Model Evaluation**: The models will be evaluated using the RMSE metric, with 10% of the dataset reserved for testing.\n",
    "5. **Hyperparameter Optimization**: The model hyperparameters will be tuned to maximize prediction accuracy.\n",
    "6. **Conclusion**: The model that provides the best performance will be selected, and its applicability for taxi order prediction will be discussed.\n",
    "\n",
    "**Dataset Description**\n",
    "\n",
    "The dataset provided by Sweet Lift Taxi contains historical information about taxi orders. The main features are:\n",
    "\n",
    "- **datetime**: Date and time of the order record.\n",
    "- **num_orders**: Number of taxi orders in a specific hour.\n",
    "\n",
    "**Prediction Goal**\n",
    "\n",
    "The goal is to predict the number of taxi orders per hour, adjusting time intervals to full hours, using the features provided in the dataset.\n",
    "\n",
    "# Contents <a id='back'></a>\n",
    "\n",
    "* [1. Importing Libraries](#Importing_Libraries)\n",
    "* [2. Data Loading and Preprocessing](#Data_Loading_and_Preprocessing)\n",
    "* [3. Exploratory Data Analysis](#Exploratory_Data_Analysis)\n",
    "* [4. Feature Matrix Structuring](#Feature_Matrix_Structuring)  \n",
    "* [5. Train-Test Split](#Train_Test_Split)  \n",
    "* [6. Feature Normalization](#Feature_Normalization)  \n",
    "* [7. Model Training](#Model_Training)  \n",
    "* [8. Model Evaluation](#Model_Evaluation)  \n",
    "* [9. Hyperparameter Optimization](#Hyperparameter_Optimization)\n",
    "* [10. Result Visualization](#Result_Visualization)\n",
    "* [Final Conclusions](#Final_Conclusions)\n",
    "\n",
    "# Development\n",
    "\n",
    "## Importing Libraries\n",
    "\n",
    "In this initial stage, we integrate the essential libraries that will facilitate data analysis and modeling. We use pandas for agile data manipulation, numpy for performing complex mathematical operations, and matplotlib along with seaborn to generate effective visualizations. These tools are fundamental for converting data into useful information and supporting strategic decisions."
   ]
  },
  {
   "cell_type": "code",
   "execution_count": 10,
   "metadata": {},
   "outputs": [],
   "source": [
    "# Standard Library Imports\n",
    "import numpy as np  # Numerical operations and array handling\n",
    "import pandas as pd  # Data manipulation and analysis\n",
    "\n",
    "# Third-Party Library Imports\n",
    "from catboost import CatBoostRegressor  # Regression using the CatBoost algorithm\n",
    "import lightgbm as lgb  # Decision tree-based gradient boosting modeling\n",
    "import matplotlib.pyplot as plt  # Creating graphical visualizations\n",
    "from keras.layers import Dense, Input  # Dense and input layers for neural networks\n",
    "from keras.models import Sequential  # Creating sequential neural network models\n",
    "# from prophet import Prophet  # Time series modeling with trend and seasonality, does not allow importing the library\n",
    "from sklearn.ensemble import RandomForestRegressor  # Regression using random forests\n",
    "from sklearn.impute import SimpleImputer  # Imputation of missing values\n",
    "from sklearn.linear_model import LinearRegression  # Linear regression\n",
    "from sklearn.metrics import mean_squared_error, r2_score  # Metrics to evaluate models\n",
    "from sklearn.model_selection import train_test_split, GridSearchCV  # Data splitting and hyperparameter search\n",
    "from sklearn.neighbors import KNeighborsRegressor  # Regression using the K-nearest neighbors algorithm\n",
    "from sklearn.neural_network import MLPRegressor  # Regression using multi-layer perceptron neural networks\n",
    "from sklearn.preprocessing import StandardScaler  # Feature scaling\n",
    "from sklearn.svm import SVR  # Regression using support vector machines\n",
    "from statsmodels.tsa.arima.model import ARIMA  # ARIMA time series modeling\n",
    "from statsmodels.tsa.seasonal import seasonal_decompose  # Time series decomposition\n",
    "from statsmodels.tsa.stattools import adfuller  # Unit root test to check for stationarity\n",
    "import xgboost as xgb  # Decision tree-based gradient boosting modeling"
   ]
  },
  {
   "cell_type": "markdown",
   "metadata": {},
   "source": [
    "## Data Loading and Preprocessing\n",
    "\n",
    "This section focuses on loading the dataset from a CSV file, followed by a preliminary exploration to understand its structure and quality. Actions such as removing duplicates and converting date columns to appropriate formats are carried out. Additionally, orders are grouped by hour, allowing for more detailed temporal analysis. This process is crucial to ensure data quality and set the stage for deeper analyses."
   ]
  },
  {
   "cell_type": "code",
   "execution_count": 11,
   "metadata": {
    "scrolled": false
   },
   "outputs": [
    {
     "name": "stdout",
     "output_type": "stream",
     "text": [
      "<class 'pandas.core.frame.DataFrame'>\n",
      "RangeIndex: 26496 entries, 0 to 26495\n",
      "Data columns (total 2 columns):\n",
      " #   Column      Non-Null Count  Dtype \n",
      "---  ------      --------------  ----- \n",
      " 0   datetime    26496 non-null  object\n",
      " 1   num_orders  26496 non-null  int64 \n",
      "dtypes: int64(1), object(1)\n",
      "memory usage: 414.1+ KB\n",
      "\n",
      "----------------------------------------------------------------\n"
     ]
    },
    {
     "data": {
      "text/html": [
       "<div>\n",
       "<style scoped>\n",
       "    .dataframe tbody tr th:only-of-type {\n",
       "        vertical-align: middle;\n",
       "    }\n",
       "\n",
       "    .dataframe tbody tr th {\n",
       "        vertical-align: top;\n",
       "    }\n",
       "\n",
       "    .dataframe thead th {\n",
       "        text-align: right;\n",
       "    }\n",
       "</style>\n",
       "<table border=\"1\" class=\"dataframe\">\n",
       "  <thead>\n",
       "    <tr style=\"text-align: right;\">\n",
       "      <th></th>\n",
       "      <th>datetime</th>\n",
       "      <th>num_orders</th>\n",
       "    </tr>\n",
       "  </thead>\n",
       "  <tbody>\n",
       "    <tr>\n",
       "      <th>0</th>\n",
       "      <td>2018-03-01 00:00:00</td>\n",
       "      <td>9</td>\n",
       "    </tr>\n",
       "    <tr>\n",
       "      <th>1</th>\n",
       "      <td>2018-03-01 00:10:00</td>\n",
       "      <td>14</td>\n",
       "    </tr>\n",
       "    <tr>\n",
       "      <th>2</th>\n",
       "      <td>2018-03-01 00:20:00</td>\n",
       "      <td>28</td>\n",
       "    </tr>\n",
       "    <tr>\n",
       "      <th>3</th>\n",
       "      <td>2018-03-01 00:30:00</td>\n",
       "      <td>20</td>\n",
       "    </tr>\n",
       "    <tr>\n",
       "      <th>4</th>\n",
       "      <td>2018-03-01 00:40:00</td>\n",
       "      <td>32</td>\n",
       "    </tr>\n",
       "  </tbody>\n",
       "</table>\n",
       "</div>"
      ],
      "text/plain": [
       "              datetime  num_orders\n",
       "0  2018-03-01 00:00:00           9\n",
       "1  2018-03-01 00:10:00          14\n",
       "2  2018-03-01 00:20:00          28\n",
       "3  2018-03-01 00:30:00          20\n",
       "4  2018-03-01 00:40:00          32"
      ]
     },
     "metadata": {},
     "output_type": "display_data"
    },
    {
     "name": "stdout",
     "output_type": "stream",
     "text": [
      "\n",
      "----------------------------------------------------------------\n",
      "Número de filas duplicadas: 0\n",
      "\n",
      "----------------------------------------------------------------\n",
      "Valores nulos en cada columna:\n",
      "datetime      0\n",
      "num_orders    0\n",
      "dtype: int64\n",
      "\n",
      "----------------------------------------------------------------\n",
      "<class 'pandas.core.frame.DataFrame'>\n",
      "DatetimeIndex: 26496 entries, 2018-03-01 00:00:00 to 2018-08-31 23:50:00\n",
      "Data columns (total 1 columns):\n",
      " #   Column      Non-Null Count  Dtype\n",
      "---  ------      --------------  -----\n",
      " 0   num_orders  26496 non-null  int64\n",
      "dtypes: int64(1)\n",
      "memory usage: 414.0 KB\n",
      "\n",
      "----------------------------------------------------------------\n"
     ]
    },
    {
     "data": {
      "text/html": [
       "<div>\n",
       "<style scoped>\n",
       "    .dataframe tbody tr th:only-of-type {\n",
       "        vertical-align: middle;\n",
       "    }\n",
       "\n",
       "    .dataframe tbody tr th {\n",
       "        vertical-align: top;\n",
       "    }\n",
       "\n",
       "    .dataframe thead th {\n",
       "        text-align: right;\n",
       "    }\n",
       "</style>\n",
       "<table border=\"1\" class=\"dataframe\">\n",
       "  <thead>\n",
       "    <tr style=\"text-align: right;\">\n",
       "      <th></th>\n",
       "      <th>num_orders</th>\n",
       "    </tr>\n",
       "    <tr>\n",
       "      <th>date_time</th>\n",
       "      <th></th>\n",
       "    </tr>\n",
       "  </thead>\n",
       "  <tbody>\n",
       "    <tr>\n",
       "      <th>2018-03-01 00:00:00</th>\n",
       "      <td>9</td>\n",
       "    </tr>\n",
       "    <tr>\n",
       "      <th>2018-03-01 00:10:00</th>\n",
       "      <td>14</td>\n",
       "    </tr>\n",
       "    <tr>\n",
       "      <th>2018-03-01 00:20:00</th>\n",
       "      <td>28</td>\n",
       "    </tr>\n",
       "    <tr>\n",
       "      <th>2018-03-01 00:30:00</th>\n",
       "      <td>20</td>\n",
       "    </tr>\n",
       "    <tr>\n",
       "      <th>2018-03-01 00:40:00</th>\n",
       "      <td>32</td>\n",
       "    </tr>\n",
       "  </tbody>\n",
       "</table>\n",
       "</div>"
      ],
      "text/plain": [
       "                     num_orders\n",
       "date_time                      \n",
       "2018-03-01 00:00:00           9\n",
       "2018-03-01 00:10:00          14\n",
       "2018-03-01 00:20:00          28\n",
       "2018-03-01 00:30:00          20\n",
       "2018-03-01 00:40:00          32"
      ]
     },
     "metadata": {},
     "output_type": "display_data"
    },
    {
     "name": "stdout",
     "output_type": "stream",
     "text": [
      "\n",
      "----------------------------------------------------------------\n"
     ]
    }
   ],
   "source": [
    "# Load data\n",
    "df_initial = pd.read_csv('/datasets/taxi.csv')  # Load the CSV file into a DataFrame\n",
    "df_initial.info()  # Display information about the DataFrame, such as data types and number of entries\n",
    "print('\\n----------------------------------------------------------------')\n",
    "display(df_initial.head())  # Show the first rows of the DataFrame for a preliminary view\n",
    "print('\\n----------------------------------------------------------------')\n",
    "\n",
    "# Check and remove duplicates\n",
    "duplicates = df_initial.duplicated().sum()  # Count the number of duplicate rows\n",
    "print(f\"Número de filas duplicadas: {duplicates}\")  # Print the count of duplicates\n",
    "if duplicates > 0:\n",
    "    df_initial.drop_duplicates(inplace=True)  # Remove duplicate rows from the DataFrame\n",
    "print('\\n----------------------------------------------------------------')\n",
    "\n",
    "# Check for null values\n",
    "missing_values = df_initial.isnull().sum()  # Count null values in each column\n",
    "print(f\"Valores nulos en cada columna:\\n{missing_values}\")  # Print the amount of null values per column\n",
    "print('\\n----------------------------------------------------------------')\n",
    "\n",
    "# Load the data with 'datetime' as the index and convert to date format\n",
    "df = pd.read_csv('/datasets/taxi.csv', index_col=[0], parse_dates=[0])  # Load the CSV file, using the first column as the date index\n",
    "df.sort_index(inplace=True)  # Sort the DataFrame by the date index\n",
    "df.index.name = 'date_time'  # Rename the index to 'date_time'\n",
    "df.info()  # Display information about the updated DataFrame\n",
    "print('\\n----------------------------------------------------------------')\n",
    "display(df.head())  # Show the first rows of the new DataFrame\n",
    "print('\\n----------------------------------------------------------------')\n",
    "\n",
    "# Resample to get the sum of orders per hour\n",
    "df_resampled = df.resample('1h').sum()  # Group the data by hour and sum the orders\n",
    "\n",
    "# Create new temporal feature columns\n",
    "df_resampled['hour'] = df_resampled.index.hour  # Extract the hour from the index and add it as a column\n",
    "df_resampled['day_of_week'] = df_resampled.index.dayofweek  # Extract the day of the week and add it as a column\n",
    "df_resampled['month'] = df_resampled.index.month  # Extract the month and add it as a column\n",
    "df_resampled['year'] = df_resampled.index.year  # Extract the year and add it as a column\n",
    "df_resampled['rolling_mean_7'] = df_resampled['num_orders'].rolling(7).mean()  # Calculate the 7-hour rolling average of the 'num_orders' column\n"
   ]
  },
  {
   "cell_type": "markdown",
   "metadata": {},
   "source": [
    "**Initial DataFrame Description:**\n",
    "\n",
    "The index is a range from 0 to 26,495.\n",
    "\n",
    "Columns:\n",
    "\n",
    "**datetime:**\n",
    "\n",
    "   - Data type: object (this suggests that the data in this column could be text strings representing dates and times).\n",
    "   - Non-null values: 26,496 (this indicates that there are no missing values in this column).\n",
    "\n",
    "**num_orders:**\n",
    "\n",
    "   - Data type: int64 (this indicates that this column contains integer numbers).\n",
    "   - Non-null values: 26,496 (this also indicates that there are no missing values in this column).\n",
    "\n",
    "**Memory Usage:**\n",
    "   - Memory usage: Approximately 414.1 KB, indicating moderate memory usage for this DataFrame.\n",
    "\n",
    "**Observations:**\n",
    "\n",
    "- **Data Loading**: The CSV file has been successfully imported into a Pandas DataFrame, showing that the dataset contains 26,496 entries with two columns: datetime and num_orders.\n",
    "\n",
    "- **Duplicate Check**: It has been verified that there are no duplicate rows in the DataFrame, which is crucial for ensuring data integrity before any subsequent analysis.\n",
    "\n",
    "- **Null Values**: The absence of null values has been confirmed in all columns, which allows proceeding with confidence in the analysis without the need for imputations.\n",
    "\n",
    "- **Date Conversion**: The datetime column has been set as the index and converted to the appropriate date format. This facilitates time-based operations and enables more efficient analysis of time series.\n",
    "\n",
    "- **Resampling and Temporal Features**: The dataset has been resampled to obtain the sum of orders per hour. Additionally, new columns have been created to extract temporal features such as hour, day of the week, month, and year, as well as a 7-hour moving average of the orders, which could be useful for trend and pattern analysis in the data.\n",
    "\n",
    "\n",
    "## Exploratory Data Analysis\n",
    "\n",
    "In this part of the project, we perform a comprehensive exploratory analysis of the time series. The series is decomposed to identify trends, seasonality, and residuals. Additionally, the stationarity of the series is assessed using statistical tests, such as the Dickey-Fuller test. Understanding the dynamics of the time series is essential for making informed decisions about modeling and forecasting, aligning with the organization's strategic goals."
   ]
  },
  {
   "cell_type": "code",
   "execution_count": 12,
   "metadata": {
    "scrolled": false
   },
   "outputs": [
    {
     "data": {
      "image/png": "[encoded data removed]",
      "text/plain": [
       "<Figure size 800x800 with 3 Axes>"
      ]
     },
     "metadata": {},
     "output_type": "display_data"
    },
    {
     "name": "stdout",
     "output_type": "stream",
     "text": [
      "Estadístico ADF: -3.068924289027954\n",
      "Valor p: 0.028940051402613028\n",
      "Crítico 1%: -3.431842162413052\n",
      "Crítico 5%: -2.8621993540813637\n",
      "Crítico 10%: -2.567120978470452\n",
      "La serie es estacionaria.\n",
      "\n",
      "----------------------------------------------------------------\n"
     ]
    }
   ],
   "source": [
    "# Time Series Decomposition\n",
    "decomposed = seasonal_decompose(df_resampled['num_orders'], model='additive', period=24)  # Decompose the 'num_orders' time series into trend, seasonality, and residual components\n",
    "plt.figure(figsize=(8, 8))  # Set the figure size for visualization\n",
    "plt.subplot(311)  # Create the first subplot for the trend\n",
    "decomposed.trend.plot(ax=plt.gca())  # Plot the trend on the current subplot\n",
    "plt.title('Tendencia')  # Title for the trend plot\n",
    "plt.subplot(312)  # Create the second subplot for the seasonality\n",
    "decomposed.seasonal.plot(ax=plt.gca())  # Plot the seasonality on the current subplot\n",
    "plt.title('Estacionalidad')  # Title for the seasonality plot\n",
    "plt.subplot(313)  # Create the third subplot for the residuals\n",
    "decomposed.resid.plot(ax=plt.gca())  # Plot the residuals on the current subplot\n",
    "plt.title('Residuos')  # Title for the residuals plot\n",
    "plt.tight_layout()  # Adjust the figure layout to avoid overlaps\n",
    "plt.show()  # Show the figure with the plots\n",
    "\n",
    "# Stationarity Check\n",
    "result = adfuller(df_resampled['num_orders'])  # Perform the ADF test to check the stationarity of the series\n",
    "print('Estadístico ADF:', result[0])  # Print the ADF statistic\n",
    "print('Valor p:', result[1])  # Print the p-value of the ADF test\n",
    "for key, value in result[4].items():  # Iterate over the critical values of the test\n",
    "    print(f'Crítico {key}: {value}')  # Print each critical value\n",
    "\n",
    "# Evaluate if the series is stationary based on the p-value\n",
    "if result[1] < 0.05:  # If the p-value is less than 0.05\n",
    "    print(\"La serie es estacionaria.\")  # Indicate that the series is stationary\n",
    "    print('\\n----------------------------------------------------------------')\n",
    "else:\n",
    "    print(\"La serie no es estacionaria. Considera diferenciarla.\")  # Indicate that the series is not stationary\n",
    "    print('\\n----------------------------------------------------------------')\n",
    "    # Apply differencing to make the series stationary\n",
    "    df_resampled['num_orders'] = df_resampled['num_orders'].diff().dropna()  # Calculate the series difference and remove null values\n"
   ]
  },
  {
   "cell_type": "markdown",
   "metadata": {},
   "source": [
    "**Observations**\n",
    "\n",
    "1. **Time Series Decomposition**:\n",
    "   - **Trend**: A **growing trend** was identified over time, from March to August 2018. This increase suggests a sustained rise in activity or demand, which could be related to growth in traffic, sales, or other relevant variables in the analyzed context.\n",
    "   - **Seasonality**: The analysis revealed a **well-defined seasonality**, with clear cyclic patterns that repeat regularly. The uniform oscillation around zero indicates that the series displays stable cyclic behavior, possibly with a daily or weekly periodicity.\n",
    "   - **Residuals**: The residuals, which represent variations not explained by the trend or seasonality, are mostly distributed consistently around zero. However, some **spikes at the end of the series** were observed, which could suggest anomalous events or abrupt changes that require further investigation.\n",
    "\n",
    "2. **Stationarity of the Series**:\n",
    "   - The Dickey-Fuller test was performed to assess the stationarity of the series, yielding an ADF statistic of -3.07 and a p-value of 0.029. Since the p-value is less than 0.05, it was concluded that **the series is stationary**. This is crucial for future modeling and forecasting, as stationary series are more suitable for time series analysis techniques.\n",
    "\n",
    "3. **Implications**:\n",
    "   - Understanding the **trend, seasonality, and residuals** allows for informed decisions regarding time series modeling. With a stationary series, more effective forecasting models can be applied, which aligns with the organization’s strategic goals.\n",
    "\n",
    "In summary, the exploratory analysis has revealed a time series with favorable characteristics for predictive analysis, providing a solid foundation for developing models that can forecast future behavior in demand. The identification of potential anomalies in the residuals also suggests the need for continuous monitoring and more detailed analysis of unusual events that may affect the series' dynamics.\n",
    "\n",
    "## Feature Matrix Structuring\n",
    "\n",
    "In this section, we will focus on creating the feature matrix that will serve as the basis for training our prediction models. The feature matrix is an essential component in time series analysis, as it allows us to structure historical information in a way that models can capture temporal patterns and trends in the data.\n",
    "\n",
    "For the structuring of the feature matrix, we will use historical taxi order data and transform it into a format that appropriately represents the temporal relationship. This will include creating new features based on previous values of the series, such as the number of orders in previous hours or temporal aggregates (averages, trends, etc.), which will help improve the model’s predictive capacity.\n",
    "\n",
    "This feature engineering process is key for the model to identify repetitive patterns and temporal dependencies, such as increased orders during peak hours or daily or weekly seasonality."
   ]
  },
  {
   "cell_type": "code",
   "execution_count": 13,
   "metadata": {},
   "outputs": [
    {
     "name": "stdout",
     "output_type": "stream",
     "text": [
      "Estructura de la matriz de características:\n"
     ]
    },
    {
     "data": {
      "text/html": [
       "<div>\n",
       "<style scoped>\n",
       "    .dataframe tbody tr th:only-of-type {\n",
       "        vertical-align: middle;\n",
       "    }\n",
       "\n",
       "    .dataframe tbody tr th {\n",
       "        vertical-align: top;\n",
       "    }\n",
       "\n",
       "    .dataframe thead th {\n",
       "        text-align: right;\n",
       "    }\n",
       "</style>\n",
       "<table border=\"1\" class=\"dataframe\">\n",
       "  <thead>\n",
       "    <tr style=\"text-align: right;\">\n",
       "      <th></th>\n",
       "      <th>num_orders</th>\n",
       "      <th>hour</th>\n",
       "      <th>day_of_week</th>\n",
       "      <th>month</th>\n",
       "      <th>year</th>\n",
       "      <th>rolling_mean_7</th>\n",
       "      <th>lag_1</th>\n",
       "      <th>lag_2</th>\n",
       "      <th>lag_3</th>\n",
       "      <th>trend</th>\n",
       "      <th>seasonal</th>\n",
       "      <th>residual</th>\n",
       "      <th>is_weekend</th>\n",
       "    </tr>\n",
       "    <tr>\n",
       "      <th>date_time</th>\n",
       "      <th></th>\n",
       "      <th></th>\n",
       "      <th></th>\n",
       "      <th></th>\n",
       "      <th></th>\n",
       "      <th></th>\n",
       "      <th></th>\n",
       "      <th></th>\n",
       "      <th></th>\n",
       "      <th></th>\n",
       "      <th></th>\n",
       "      <th></th>\n",
       "      <th></th>\n",
       "    </tr>\n",
       "  </thead>\n",
       "  <tbody>\n",
       "    <tr>\n",
       "      <th>2018-03-01 12:00:00</th>\n",
       "      <td>30</td>\n",
       "      <td>12</td>\n",
       "      <td>3</td>\n",
       "      <td>3</td>\n",
       "      <td>2018</td>\n",
       "      <td>45.714286</td>\n",
       "      <td>96.0</td>\n",
       "      <td>64.0</td>\n",
       "      <td>69.0</td>\n",
       "      <td>56.125000</td>\n",
       "      <td>-16.721606</td>\n",
       "      <td>-9.403394</td>\n",
       "      <td>0</td>\n",
       "    </tr>\n",
       "    <tr>\n",
       "      <th>2018-03-01 13:00:00</th>\n",
       "      <td>32</td>\n",
       "      <td>13</td>\n",
       "      <td>3</td>\n",
       "      <td>3</td>\n",
       "      <td>2018</td>\n",
       "      <td>48.571429</td>\n",
       "      <td>30.0</td>\n",
       "      <td>96.0</td>\n",
       "      <td>64.0</td>\n",
       "      <td>56.145833</td>\n",
       "      <td>-13.352412</td>\n",
       "      <td>-10.793422</td>\n",
       "      <td>0</td>\n",
       "    </tr>\n",
       "    <tr>\n",
       "      <th>2018-03-01 14:00:00</th>\n",
       "      <td>48</td>\n",
       "      <td>14</td>\n",
       "      <td>3</td>\n",
       "      <td>3</td>\n",
       "      <td>2018</td>\n",
       "      <td>53.285714</td>\n",
       "      <td>32.0</td>\n",
       "      <td>30.0</td>\n",
       "      <td>96.0</td>\n",
       "      <td>56.958333</td>\n",
       "      <td>-9.191665</td>\n",
       "      <td>0.233331</td>\n",
       "      <td>0</td>\n",
       "    </tr>\n",
       "    <tr>\n",
       "      <th>2018-03-01 15:00:00</th>\n",
       "      <td>66</td>\n",
       "      <td>15</td>\n",
       "      <td>3</td>\n",
       "      <td>3</td>\n",
       "      <td>2018</td>\n",
       "      <td>57.857143</td>\n",
       "      <td>48.0</td>\n",
       "      <td>32.0</td>\n",
       "      <td>30.0</td>\n",
       "      <td>57.000000</td>\n",
       "      <td>3.731832</td>\n",
       "      <td>5.268168</td>\n",
       "      <td>0</td>\n",
       "    </tr>\n",
       "    <tr>\n",
       "      <th>2018-03-01 16:00:00</th>\n",
       "      <td>43</td>\n",
       "      <td>16</td>\n",
       "      <td>3</td>\n",
       "      <td>3</td>\n",
       "      <td>2018</td>\n",
       "      <td>54.142857</td>\n",
       "      <td>66.0</td>\n",
       "      <td>48.0</td>\n",
       "      <td>32.0</td>\n",
       "      <td>56.479167</td>\n",
       "      <td>29.604100</td>\n",
       "      <td>-43.083267</td>\n",
       "      <td>0</td>\n",
       "    </tr>\n",
       "  </tbody>\n",
       "</table>\n",
       "</div>"
      ],
      "text/plain": [
       "                     num_orders  hour  day_of_week  month  year  \\\n",
       "date_time                                                         \n",
       "2018-03-01 12:00:00          30    12            3      3  2018   \n",
       "2018-03-01 13:00:00          32    13            3      3  2018   \n",
       "2018-03-01 14:00:00          48    14            3      3  2018   \n",
       "2018-03-01 15:00:00          66    15            3      3  2018   \n",
       "2018-03-01 16:00:00          43    16            3      3  2018   \n",
       "\n",
       "                     rolling_mean_7  lag_1  lag_2  lag_3      trend  \\\n",
       "date_time                                                             \n",
       "2018-03-01 12:00:00       45.714286   96.0   64.0   69.0  56.125000   \n",
       "2018-03-01 13:00:00       48.571429   30.0   96.0   64.0  56.145833   \n",
       "2018-03-01 14:00:00       53.285714   32.0   30.0   96.0  56.958333   \n",
       "2018-03-01 15:00:00       57.857143   48.0   32.0   30.0  57.000000   \n",
       "2018-03-01 16:00:00       54.142857   66.0   48.0   32.0  56.479167   \n",
       "\n",
       "                      seasonal   residual  is_weekend  \n",
       "date_time                                              \n",
       "2018-03-01 12:00:00 -16.721606  -9.403394           0  \n",
       "2018-03-01 13:00:00 -13.352412 -10.793422           0  \n",
       "2018-03-01 14:00:00  -9.191665   0.233331           0  \n",
       "2018-03-01 15:00:00   3.731832   5.268168           0  \n",
       "2018-03-01 16:00:00  29.604100 -43.083267           0  "
      ]
     },
     "metadata": {},
     "output_type": "display_data"
    },
    {
     "name": "stdout",
     "output_type": "stream",
     "text": [
      "\n",
      "Matriz de características lista para el modelado.\n"
     ]
    }
   ],
   "source": [
    "# 4.1. Add lag columns (lagged values) to capture past patterns\n",
    "df_resampled['lag_1'] = df_resampled['num_orders'].shift(1)  # Lag of 1 hour\n",
    "df_resampled['lag_2'] = df_resampled['num_orders'].shift(2)  # Lag of 2 hours\n",
    "df_resampled['lag_3'] = df_resampled['num_orders'].shift(3)  # Lag of 3 hours\n",
    "\n",
    "# 4.2. Use trend, seasonality, and residual components as additional features\n",
    "df_resampled['trend'] = decomposed.trend\n",
    "df_resampled['seasonal'] = decomposed.seasonal\n",
    "df_resampled['residual'] = decomposed.resid\n",
    "\n",
    "# 4.3. Create boolean variables for weekends\n",
    "df_resampled['is_weekend'] = df_resampled['day_of_week'].apply(lambda x: 1 if x >= 5 else 0)\n",
    "\n",
    "# 4.4. Remove rows with NaN values generated by lags and components\n",
    "df_resampled.dropna(inplace=True)\n",
    "\n",
    "# Display the feature matrix structure\n",
    "print(\"Estructura de la matriz de características:\")\n",
    "display(df_resampled.head())\n",
    "print(\"\\nMatriz de características lista para el modelado.\")\n"
   ]
  },
  {
   "cell_type": "markdown",
   "metadata": {},
   "source": [
    "**Explanation**\n",
    "\n",
    "- **Lag Columns**: We added three new columns (lag_1, lag_2, lag_3) that contain the order values with a delay of 1, 2, and 3 hours. This captures the effect of recent orders on the current number of orders.\n",
    "\n",
    "- **Decomposition Components**: We use the trend, seasonality, and residual components as new features. These components are useful for modeling intrinsic patterns in the time series.\n",
    "\n",
    "- **Variable is_weekend**: We added a boolean column to indicate if the day is a weekend (Saturday or Sunday). This could improve predictions for certain user behavior patterns.\n",
    "\n",
    "- **Removing NaN**: The shifting and decomposition operations generate null values, so we remove these rows.\n",
    "\n",
    "## Train and Test Set Split\n",
    "\n",
    "We will split the data into a training set and a test set. A common approach in time series is to use the earlier parts of the data for training the model and the more recent parts for testing. We will use 80% of the data for training and the remaining 20% for testing."
   ]
  },
  {
   "cell_type": "code",
   "execution_count": 14,
   "metadata": {},
   "outputs": [
    {
     "name": "stdout",
     "output_type": "stream",
     "text": [
      "Tamaño del conjunto de entrenamiento: 3513 filas\n",
      "Tamaño del conjunto de prueba: 879 filas\n"
     ]
    }
   ],
   "source": [
    "# Define the training set size (80% of the data)\n",
    "train_size = int(len(df_resampled) * 0.8)\n",
    "\n",
    "# Split the data\n",
    "train = df_resampled.iloc[:train_size]\n",
    "test = df_resampled.iloc[train_size:]\n",
    "\n",
    "# Show the split\n",
    "print(f\"Tamaño del conjunto de entrenamiento: {len(train)} filas\")\n",
    "print(f\"Tamaño del conjunto de prueba: {len(test)} filas\")\n"
   ]
  },
  {
   "cell_type": "markdown",
   "metadata": {},
   "source": [
    "## Feature Normalization\n",
    "\n",
    "In this section, we will address the process of feature normalization, a crucial step in data preparation for machine learning models. Normalization ensures that all features are on the same scale, preventing some variables, due to their magnitude, from dominating the learning process.\n",
    "\n",
    "Since we are working with time series, it is essential that numerical features, such as the number of orders per hour, be normalized to improve model performance and ensure faster convergence during training. Additionally, normalization helps stabilize values in series with large fluctuations, thereby improving prediction accuracy.\n",
    "\n",
    "At this stage, we will apply scaling techniques such as standardization or min-max scaling, depending on the needs of our dataset and the selected models."
   ]
  },
  {
   "cell_type": "code",
   "execution_count": 15,
   "metadata": {
    "scrolled": true
   },
   "outputs": [
    {
     "name": "stdout",
     "output_type": "stream",
     "text": [
      "                     num_orders      hour  day_of_week     month  year  \\\n",
      "date_time                                                                \n",
      "2018-03-01 12:00:00          30  0.070606    -0.000426 -1.388909   0.0   \n",
      "2018-03-01 13:00:00          32  0.215150    -0.000426 -1.388909   0.0   \n",
      "2018-03-01 14:00:00          48  0.359695    -0.000426 -1.388909   0.0   \n",
      "2018-03-01 15:00:00          66  0.504239    -0.000426 -1.388909   0.0   \n",
      "2018-03-01 16:00:00          43  0.648783    -0.000426 -1.388909   0.0   \n",
      "\n",
      "                     rolling_mean_7     lag_1     lag_2     lag_3     trend  \\\n",
      "date_time                                                                     \n",
      "2018-03-01 12:00:00       -1.256261  0.610492 -0.287499 -0.147064 -1.104587   \n",
      "2018-03-01 13:00:00       -1.130334 -1.242562  0.611338 -0.287507 -1.103318   \n",
      "2018-03-01 14:00:00       -0.922555 -1.186409 -1.242514  0.611331 -1.053855   \n",
      "2018-03-01 15:00:00       -0.721072 -0.737184 -1.186336 -1.242523 -1.051318   \n",
      "2018-03-01 16:00:00       -0.884777 -0.231806 -0.736918 -1.186346 -1.083026   \n",
      "\n",
      "                     seasonal  residual  is_weekend  \n",
      "date_time                                            \n",
      "2018-03-01 12:00:00 -0.639688 -0.442866           0  \n",
      "2018-03-01 13:00:00 -0.510747 -0.508346           0  \n",
      "2018-03-01 14:00:00 -0.351514  0.011094           0  \n",
      "2018-03-01 15:00:00  0.143073  0.248272           0  \n",
      "2018-03-01 16:00:00  1.133214 -2.029435           0  \n"
     ]
    }
   ],
   "source": [
    "# Define the features to scale (excluding 'num_orders' and any boolean columns)\n",
    "features_to_scale = ['hour', 'day_of_week', 'month', 'year', 'rolling_mean_7', 'lag_1', 'lag_2', 'lag_3', 'trend', 'seasonal', 'residual']\n",
    "\n",
    "# Initialize the scaler\n",
    "scaler = StandardScaler()\n",
    "\n",
    "# Fit and transform the training set features\n",
    "train_scaled = train.copy()\n",
    "train_scaled[features_to_scale] = scaler.fit_transform(train[features_to_scale])\n",
    "\n",
    "# Transform the test set features (using the same scaler)\n",
    "test_scaled = test.copy()\n",
    "test_scaled[features_to_scale] = scaler.transform(test[features_to_scale])\n",
    "\n",
    "# Show a sample of the normalized data\n",
    "print(train_scaled.head())"
   ]
  },
  {
   "cell_type": "markdown",
   "metadata": {},
   "source": [
    "## Feature Normalization\n",
    "\n",
    "In this section, we will address the process of feature normalization, a crucial step in data preparation for machine learning models. Normalization ensures that all features are on the same scale, preventing some variables from dominating the learning process due to their magnitude.\n",
    "\n",
    "Since we are working with time series, it is essential that numerical features, such as the number of orders per hour, are normalized to improve model performance and ensure faster convergence during training. Additionally, normalization helps stabilize values in series with large fluctuations, thereby improving the accuracy of predictions.\n",
    "\n",
    "At this stage, we will apply scaling techniques such as standardization or min-max scaling, depending on the needs of our dataset and the selected models.\n",
    "\n",
    "## Model Training\n",
    "\n",
    "Here, the focus shifts to preparing the data to train predictive models. The data is split into training and test sets, and scaling techniques are applied to normalize the features, improving the effectiveness of machine learning algorithms. Furthermore, additional temporal features are incorporated to enrich the dataset. This systematic approach aims to maximize model performance and optimize its predictive capacity in line with business goals."
   ]
  },
  {
   "cell_type": "code",
   "execution_count": 16,
   "metadata": {},
   "outputs": [
    {
     "name": "stdout",
     "output_type": "stream",
     "text": [
      "RMSE en el conjunto de prueba: 3.0562068488036275e-14\n"
     ]
    }
   ],
   "source": [
    "# Define features and target\n",
    "X_train = train_scaled[features_to_scale]\n",
    "y_train = train_scaled['num_orders']\n",
    "X_test = test_scaled[features_to_scale]\n",
    "y_test = test_scaled['num_orders']\n",
    "\n",
    "# Initialize and train the model\n",
    "model = LinearRegression()\n",
    "model.fit(X_train, y_train)\n",
    "\n",
    "# Predict on the test set\n",
    "y_pred = model.predict(X_test)\n",
    "\n",
    "# Evaluate performance with RMSE\n",
    "rmse = mean_squared_error(y_test, y_pred, squared=False)\n",
    "print(f\"RMSE en el conjunto de prueba: {rmse}\")\n",
    "\n"
   ]
  },
  {
   "cell_type": "markdown",
   "metadata": {},
   "source": [
    "**Observations**\n",
    "\n",
    "The model training process has been meticulously designed to maximize the predictive effectiveness of the algorithm used. By splitting the data into training and test sets and applying scaling techniques, it has been ensured that the features are normalized, which is crucial for the performance of machine learning algorithms. The incorporation of additional temporal features has enriched the dataset, providing valuable context for the predictions.\n",
    "\n",
    "The linear regression model has been successfully fitted to the training data, and the predictions made on the test set have shown outstanding performance, evidenced by an extremely low RMSE of approximately 3.0562068488036275e-14. This result suggests that the model has learned to predict with remarkable accuracy, aligning with the project's business goals. In summary, the strategy implemented for model training has proven to be effective and efficient, establishing a solid foundation for future evaluations and improvements.\n",
    "\n",
    "## Model Evaluation\n",
    "\n",
    "This section establishes a rigorous framework for evaluating various machine learning models. Specific functions are designed to adjust and assess each model based on key metrics such as Mean Squared Error (RMSE) and the Coefficient of Determination (R²). Cross-validation is used to obtain robust estimates and mitigate the risk of overfitting. Model selection based on quantitative metrics enables management to make informed decisions about supply chain optimization strategies."
   ]
  },
  {
   "cell_type": "code",
   "execution_count": 17,
   "metadata": {},
   "outputs": [],
   "source": [
    "# Create a dictionary to store the results\n",
    "results = {}  # Initialize dictionary to save model evaluation results\n",
    "\n",
    "# Function to evaluate the model and store results\n",
    "def evaluate_model(model, param_grid, X_train, y_train, X_test, y_test, model_name, use_cv=False):\n",
    "    if use_cv:  # If cross-validation is used\n",
    "        grid_search = GridSearchCV(model, param_grid, cv=5, scoring='neg_mean_squared_error')  # Set up grid search\n",
    "        grid_search.fit(X_train, y_train)  # Fit the model to the training data\n",
    "        best_model = grid_search.best_estimator_  # Get the best model from the search\n",
    "        y_pred = best_model.predict(X_test)  # Predict values for the test set\n",
    "        rmse = np.sqrt(mean_squared_error(y_test, y_pred))  # Calculate RMSE\n",
    "        r2 = r2_score(y_test, y_pred)  # Calculate R²\n",
    "        results[model_name] = {'RMSE': rmse, 'R²': r2, 'y_pred': y_pred, 'y_test': y_test}  # Store results\n",
    "        print(f\"Mejor modelo para {model_name}: {grid_search.best_params_}\")  # Print best parameters\n",
    "    else:  # If cross-validation is not used\n",
    "        model.fit(X_train, y_train)  # Fit the model to the training data\n",
    "        y_pred = model.predict(X_test)  # Predict values for the test set\n",
    "        rmse = np.sqrt(mean_squared_error(y_test, y_pred))  # Calculate RMSE\n",
    "        r2 = r2_score(y_test, y_pred)  # Calculate R²\n",
    "        results[model_name] = {'RMSE': rmse, 'R²': r2, 'y_pred': y_pred, 'y_test': y_test}  # Store results\n"
   ]
  },
  {
   "cell_type": "markdown",
   "metadata": {},
   "source": [
    "**Observations**\n",
    "\n",
    "- A structured and rigorous framework has been established to evaluate different machine learning models, using key metrics such as the Root Mean Squared Error (RMSE) and the Coefficient of Determination (R²). By implementing specific functions to tune and evaluate the models, it has been ensured that the comparisons are fair and based on quantitative data.\n",
    "\n",
    "- The inclusion of cross-validation has allowed for more robust estimates of model performance and mitigated the risk of overfitting, ensuring that the results are representative of actual performance on unseen data. The selection of models based on quantitative metrics provides management with a solid foundation to make informed decisions on supply chain optimization strategies.\n",
    "\n",
    "- The results obtained, stored in a dictionary, facilitate a clear comparison between the evaluated models, which in turn contributes to identifying the most suitable model for implementation in a real-world environment. This systematic approach not only strengthens the predictive capability of the system but also aligns the modeling efforts with the strategic objectives of the organization.\n",
    "\n",
    "## Hyperparameter Optimization\n",
    "\n",
    "Next, we will aim to improve model performance by tuning their key hyperparameters. Using techniques such as Grid Search, different combinations of these parameters will be explored to identify the optimal configuration that maximizes prediction accuracy. This process is crucial for fine-tuning the models and achieving a proper balance between complexity and predictive capability."
   ]
  },
  {
   "cell_type": "code",
   "execution_count": 18,
   "metadata": {
    "scrolled": true
   },
   "outputs": [
    {
     "name": "stdout",
     "output_type": "stream",
     "text": [
      "Mejor modelo para Bosque Aleatorio: {'max_depth': 20, 'min_samples_split': 2, 'n_estimators': 200}\n",
      "\n",
      "----------------------------------------------------------------\n",
      "Mejor modelo para SVM: {'C': 10, 'epsilon': 0.01}\n",
      "Mejor modelo para K-NN: {'n_neighbors': 5, 'weights': 'distance'}\n",
      "Mejor modelo para LightGBM: {'learning_rate': 0.1, 'max_depth': 3, 'min_child_samples': 20, 'n_estimators': 200, 'num_leaves': 31, 'reg_alpha': 0.0, 'reg_lambda': 0.0}\n",
      "Mejor modelo para XGBoost: {'colsample_bytree': 0.8, 'learning_rate': 0.1, 'max_depth': 3, 'n_estimators': 200, 'subsample': 1.0}\n",
      "Mejor modelo para CatBoost: {'depth': 5, 'iterations': 200, 'l2_leaf_reg': 1, 'learning_rate': 0.1}\n"
     ]
    },
    {
     "name": "stderr",
     "output_type": "stream",
     "text": [
      "2024-10-28 17:36:06.446915: I tensorflow/core/platform/cpu_feature_guard.cc:151] This TensorFlow binary is optimized with oneAPI Deep Neural Network Library (oneDNN) to use the following CPU instructions in performance-critical operations:  AVX2 FMA\n",
      "To enable them in other operations, rebuild TensorFlow with the appropriate compiler flags.\n"
     ]
    },
    {
     "name": "stdout",
     "output_type": "stream",
     "text": [
      "MLP: RMSE=0.42640589042635013, R²=0.9999387328516245\n"
     ]
    }
   ],
   "source": [
    "# Search parameters for models\n",
    "param_grid_rf = {  # Parameters for Random Forest\n",
    "    'n_estimators': [100, 200],  # Number of trees\n",
    "    'max_depth': [None, 10, 20],  # Maximum depth of trees\n",
    "    'min_samples_split': [2, 5],  # Minimum samples to split a node\n",
    "}\n",
    "\n",
    "param_grid_svr = {  # Parameters for Support Vector Regression\n",
    "    'C': [0.1, 1, 10],  # Regularization parameter\n",
    "    'epsilon': [0.01, 0.1, 0.5],  # Tolerance margin for the model\n",
    "}\n",
    "\n",
    "param_grid_knn = {  # Parameters for K-Nearest Neighbors\n",
    "    'n_neighbors': [3, 5, 10],  # Number of neighbors to consider\n",
    "    'weights': ['uniform', 'distance'],  # Weighting strategy\n",
    "}\n",
    "\n",
    "param_grid_lgb = {  # Parameters for LightGBM\n",
    "    'num_leaves': [31, 63],  # Maximum number of leaves in a tree\n",
    "    'learning_rate': [0.01, 0.1],  # Learning rate\n",
    "    'n_estimators': [100, 200],  # Number of trees\n",
    "    'max_depth': [3, 5, 10],  # Maximum depth of trees\n",
    "    'min_child_samples': [20],  # Minimum samples in a leaf node\n",
    "    'reg_lambda': [0.0, 0.1],  # L2 regularization\n",
    "    'reg_alpha': [0.0, 0.1],    # L1 regularization\n",
    "}\n",
    "\n",
    "param_grid_xgb = {  # Parameters for XGBoost\n",
    "    'n_estimators': [100, 200],  # Number of estimators\n",
    "    'learning_rate': [0.01, 0.1],  # Learning rate\n",
    "    'max_depth': [3, 5, 10],  # Maximum depth\n",
    "    'subsample': [0.8, 1.0],  # Sample proportion used\n",
    "    'colsample_bytree': [0.8, 1.0],  #Feature proportion used\n",
    "}\n",
    "\n",
    "param_grid_cat = {  # Parameters for CatBoost\n",
    "    'iterations': [100, 200],  # Number of iterations\n",
    "    'learning_rate': [0.01, 0.1],  # Learning rate\n",
    "    'depth': [3, 5, 10],  # Maximum depth\n",
    "    'l2_leaf_reg': [1, 3, 5],  # L2 regularization\n",
    "}\n",
    "\n",
    "# Training and model evaluation\n",
    "\n",
    "# 1. Linear Regression\n",
    "evaluate_model(LinearRegression(), {}, X_train, y_train, X_test, y_test, \"Regresión Lineal\")  # Evaluate linear regression without parameters\n",
    "\n",
    "# 2. Random Forest (with cross-validation)\n",
    "rf_model = RandomForestRegressor(random_state=42)  # Initialize Random Forest model\n",
    "evaluate_model(rf_model, param_grid_rf, X_train, y_train, X_test, y_test, \"Bosque Aleatorio\", use_cv=True)  # Evaluate Random Forest with CV\n",
    "print('\\n----------------------------------------------------------------')\n",
    "\n",
    "# 3. Support Vector Machines (SVM)\n",
    "evaluate_model(SVR(), param_grid_svr, X_train, y_train, X_test, y_test, \"SVM\", use_cv=True)  # Evaluate SVM with CV\n",
    "\n",
    "# 4. K-Nearest Neighbors (K-NN)\n",
    "evaluate_model(KNeighborsRegressor(), param_grid_knn, X_train, y_train, X_test, y_test, \"K-NN\", use_cv=True)  # Evaluate K-NN with CV\n",
    "\n",
    "# 5. LightGBM (with cross-validation)\n",
    "lgb_model = lgb.LGBMRegressor()  Initialize LightGBM model\n",
    "evaluate_model(lgb_model, param_grid_lgb, X_train, y_train, X_test, y_test, \"LightGBM\", use_cv=True)  # Evaluate LightGBM with CV\n",
    "\n",
    "# 6. XGBoost (with cross-validation)\n",
    "xgb_model = xgb.XGBRegressor()  # Initialize XGBoost model\n",
    "evaluate_model(xgb_model, param_grid_xgb, X_train, y_train, X_test, y_test, \"XGBoost\", use_cv=True)  #Evaluate XGBoost with CV\n",
    "\n",
    "# 7. CatBoost (with cross-validation)\n",
    "cat_model = CatBoostRegressor(silent=True, depth=10, learning_rate=0.1)  # Initialize CatBoost model with tuned parameters\n",
    "evaluate_model(cat_model, param_grid_cat, X_train, y_train, X_test, y_test, \"CatBoost\", use_cv=True)  # Evaluate CatBoost with CV\n",
    "\n",
    "# 8. Neural Networks (MLP) (without cross-validation)\n",
    "def create_mlp_model(input_dim):  # Function to create neural network model\n",
    "    model = Sequential()  # Initialize sequential model\n",
    "    model.add(Input(shape=(input_dim,)))  # Add input layer\n",
    "    model.add(Dense(64, activation='relu'))  # Hidden layer with 64 neurons and ReLU activation\n",
    "    model.add(Dense(32, activation='relu'))  # Hidden layer with 32 neurons and ReLU activation\n",
    "    model.add(Dense(1))  # Output layer with one neuron\n",
    "    model.compile(optimizer='adam', loss='mean_squared_error')  # Compile model with Adam optimizer and MSE as loss function\n",
    "    return model  # Return created model\n",
    "\n",
    "mlp_model = create_mlp_model(X_train.shape[1])  # Create MLP model\n",
    "mlp_model.fit(X_train, y_train, epochs=100, batch_size=32, verbose=0)  # Fit model to training data\n",
    "y_pred_mlp = mlp_model.predict(X_test).flatten()  # Predict values for test set\n",
    "rmse_mlp = np.sqrt(mean_squared_error(y_test, y_pred_mlp))  # Calculate RMSE for MLP\n",
    "r2_mlp = r2_score(y_test, y_pred_mlp)  # Calculate R² for MLP\n",
    "results[\"MLP\"] = {'RMSE': rmse_mlp, 'R²': r2_mlp, 'y_pred': y_pred_mlp, 'y_test': y_test}  # Store MLP results\n",
    "print(f\"MLP: RMSE={rmse_mlp}, R²={r2_mlp}\")\n",
    "\n",
    "# 9. ARIMA Model\n",
    "def evaluate_arima_model(X_train, y_train, X_test, y_test):\n",
    "    model = ARIMA(y_train, order=(1, 1, 1))  # Define ARIMA model\n",
    "    model_fit = model.fit()  # Fit model\n",
    "    y_pred_arima = model_fit.forecast(steps=len(y_test))  # Make prediction\n",
    "    rmse_arima = np.sqrt(mean_squared_error(y_test, y_pred_arima))  # Calculate RMSE\n",
    "    r2_arima = r2_score(y_test, y_pred_arima)  # Calculate R²\n",
    "    results[\"ARIMA\"] = {'RMSE': rmse_arima, 'R²': r2_arima, 'y_pred': y_pred_arima, 'y_test': y_test}  # Store results\n",
    "\n",
    "# Call the function to evaluate the ARIMA model\n",
    "evaluate_arima_model(X_train, y_train, X_test, y_test)"
   ]
  },
  {
   "cell_type": "markdown",
   "metadata": {},
   "source": [
    "**Observations**\n",
    "\n",
    "Hyperparameter optimization is an essential step in the development of machine learning models, as it significantly improves their performance. In this section, grid search was implemented to determine the optimal parameter combinations for several models, including Random Forest, Support Vector Machines, K-Nearest Neighbors, LightGBM, XGBoost, CatBoost, and Neural Networks.\n",
    "\n",
    "The results revealed that each model responded differently to specific hyperparameter configurations, leading to notable improvements in evaluation metrics such as RMSE and R². For example, Random Forest achieved a robust fit with a high R², and LightGBM showed similar performance, excelling with an effective fit. The MLP neural network also achieved notable performance, with an RMSE of approximately 0.43 and an R² of 0.9999.\n",
    "\n",
    "These results emphasize the relevance of a thorough hyperparameter optimization process, which not only ensures good performance on the training set but also improves the model's overall predictive capability when applied to new data, minimizing the risk of overfitting.\n",
    "\n",
    "\n",
    "## Comparison of Results\n",
    "\n",
    "At this stage, the results obtained from the trained models are presented, showing their predictions compared to actual values. Key performance indicators such as RMSE and the coefficient of determination (R²) are highlighted, allowing for the evaluation of each model's accuracy.\n",
    "\n",
    "The results are organized so that decision-makers can easily identify the most effective model for predicting order demand. This comparison helps select the model that best aligns with strategic objectives, ensuring greater accuracy in operational planning and facilitating alignment with long-term business goals."
   ]
  },
  {
   "cell_type": "code",
   "execution_count": 19,
   "metadata": {
    "scrolled": false
   },
   "outputs": [
    {
     "name": "stdout",
     "output_type": "stream",
     "text": [
      "\n",
      "Resultados Finales de los Modelos:\n"
     ]
    },
    {
     "data": {
      "text/html": [
       "<div>\n",
       "<style scoped>\n",
       "    .dataframe tbody tr th:only-of-type {\n",
       "        vertical-align: middle;\n",
       "    }\n",
       "\n",
       "    .dataframe tbody tr th {\n",
       "        vertical-align: top;\n",
       "    }\n",
       "\n",
       "    .dataframe thead th {\n",
       "        text-align: right;\n",
       "    }\n",
       "</style>\n",
       "<table border=\"1\" class=\"dataframe\">\n",
       "  <thead>\n",
       "    <tr style=\"text-align: right;\">\n",
       "      <th></th>\n",
       "      <th>Modelo</th>\n",
       "      <th>RMSE</th>\n",
       "      <th>R²</th>\n",
       "    </tr>\n",
       "  </thead>\n",
       "  <tbody>\n",
       "    <tr>\n",
       "      <th>0</th>\n",
       "      <td>Regresión Lineal</td>\n",
       "      <td>3.056207e-14</td>\n",
       "      <td>1.000000</td>\n",
       "    </tr>\n",
       "    <tr>\n",
       "      <th>1</th>\n",
       "      <td>MLP</td>\n",
       "      <td>4.264059e-01</td>\n",
       "      <td>0.999939</td>\n",
       "    </tr>\n",
       "    <tr>\n",
       "      <th>2</th>\n",
       "      <td>XGBoost</td>\n",
       "      <td>2.408896e+01</td>\n",
       "      <td>0.804468</td>\n",
       "    </tr>\n",
       "    <tr>\n",
       "      <th>3</th>\n",
       "      <td>CatBoost</td>\n",
       "      <td>2.490876e+01</td>\n",
       "      <td>0.790933</td>\n",
       "    </tr>\n",
       "    <tr>\n",
       "      <th>4</th>\n",
       "      <td>LightGBM</td>\n",
       "      <td>2.609087e+01</td>\n",
       "      <td>0.770618</td>\n",
       "    </tr>\n",
       "    <tr>\n",
       "      <th>5</th>\n",
       "      <td>Bosque Aleatorio</td>\n",
       "      <td>2.845367e+01</td>\n",
       "      <td>0.727192</td>\n",
       "    </tr>\n",
       "    <tr>\n",
       "      <th>6</th>\n",
       "      <td>K-NN</td>\n",
       "      <td>3.231691e+01</td>\n",
       "      <td>0.648082</td>\n",
       "    </tr>\n",
       "    <tr>\n",
       "      <th>7</th>\n",
       "      <td>SVM</td>\n",
       "      <td>4.787923e+01</td>\n",
       "      <td>0.227541</td>\n",
       "    </tr>\n",
       "    <tr>\n",
       "      <th>8</th>\n",
       "      <td>ARIMA</td>\n",
       "      <td>5.920232e+01</td>\n",
       "      <td>-0.181024</td>\n",
       "    </tr>\n",
       "  </tbody>\n",
       "</table>\n",
       "</div>"
      ],
      "text/plain": [
       "             Modelo          RMSE        R²\n",
       "0  Regresión Lineal  3.056207e-14  1.000000\n",
       "1               MLP  4.264059e-01  0.999939\n",
       "2           XGBoost  2.408896e+01  0.804468\n",
       "3          CatBoost  2.490876e+01  0.790933\n",
       "4          LightGBM  2.609087e+01  0.770618\n",
       "5  Bosque Aleatorio  2.845367e+01  0.727192\n",
       "6              K-NN  3.231691e+01  0.648082\n",
       "7               SVM  4.787923e+01  0.227541\n",
       "8             ARIMA  5.920232e+01 -0.181024"
      ]
     },
     "metadata": {},
     "output_type": "display_data"
    }
   ],
   "source": [
    "# Create a DataFrame to store the results of each model\n",
    "results_df = pd.DataFrame({  # Create a DataFrame from the results\n",
    "    'Modelo': results.keys(),  # Use the keys of the 'results' dictionary as model names\n",
    "    'RMSE': [metrics['RMSE'] for metrics in results.values()],  # Get the RMSE of each model\n",
    "    'R²': [metrics['R²'] for metrics in results.values()]  # Get the R² of each model\n",
    "})\n",
    "\n",
    "# Sort the DataFrame by R² value in ascending order\n",
    "results_df = results_df.sort_values(by='R²', ascending=False).reset_index(drop=True)  # Sort and reset the index\n",
    "\n",
    "# Display the organized DataFrame with the final model results\n",
    "print(\"\\nResultados Finales de los Modelos:\")  # Print title for the results\n",
    "display(results_df)  # Show the DataFrame using the display function"
   ]
  },
  {
   "cell_type": "markdown",
   "metadata": {},
   "source": [
    "**Observations**\n",
    "\n",
    "The comparison of the results obtained from the trained models provides valuable insights into their effectiveness in predicting order demand. Performance indicators such as RMSE (Root Mean Squared Error) and the coefficient of determination (R²) offer a clear perspective on the accuracy of each model.\n",
    "\n",
    "**Highlighted Models:**\n",
    "\n",
    "- **Linear Regression** stands out as the best model, achieving an RMSE of 3.06e-14 and an R² of 1.00. Its ability to perfectly fit the data makes it the most robust choice for making predictions.\n",
    "\n",
    "- **MLP (Multilayer Perceptron)** also shows remarkable performance, with an RMSE of 0.43 and an R² of 0.9999, indicating its effectiveness in capturing patterns in the data.\n",
    "\n",
    "**Intermediate Models:**\n",
    "\n",
    "- **XGBoost** achieves an RMSE of 24.09 and an R² of 0.80, suggesting good performance compared to other models, although not as outstanding as the two above. This model remains a strong option due to its ability to handle complex data.\n",
    "\n",
    "**Low-Performing Models:**\n",
    "\n",
    "- **CatBoost** and **LightGBM** show acceptable performance, with RMSE values of 24.91 and 26.09, and R² values of 0.79 and 0.77, respectively. While they offer reasonable predictions, their effectiveness is inferior compared to the highlighted models.\n",
    "\n",
    "- **Random Forest**, with an RMSE of 28.45 and an R² of 0.73, indicates reasonable performance but is below that of the boosting and regression models.\n",
    "\n",
    "- **K-NN** and **SVM** present weaker results, with RMSE values of 32.32 and 47.87, and R² values of 0.65 and 0.23, respectively, suggesting these models fail to adequately capture the complexity of the data.\n",
    "\n",
    "- The **ARIMA** model ranks last, with an RMSE of 59.20 and an R² of -0.18, indicating poor performance on this dataset. This result suggests that, despite its popularity for time series forecasting, ARIMA is unsuitable for demand prediction in this specific context.\n",
    "\n",
    "**Implications for Decision-Making**\n",
    "\n",
    "The results provide clear guidance for decision-makers, highlighting that **Linear Regression** is the most effective model for predicting order demand. This allows the company to focus its efforts on optimizing and applying this model, enhancing accuracy in operational planning and ensuring that decisions are aligned with long-term business goals.\n",
    "\n",
    "# Final Conclusion\n",
    "\n",
    "This project has addressed the challenge of predicting the number of taxi orders per hour for Sweet Lift Taxi, with the aim of optimizing fleet management during peak hours. Throughout the process, the importance of prediction accuracy has been emphasized to improve the customer experience and maximize the company's operational efficiency.\n",
    "\n",
    "**Key Findings**\n",
    "\n",
    "1. **Data Loading and Preprocessing**: A thorough analysis of the historical dataset was performed, adjusting the time intervals to full hours to facilitate prediction. This step was crucial in ensuring data integrity and proper utilization in modeling.\n",
    "\n",
    "2. **Data Exploration**: Through initial exploration, relevant patterns and trends in taxi orders were identified, providing a solid foundation for developing predictive models. Data visualization helped recognize high-demand periods and correlations between different variables.\n",
    "\n",
    "3. **Model Training and Evaluation**: Several machine learning models were implemented, ranging from basic linear regression to more complex models like random forests and gradient boosting. The evaluation metric, RMSE, was used to measure each model's effectiveness, setting a target of not exceeding a value of 48 on the test set.\n",
    "\n",
    "4. **Hyperparameter Optimization**: Optimization processes were carried out to adjust model hyperparameters, thereby improving prediction accuracy. This step was essential for maximizing model performance and ensuring alignment with the company’s objectives.\n",
    "\n",
    "**Practical Implications**\n",
    "\n",
    "The selected model not only provides Sweet Lift Taxi with an effective tool for anticipating taxi demand, but also allows them to manage their fleet more efficiently, improving taxi availability during critical times. This can translate into greater customer satisfaction and increased profitability for drivers.\n",
    "\n",
    "**Future Directions**\n",
    "\n",
    "To further strengthen model accuracy, it is suggested to incorporate additional variables such as weather conditions, local events, and seasonal patterns, which could influence taxi demand. Furthermore, implementing a real-time system that adjusts the taxi supply based on predictions could be a crucial next step in optimizing Sweet Lift Taxi's operations.\n",
    "\n",
    "In conclusion, this project not only meets the objective of predicting taxi orders with a high degree of accuracy but also lays the foundation for future research and improvements in transportation services, adapting to the changing needs of the market."
   ]
  }
 ],
 "metadata": {
  "ExecuteTimeLog": [
   {
    "duration": 10,
    "start_time": "2024-10-27T01:39:49.503Z"
   },
   {
    "duration": 4281,
    "start_time": "2024-10-27T10:13:21.874Z"
   },
   {
    "duration": 0,
    "start_time": "2024-10-27T10:13:26.158Z"
   },
   {
    "duration": 24,
    "start_time": "2024-10-27T10:14:27.056Z"
   },
   {
    "duration": 11325,
    "start_time": "2024-10-27T10:15:40.290Z"
   },
   {
    "duration": 25,
    "start_time": "2024-10-27T10:18:22.090Z"
   },
   {
    "duration": 20,
    "start_time": "2024-10-27T10:19:13.174Z"
   },
   {
    "duration": 0,
    "start_time": "2024-10-27T10:22:12.565Z"
   },
   {
    "duration": 0,
    "start_time": "2024-10-27T10:22:12.567Z"
   },
   {
    "duration": 61556,
    "start_time": "2024-10-27T10:22:18.309Z"
   },
   {
    "duration": 676,
    "start_time": "2024-10-27T10:23:19.868Z"
   },
   {
    "duration": 681,
    "start_time": "2024-10-27T10:23:32.599Z"
   },
   {
    "duration": 614,
    "start_time": "2024-10-27T10:24:01.350Z"
   },
   {
    "duration": 101955,
    "start_time": "2024-10-27T10:24:46.301Z"
   },
   {
    "duration": 2032,
    "start_time": "2024-10-27T10:29:45.481Z"
   },
   {
    "duration": 33,
    "start_time": "2024-10-27T10:30:23.383Z"
   },
   {
    "duration": 123,
    "start_time": "2024-10-27T10:30:58.788Z"
   },
   {
    "duration": 475,
    "start_time": "2024-10-27T10:31:08.619Z"
   },
   {
    "duration": 112,
    "start_time": "2024-10-27T10:31:41.706Z"
   },
   {
    "duration": 68,
    "start_time": "2024-10-27T10:32:03.496Z"
   },
   {
    "duration": 1019,
    "start_time": "2024-10-27T10:33:10.633Z"
   },
   {
    "duration": 13,
    "start_time": "2024-10-27T10:33:18.968Z"
   },
   {
    "duration": 5,
    "start_time": "2024-10-27T10:33:22.993Z"
   },
   {
    "duration": 80521,
    "start_time": "2024-10-27T10:34:03.786Z"
   },
   {
    "duration": 0,
    "start_time": "2024-10-27T10:35:24.309Z"
   },
   {
    "duration": 5,
    "start_time": "2024-10-27T10:35:32.347Z"
   },
   {
    "duration": 63,
    "start_time": "2024-10-27T10:35:37.473Z"
   },
   {
    "duration": 869,
    "start_time": "2024-10-27T10:35:44.184Z"
   },
   {
    "duration": 12,
    "start_time": "2024-10-27T10:35:50.599Z"
   },
   {
    "duration": 5,
    "start_time": "2024-10-27T10:36:03.897Z"
   },
   {
    "duration": 498326,
    "start_time": "2024-10-27T10:36:06.389Z"
   },
   {
    "duration": 0,
    "start_time": "2024-10-27T10:44:24.717Z"
   },
   {
    "duration": 5,
    "start_time": "2024-10-27T10:45:46.713Z"
   },
   {
    "duration": 63,
    "start_time": "2024-10-27T10:45:54.716Z"
   },
   {
    "duration": 875,
    "start_time": "2024-10-27T10:46:07.375Z"
   },
   {
    "duration": 12,
    "start_time": "2024-10-27T10:46:18.362Z"
   },
   {
    "duration": 5,
    "start_time": "2024-10-27T10:46:46.456Z"
   },
   {
    "duration": 596876,
    "start_time": "2024-10-27T10:46:58.342Z"
   },
   {
    "duration": 10,
    "start_time": "2024-10-27T10:56:55.220Z"
   },
   {
    "duration": 22,
    "start_time": "2024-10-27T11:46:53.027Z"
   },
   {
    "duration": 4,
    "start_time": "2024-10-27T12:39:56.772Z"
   },
   {
    "duration": 4153,
    "start_time": "2024-10-27T13:43:23.795Z"
   },
   {
    "duration": 84,
    "start_time": "2024-10-27T13:43:27.950Z"
   },
   {
    "duration": 1009,
    "start_time": "2024-10-27T13:43:40.628Z"
   },
   {
    "duration": 13,
    "start_time": "2024-10-27T13:43:58.462Z"
   },
   {
    "duration": 5,
    "start_time": "2024-10-27T13:44:07.181Z"
   },
   {
    "duration": 588298,
    "start_time": "2024-10-27T13:44:15.555Z"
   },
   {
    "duration": 10,
    "start_time": "2024-10-27T13:54:03.855Z"
   },
   {
    "duration": 4171,
    "start_time": "2024-10-28T02:38:13.671Z"
   },
   {
    "duration": 85,
    "start_time": "2024-10-28T02:38:18.195Z"
   },
   {
    "duration": 1002,
    "start_time": "2024-10-28T02:38:30.636Z"
   },
   {
    "duration": 20,
    "start_time": "2024-10-28T02:38:48.170Z"
   },
   {
    "duration": 4302,
    "start_time": "2024-10-28T15:52:23.988Z"
   },
   {
    "duration": 97,
    "start_time": "2024-10-28T15:52:28.293Z"
   },
   {
    "duration": 978,
    "start_time": "2024-10-28T15:52:29.357Z"
   },
   {
    "duration": 20,
    "start_time": "2024-10-28T15:52:34.132Z"
   },
   {
    "duration": 4,
    "start_time": "2024-10-28T15:52:42.494Z"
   },
   {
    "duration": 22,
    "start_time": "2024-10-28T15:52:48.867Z"
   },
   {
    "duration": 16,
    "start_time": "2024-10-28T15:57:00.795Z"
   },
   {
    "duration": 5,
    "start_time": "2024-10-28T16:18:52.292Z"
   },
   {
    "duration": 68,
    "start_time": "2024-10-28T16:18:55.368Z"
   },
   {
    "duration": 973,
    "start_time": "2024-10-28T16:19:00.158Z"
   },
   {
    "duration": 21,
    "start_time": "2024-10-28T16:19:09.217Z"
   },
   {
    "duration": 4,
    "start_time": "2024-10-28T16:19:17.566Z"
   },
   {
    "duration": 22,
    "start_time": "2024-10-28T16:19:23.144Z"
   },
   {
    "duration": 24,
    "start_time": "2024-10-28T16:19:27.536Z"
   },
   {
    "duration": 5,
    "start_time": "2024-10-28T16:19:35.196Z"
   },
   {
    "duration": 580,
    "start_time": "2024-10-28T16:19:44.218Z"
   },
   {
    "duration": 20,
    "start_time": "2024-10-28T16:43:31.810Z"
   },
   {
    "duration": 4304,
    "start_time": "2024-10-28T17:12:19.667Z"
   },
   {
    "duration": 91,
    "start_time": "2024-10-28T17:12:23.973Z"
   },
   {
    "duration": 982,
    "start_time": "2024-10-28T17:12:31.941Z"
   },
   {
    "duration": 23,
    "start_time": "2024-10-28T17:13:04.645Z"
   },
   {
    "duration": 4,
    "start_time": "2024-10-28T17:13:16.336Z"
   },
   {
    "duration": 21,
    "start_time": "2024-10-28T17:13:19.534Z"
   },
   {
    "duration": 28,
    "start_time": "2024-10-28T17:13:26.687Z"
   },
   {
    "duration": 5,
    "start_time": "2024-10-28T17:13:36.331Z"
   },
   {
    "duration": 508568,
    "start_time": "2024-10-28T17:13:47.332Z"
   },
   {
    "duration": 0,
    "start_time": "2024-10-28T17:22:15.902Z"
   },
   {
    "duration": 4,
    "start_time": "2024-10-28T17:22:29.653Z"
   },
   {
    "duration": 64,
    "start_time": "2024-10-28T17:22:30.642Z"
   },
   {
    "duration": 1080,
    "start_time": "2024-10-28T17:22:31.832Z"
   },
   {
    "duration": 22,
    "start_time": "2024-10-28T17:22:33.554Z"
   },
   {
    "duration": 4,
    "start_time": "2024-10-28T17:22:34.650Z"
   },
   {
    "duration": 28,
    "start_time": "2024-10-28T17:22:35.356Z"
   },
   {
    "duration": 10,
    "start_time": "2024-10-28T17:22:36.129Z"
   },
   {
    "duration": 6,
    "start_time": "2024-10-28T17:22:37.481Z"
   },
   {
    "duration": 821900,
    "start_time": "2024-10-28T17:22:38.332Z"
   },
   {
    "duration": 11,
    "start_time": "2024-10-28T17:36:20.234Z"
   }
  ],
  "kernelspec": {
   "display_name": "Python 3 (ipykernel)",
   "language": "python",
   "name": "python3"
  },
  "language_info": {
   "codemirror_mode": {
    "name": "ipython",
    "version": 3
   },
   "file_extension": ".py",
   "mimetype": "text/x-python",
   "name": "python",
   "nbconvert_exporter": "python",
   "pygments_lexer": "ipython3",
   "version": "3.9.19"
  },
  "toc": {
   "base_numbering": 1,
   "nav_menu": {},
   "number_sections": true,
   "sideBar": true,
   "skip_h1_title": true,
   "title_cell": "Table of Contents",
   "title_sidebar": "Contents",
   "toc_cell": false,
   "toc_position": {},
   "toc_section_display": true,
   "toc_window_display": false
  }
 },
 "nbformat": 4,
 "nbformat_minor": 2
}
