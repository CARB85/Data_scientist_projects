{
 "cells": [
  {
   "cell_type": "markdown",
   "metadata": {},
   "source": [
    "# Development of a Prediction Model for Oil Well Selection at OilyGiant Company\n",
    "\n",
    "## General Objective\n",
    "\n",
    "The main objective of this analysis is to assess the economic viability of oil wells in three different regions using historical data. Through a linear regression model, the goal is to predict the volume of oil reserves and determine the profitability of each region based on the estimated reserves. Additionally, an analysis of potential earnings is performed and compared to a minimum required threshold to obtain profits.\n",
    "\n",
    "## Introduction\n",
    "\n",
    "This report describes the process and results of an analysis conducted for OilyGiant, a company involved in oil extraction. The objective is to select the best locations to open new oil wells in three different regions. Linear regression models will be used to predict the volume of oil reserves, and simulation techniques will be used to assess the risks and benefits of each region. The goal is to select the region that offers the highest economic benefit with an acceptable risk.\n",
    "\n",
    "# Table of Contents <a id='back'></a>\n",
    "\n",
    "* [1. Objective](#target)\n",
    "* [2. Introduction](#intro)\n",
    "* [3. Methodology](#methodology)\n",
    "    * [3.1 Data Preparation](#Loading_and_Exploring_Data)\n",
    "    * [3.2 Modeling](#modeling)\n",
    "* [4. Preparation for Profit Calculation](#Preparation_for_Profit_Calculation)\n",
    "* [5. Profit Calculation and Well Selection](#Profit_Calculation_and_Well_Selection)\n",
    "* [6. Calculation of Potential Earnings](#Calculation_of_Potential_Earnings)\n",
    "* [7. Risk and Gain Analysis Using Bootstrapping](#Risk_and_Gain_Analysis_Using_Bootstrapping)\n",
    "* [8. General Conclusions](#General_Conclusions)\n",
    "* [9. General Recommendations](#General_Recommendations)\n",
    "\n",
    "## Methodology\n",
    "\n",
    "### Data Preparation\n",
    "Description of the Method:\n",
    "\n",
    "The data from the three regions where new oil wells are planned to be explored and opened are loaded and prepared. The characteristics of the data are analyzed, and the presence of missing values is checked.\n",
    "\n",
    "Code:"
   ]
  },
  {
   "cell_type": "code",
   "execution_count": 7,
   "metadata": {},
   "outputs": [
    {
     "name": "stdout",
     "output_type": "stream",
     "text": [
      "Información del DataFrame desde /datasets/geo_data_0.csv:\n",
      "<class 'pandas.core.frame.DataFrame'>\n",
      "RangeIndex: 100000 entries, 0 to 99999\n",
      "Data columns (total 5 columns):\n",
      " #   Column   Non-Null Count   Dtype  \n",
      "---  ------   --------------   -----  \n",
      " 0   id       100000 non-null  object \n",
      " 1   f0       100000 non-null  float64\n",
      " 2   f1       100000 non-null  float64\n",
      " 3   f2       100000 non-null  float64\n",
      " 4   product  100000 non-null  float64\n",
      "dtypes: float64(4), object(1)\n",
      "memory usage: 3.8+ MB\n",
      "None\n",
      "\n",
      "Primeras 5 filas:\n",
      "      id        f0        f1        f2     product\n",
      "0  txEyH  0.705745 -0.497823  1.221170  105.280062\n",
      "1  2acmU  1.334711 -0.340164  4.365080   73.037750\n",
      "2  409Wp  1.022732  0.151990  1.419926   85.265647\n",
      "3  iJLyR -0.032172  0.139033  2.978566  168.620776\n",
      "4  Xdl7t  1.988431  0.155413  4.751769  154.036647\n",
      "\n",
      "Conteo de valores nulos por columna:\n",
      "id         0\n",
      "f0         0\n",
      "f1         0\n",
      "f2         0\n",
      "product    0\n",
      "dtype: int64\n",
      "\n",
      "Descripción estadística:\n",
      "                  f0             f1             f2        product\n",
      "count  100000.000000  100000.000000  100000.000000  100000.000000\n",
      "mean        0.500419       0.250143       2.502647      92.500000\n",
      "std         0.871832       0.504433       3.248248      44.288691\n",
      "min        -1.408605      -0.848218     -12.088328       0.000000\n",
      "25%        -0.072580      -0.200881       0.287748      56.497507\n",
      "50%         0.502360       0.250252       2.515969      91.849972\n",
      "75%         1.073581       0.700646       4.715088     128.564089\n",
      "max         2.362331       1.343769      16.003790     185.364347\n",
      "\n",
      "--------------------------------------------------------------------------------------------------------\n",
      "Información del DataFrame desde /datasets/geo_data_1.csv:\n",
      "<class 'pandas.core.frame.DataFrame'>\n",
      "RangeIndex: 100000 entries, 0 to 99999\n",
      "Data columns (total 5 columns):\n",
      " #   Column   Non-Null Count   Dtype  \n",
      "---  ------   --------------   -----  \n",
      " 0   id       100000 non-null  object \n",
      " 1   f0       100000 non-null  float64\n",
      " 2   f1       100000 non-null  float64\n",
      " 3   f2       100000 non-null  float64\n",
      " 4   product  100000 non-null  float64\n",
      "dtypes: float64(4), object(1)\n",
      "memory usage: 3.8+ MB\n",
      "None\n",
      "\n",
      "Primeras 5 filas:\n",
      "      id         f0         f1        f2     product\n",
      "0  kBEdx -15.001348  -8.276000 -0.005876    3.179103\n",
      "1  62mP7  14.272088  -3.475083  0.999183   26.953261\n",
      "2  vyE1P   6.263187  -5.948386  5.001160  134.766305\n",
      "3  KcrkZ -13.081196 -11.506057  4.999415  137.945408\n",
      "4  AHL4O  12.702195  -8.147433  5.004363  134.766305\n",
      "\n",
      "Conteo de valores nulos por columna:\n",
      "id         0\n",
      "f0         0\n",
      "f1         0\n",
      "f2         0\n",
      "product    0\n",
      "dtype: int64\n",
      "\n",
      "Descripción estadística:\n",
      "                  f0             f1             f2        product\n",
      "count  100000.000000  100000.000000  100000.000000  100000.000000\n",
      "mean        1.141296      -4.796579       2.494541      68.825000\n",
      "std         8.965932       5.119872       1.703572      45.944423\n",
      "min       -31.609576     -26.358598      -0.018144       0.000000\n",
      "25%        -6.298551      -8.267985       1.000021      26.953261\n",
      "50%         1.153055      -4.813172       2.011479      57.085625\n",
      "75%         8.621015      -1.332816       3.999904     107.813044\n",
      "max        29.421755      18.734063       5.019721     137.945408\n",
      "\n",
      "--------------------------------------------------------------------------------------------------------\n",
      "Información del DataFrame desde /datasets/geo_data_2.csv:\n",
      "<class 'pandas.core.frame.DataFrame'>\n",
      "RangeIndex: 100000 entries, 0 to 99999\n",
      "Data columns (total 5 columns):\n",
      " #   Column   Non-Null Count   Dtype  \n",
      "---  ------   --------------   -----  \n",
      " 0   id       100000 non-null  object \n",
      " 1   f0       100000 non-null  float64\n",
      " 2   f1       100000 non-null  float64\n",
      " 3   f2       100000 non-null  float64\n",
      " 4   product  100000 non-null  float64\n",
      "dtypes: float64(4), object(1)\n",
      "memory usage: 3.8+ MB\n",
      "None\n",
      "\n",
      "Primeras 5 filas:\n",
      "      id        f0        f1        f2     product\n",
      "0  fwXo0 -1.146987  0.963328 -0.828965   27.758673\n",
      "1  WJtFt  0.262778  0.269839 -2.530187   56.069697\n",
      "2  ovLUW  0.194587  0.289035 -5.586433   62.871910\n",
      "3  q6cA6  2.236060 -0.553760  0.930038  114.572842\n",
      "4  WPMUX -0.515993  1.716266  5.899011  149.600746\n",
      "\n",
      "Conteo de valores nulos por columna:\n",
      "id         0\n",
      "f0         0\n",
      "f1         0\n",
      "f2         0\n",
      "product    0\n",
      "dtype: int64\n",
      "\n",
      "Descripción estadística:\n",
      "                  f0             f1             f2        product\n",
      "count  100000.000000  100000.000000  100000.000000  100000.000000\n",
      "mean        0.002023      -0.002081       2.495128      95.000000\n",
      "std         1.732045       1.730417       3.473445      44.749921\n",
      "min        -8.760004      -7.084020     -11.970335       0.000000\n",
      "25%        -1.162288      -1.174820       0.130359      59.450441\n",
      "50%         0.009424      -0.009482       2.484236      94.925613\n",
      "75%         1.158535       1.163678       4.858794     130.595027\n",
      "max         7.238262       7.844801      16.739402     190.029838\n",
      "\n",
      "--------------------------------------------------------------------------------------------------------\n"
     ]
    }
   ],
   "source": [
    "import pandas as pd\n",
    "from sklearn.model_selection import train_test_split\n",
    "from sklearn.linear_model import LinearRegression\n",
    "from sklearn.metrics import mean_squared_error\n",
    "import numpy as np\n",
    "import matplotlib.pyplot as plt\n",
    "from sklearn.utils import resample\n",
    "from numpy.random import RandomState\n",
    "import os\n",
    "\n",
    "# Define the random state\n",
    "state = np.random.RandomState(12345)\n",
    "\n",
    "# File paths\n",
    "data_path = '/datasets'\n",
    "\n",
    "# Load the data\n",
    "file_names = ['geo_data_0.csv', 'geo_data_1.csv', 'geo_data_2.csv']\n",
    "dfs = []\n",
    "\n",
    "for file_name in file_names:\n",
    "    file_path = f\"{data_path}/{file_name}\"\n",
    "    df = pd.read_csv(file_path)\n",
    "    \n",
    "    # DataFrame information\n",
    "    print(f\"Información del DataFrame desde {file_path}:\")\n",
    "    print(df.info())\n",
    "    print(\"\\nPrimeras 5 filas:\")\n",
    "    print(df.head())\n",
    "    \n",
    "    # Count of null values\n",
    "    print(\"\\nConteo de valores nulos por columna:\")\n",
    "    print(df.isna().sum())\n",
    "    \n",
    "    # Statistical description\n",
    "    print(\"\\nDescripción estadística:\")\n",
    "    print(df.describe())\n",
    "    \n",
    "    print(\"\\n--------------------------------------------------------------------------------------------------------\")\n",
    "    \n",
    "    dfs.append(df)\n"
   ]
  },
  {
   "cell_type": "markdown",
   "metadata": {},
   "source": [
    "* The data from the three regions were loaded correctly.\n",
    "* No null values were found in any of the columns.\n",
    "* The statistical description shows that the three features (f0, f1, f2) and the target variable (product) have consistent ranges.\n",
    "\n",
    "The three DataFrames, geo_data_0, geo_data_1, and geo_data_2, share a similar structure and consist of the following elements:\n",
    "\n",
    "Number of entries: Each DataFrame has 100,000 rows, with indices ranging from 0 to 99,999.\n",
    "\n",
    "Columns: Each DataFrame contains 5 columns:\n",
    "\n",
    "* id: This is an object-type column, likely storing unique identifiers for the oil wells.\n",
    "* f0, f1, f2: These are float64-type columns containing numerical features of the points. Although the exact meaning of these features is not specified, they are important for analysis.\n",
    "* product: This is another float64-type column representing the volume of reserves in the oil well, measured in thousands of barrels.\n",
    "* Null values: There are no null values in any of the columns of the three DataFrames, indicating that the data is complete.\n",
    "\n",
    "Memory usage: Each DataFrame takes up approximately 3.8 MB of memory.\n",
    "\n",
    "This information describes the structure and data types of each DataFrame, which is useful for understanding the content before performing any analysis.\n",
    "\n",
    "### Modeling\n",
    "\n",
    "Linear regression models are trained using the data from each region to predict the oil reserve volume.\n",
    "\n",
    "Code:"
   ]
  },
  {
   "cell_type": "code",
   "execution_count": 8,
   "metadata": {},
   "outputs": [
    {
     "name": "stdout",
     "output_type": "stream",
     "text": [
      "\n",
      "Resultados para Región 0:\n",
      "RMSE: 37.5794217150813\n",
      "Volumen medio de reservas predicho: 92.59256778438035\n",
      "\n",
      "Resultados para Región 1:\n",
      "RMSE: 0.889736773768065\n",
      "Volumen medio de reservas predicho: 68.76995145799754\n",
      "\n",
      "Resultados para Región 2:\n",
      "RMSE: 39.958042459521614\n",
      "Volumen medio de reservas predicho: 95.087528122523\n"
     ]
    }
   ],
   "source": [
    "# Define function to train and evaluate the model\n",
    "def train_and_evaluate(df, region_name):\n",
    "    features = df[['f0', 'f1', 'f2']]\n",
    "    target = df['product']\n",
    "    \n",
    "    X_train, X_test, y_train, y_test = train_test_split(features, target, test_size=0.25, random_state=state)\n",
    "    \n",
    "    model = LinearRegression()\n",
    "    model.fit(X_train, y_train)\n",
    "    \n",
    "    predictions = model.predict(X_test)\n",
    "    \n",
    "    rmse = mean_squared_error(y_test, predictions, squared=False)\n",
    "    mean_prediction = predictions.mean()\n",
    "    \n",
    "    print(f\"\\nResultados para {region_name}:\")\n",
    "    print(f\"RMSE: {rmse}\")\n",
    "    print(f\"Volumen medio de reservas predicho: {mean_prediction}\")\n",
    "\n",
    "# Evaluate models in each region\n",
    "regions = ['Región 0', 'Región 1', 'Región 2']\n",
    "for i, df in enumerate(dfs):\n",
    "    train_and_evaluate(df, regions[i])\n"
   ]
  },
  {
   "cell_type": "markdown",
   "metadata": {},
   "source": [
    "* The linear regression models were trained for the three regions.\n",
    "* The RMSE and the predicted average booking volume for each region were obtained, providing an initial idea of the model's accuracy.\n",
    "\n",
    "## Preparation for Profit Calculation\n",
    "\n",
    "The necessary variables are prepared to calculate potential profits, considering the expected costs and benefits.\n",
    "\n",
    "Code:"
   ]
  },
  {
   "cell_type": "code",
   "execution_count": 9,
   "metadata": {},
   "outputs": [
    {
     "name": "stdout",
     "output_type": "stream",
     "text": [
      "Unidades requeridas por pozo para evitar pérdidas: 500.00\n",
      "Región 0: Media de reservas = 92.40, Rentable: False\n",
      "Región 1: Media de reservas = 68.71, Rentable: False\n",
      "Región 2: Media de reservas = 94.77, Rentable: False\n"
     ]
    }
   ],
   "source": [
    "# Store the necessary values for calculations in separate variables\n",
    "total_investment = 100_000_000                               # Total investment in dollars\n",
    "number_of_wells = 200                                        # Number of oil wells\n",
    "required_value_per_well = 500_000                            # Minimum required value per well in dollars\n",
    "required_units_per_well = required_value_per_well / 1000     # Equivalent units required (in thousand barrels)\n",
    "\n",
    "# Previously calculated average reserves in each region\n",
    "mean_reserves_region_0 = 92.39879990657768  # Average reserves in Region 0\n",
    "mean_reserves_region_1 = 68.71287803913762  # Average reserves in Region 1\n",
    "mean_reserves_region_2 = 94.77102387765939  # Average reserves in Region 2\n",
    "\n",
    "# Compare the required amount with the average reserve amount in each region\n",
    "is_profitable_region_0 = mean_reserves_region_0 >= required_units_per_well\n",
    "is_profitable_region_1 = mean_reserves_region_1 >= required_units_per_well\n",
    "is_profitable_region_2 = mean_reserves_region_2 >= required_units_per_well\n",
    "\n",
    "# Show the results\n",
    "print(f\"Unidades requeridas por pozo para evitar pérdidas: {required_units_per_well:.2f}\")\n",
    "print(f\"Región 0: Media de reservas = {mean_reserves_region_0:.2f}, Rentable: {is_profitable_region_0}\")\n",
    "print(f\"Región 1: Media de reservas = {mean_reserves_region_1:.2f}, Rentable: {is_profitable_region_1}\")\n",
    "print(f\"Región 2: Media de reservas = {mean_reserves_region_2:.2f}, Rentable: {is_profitable_region_2}\")\n"
   ]
  },
  {
   "cell_type": "markdown",
   "metadata": {},
   "source": [
    "Region 0 and Region 2 have average reserves that exceed the required units per well to avoid losses, while Region 1 is not profitable according to these preliminary calculations.\n",
    "\n",
    "## Profit Calculation and Well Selection\n",
    "\n",
    "We select the 200 wells with the highest reserve predictions in each region, and the actual profit is calculated based on the real production data."
   ]
  },
  {
   "cell_type": "code",
   "execution_count": 10,
   "metadata": {},
   "outputs": [
    {
     "name": "stdout",
     "output_type": "stream",
     "text": [
      "Región Región 0: Ganancia para los 200 mejores pozos = $135,063,765.30\n",
      "Región Región 1: Ganancia para los 200 mejores pozos = $124,150,866.97\n",
      "Región Región 2: Ganancia para los 200 mejores pozos = $125,714,106.32\n"
     ]
    }
   ],
   "source": [
    "# Define function to train the model and make predictions\n",
    "def train_and_predict(df, region_name, value_per_unit):\n",
    "    features = df[['f0', 'f1', 'f2']]\n",
    "    target = df['product']\n",
    "    \n",
    "    # Split data into training and testing sets\n",
    "    X_train, X_test, y_train, y_test = train_test_split(features, target, test_size=0.25, random_state=state)\n",
    "    \n",
    "    # Train the linear regression model\n",
    "    model = LinearRegression()\n",
    "    model.fit(X_train, y_train)\n",
    "    \n",
    "    # Predict the reserve volume\n",
    "    df['predicted_product'] = model.predict(features)\n",
    "    \n",
    "    # Select the 200 wells with the highest prediction\n",
    "    top_200 = df.sort_values(by = 'predicted_product', ascending=False).head(200)\n",
    "    \n",
    "    # Calculate the actual profit based on these wells\n",
    "    real_gain = top_200['product'].sum() * value_per_unit\n",
    "    \n",
    "    print(f\"Región {region_name}: Ganancia para los 200 mejores pozos = ${real_gain:,.2f}\")\n",
    "    \n",
    "    return top_200, real_gain\n",
    "\n",
    "# Define the value per reserve unit in dollars\n",
    "value_per_unit = 4500  # Value in dollars per unit (thousand barrels)\n",
    "\n",
    "# Store the dataframes with the top 200 wells and their profits\n",
    "top_200_dfs = []\n",
    "real_gains = []\n",
    "regions = ['Región 0', 'Región 1', 'Región 2']\n",
    "\n",
    "for i, df in enumerate(dfs):\n",
    "    top_200, real_gain = train_and_predict(df, regions[i], value_per_unit)\n",
    "    top_200_dfs.append(top_200)\n",
    "    real_gains.append(real_gain)\n"
   ]
  },
  {
   "cell_type": "markdown",
   "metadata": {},
   "source": [
    "Region with Highest Profit:\n",
    "\n",
    "* Region 0 presents the highest potential profit with 134,923,324.80 by selecting the 200 wells with the highest predictions. This suggests that, based on the predictions, this region could be the most profitable in absolute terms.\n",
    "\n",
    "Region with Lowest Profit:\n",
    "\n",
    "* Region 1 has the lowest profit among the three regions, with 124,150,866.97. While still significant, it is lower compared to the other regions.\n",
    "\n",
    "## Calculation of Potential Profits\n",
    "\n",
    "Calculate the potential profits from drilling the top 200 wells in each region, comparing projected profits with the minimum required investment to determine profitability."
   ]
  },
  {
   "cell_type": "code",
   "execution_count": 11,
   "metadata": {},
   "outputs": [
    {
     "name": "stdout",
     "output_type": "stream",
     "text": [
      "\n",
      "Ganancia mínima necesaria para obtener beneficios: $100,000,000.00\n",
      "\n",
      "Comparación de ganancias potenciales con la ganancia mínima requerida:\n",
      "Región 0: Ganancia potencial ($146,882,990.54) es SUFICIENTE para obtener beneficios.\n",
      "Región 1: Ganancia potencial ($125,240,470.12) es SUFICIENTE para obtener beneficios.\n",
      "Región 2: Ganancia potencial ($140,881,633.15) es SUFICIENTE para obtener beneficios.\n"
     ]
    }
   ],
   "source": [
    "# Minimum required profit to generate benefits\n",
    "min_gain_needed = total_investment\n",
    "print(f\"\\nGanancia mínima necesaria para obtener beneficios: ${min_gain_needed:,.2f}\")\n",
    "\n",
    "# Calculate the potential profits of the predictions for each region\n",
    "print(\"\\nComparación de ganancias potenciales con la ganancia mínima requerida:\")\n",
    "for i, df in enumerate(top_200_dfs):\n",
    "    potential_gain = df['predicted_product'].sum() * value_per_unit\n",
    "    if potential_gain >= min_gain_needed:\n",
    "        print(f\"Región {i}: Ganancia potencial (${potential_gain:,.2f}) es SUFICIENTE para obtener beneficios.\")\n",
    "    else:\n",
    "        print(f\"Región {i}: Ganancia potencial (${potential_gain:,.2f}) NO es suficiente para obtener beneficios.\")\n"
   ]
  },
  {
   "cell_type": "markdown",
   "metadata": {},
   "source": [
    "Potential Gains Summary:\n",
    "\n",
    "* Minimum gain required to obtain profits: 100,000,000.00\n",
    "\n",
    "Comparison of Potential Gains with the Minimum Required Investment:\n",
    "\n",
    "* Region 0:\n",
    "\n",
    "    * Potential gain: 146,934,218.00\n",
    "\n",
    "Conclusion: The potential gain is sufficient to obtain profits, far exceeding the minimum required investment.\n",
    "\n",
    "* Region 1:\n",
    "\n",
    "    * Potential gain: 125,246,441.83\n",
    "\n",
    "Conclusion: The potential gain is sufficient to obtain profits, also exceeding the minimum required investment.\n",
    "\n",
    "* Region 2:\n",
    "\n",
    "    * Potential gain: 140,892,554.34\n",
    "\n",
    "Conclusion: The potential gain is sufficient to obtain profits, surpassing the minimum required investment.\n",
    "\n",
    "Conclusions:\n",
    "\n",
    "Guaranteed Profitability:\n",
    "\n",
    "* All evaluated regions have potential gains that significantly exceed the minimum required investment to obtain profits. This suggests that drilling the 200 best wells in each region would be profitable according to projections.\n",
    "\n",
    "Comparison Between Regions:\n",
    "\n",
    "* Region 0 has the highest potential gain (146,934,218.00), followed by Region 2 (140,892,554.34) and Region 1 (125,246,441.83). While all regions are profitable, Region 0 presents the largest profit margin.\n",
    "\n",
    "Strategic Assessment:\n",
    "\n",
    "* Since all regions exceed the minimum required investment, the decision to drill should consider other factors such as investment cost, associated risks, and the bootstrapping analysis to ensure long-term profitability and reduce uncertainty.\n",
    "\n",
    "Next Steps:\n",
    "\n",
    "* It is recommended to proceed with a detailed risk analysis and continue with the bootstrapping analysis to gain a more comprehensive and accurate view of the viability and potential loss risks, complementing decisions based on projected profits.\n",
    "\n",
    "## Risk and Gain Analysis Using Bootstrapping\n",
    "\n",
    "The bootstrapping technique is used to calculate potential gains and assess the associated risks.\n",
    "\n",
    "Code:"
   ]
  },
  {
   "cell_type": "code",
   "execution_count": 12,
   "metadata": {},
   "outputs": [
    {
     "name": "stdout",
     "output_type": "stream",
     "text": [
      "\n",
      "Resultados de bootstrapping para la Región 0:\n",
      "Media de ganancias: $4,198,972.42\n",
      "Desviación estándar de ganancias: $2,569,124.55\n",
      "Riesgo de pérdida (ganancia negativa): 5.10%\n",
      "\n",
      "Resultados de bootstrapping para la Región 1:\n",
      "Media de ganancias: $4,538,773.17\n",
      "Desviación estándar de ganancias: $2,043,271.73\n",
      "Riesgo de pérdida (ganancia negativa): 1.40%\n",
      "\n",
      "Resultados de bootstrapping para la Región 2:\n",
      "Media de ganancias: $3,698,560.93\n",
      "Desviación estándar de ganancias: $2,465,003.14\n",
      "Riesgo de pérdida (ganancia negativa): 6.40%\n"
     ]
    },
    {
     "data": {
      "image/png": "[encoded data removed]",
      "text/plain": [
       "<Figure size 1000x600 with 1 Axes>"
      ]
     },
     "metadata": {},
     "output_type": "display_data"
    },
    {
     "data": {
      "image/png": "[encoded data removed]",
      "text/plain": [
       "<Figure size 1000x600 with 1 Axes>"
      ]
     },
     "metadata": {},
     "output_type": "display_data"
    },
    {
     "data": {
      "image/png": "[encoded data removed]",
      "text/plain": [
       "<Figure size 1000x600 with 1 Axes>"
      ]
     },
     "metadata": {},
     "output_type": "display_data"
    }
   ],
   "source": [
    "# Calculate potential profit using the bootstrapping approach\n",
    "def bootstrap_gains(df, n_samples, value_per_unit, total_investment):\n",
    "    bootstrap_gains = []\n",
    "    for _ in range(n_samples):\n",
    "        # Select 500 random wells with replacement\n",
    "        sample_500 = resample(df, n_samples=500, replace=True, random_state=state)\n",
    "        \n",
    "        # Select the 200 wells with the highest prediction within the 500 selected\n",
    "        top_200 = sample_500.sort_values(by='predicted_product', ascending=False).head(200)\n",
    "        \n",
    "        # Calculate the actual profit based on the 200 selected wells\n",
    "        total_volume = top_200['product'].sum()\n",
    "        potential_gain = total_volume * value_per_unit\n",
    "        \n",
    "        # Subtract the initial investment to get the net profit\n",
    "        net_gain = potential_gain - total_investment\n",
    "        \n",
    "        # Add the net profit to the results list\n",
    "        bootstrap_gains.append(net_gain)\n",
    "        \n",
    "    return bootstrap_gains\n",
    "\n",
    "# Number of samples for bootstrapping\n",
    "n_samples = 1000\n",
    "\n",
    "# Calculate potential profits using the bootstrapping approach for each region\n",
    "bootstrap_results = []\n",
    "for i in range(3):\n",
    "    bootstrap_sample_gains = bootstrap_gains(dfs[i], n_samples, value_per_unit, total_investment)\n",
    "    bootstrap_results.append(bootstrap_sample_gains)\n",
    "    print(f\"\\nResultados de bootstrapping para la Región {i}:\")\n",
    "    print(f\"Media de ganancias: ${np.mean(bootstrap_sample_gains):,.2f}\")\n",
    "    print(f\"Desviación estándar de ganancias: ${np.std(bootstrap_sample_gains):,.2f}\")\n",
    "    print(f\"Riesgo de pérdida (ganancia negativa): {np.mean(np.array(bootstrap_sample_gains) < 0) * 100:.2f}%\")\n",
    "\n",
    "# Show the bootstrapping results summary\n",
    "for i, results in enumerate(bootstrap_results):\n",
    "    plt.figure(figsize=(10, 6))\n",
    "    plt.hist(results, bins=30, alpha=0.7)\n",
    "    plt.title(f\"Distribución de ganancias potenciales en la Región {i} (Bootstrapping)\")\n",
    "    plt.xlabel(\"Ganancia Potencial ($)\")\n",
    "    plt.ylabel(\"Frecuencia\")\n",
    "    plt.grid(True)\n",
    "    plt.show()\n",
    "\n"
   ]
  },
  {
   "cell_type": "markdown",
   "metadata": {},
   "source": [
    "### Consistent Profitability:\n",
    "\n",
    "* The three regions show an average potential profit significantly higher than the initial investment, with average values ranging from approximately $3.7 million to $4.5 million. This indicates a positive projected return for drilling the selected wells in each region.\n",
    "\n",
    "### Low Risk of Loss:\n",
    "\n",
    "* The risk of loss varies between regions, with Region 0 showing 5.10%, Region 1 at 1.40%, and Region 2 at 6.40%. This suggests that while most cases are expected to yield a profit, there are scenarios where net profits could be negative, especially in Regions 0 and 2.\n",
    "\n",
    "### Standard Deviation:\n",
    "\n",
    "* The standard deviation of profits ranges from $2.0 million to $2.6 million, reflecting the variability in potential profits. While the risk of loss is low, the variability in profits indicates uncertainty regarding the exact magnitude of the returns.\n",
    "\n",
    "### Profit Distribution:\n",
    "\n",
    "* The distribution of potential profits for each region should be visualized through histograms. These charts will provide a detailed view of the variability and density of potential profits, helping to better understand the expected range of profits.\n",
    "\n",
    "### Further Evaluation:\n",
    "\n",
    "* Despite mostly positive results, it is recommended to consider other variables and potential risks that were not modeled in this analysis. Evaluating the market context, operational costs, and other factors could provide a more complete picture of the investment's feasibility and associated risk.\n",
    "\n",
    "### Next Steps:\n",
    "\n",
    "Review the model's stability and the bootstrapping process:\n",
    "\n",
    "* Ensure that the prediction model and the bootstrapping process are properly implemented and adequately represent variability and uncertainty.\n",
    "\n",
    "Consider additional analyses:\n",
    "\n",
    "* Complement the analysis with external factors and region-specific risks, such as market changes or operational costs, for a more comprehensive evaluation.\n",
    "\n",
    "## General Conclusions\n",
    "\n",
    "### Data Quality:\n",
    "\n",
    "* Data from the three regions was loaded and analyzed correctly. No missing values were found, and descriptive statistics indicate that the data has consistent ranges and distributions.\n",
    "* Data preparation did not show significant issues, allowing subsequent analysis to proceed without the need for further data cleaning.\n",
    "\n",
    "### Model Performance:\n",
    "\n",
    "* The linear regression models trained for each region yielded varied results in terms of RMSE (Root Mean Squared Error). Region 1 showed the best performance in terms of the lowest RMSE, followed by Region 0 and then Region 2.\n",
    "* Predictions of the average volume of reserves were useful for identifying the regions with the highest and lowest economic potential.\n",
    "\n",
    "### Profitability Analysis:\n",
    "\n",
    "* Region 0 and Region 2 have reserve averages that exceed the required units per well to avoid losses, while Region 1 is not profitable based on these preliminary calculations. However, by selecting the 200 wells with the highest reserve predictions, Region 0 demonstrated the highest potential profit ($146,934,218.00), followed by Region 2 ($140,892,554.34), and then Region 1 ($125,246,441.83).\n",
    "\n",
    "### Comparison of Potential Profits:\n",
    "\n",
    "* Comparing projected potential profits with the minimum required investment ($100,000,000.00) shows that all regions have sufficient potential profit to cover the investment and generate returns. Region 0 showed the highest absolute potential profit, suggesting that it could be the most profitable option for opening new oil wells.\n",
    "\n",
    "## General Recommendations\n",
    "\n",
    "### Model Review and Adjustment:\n",
    "\n",
    "* Although the linear regression model provided valuable insights, it is recommended to explore additional models and cross-validation techniques to improve prediction accuracy. Considering the inclusion of additional variables or transformations in the data could better capture the relationships between features and reserve volume.\n",
    "\n",
    "### Well Selection:\n",
    "\n",
    "* In the well selection phase, it is crucial to use the model's predictions to identify the wells with the highest potential. However, it is also important to consider other operational and cost factors in the final well selection.\n",
    "\n",
    "### Continuous Monitoring:\n",
    "\n",
    "* Perform continuous monitoring and update the models as new data is obtained or market conditions change. This will help maintain the relevance and accuracy of the predictions.\n",
    "\n",
    "### Strategic Considerations:\n",
    "\n",
    "* Given that Region 0 shows the highest potential for profit, it may be prioritized for the opening of new wells. However, logistical, operational, and strategic factors should also be considered in the final decision-making process.\n",
    "\n",
    "In summary, the analysis provides a clear view of the regions with the highest economic potential based on estimated oil reserves. Region 0 emerges as the most profitable option, but it is crucial to complement this analysis with further evaluations and strategies to ensure long-term economic viability."
   ]
  }
 ],
 "metadata": {
  "ExecuteTimeLog": [
   {
    "duration": 8,
    "start_time": "2024-08-28T22:06:29.703Z"
   },
   {
    "duration": 827,
    "start_time": "2024-08-28T22:09:55.555Z"
   },
   {
    "duration": 636,
    "start_time": "2024-08-28T23:35:31.522Z"
   },
   {
    "duration": 308,
    "start_time": "2024-08-28T23:36:09.220Z"
   },
   {
    "duration": 322,
    "start_time": "2024-08-28T23:39:04.519Z"
   },
   {
    "duration": 192,
    "start_time": "2024-08-28T23:39:07.872Z"
   },
   {
    "duration": 1435,
    "start_time": "2024-08-29T01:15:08.449Z"
   },
   {
    "duration": 101,
    "start_time": "2024-08-29T01:15:37.843Z"
   },
   {
    "duration": 508,
    "start_time": "2024-08-29T01:16:13.634Z"
   },
   {
    "duration": 409,
    "start_time": "2024-08-29T01:16:39.367Z"
   },
   {
    "duration": 116,
    "start_time": "2024-08-29T01:17:29.124Z"
   },
   {
    "duration": 6,
    "start_time": "2024-08-29T01:19:08.567Z"
   },
   {
    "duration": 472,
    "start_time": "2024-08-29T01:20:20.357Z"
   },
   {
    "duration": 371,
    "start_time": "2024-08-29T01:20:42.114Z"
   },
   {
    "duration": 74,
    "start_time": "2024-08-29T01:20:45.354Z"
   },
   {
    "duration": 4,
    "start_time": "2024-08-29T01:20:52.621Z"
   },
   {
    "duration": 46,
    "start_time": "2024-08-29T01:20:56.355Z"
   },
   {
    "duration": 88,
    "start_time": "2024-08-29T01:23:53.961Z"
   },
   {
    "duration": 56,
    "start_time": "2024-08-29T01:25:20.506Z"
   },
   {
    "duration": 35,
    "start_time": "2024-08-29T01:27:33.259Z"
   },
   {
    "duration": 331,
    "start_time": "2024-08-29T01:28:32.745Z"
   },
   {
    "duration": 115,
    "start_time": "2024-08-29T01:28:33.320Z"
   },
   {
    "duration": 5,
    "start_time": "2024-08-29T01:28:34.896Z"
   },
   {
    "duration": 74,
    "start_time": "2024-08-29T01:28:37.026Z"
   },
   {
    "duration": 33,
    "start_time": "2024-08-29T01:28:43.615Z"
   },
   {
    "duration": 33,
    "start_time": "2024-08-29T01:30:45.079Z"
   },
   {
    "duration": 2285,
    "start_time": "2024-08-29T01:30:54.474Z"
   },
   {
    "duration": 181,
    "start_time": "2024-08-29T01:30:56.761Z"
   },
   {
    "duration": 77,
    "start_time": "2024-08-29T01:30:56.947Z"
   },
   {
    "duration": 72,
    "start_time": "2024-08-29T01:30:58.374Z"
   },
   {
    "duration": 16674,
    "start_time": "2024-08-29T01:31:02.529Z"
   },
   {
    "duration": 504,
    "start_time": "2024-08-29T01:33:58.772Z"
   },
   {
    "duration": 72,
    "start_time": "2024-08-29T01:47:09.350Z"
   },
   {
    "duration": 3108,
    "start_time": "2024-08-29T13:08:46.394Z"
   },
   {
    "duration": 150,
    "start_time": "2024-08-29T13:08:52.435Z"
   },
   {
    "duration": 5,
    "start_time": "2024-08-29T13:08:55.934Z"
   },
   {
    "duration": 79,
    "start_time": "2024-08-29T13:09:01.637Z"
   },
   {
    "duration": 80,
    "start_time": "2024-08-29T13:09:07.199Z"
   },
   {
    "duration": 14,
    "start_time": "2024-08-29T13:09:16.688Z"
   },
   {
    "duration": 14764,
    "start_time": "2024-08-29T13:09:26.665Z"
   },
   {
    "duration": 484,
    "start_time": "2024-08-29T13:09:41.431Z"
   },
   {
    "duration": 859,
    "start_time": "2024-08-29T13:11:19.920Z"
   },
   {
    "duration": 320,
    "start_time": "2024-08-29T13:27:40.361Z"
   },
   {
    "duration": 43,
    "start_time": "2024-08-29T13:27:41.048Z"
   },
   {
    "duration": 4,
    "start_time": "2024-08-29T13:27:41.771Z"
   },
   {
    "duration": 73,
    "start_time": "2024-08-29T13:27:42.450Z"
   },
   {
    "duration": 76,
    "start_time": "2024-08-29T13:27:43.117Z"
   },
   {
    "duration": 13,
    "start_time": "2024-08-29T13:27:43.464Z"
   },
   {
    "duration": 872,
    "start_time": "2024-08-29T13:27:44.153Z"
   },
   {
    "duration": 505,
    "start_time": "2024-08-29T13:27:45.027Z"
   },
   {
    "duration": 304,
    "start_time": "2024-08-29T13:37:27.841Z"
   },
   {
    "duration": 51,
    "start_time": "2024-08-29T13:37:33.626Z"
   },
   {
    "duration": 5,
    "start_time": "2024-08-29T13:37:38.377Z"
   },
   {
    "duration": 71,
    "start_time": "2024-08-29T13:37:44.451Z"
   },
   {
    "duration": 82,
    "start_time": "2024-08-29T13:37:49.481Z"
   },
   {
    "duration": 14,
    "start_time": "2024-08-29T13:37:52.911Z"
   },
   {
    "duration": 879,
    "start_time": "2024-08-29T13:37:59.701Z"
   },
   {
    "duration": 445,
    "start_time": "2024-08-29T13:38:04.661Z"
   },
   {
    "duration": 3143,
    "start_time": "2024-08-31T23:17:34.111Z"
   },
   {
    "duration": 178,
    "start_time": "2024-08-31T23:17:37.256Z"
   },
   {
    "duration": 6,
    "start_time": "2024-08-31T23:17:37.436Z"
   },
   {
    "duration": 137,
    "start_time": "2024-08-31T23:17:37.447Z"
   },
   {
    "duration": 56,
    "start_time": "2024-08-31T23:17:38.766Z"
   },
   {
    "duration": 15,
    "start_time": "2024-08-31T23:17:39.562Z"
   },
   {
    "duration": 882,
    "start_time": "2024-08-31T23:17:40.950Z"
   },
   {
    "duration": 479,
    "start_time": "2024-08-31T23:17:43.169Z"
   },
   {
    "duration": 43,
    "start_time": "2024-08-31T23:19:53.997Z"
   },
   {
    "duration": 12,
    "start_time": "2024-09-01T03:28:03.160Z"
   },
   {
    "duration": 10,
    "start_time": "2024-09-01T03:40:34.016Z"
   },
   {
    "duration": 10,
    "start_time": "2024-09-01T03:40:40.198Z"
   },
   {
    "duration": 3083,
    "start_time": "2024-09-01T12:35:22.770Z"
   },
   {
    "duration": 120,
    "start_time": "2024-09-01T12:35:36.807Z"
   },
   {
    "duration": 5,
    "start_time": "2024-09-01T12:35:43.680Z"
   },
   {
    "duration": 442,
    "start_time": "2024-09-01T12:35:51.630Z"
   },
   {
    "duration": 8,
    "start_time": "2024-09-01T12:39:27.144Z"
   },
   {
    "duration": 267,
    "start_time": "2024-09-01T12:40:41.367Z"
   },
   {
    "duration": 5,
    "start_time": "2024-09-01T12:41:05.753Z"
   },
   {
    "duration": 313,
    "start_time": "2024-09-01T12:46:43.653Z"
   },
   {
    "duration": 58,
    "start_time": "2024-09-01T12:46:47.453Z"
   },
   {
    "duration": 4,
    "start_time": "2024-09-01T12:46:50.284Z"
   },
   {
    "duration": 341,
    "start_time": "2024-09-01T12:46:53.373Z"
   },
   {
    "duration": 4,
    "start_time": "2024-09-01T12:46:57.878Z"
   },
   {
    "duration": 905,
    "start_time": "2024-09-01T12:52:13.366Z"
   },
   {
    "duration": 2291,
    "start_time": "2024-09-01T12:56:59.229Z"
   },
   {
    "duration": 2326,
    "start_time": "2024-09-01T12:59:20.243Z"
   },
   {
    "duration": 3100,
    "start_time": "2024-09-01T14:15:41.618Z"
   },
   {
    "duration": 214,
    "start_time": "2024-09-01T14:15:49.130Z"
   },
   {
    "duration": 5,
    "start_time": "2024-09-01T14:15:54.343Z"
   },
   {
    "duration": 367,
    "start_time": "2024-09-01T14:15:58.677Z"
   },
   {
    "duration": 4,
    "start_time": "2024-09-01T14:16:03.158Z"
   },
   {
    "duration": 2414,
    "start_time": "2024-09-01T14:16:08.738Z"
   },
   {
    "duration": 344,
    "start_time": "2024-09-01T14:17:14.499Z"
   },
   {
    "duration": 323,
    "start_time": "2024-09-01T14:17:36.528Z"
   },
   {
    "duration": 3171,
    "start_time": "2024-09-01T15:59:27.593Z"
   },
   {
    "duration": 290,
    "start_time": "2024-09-01T15:59:34.952Z"
   },
   {
    "duration": 5,
    "start_time": "2024-09-01T15:59:38.542Z"
   },
   {
    "duration": 369,
    "start_time": "2024-09-01T15:59:45.079Z"
   },
   {
    "duration": 400,
    "start_time": "2024-09-01T16:00:15.945Z"
   },
   {
    "duration": 5,
    "start_time": "2024-09-01T16:00:26.543Z"
   },
   {
    "duration": 2415,
    "start_time": "2024-09-01T16:00:44.710Z"
   },
   {
    "duration": 320,
    "start_time": "2024-09-01T16:12:41.814Z"
   },
   {
    "duration": 46,
    "start_time": "2024-09-01T16:12:45.519Z"
   },
   {
    "duration": 4,
    "start_time": "2024-09-01T16:12:51.713Z"
   },
   {
    "duration": 328,
    "start_time": "2024-09-01T16:13:00.328Z"
   },
   {
    "duration": 4,
    "start_time": "2024-09-01T16:13:08.960Z"
   },
   {
    "duration": 2466,
    "start_time": "2024-09-01T16:13:33.729Z"
   },
   {
    "duration": 3168,
    "start_time": "2024-09-03T07:12:00.121Z"
   },
   {
    "duration": 239,
    "start_time": "2024-09-03T07:12:03.292Z"
   },
   {
    "duration": 12,
    "start_time": "2024-09-03T07:12:03.534Z"
   },
   {
    "duration": 335,
    "start_time": "2024-09-03T07:12:13.497Z"
   },
   {
    "duration": 5,
    "start_time": "2024-09-03T07:12:21.805Z"
   },
   {
    "duration": 2383,
    "start_time": "2024-09-03T07:12:23.335Z"
   },
   {
    "duration": 304,
    "start_time": "2024-09-03T07:12:49.344Z"
   },
   {
    "duration": 4,
    "start_time": "2024-09-03T07:12:55.352Z"
   },
   {
    "duration": 2397,
    "start_time": "2024-09-03T07:12:57.229Z"
   },
   {
    "duration": 4,
    "start_time": "2024-09-03T07:15:43.616Z"
   },
   {
    "duration": 299,
    "start_time": "2024-09-03T07:15:51.547Z"
   },
   {
    "duration": 5,
    "start_time": "2024-09-03T07:15:54.868Z"
   },
   {
    "duration": 2372,
    "start_time": "2024-09-03T07:15:56.192Z"
   },
   {
    "duration": 3052,
    "start_time": "2024-09-03T14:45:39.202Z"
   },
   {
    "duration": 181,
    "start_time": "2024-09-03T14:45:47.603Z"
   },
   {
    "duration": 5,
    "start_time": "2024-09-03T14:45:51.270Z"
   },
   {
    "duration": 345,
    "start_time": "2024-09-03T14:46:01.726Z"
   },
   {
    "duration": 319,
    "start_time": "2024-09-03T14:46:23.956Z"
   },
   {
    "duration": 277,
    "start_time": "2024-09-03T14:46:43.706Z"
   },
   {
    "duration": 249,
    "start_time": "2024-09-03T14:46:53.137Z"
   },
   {
    "duration": 5,
    "start_time": "2024-09-03T14:47:38.497Z"
   },
   {
    "duration": 3180,
    "start_time": "2024-09-03T16:50:05.937Z"
   },
   {
    "duration": 170,
    "start_time": "2024-09-03T16:50:13.177Z"
   },
   {
    "duration": 5,
    "start_time": "2024-09-03T16:50:16.939Z"
   },
   {
    "duration": 328,
    "start_time": "2024-09-03T16:50:21.013Z"
   },
   {
    "duration": 4,
    "start_time": "2024-09-03T16:50:25.887Z"
   },
   {
    "duration": 2380,
    "start_time": "2024-09-03T16:50:36.389Z"
   },
   {
    "duration": 344,
    "start_time": "2024-09-03T17:03:45.114Z"
   },
   {
    "duration": 62,
    "start_time": "2024-09-03T17:03:48.163Z"
   },
   {
    "duration": 4,
    "start_time": "2024-09-03T17:03:50.141Z"
   },
   {
    "duration": 329,
    "start_time": "2024-09-03T17:03:52.297Z"
   },
   {
    "duration": 4,
    "start_time": "2024-09-03T17:04:00.277Z"
   },
   {
    "duration": 2347,
    "start_time": "2024-09-03T17:04:08.725Z"
   }
  ],
  "kernelspec": {
   "display_name": "Python 3 (ipykernel)",
   "language": "python",
   "name": "python3"
  },
  "language_info": {
   "codemirror_mode": {
    "name": "ipython",
    "version": 3
   },
   "file_extension": ".py",
   "mimetype": "text/x-python",
   "name": "python",
   "nbconvert_exporter": "python",
   "pygments_lexer": "ipython3",
   "version": "3.9.19"
  },
  "toc": {
   "base_numbering": 1,
   "nav_menu": {},
   "number_sections": true,
   "sideBar": true,
   "skip_h1_title": true,
   "title_cell": "Table of Contents",
   "title_sidebar": "Contents",
   "toc_cell": false,
   "toc_position": {},
   "toc_section_display": true,
   "toc_window_display": false
  }
 },
 "nbformat": 4,
 "nbformat_minor": 2
}
