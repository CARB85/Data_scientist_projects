{
 "cells": [
  {
   "cell_type": "markdown",
   "id": "OmlQPLlyaAfR",
   "metadata": {
    "id": "OmlQPLlyaAfR"
   },
   "source": [
    "# Fill That Cart!\n",
    "\n",
    "# Introduction\n",
    "\n",
    "Instacart is a grocery delivery platform where customers can place an order and have it delivered, similar to Uber Eats and Door Dash.  \n",
    "The dataset provided has been modified from the original. We reduced its size to speed up calculations and introduced missing values and duplicates. Care was taken to preserve the original data distributions while making these changes.\n",
    "\n",
    "You must complete three steps. For each step, write a brief introduction that clearly explains how you intend to solve it, and include explanatory paragraphs to justify your decisions as you progress through the solution. Also, write a conclusion that summarizes your findings and choices.\n",
    "\n",
    "## Data Dictionary\n",
    "\n",
    "There are five tables in the dataset, and you will need to use them all for data preprocessing and exploratory data analysis. Below is a data dictionary listing the columns in each table and describing the data they contain.\n",
    "\n",
    "- `instacart_orders.csv`: Each row corresponds to an order in the Instacart app.\n",
    "    - `'order_id'`: Unique ID number identifying each order.\n",
    "    - `'user_id'`: Unique ID number identifying each customer account.\n",
    "    - `'order_number'`: Number of times this customer has placed an order.\n",
    "    - `'order_dow'`: Day of the week the order was placed (0 for Sunday).\n",
    "    - `'order_hour_of_day'`: Hour of the day the order was placed.\n",
    "    - `'days_since_prior_order'`: Number of days since this customer’s previous order.\n",
    "- `products.csv`: Each row corresponds to a unique product customers can purchase.\n",
    "    - `'product_id'`: Unique ID number identifying each product.\n",
    "    - `'product_name'`: Name of the product.\n",
    "    - `'aisle_id'`: Unique ID number identifying each grocery aisle category.\n",
    "    - `'department_id'`: Unique ID number identifying each grocery department.\n",
    "- `order_products.csv`: Each row corresponds to an item ordered in an order.\n",
    "    - `'order_id'`: Unique ID number identifying each order.\n",
    "    - `'product_id'`: Unique ID number identifying each product.\n",
    "    - `'add_to_cart_order'`: Sequential order in which each item was added to the cart.\n",
    "    - `'reordered'`: 0 if the customer has never ordered this product before, 1 if they have.\n",
    "- `aisles.csv`:\n",
    "    - `'aisle_id'`: Unique ID number identifying each grocery aisle category.\n",
    "    - `'aisle'`: Name of the aisle.\n",
    "- `departments.csv`:\n",
    "    - `'department_id'`: Unique ID number identifying each grocery department.\n",
    "    - `'department'`: Name of the department.\n",
    "\n",
    "# Step 1: Data Description\n",
    "\n",
    "Read the data files (`/datasets/instacart_orders.csv`, `/datasets/products.csv`, `/datasets/aisles.csv`, `/datasets/departments.csv`, and `/datasets/order_products.csv`) using `pd.read_csv()` with the appropriate parameters to correctly read the data. Verify the information for each created DataFrame.\n",
    "\n",
    "## Solution Plan\n",
    "\n",
    "Write your solution plan for Step 1: Data Description here."
   ]
  },
  {
   "cell_type": "code",
   "execution_count": 2,
   "id": "fbf1adab",
   "metadata": {
    "id": "fbf1adab"
   },
   "outputs": [],
   "source": [
    "# import libraries\n",
    "import pandas as pd\n",
    "import numpy as np\n",
    "from matplotlib import pyplot as plt"
   ]
  },
  {
   "cell_type": "code",
   "execution_count": 3,
   "id": "ad36396d",
   "metadata": {
    "id": "ad36396d"
   },
   "outputs": [],
   "source": [
    "# read datasets into DataFrames\n",
    "df_instacart_orders = pd.read_csv ('/datasets/instacart_orders.csv', sep= ';')\n",
    "df_products = pd.read_csv ('/datasets/products.csv', sep= ';')\n",
    "df_aisles = pd.read_csv ('/datasets/aisles.csv', sep= ';')\n",
    "df_departments = pd.read_csv ('/datasets/departments.csv', sep= ';')\n",
    "df_order = pd.read_csv ('/datasets/order_products.csv', sep= ';')"
   ]
  },
  {
   "cell_type": "code",
   "execution_count": 4,
   "id": "ad6a1efa",
   "metadata": {
    "id": "ad6a1efa"
   },
   "outputs": [
    {
     "name": "stdout",
     "output_type": "stream",
     "text": [
      "<class 'pandas.core.frame.DataFrame'>\n",
      "RangeIndex: 478967 entries, 0 to 478966\n",
      "Data columns (total 6 columns):\n",
      " #   Column                  Non-Null Count   Dtype  \n",
      "---  ------                  --------------   -----  \n",
      " 0   order_id                478967 non-null  int64  \n",
      " 1   user_id                 478967 non-null  int64  \n",
      " 2   order_number            478967 non-null  int64  \n",
      " 3   order_dow               478967 non-null  int64  \n",
      " 4   order_hour_of_day       478967 non-null  int64  \n",
      " 5   days_since_prior_order  450148 non-null  float64\n",
      "dtypes: float64(1), int64(5)\n",
      "memory usage: 21.9 MB\n"
     ]
    },
    {
     "data": {
      "text/html": [
       "<div>\n",
       "<style scoped>\n",
       "    .dataframe tbody tr th:only-of-type {\n",
       "        vertical-align: middle;\n",
       "    }\n",
       "\n",
       "    .dataframe tbody tr th {\n",
       "        vertical-align: top;\n",
       "    }\n",
       "\n",
       "    .dataframe thead th {\n",
       "        text-align: right;\n",
       "    }\n",
       "</style>\n",
       "<table border=\"1\" class=\"dataframe\">\n",
       "  <thead>\n",
       "    <tr style=\"text-align: right;\">\n",
       "      <th></th>\n",
       "      <th>order_id</th>\n",
       "      <th>user_id</th>\n",
       "      <th>order_number</th>\n",
       "      <th>order_dow</th>\n",
       "      <th>order_hour_of_day</th>\n",
       "      <th>days_since_prior_order</th>\n",
       "    </tr>\n",
       "  </thead>\n",
       "  <tbody>\n",
       "    <tr>\n",
       "      <th>0</th>\n",
       "      <td>1515936</td>\n",
       "      <td>183418</td>\n",
       "      <td>11</td>\n",
       "      <td>6</td>\n",
       "      <td>13</td>\n",
       "      <td>30.0</td>\n",
       "    </tr>\n",
       "    <tr>\n",
       "      <th>1</th>\n",
       "      <td>1690866</td>\n",
       "      <td>163593</td>\n",
       "      <td>5</td>\n",
       "      <td>5</td>\n",
       "      <td>12</td>\n",
       "      <td>9.0</td>\n",
       "    </tr>\n",
       "    <tr>\n",
       "      <th>2</th>\n",
       "      <td>1454967</td>\n",
       "      <td>39980</td>\n",
       "      <td>4</td>\n",
       "      <td>5</td>\n",
       "      <td>19</td>\n",
       "      <td>2.0</td>\n",
       "    </tr>\n",
       "    <tr>\n",
       "      <th>3</th>\n",
       "      <td>1768857</td>\n",
       "      <td>82516</td>\n",
       "      <td>56</td>\n",
       "      <td>0</td>\n",
       "      <td>20</td>\n",
       "      <td>10.0</td>\n",
       "    </tr>\n",
       "    <tr>\n",
       "      <th>4</th>\n",
       "      <td>3007858</td>\n",
       "      <td>196724</td>\n",
       "      <td>2</td>\n",
       "      <td>4</td>\n",
       "      <td>12</td>\n",
       "      <td>17.0</td>\n",
       "    </tr>\n",
       "    <tr>\n",
       "      <th>5</th>\n",
       "      <td>1843871</td>\n",
       "      <td>20084</td>\n",
       "      <td>5</td>\n",
       "      <td>0</td>\n",
       "      <td>11</td>\n",
       "      <td>15.0</td>\n",
       "    </tr>\n",
       "    <tr>\n",
       "      <th>6</th>\n",
       "      <td>2511640</td>\n",
       "      <td>148233</td>\n",
       "      <td>40</td>\n",
       "      <td>3</td>\n",
       "      <td>8</td>\n",
       "      <td>2.0</td>\n",
       "    </tr>\n",
       "    <tr>\n",
       "      <th>7</th>\n",
       "      <td>2521283</td>\n",
       "      <td>97711</td>\n",
       "      <td>2</td>\n",
       "      <td>0</td>\n",
       "      <td>18</td>\n",
       "      <td>22.0</td>\n",
       "    </tr>\n",
       "    <tr>\n",
       "      <th>8</th>\n",
       "      <td>2266494</td>\n",
       "      <td>34954</td>\n",
       "      <td>40</td>\n",
       "      <td>5</td>\n",
       "      <td>15</td>\n",
       "      <td>4.0</td>\n",
       "    </tr>\n",
       "    <tr>\n",
       "      <th>9</th>\n",
       "      <td>446014</td>\n",
       "      <td>15356</td>\n",
       "      <td>2</td>\n",
       "      <td>4</td>\n",
       "      <td>8</td>\n",
       "      <td>10.0</td>\n",
       "    </tr>\n",
       "    <tr>\n",
       "      <th>10</th>\n",
       "      <td>1162566</td>\n",
       "      <td>43738</td>\n",
       "      <td>33</td>\n",
       "      <td>4</td>\n",
       "      <td>11</td>\n",
       "      <td>2.0</td>\n",
       "    </tr>\n",
       "    <tr>\n",
       "      <th>11</th>\n",
       "      <td>102585</td>\n",
       "      <td>191558</td>\n",
       "      <td>18</td>\n",
       "      <td>6</td>\n",
       "      <td>16</td>\n",
       "      <td>8.0</td>\n",
       "    </tr>\n",
       "    <tr>\n",
       "      <th>12</th>\n",
       "      <td>2276302</td>\n",
       "      <td>190167</td>\n",
       "      <td>21</td>\n",
       "      <td>1</td>\n",
       "      <td>12</td>\n",
       "      <td>2.0</td>\n",
       "    </tr>\n",
       "    <tr>\n",
       "      <th>13</th>\n",
       "      <td>782916</td>\n",
       "      <td>36310</td>\n",
       "      <td>34</td>\n",
       "      <td>5</td>\n",
       "      <td>9</td>\n",
       "      <td>3.0</td>\n",
       "    </tr>\n",
       "    <tr>\n",
       "      <th>14</th>\n",
       "      <td>2843219</td>\n",
       "      <td>74699</td>\n",
       "      <td>4</td>\n",
       "      <td>6</td>\n",
       "      <td>11</td>\n",
       "      <td>30.0</td>\n",
       "    </tr>\n",
       "    <tr>\n",
       "      <th>15</th>\n",
       "      <td>1989200</td>\n",
       "      <td>71810</td>\n",
       "      <td>4</td>\n",
       "      <td>1</td>\n",
       "      <td>9</td>\n",
       "      <td>12.0</td>\n",
       "    </tr>\n",
       "    <tr>\n",
       "      <th>16</th>\n",
       "      <td>3109465</td>\n",
       "      <td>55090</td>\n",
       "      <td>19</td>\n",
       "      <td>3</td>\n",
       "      <td>15</td>\n",
       "      <td>9.0</td>\n",
       "    </tr>\n",
       "    <tr>\n",
       "      <th>17</th>\n",
       "      <td>727519</td>\n",
       "      <td>146663</td>\n",
       "      <td>7</td>\n",
       "      <td>4</td>\n",
       "      <td>22</td>\n",
       "      <td>11.0</td>\n",
       "    </tr>\n",
       "    <tr>\n",
       "      <th>18</th>\n",
       "      <td>556588</td>\n",
       "      <td>6801</td>\n",
       "      <td>63</td>\n",
       "      <td>5</td>\n",
       "      <td>11</td>\n",
       "      <td>7.0</td>\n",
       "    </tr>\n",
       "    <tr>\n",
       "      <th>19</th>\n",
       "      <td>294269</td>\n",
       "      <td>107523</td>\n",
       "      <td>29</td>\n",
       "      <td>2</td>\n",
       "      <td>10</td>\n",
       "      <td>1.0</td>\n",
       "    </tr>\n",
       "    <tr>\n",
       "      <th>20</th>\n",
       "      <td>50934</td>\n",
       "      <td>178510</td>\n",
       "      <td>9</td>\n",
       "      <td>6</td>\n",
       "      <td>9</td>\n",
       "      <td>5.0</td>\n",
       "    </tr>\n",
       "    <tr>\n",
       "      <th>21</th>\n",
       "      <td>3097921</td>\n",
       "      <td>97319</td>\n",
       "      <td>40</td>\n",
       "      <td>4</td>\n",
       "      <td>9</td>\n",
       "      <td>8.0</td>\n",
       "    </tr>\n",
       "    <tr>\n",
       "      <th>22</th>\n",
       "      <td>1546269</td>\n",
       "      <td>182211</td>\n",
       "      <td>12</td>\n",
       "      <td>1</td>\n",
       "      <td>15</td>\n",
       "      <td>6.0</td>\n",
       "    </tr>\n",
       "    <tr>\n",
       "      <th>23</th>\n",
       "      <td>3406282</td>\n",
       "      <td>19356</td>\n",
       "      <td>21</td>\n",
       "      <td>0</td>\n",
       "      <td>0</td>\n",
       "      <td>14.0</td>\n",
       "    </tr>\n",
       "    <tr>\n",
       "      <th>24</th>\n",
       "      <td>3358682</td>\n",
       "      <td>162252</td>\n",
       "      <td>14</td>\n",
       "      <td>5</td>\n",
       "      <td>8</td>\n",
       "      <td>5.0</td>\n",
       "    </tr>\n",
       "    <tr>\n",
       "      <th>25</th>\n",
       "      <td>1895419</td>\n",
       "      <td>169793</td>\n",
       "      <td>2</td>\n",
       "      <td>0</td>\n",
       "      <td>11</td>\n",
       "      <td>8.0</td>\n",
       "    </tr>\n",
       "    <tr>\n",
       "      <th>26</th>\n",
       "      <td>1844247</td>\n",
       "      <td>122558</td>\n",
       "      <td>4</td>\n",
       "      <td>6</td>\n",
       "      <td>18</td>\n",
       "      <td>30.0</td>\n",
       "    </tr>\n",
       "    <tr>\n",
       "      <th>27</th>\n",
       "      <td>457775</td>\n",
       "      <td>61263</td>\n",
       "      <td>24</td>\n",
       "      <td>0</td>\n",
       "      <td>16</td>\n",
       "      <td>7.0</td>\n",
       "    </tr>\n",
       "    <tr>\n",
       "      <th>28</th>\n",
       "      <td>133707</td>\n",
       "      <td>182261</td>\n",
       "      <td>1</td>\n",
       "      <td>3</td>\n",
       "      <td>10</td>\n",
       "      <td>NaN</td>\n",
       "    </tr>\n",
       "    <tr>\n",
       "      <th>29</th>\n",
       "      <td>547066</td>\n",
       "      <td>278</td>\n",
       "      <td>38</td>\n",
       "      <td>1</td>\n",
       "      <td>14</td>\n",
       "      <td>4.0</td>\n",
       "    </tr>\n",
       "  </tbody>\n",
       "</table>\n",
       "</div>"
      ],
      "text/plain": [
       "    order_id  user_id  order_number  order_dow  order_hour_of_day  \\\n",
       "0    1515936   183418            11          6                 13   \n",
       "1    1690866   163593             5          5                 12   \n",
       "2    1454967    39980             4          5                 19   \n",
       "3    1768857    82516            56          0                 20   \n",
       "4    3007858   196724             2          4                 12   \n",
       "5    1843871    20084             5          0                 11   \n",
       "6    2511640   148233            40          3                  8   \n",
       "7    2521283    97711             2          0                 18   \n",
       "8    2266494    34954            40          5                 15   \n",
       "9     446014    15356             2          4                  8   \n",
       "10   1162566    43738            33          4                 11   \n",
       "11    102585   191558            18          6                 16   \n",
       "12   2276302   190167            21          1                 12   \n",
       "13    782916    36310            34          5                  9   \n",
       "14   2843219    74699             4          6                 11   \n",
       "15   1989200    71810             4          1                  9   \n",
       "16   3109465    55090            19          3                 15   \n",
       "17    727519   146663             7          4                 22   \n",
       "18    556588     6801            63          5                 11   \n",
       "19    294269   107523            29          2                 10   \n",
       "20     50934   178510             9          6                  9   \n",
       "21   3097921    97319            40          4                  9   \n",
       "22   1546269   182211            12          1                 15   \n",
       "23   3406282    19356            21          0                  0   \n",
       "24   3358682   162252            14          5                  8   \n",
       "25   1895419   169793             2          0                 11   \n",
       "26   1844247   122558             4          6                 18   \n",
       "27    457775    61263            24          0                 16   \n",
       "28    133707   182261             1          3                 10   \n",
       "29    547066      278            38          1                 14   \n",
       "\n",
       "    days_since_prior_order  \n",
       "0                     30.0  \n",
       "1                      9.0  \n",
       "2                      2.0  \n",
       "3                     10.0  \n",
       "4                     17.0  \n",
       "5                     15.0  \n",
       "6                      2.0  \n",
       "7                     22.0  \n",
       "8                      4.0  \n",
       "9                     10.0  \n",
       "10                     2.0  \n",
       "11                     8.0  \n",
       "12                     2.0  \n",
       "13                     3.0  \n",
       "14                    30.0  \n",
       "15                    12.0  \n",
       "16                     9.0  \n",
       "17                    11.0  \n",
       "18                     7.0  \n",
       "19                     1.0  \n",
       "20                     5.0  \n",
       "21                     8.0  \n",
       "22                     6.0  \n",
       "23                    14.0  \n",
       "24                     5.0  \n",
       "25                     8.0  \n",
       "26                    30.0  \n",
       "27                     7.0  \n",
       "28                     NaN  \n",
       "29                     4.0  "
      ]
     },
     "metadata": {},
     "output_type": "display_data"
    }
   ],
   "source": [
    "# display DataFrame information\n",
    "df_instacart_orders.info()\n",
    "\n",
    "display(df_instacart_orders.head(30))"
   ]
  },
  {
   "cell_type": "code",
   "execution_count": 5,
   "id": "5130e05e",
   "metadata": {
    "id": "5130e05e"
   },
   "outputs": [
    {
     "name": "stdout",
     "output_type": "stream",
     "text": [
      "<class 'pandas.core.frame.DataFrame'>\n",
      "RangeIndex: 49694 entries, 0 to 49693\n",
      "Data columns (total 4 columns):\n",
      " #   Column         Non-Null Count  Dtype \n",
      "---  ------         --------------  ----- \n",
      " 0   product_id     49694 non-null  int64 \n",
      " 1   product_name   48436 non-null  object\n",
      " 2   aisle_id       49694 non-null  int64 \n",
      " 3   department_id  49694 non-null  int64 \n",
      "dtypes: int64(3), object(1)\n",
      "memory usage: 1.5+ MB\n"
     ]
    },
    {
     "data": {
      "text/html": [
       "<div>\n",
       "<style scoped>\n",
       "    .dataframe tbody tr th:only-of-type {\n",
       "        vertical-align: middle;\n",
       "    }\n",
       "\n",
       "    .dataframe tbody tr th {\n",
       "        vertical-align: top;\n",
       "    }\n",
       "\n",
       "    .dataframe thead th {\n",
       "        text-align: right;\n",
       "    }\n",
       "</style>\n",
       "<table border=\"1\" class=\"dataframe\">\n",
       "  <thead>\n",
       "    <tr style=\"text-align: right;\">\n",
       "      <th></th>\n",
       "      <th>product_id</th>\n",
       "      <th>product_name</th>\n",
       "      <th>aisle_id</th>\n",
       "      <th>department_id</th>\n",
       "    </tr>\n",
       "  </thead>\n",
       "  <tbody>\n",
       "    <tr>\n",
       "      <th>0</th>\n",
       "      <td>1</td>\n",
       "      <td>Chocolate Sandwich Cookies</td>\n",
       "      <td>61</td>\n",
       "      <td>19</td>\n",
       "    </tr>\n",
       "    <tr>\n",
       "      <th>1</th>\n",
       "      <td>2</td>\n",
       "      <td>All-Seasons Salt</td>\n",
       "      <td>104</td>\n",
       "      <td>13</td>\n",
       "    </tr>\n",
       "    <tr>\n",
       "      <th>2</th>\n",
       "      <td>3</td>\n",
       "      <td>Robust Golden Unsweetened Oolong Tea</td>\n",
       "      <td>94</td>\n",
       "      <td>7</td>\n",
       "    </tr>\n",
       "    <tr>\n",
       "      <th>3</th>\n",
       "      <td>4</td>\n",
       "      <td>Smart Ones Classic Favorites Mini Rigatoni Wit...</td>\n",
       "      <td>38</td>\n",
       "      <td>1</td>\n",
       "    </tr>\n",
       "    <tr>\n",
       "      <th>4</th>\n",
       "      <td>5</td>\n",
       "      <td>Green Chile Anytime Sauce</td>\n",
       "      <td>5</td>\n",
       "      <td>13</td>\n",
       "    </tr>\n",
       "    <tr>\n",
       "      <th>...</th>\n",
       "      <td>...</td>\n",
       "      <td>...</td>\n",
       "      <td>...</td>\n",
       "      <td>...</td>\n",
       "    </tr>\n",
       "    <tr>\n",
       "      <th>49689</th>\n",
       "      <td>49690</td>\n",
       "      <td>HIGH PERFORMANCE ENERGY DRINK</td>\n",
       "      <td>64</td>\n",
       "      <td>7</td>\n",
       "    </tr>\n",
       "    <tr>\n",
       "      <th>49690</th>\n",
       "      <td>49691</td>\n",
       "      <td>ORIGINAL PANCAKE &amp; WAFFLE MIX</td>\n",
       "      <td>130</td>\n",
       "      <td>14</td>\n",
       "    </tr>\n",
       "    <tr>\n",
       "      <th>49691</th>\n",
       "      <td>49692</td>\n",
       "      <td>ORGANIC INSTANT OATMEAL LIGHT MAPLE BROWN SUGAR</td>\n",
       "      <td>130</td>\n",
       "      <td>14</td>\n",
       "    </tr>\n",
       "    <tr>\n",
       "      <th>49692</th>\n",
       "      <td>49693</td>\n",
       "      <td>SPRING WATER BODY WASH</td>\n",
       "      <td>127</td>\n",
       "      <td>11</td>\n",
       "    </tr>\n",
       "    <tr>\n",
       "      <th>49693</th>\n",
       "      <td>49694</td>\n",
       "      <td>BURRITO- STEAK &amp; CHEESE</td>\n",
       "      <td>38</td>\n",
       "      <td>1</td>\n",
       "    </tr>\n",
       "  </tbody>\n",
       "</table>\n",
       "<p>49694 rows × 4 columns</p>\n",
       "</div>"
      ],
      "text/plain": [
       "       product_id                                       product_name  \\\n",
       "0               1                         Chocolate Sandwich Cookies   \n",
       "1               2                                   All-Seasons Salt   \n",
       "2               3               Robust Golden Unsweetened Oolong Tea   \n",
       "3               4  Smart Ones Classic Favorites Mini Rigatoni Wit...   \n",
       "4               5                          Green Chile Anytime Sauce   \n",
       "...           ...                                                ...   \n",
       "49689       49690                      HIGH PERFORMANCE ENERGY DRINK   \n",
       "49690       49691                      ORIGINAL PANCAKE & WAFFLE MIX   \n",
       "49691       49692    ORGANIC INSTANT OATMEAL LIGHT MAPLE BROWN SUGAR   \n",
       "49692       49693                             SPRING WATER BODY WASH   \n",
       "49693       49694                            BURRITO- STEAK & CHEESE   \n",
       "\n",
       "       aisle_id  department_id  \n",
       "0            61             19  \n",
       "1           104             13  \n",
       "2            94              7  \n",
       "3            38              1  \n",
       "4             5             13  \n",
       "...         ...            ...  \n",
       "49689        64              7  \n",
       "49690       130             14  \n",
       "49691       130             14  \n",
       "49692       127             11  \n",
       "49693        38              1  \n",
       "\n",
       "[49694 rows x 4 columns]"
      ]
     },
     "metadata": {},
     "output_type": "display_data"
    }
   ],
   "source": [
    "# display DataFrame information\n",
    "df_products.info()\n",
    "\n",
    "display(df_products)"
   ]
  },
  {
   "cell_type": "code",
   "execution_count": 6,
   "id": "d8370c05",
   "metadata": {
    "id": "d8370c05"
   },
   "outputs": [
    {
     "name": "stdout",
     "output_type": "stream",
     "text": [
      "<class 'pandas.core.frame.DataFrame'>\n",
      "RangeIndex: 134 entries, 0 to 133\n",
      "Data columns (total 2 columns):\n",
      " #   Column    Non-Null Count  Dtype \n",
      "---  ------    --------------  ----- \n",
      " 0   aisle_id  134 non-null    int64 \n",
      " 1   aisle     134 non-null    object\n",
      "dtypes: int64(1), object(1)\n",
      "memory usage: 2.2+ KB\n"
     ]
    },
    {
     "data": {
      "text/html": [
       "<div>\n",
       "<style scoped>\n",
       "    .dataframe tbody tr th:only-of-type {\n",
       "        vertical-align: middle;\n",
       "    }\n",
       "\n",
       "    .dataframe tbody tr th {\n",
       "        vertical-align: top;\n",
       "    }\n",
       "\n",
       "    .dataframe thead th {\n",
       "        text-align: right;\n",
       "    }\n",
       "</style>\n",
       "<table border=\"1\" class=\"dataframe\">\n",
       "  <thead>\n",
       "    <tr style=\"text-align: right;\">\n",
       "      <th></th>\n",
       "      <th>aisle_id</th>\n",
       "      <th>aisle</th>\n",
       "    </tr>\n",
       "  </thead>\n",
       "  <tbody>\n",
       "    <tr>\n",
       "      <th>0</th>\n",
       "      <td>1</td>\n",
       "      <td>prepared soups salads</td>\n",
       "    </tr>\n",
       "    <tr>\n",
       "      <th>1</th>\n",
       "      <td>2</td>\n",
       "      <td>specialty cheeses</td>\n",
       "    </tr>\n",
       "    <tr>\n",
       "      <th>2</th>\n",
       "      <td>3</td>\n",
       "      <td>energy granola bars</td>\n",
       "    </tr>\n",
       "    <tr>\n",
       "      <th>3</th>\n",
       "      <td>4</td>\n",
       "      <td>instant foods</td>\n",
       "    </tr>\n",
       "    <tr>\n",
       "      <th>4</th>\n",
       "      <td>5</td>\n",
       "      <td>marinades meat preparation</td>\n",
       "    </tr>\n",
       "    <tr>\n",
       "      <th>...</th>\n",
       "      <td>...</td>\n",
       "      <td>...</td>\n",
       "    </tr>\n",
       "    <tr>\n",
       "      <th>129</th>\n",
       "      <td>130</td>\n",
       "      <td>hot cereal pancake mixes</td>\n",
       "    </tr>\n",
       "    <tr>\n",
       "      <th>130</th>\n",
       "      <td>131</td>\n",
       "      <td>dry pasta</td>\n",
       "    </tr>\n",
       "    <tr>\n",
       "      <th>131</th>\n",
       "      <td>132</td>\n",
       "      <td>beauty</td>\n",
       "    </tr>\n",
       "    <tr>\n",
       "      <th>132</th>\n",
       "      <td>133</td>\n",
       "      <td>muscles joints pain relief</td>\n",
       "    </tr>\n",
       "    <tr>\n",
       "      <th>133</th>\n",
       "      <td>134</td>\n",
       "      <td>specialty wines champagnes</td>\n",
       "    </tr>\n",
       "  </tbody>\n",
       "</table>\n",
       "<p>134 rows × 2 columns</p>\n",
       "</div>"
      ],
      "text/plain": [
       "     aisle_id                       aisle\n",
       "0           1       prepared soups salads\n",
       "1           2           specialty cheeses\n",
       "2           3         energy granola bars\n",
       "3           4               instant foods\n",
       "4           5  marinades meat preparation\n",
       "..        ...                         ...\n",
       "129       130    hot cereal pancake mixes\n",
       "130       131                   dry pasta\n",
       "131       132                      beauty\n",
       "132       133  muscles joints pain relief\n",
       "133       134  specialty wines champagnes\n",
       "\n",
       "[134 rows x 2 columns]"
      ]
     },
     "metadata": {},
     "output_type": "display_data"
    }
   ],
   "source": [
    "# display DataFrame information\n",
    "df_aisles.info()\n",
    "\n",
    "display(df_aisles)"
   ]
  },
  {
   "cell_type": "code",
   "execution_count": 7,
   "id": "59e2090f",
   "metadata": {
    "id": "59e2090f"
   },
   "outputs": [
    {
     "name": "stdout",
     "output_type": "stream",
     "text": [
      "<class 'pandas.core.frame.DataFrame'>\n",
      "RangeIndex: 21 entries, 0 to 20\n",
      "Data columns (total 2 columns):\n",
      " #   Column         Non-Null Count  Dtype \n",
      "---  ------         --------------  ----- \n",
      " 0   department_id  21 non-null     int64 \n",
      " 1   department     21 non-null     object\n",
      "dtypes: int64(1), object(1)\n",
      "memory usage: 464.0+ bytes\n"
     ]
    },
    {
     "data": {
      "text/html": [
       "<div>\n",
       "<style scoped>\n",
       "    .dataframe tbody tr th:only-of-type {\n",
       "        vertical-align: middle;\n",
       "    }\n",
       "\n",
       "    .dataframe tbody tr th {\n",
       "        vertical-align: top;\n",
       "    }\n",
       "\n",
       "    .dataframe thead th {\n",
       "        text-align: right;\n",
       "    }\n",
       "</style>\n",
       "<table border=\"1\" class=\"dataframe\">\n",
       "  <thead>\n",
       "    <tr style=\"text-align: right;\">\n",
       "      <th></th>\n",
       "      <th>department_id</th>\n",
       "      <th>department</th>\n",
       "    </tr>\n",
       "  </thead>\n",
       "  <tbody>\n",
       "    <tr>\n",
       "      <th>0</th>\n",
       "      <td>1</td>\n",
       "      <td>frozen</td>\n",
       "    </tr>\n",
       "    <tr>\n",
       "      <th>1</th>\n",
       "      <td>2</td>\n",
       "      <td>other</td>\n",
       "    </tr>\n",
       "    <tr>\n",
       "      <th>2</th>\n",
       "      <td>3</td>\n",
       "      <td>bakery</td>\n",
       "    </tr>\n",
       "    <tr>\n",
       "      <th>3</th>\n",
       "      <td>4</td>\n",
       "      <td>produce</td>\n",
       "    </tr>\n",
       "    <tr>\n",
       "      <th>4</th>\n",
       "      <td>5</td>\n",
       "      <td>alcohol</td>\n",
       "    </tr>\n",
       "    <tr>\n",
       "      <th>5</th>\n",
       "      <td>6</td>\n",
       "      <td>international</td>\n",
       "    </tr>\n",
       "    <tr>\n",
       "      <th>6</th>\n",
       "      <td>7</td>\n",
       "      <td>beverages</td>\n",
       "    </tr>\n",
       "    <tr>\n",
       "      <th>7</th>\n",
       "      <td>8</td>\n",
       "      <td>pets</td>\n",
       "    </tr>\n",
       "    <tr>\n",
       "      <th>8</th>\n",
       "      <td>9</td>\n",
       "      <td>dry goods pasta</td>\n",
       "    </tr>\n",
       "    <tr>\n",
       "      <th>9</th>\n",
       "      <td>10</td>\n",
       "      <td>bulk</td>\n",
       "    </tr>\n",
       "    <tr>\n",
       "      <th>10</th>\n",
       "      <td>11</td>\n",
       "      <td>personal care</td>\n",
       "    </tr>\n",
       "    <tr>\n",
       "      <th>11</th>\n",
       "      <td>12</td>\n",
       "      <td>meat seafood</td>\n",
       "    </tr>\n",
       "    <tr>\n",
       "      <th>12</th>\n",
       "      <td>13</td>\n",
       "      <td>pantry</td>\n",
       "    </tr>\n",
       "    <tr>\n",
       "      <th>13</th>\n",
       "      <td>14</td>\n",
       "      <td>breakfast</td>\n",
       "    </tr>\n",
       "    <tr>\n",
       "      <th>14</th>\n",
       "      <td>15</td>\n",
       "      <td>canned goods</td>\n",
       "    </tr>\n",
       "    <tr>\n",
       "      <th>15</th>\n",
       "      <td>16</td>\n",
       "      <td>dairy eggs</td>\n",
       "    </tr>\n",
       "    <tr>\n",
       "      <th>16</th>\n",
       "      <td>17</td>\n",
       "      <td>household</td>\n",
       "    </tr>\n",
       "    <tr>\n",
       "      <th>17</th>\n",
       "      <td>18</td>\n",
       "      <td>babies</td>\n",
       "    </tr>\n",
       "    <tr>\n",
       "      <th>18</th>\n",
       "      <td>19</td>\n",
       "      <td>snacks</td>\n",
       "    </tr>\n",
       "    <tr>\n",
       "      <th>19</th>\n",
       "      <td>20</td>\n",
       "      <td>deli</td>\n",
       "    </tr>\n",
       "    <tr>\n",
       "      <th>20</th>\n",
       "      <td>21</td>\n",
       "      <td>missing</td>\n",
       "    </tr>\n",
       "  </tbody>\n",
       "</table>\n",
       "</div>"
      ],
      "text/plain": [
       "    department_id       department\n",
       "0               1           frozen\n",
       "1               2            other\n",
       "2               3           bakery\n",
       "3               4          produce\n",
       "4               5          alcohol\n",
       "5               6    international\n",
       "6               7        beverages\n",
       "7               8             pets\n",
       "8               9  dry goods pasta\n",
       "9              10             bulk\n",
       "10             11    personal care\n",
       "11             12     meat seafood\n",
       "12             13           pantry\n",
       "13             14        breakfast\n",
       "14             15     canned goods\n",
       "15             16       dairy eggs\n",
       "16             17        household\n",
       "17             18           babies\n",
       "18             19           snacks\n",
       "19             20             deli\n",
       "20             21          missing"
      ]
     },
     "metadata": {},
     "output_type": "display_data"
    }
   ],
   "source": [
    "# display DataFrame information\n",
    "df_departments.info()\n",
    "\n",
    "display(df_departments)"
   ]
  },
  {
   "cell_type": "code",
   "execution_count": 8,
   "id": "6fc81694",
   "metadata": {
    "id": "6fc81694"
   },
   "outputs": [
    {
     "name": "stdout",
     "output_type": "stream",
     "text": [
      "<class 'pandas.core.frame.DataFrame'>\n",
      "RangeIndex: 4545007 entries, 0 to 4545006\n",
      "Data columns (total 4 columns):\n",
      " #   Column             Non-Null Count    Dtype  \n",
      "---  ------             --------------    -----  \n",
      " 0   order_id           4545007 non-null  int64  \n",
      " 1   product_id         4545007 non-null  int64  \n",
      " 2   add_to_cart_order  4544171 non-null  float64\n",
      " 3   reordered          4545007 non-null  int64  \n",
      "dtypes: float64(1), int64(3)\n",
      "memory usage: 138.7 MB\n"
     ]
    },
    {
     "data": {
      "text/html": [
       "<div>\n",
       "<style scoped>\n",
       "    .dataframe tbody tr th:only-of-type {\n",
       "        vertical-align: middle;\n",
       "    }\n",
       "\n",
       "    .dataframe tbody tr th {\n",
       "        vertical-align: top;\n",
       "    }\n",
       "\n",
       "    .dataframe thead th {\n",
       "        text-align: right;\n",
       "    }\n",
       "</style>\n",
       "<table border=\"1\" class=\"dataframe\">\n",
       "  <thead>\n",
       "    <tr style=\"text-align: right;\">\n",
       "      <th></th>\n",
       "      <th>order_id</th>\n",
       "      <th>product_id</th>\n",
       "      <th>add_to_cart_order</th>\n",
       "      <th>reordered</th>\n",
       "    </tr>\n",
       "  </thead>\n",
       "  <tbody>\n",
       "    <tr>\n",
       "      <th>0</th>\n",
       "      <td>2141543</td>\n",
       "      <td>11440</td>\n",
       "      <td>17.0</td>\n",
       "      <td>0</td>\n",
       "    </tr>\n",
       "    <tr>\n",
       "      <th>1</th>\n",
       "      <td>567889</td>\n",
       "      <td>1560</td>\n",
       "      <td>1.0</td>\n",
       "      <td>1</td>\n",
       "    </tr>\n",
       "    <tr>\n",
       "      <th>2</th>\n",
       "      <td>2261212</td>\n",
       "      <td>26683</td>\n",
       "      <td>1.0</td>\n",
       "      <td>1</td>\n",
       "    </tr>\n",
       "    <tr>\n",
       "      <th>3</th>\n",
       "      <td>491251</td>\n",
       "      <td>8670</td>\n",
       "      <td>35.0</td>\n",
       "      <td>1</td>\n",
       "    </tr>\n",
       "    <tr>\n",
       "      <th>4</th>\n",
       "      <td>2571142</td>\n",
       "      <td>1940</td>\n",
       "      <td>5.0</td>\n",
       "      <td>1</td>\n",
       "    </tr>\n",
       "    <tr>\n",
       "      <th>...</th>\n",
       "      <td>...</td>\n",
       "      <td>...</td>\n",
       "      <td>...</td>\n",
       "      <td>...</td>\n",
       "    </tr>\n",
       "    <tr>\n",
       "      <th>4545002</th>\n",
       "      <td>577211</td>\n",
       "      <td>15290</td>\n",
       "      <td>12.0</td>\n",
       "      <td>1</td>\n",
       "    </tr>\n",
       "    <tr>\n",
       "      <th>4545003</th>\n",
       "      <td>1219554</td>\n",
       "      <td>21914</td>\n",
       "      <td>9.0</td>\n",
       "      <td>0</td>\n",
       "    </tr>\n",
       "    <tr>\n",
       "      <th>4545004</th>\n",
       "      <td>692640</td>\n",
       "      <td>47766</td>\n",
       "      <td>4.0</td>\n",
       "      <td>1</td>\n",
       "    </tr>\n",
       "    <tr>\n",
       "      <th>4545005</th>\n",
       "      <td>319435</td>\n",
       "      <td>691</td>\n",
       "      <td>8.0</td>\n",
       "      <td>1</td>\n",
       "    </tr>\n",
       "    <tr>\n",
       "      <th>4545006</th>\n",
       "      <td>1398151</td>\n",
       "      <td>28733</td>\n",
       "      <td>9.0</td>\n",
       "      <td>0</td>\n",
       "    </tr>\n",
       "  </tbody>\n",
       "</table>\n",
       "<p>4545007 rows × 4 columns</p>\n",
       "</div>"
      ],
      "text/plain": [
       "         order_id  product_id  add_to_cart_order  reordered\n",
       "0         2141543       11440               17.0          0\n",
       "1          567889        1560                1.0          1\n",
       "2         2261212       26683                1.0          1\n",
       "3          491251        8670               35.0          1\n",
       "4         2571142        1940                5.0          1\n",
       "...           ...         ...                ...        ...\n",
       "4545002    577211       15290               12.0          1\n",
       "4545003   1219554       21914                9.0          0\n",
       "4545004    692640       47766                4.0          1\n",
       "4545005    319435         691                8.0          1\n",
       "4545006   1398151       28733                9.0          0\n",
       "\n",
       "[4545007 rows x 4 columns]"
      ]
     },
     "metadata": {},
     "output_type": "display_data"
    }
   ],
   "source": [
    "# display DataFrame information\n",
    "df_order.info(show_counts=True)\n",
    "\n",
    "display (df_order)"
   ]
  },
  {
   "cell_type": "markdown",
   "id": "t75BD19oaR5f",
   "metadata": {
    "id": "t75BD19oaR5f"
   },
   "source": [
    "## Conclusions\n",
    "\n",
    "Write here your intermediate conclusions about Step 1. Data Description.\n",
    "\n",
    "R/ Each DataFrame uses ';' as a delimiter, each column name is written in lowercase and separated by '_'.\n",
    "\n",
    "1. **df_instacart_orders**\n",
    "    * The data in this DataFrame consists of integers (1 column) and floats (5 columns), both 64-bit.\n",
    "    * The column `days_since_prior_order` has 28,819 missing values in total.\n",
    "    * Contains 6 columns.\n",
    "    * Has no null values.\n",
    "    * A total of 478,967 entries.\n",
    "\n",
    "2. **df_products**\n",
    "    * Composed of 4 columns.\n",
    "    * No null or missing values.\n",
    "    * 3 columns have 64-bit integer values, and 1 column is of string type.\n",
    "    * A total of 49,694 entries.\n",
    "\n",
    "3. **df_aisles**\n",
    "    * Composed of 2 columns.\n",
    "    * One column is a 64-bit integer, and the other is a string type.\n",
    "    * No null or missing data.\n",
    "    * A total of 134 entries.\n",
    "\n",
    "4. **df_departments**\n",
    "    * Composed of 2 columns.\n",
    "    * One column is a 64-bit integer, and the other is a string type.\n",
    "    * No null or missing data.\n",
    "    * A total of 21 entries.\n",
    "\n",
    "5. **df_order**\n",
    "    * Composed of 4 columns.\n",
    "    * One column is a 64-bit float, and the other 3 are 64-bit integers.\n",
    "    * A total of 4,545,007 entries.\n",
    "    * Contains 836 null or missing values in the column `add_to_cart_order`."
   ]
  },
  {
   "cell_type": "markdown",
   "id": "f179f0a9",
   "metadata": {
    "id": "f179f0a9"
   },
   "source": [
    "# Step 2. Data Preprocessing\n",
    "\n",
    "Preprocess the data as follows:\n",
    "\n",
    "- Check and correct the data types (for example, make sure that ID columns are integers).\n",
    "- Identify and fill in missing values.\n",
    "- Identify and remove duplicate values.\n",
    "\n",
    "Make sure to explain what types of missing and duplicate values you found, how you filled or removed them, and why you used those methods. Why do you think these missing and duplicate values might have been present in the dataset?\n",
    "\n",
    "## Solution Plan\n",
    "\n",
    "Write your plan for Step 2. Data Preprocessing here.\n",
    "\n",
    "R/\n",
    "- If any column contains invalid data according to its processing (quantitative or categorical), it will be changed to the indicated type.\n",
    "- I would identify rows containing missing values and fill them.\n",
    "- I would search for rows that are identical in all columns and, depending on the information they contain and their importance, I would either remove or keep them to avoid affecting the case study.\n",
    "\n",
    "## Find and remove duplicate values (and describe how you made your decisions).\n",
    "\n",
    "### `orders` data frame"
   ]
  },
  {
   "cell_type": "code",
   "execution_count": 9,
   "id": "b99297a5-405a-463d-8535-9adc3da4ad74",
   "metadata": {
    "id": "b99297a5-405a-463d-8535-9adc3da4ad74"
   },
   "outputs": [
    {
     "name": "stdout",
     "output_type": "stream",
     "text": [
      "15\n"
     ]
    }
   ],
   "source": [
    "# Check for duplicate orders\n",
    "duplicated_orders = df_instacart_orders.duplicated()\n",
    "print (duplicated_orders.sum())\n"
   ]
  },
  {
   "cell_type": "markdown",
   "id": "PEkwUX_gvt5A",
   "metadata": {
    "id": "PEkwUX_gvt5A"
   },
   "source": [
    "Do you have duplicate rows? If yes, what do they have in common?\n",
    "\n",
    "A/\n",
    "- They are explicit duplicates (identical rows), usually generated by the system when 'days_since_prior_order' has missing values."
   ]
  },
  {
   "cell_type": "code",
   "execution_count": 10,
   "id": "0d44de5d",
   "metadata": {
    "id": "0d44de5d"
   },
   "outputs": [
    {
     "data": {
      "text/html": [
       "<div>\n",
       "<style scoped>\n",
       "    .dataframe tbody tr th:only-of-type {\n",
       "        vertical-align: middle;\n",
       "    }\n",
       "\n",
       "    .dataframe tbody tr th {\n",
       "        vertical-align: top;\n",
       "    }\n",
       "\n",
       "    .dataframe thead th {\n",
       "        text-align: right;\n",
       "    }\n",
       "</style>\n",
       "<table border=\"1\" class=\"dataframe\">\n",
       "  <thead>\n",
       "    <tr style=\"text-align: right;\">\n",
       "      <th></th>\n",
       "      <th>order_id</th>\n",
       "      <th>user_id</th>\n",
       "      <th>order_number</th>\n",
       "      <th>order_dow</th>\n",
       "      <th>order_hour_of_day</th>\n",
       "      <th>days_since_prior_order</th>\n",
       "    </tr>\n",
       "  </thead>\n",
       "  <tbody>\n",
       "    <tr>\n",
       "      <th>4838</th>\n",
       "      <td>2766110</td>\n",
       "      <td>162084</td>\n",
       "      <td>41</td>\n",
       "      <td>3</td>\n",
       "      <td>2</td>\n",
       "      <td>16.0</td>\n",
       "    </tr>\n",
       "    <tr>\n",
       "      <th>5156</th>\n",
       "      <td>2190225</td>\n",
       "      <td>138285</td>\n",
       "      <td>18</td>\n",
       "      <td>3</td>\n",
       "      <td>2</td>\n",
       "      <td>11.0</td>\n",
       "    </tr>\n",
       "    <tr>\n",
       "      <th>15506</th>\n",
       "      <td>553049</td>\n",
       "      <td>58599</td>\n",
       "      <td>13</td>\n",
       "      <td>3</td>\n",
       "      <td>2</td>\n",
       "      <td>7.0</td>\n",
       "    </tr>\n",
       "    <tr>\n",
       "      <th>18420</th>\n",
       "      <td>382357</td>\n",
       "      <td>120200</td>\n",
       "      <td>19</td>\n",
       "      <td>3</td>\n",
       "      <td>2</td>\n",
       "      <td>11.0</td>\n",
       "    </tr>\n",
       "    <tr>\n",
       "      <th>24691</th>\n",
       "      <td>690242</td>\n",
       "      <td>77357</td>\n",
       "      <td>2</td>\n",
       "      <td>3</td>\n",
       "      <td>2</td>\n",
       "      <td>9.0</td>\n",
       "    </tr>\n",
       "    <tr>\n",
       "      <th>...</th>\n",
       "      <td>...</td>\n",
       "      <td>...</td>\n",
       "      <td>...</td>\n",
       "      <td>...</td>\n",
       "      <td>...</td>\n",
       "      <td>...</td>\n",
       "    </tr>\n",
       "    <tr>\n",
       "      <th>457013</th>\n",
       "      <td>3384021</td>\n",
       "      <td>14881</td>\n",
       "      <td>6</td>\n",
       "      <td>3</td>\n",
       "      <td>2</td>\n",
       "      <td>30.0</td>\n",
       "    </tr>\n",
       "    <tr>\n",
       "      <th>458816</th>\n",
       "      <td>910166</td>\n",
       "      <td>164782</td>\n",
       "      <td>18</td>\n",
       "      <td>3</td>\n",
       "      <td>2</td>\n",
       "      <td>4.0</td>\n",
       "    </tr>\n",
       "    <tr>\n",
       "      <th>459635</th>\n",
       "      <td>1680532</td>\n",
       "      <td>106435</td>\n",
       "      <td>6</td>\n",
       "      <td>3</td>\n",
       "      <td>2</td>\n",
       "      <td>21.0</td>\n",
       "    </tr>\n",
       "    <tr>\n",
       "      <th>468324</th>\n",
       "      <td>222962</td>\n",
       "      <td>54979</td>\n",
       "      <td>59</td>\n",
       "      <td>3</td>\n",
       "      <td>2</td>\n",
       "      <td>3.0</td>\n",
       "    </tr>\n",
       "    <tr>\n",
       "      <th>477526</th>\n",
       "      <td>2592344</td>\n",
       "      <td>46860</td>\n",
       "      <td>38</td>\n",
       "      <td>3</td>\n",
       "      <td>2</td>\n",
       "      <td>3.0</td>\n",
       "    </tr>\n",
       "  </tbody>\n",
       "</table>\n",
       "<p>121 rows × 6 columns</p>\n",
       "</div>"
      ],
      "text/plain": [
       "        order_id  user_id  order_number  order_dow  order_hour_of_day  \\\n",
       "4838     2766110   162084            41          3                  2   \n",
       "5156     2190225   138285            18          3                  2   \n",
       "15506     553049    58599            13          3                  2   \n",
       "18420     382357   120200            19          3                  2   \n",
       "24691     690242    77357             2          3                  2   \n",
       "...          ...      ...           ...        ...                ...   \n",
       "457013   3384021    14881             6          3                  2   \n",
       "458816    910166   164782            18          3                  2   \n",
       "459635   1680532   106435             6          3                  2   \n",
       "468324    222962    54979            59          3                  2   \n",
       "477526   2592344    46860            38          3                  2   \n",
       "\n",
       "        days_since_prior_order  \n",
       "4838                      16.0  \n",
       "5156                      11.0  \n",
       "15506                      7.0  \n",
       "18420                     11.0  \n",
       "24691                      9.0  \n",
       "...                        ...  \n",
       "457013                    30.0  \n",
       "458816                     4.0  \n",
       "459635                    21.0  \n",
       "468324                     3.0  \n",
       "477526                     3.0  \n",
       "\n",
       "[121 rows x 6 columns]"
      ]
     },
     "metadata": {},
     "output_type": "display_data"
    }
   ],
   "source": [
    "# Based on your findings,\n",
    "# Verify all orders made on Wednesday at 2:00 a.m.\n",
    "\n",
    "Wed_order_2am = df_instacart_orders[(df_instacart_orders['order_dow']== 3)&(df_instacart_orders['order_hour_of_day']== 2)]\n",
    "\n",
    "display (Wed_order_2am)\n"
   ]
  },
  {
   "cell_type": "markdown",
   "id": "vu2OWyoqwOx5",
   "metadata": {
    "id": "vu2OWyoqwOx5"
   },
   "source": [
    "What does this result suggest?\n",
    "\n",
    "A/ \n",
    "\n",
    "For a Wednesday at 2 a.m., this type of purchase is quite unusual. However, it can be inferred that the type of buyer has a specific food purchasing schedule due to external conditions, such as work."
   ]
  },
  {
   "cell_type": "code",
   "execution_count": 11,
   "id": "480563c7",
   "metadata": {
    "id": "480563c7"
   },
   "outputs": [],
   "source": [
    "# Remove duplicate orders\n",
    "duplicated_orders_droped= df_instacart_orders.drop_duplicates()"
   ]
  },
  {
   "cell_type": "code",
   "execution_count": 12,
   "id": "0b2396a2",
   "metadata": {
    "id": "0b2396a2"
   },
   "outputs": [
    {
     "data": {
      "text/plain": [
       "0"
      ]
     },
     "execution_count": 12,
     "metadata": {},
     "output_type": "execute_result"
    }
   ],
   "source": [
    "# Recheck for duplicate rows\n",
    "duplicated_orders_droped.duplicated().sum()"
   ]
  },
  {
   "cell_type": "code",
   "execution_count": 13,
   "id": "f6113ef1",
   "metadata": {
    "id": "f6113ef1"
   },
   "outputs": [
    {
     "name": "stdout",
     "output_type": "stream",
     "text": [
      "El número de IDs duplicados de pedidos en duplicated_orders_droped: 0\n"
     ]
    }
   ],
   "source": [
    "# Recheck only for duplicate order IDs\n",
    "\n",
    "duplicated_id_products = duplicated_orders_droped['order_id'].duplicated().sum()\n",
    "print(f\"El número de IDs duplicados de pedidos en duplicated_orders_droped: {duplicated_id_products}\")"
   ]
  },
  {
   "cell_type": "markdown",
   "id": "5e8905ae",
   "metadata": {
    "id": "5e8905ae"
   },
   "source": [
    "Briefly describe your findings and what you did with them\n",
    "\n",
    "A/\n",
    "* Duplicate values are identified, their criticality is evaluated, and the root cause of their origin is determined.\n",
    "* They are removed as they are explicit values.\n",
    "* The operation is validated both in the filtered dataframe by the given day and time, and by order ID.\n",
    "* We analyze the impact of orders placed at an unusual time."
   ]
  },
  {
   "cell_type": "markdown",
   "id": "45e6bc46",
   "metadata": {
    "id": "45e6bc46"
   },
   "source": [
    "### `products` data frame"
   ]
  },
  {
   "cell_type": "code",
   "execution_count": 14,
   "id": "5f526b5b-8175-46fa-a0fd-441767d50e64",
   "metadata": {
    "id": "5f526b5b-8175-46fa-a0fd-441767d50e64"
   },
   "outputs": [
    {
     "name": "stdout",
     "output_type": "stream",
     "text": [
      "El número de filas totalmente duplicadas en products es: 0\n"
     ]
    }
   ],
   "source": [
    "# Check for completely duplicate rows\n",
    "\n",
    "# Verify if there are completely duplicate rows\n",
    "duplicated_rows = df_products.duplicated().sum()\n",
    "\n",
    "# Print the result\n",
    "print(f\"El número de filas totalmente duplicadas en products es: {duplicated_rows}\")\n"
   ]
  },
  {
   "cell_type": "code",
   "execution_count": 15,
   "id": "88daa4f4",
   "metadata": {
    "id": "88daa4f4"
   },
   "outputs": [
    {
     "name": "stdout",
     "output_type": "stream",
     "text": [
      "El número de ID de departamentos duplicados en products es: 49673\n"
     ]
    }
   ],
   "source": [
    "# Check only for duplicate department IDs\n",
    "\n",
    "# Verify if there are duplicate department IDs in department_id\n",
    "duplicated_id_departments = df_products['department_id'].duplicated().sum()\n",
    "\n",
    "# Print the result\n",
    "print(f\"El número de ID de departamentos duplicados en products es: {duplicated_id_departments}\")"
   ]
  },
  {
   "cell_type": "code",
   "execution_count": 16,
   "id": "c773f0bf",
   "metadata": {
    "id": "c773f0bf"
   },
   "outputs": [
    {
     "name": "stdout",
     "output_type": "stream",
     "text": [
      "0                               CHOCOLATE SANDWICH COOKIES\n",
      "1                                         ALL-SEASONS SALT\n",
      "2                     ROBUST GOLDEN UNSWEETENED OOLONG TEA\n",
      "3        SMART ONES CLASSIC FAVORITES MINI RIGATONI WIT...\n",
      "4                                GREEN CHILE ANYTIME SAUCE\n",
      "                               ...                        \n",
      "49689                        HIGH PERFORMANCE ENERGY DRINK\n",
      "49690                        ORIGINAL PANCAKE & WAFFLE MIX\n",
      "49691      ORGANIC INSTANT OATMEAL LIGHT MAPLE BROWN SUGAR\n",
      "49692                               SPRING WATER BODY WASH\n",
      "49693                              BURRITO- STEAK & CHEESE\n",
      "Name: product_name, Length: 49694, dtype: object\n",
      "\n",
      "La cantidad de nombres duplicados de productos en el dataframe products es: 1361\n"
     ]
    }
   ],
   "source": [
    "# Check only for duplicate product names (convert the names to uppercase to compare them better)\n",
    "\n",
    "# Convert product names to uppercase using the upper method and as string with str\n",
    "df_products['product_name'] = df_products['product_name'].str.upper()\n",
    "\n",
    "# Print the result to verify if the operation was performed\n",
    "print(df_products['product_name'])\n",
    "print()\n",
    "\n",
    "# Check for duplicate values in the 'product_name' column and print\n",
    "df_products_duplicated = df_products['product_name'].duplicated().sum()\n",
    "print(f\"La cantidad de nombres duplicados de productos en el dataframe products es: {df_products_duplicated}\")"
   ]
  },
  {
   "cell_type": "code",
   "execution_count": 17,
   "id": "01efd02e",
   "metadata": {
    "id": "01efd02e"
   },
   "outputs": [
    {
     "name": "stdout",
     "output_type": "stream",
     "text": [
      "Número de nombres duplicados de productos no faltantes en products: 104\n"
     ]
    }
   ],
   "source": [
    "# Check if there are duplicate product names that are not missing\n",
    "\n",
    "# Remove rows with missing values in the product_name column\n",
    "products_no_NAN = df_products.dropna(subset=['product_name'])\n",
    "\n",
    "# Recheck for duplicate product names\n",
    "product_names_duplicated = products_no_NAN['product_name'].duplicated().sum()\n",
    "\n",
    "print(f\"Número de nombres duplicados de productos no faltantes en products: {product_names_duplicated}\")\n"
   ]
  },
  {
   "cell_type": "markdown",
   "id": "9da8d293",
   "metadata": {
    "id": "9da8d293"
   },
   "source": [
    "Briefly describe your findings and what you did with them.\n",
    "\n",
    "A/\n",
    "\n",
    "* By observing the product names in the `products` DataFrame, it is evident that there are no duplicate product names that are not missing. I used the `dropna()` function to remove rows with missing values in the `product_name` column, ensuring that only products with valid names are considered when identifying duplicates. Then, I used the `duplicated()` function to check if there were any duplicate product names in the cleaned dataset.\n",
    "\n",
    "* 104 duplicate products in non-missing values."
   ]
  },
  {
   "cell_type": "markdown",
   "id": "60f30db1",
   "metadata": {
    "id": "60f30db1"
   },
   "source": [
    "### `departments` data frame"
   ]
  },
  {
   "cell_type": "code",
   "execution_count": 18,
   "id": "fb410ad4-0fbf-4b80-bb09-23fdea79afe3",
   "metadata": {
    "id": "fb410ad4-0fbf-4b80-bb09-23fdea79afe3"
   },
   "outputs": [
    {
     "name": "stdout",
     "output_type": "stream",
     "text": [
      "Número de filas totalmente duplicadas: 0\n"
     ]
    }
   ],
   "source": [
    "# Check for completely duplicate rows\n",
    "\n",
    "# Verify if there are completely duplicate rows\n",
    "rows_duplicated = df_departments.duplicated().sum()\n",
    "\n",
    "# Print the result\n",
    "print(f\"Número de filas totalmente duplicadas: {rows_duplicated}\")"
   ]
  },
  {
   "cell_type": "code",
   "execution_count": 19,
   "id": "332b12bb",
   "metadata": {
    "id": "332b12bb"
   },
   "outputs": [
    {
     "name": "stdout",
     "output_type": "stream",
     "text": [
      "Número de IDs duplicados de productos: 0\n"
     ]
    }
   ],
   "source": [
    "# Check only for duplicate product IDs\n",
    "\n",
    "# Verify if there are duplicate department IDs in department_id\n",
    "products_id_duplicated= df_departments['department_id'].duplicated().sum()\n",
    "\n",
    "# Print the result\n",
    "print (f\"Número de IDs duplicados de productos: {products_id_duplicated}\")"
   ]
  },
  {
   "cell_type": "markdown",
   "id": "bd30d78e",
   "metadata": {
    "id": "bd30d78e"
   },
   "source": [
    "Briefly describe your findings and what you did with them.\n",
    "\n",
    "A/\n",
    "* After reviewing the `products` DataFrame, I found that there are no duplicate product IDs. I used the `duplicated()` function applied to the `product_id` column to identify any duplicate IDs and then counted the number of duplicated IDs.\n",
    "\n",
    "* Not finding any duplicate product IDs, I confirmed that each product ID is unique in the dataset."
   ]
  },
  {
   "cell_type": "markdown",
   "id": "889349c1",
   "metadata": {
    "id": "889349c1"
   },
   "source": [
    "### `aisles` data frame"
   ]
  },
  {
   "cell_type": "code",
   "execution_count": 20,
   "id": "9da89fb9-4679-40f5-ad0d-c34df753a3f8",
   "metadata": {
    "id": "9da89fb9-4679-40f5-ad0d-c34df753a3f8"
   },
   "outputs": [
    {
     "name": "stdout",
     "output_type": "stream",
     "text": [
      "El número de filas totalmente duplicadas en ailes es: 0\n"
     ]
    }
   ],
   "source": [
    "# Check for completely duplicate rows\n",
    "\n",
    "# Verify if there are duplicate IDs in aisles\n",
    "duplicated_ailes_rows = df_aisles.duplicated().sum()\n",
    "\n",
    "# Print the result\n",
    "print(f\"El número de filas totalmente duplicadas en ailes es: {duplicated_ailes_rows}\")"
   ]
  },
  {
   "cell_type": "code",
   "execution_count": 21,
   "id": "da7c2822",
   "metadata": {
    "id": "da7c2822"
   },
   "outputs": [
    {
     "name": "stdout",
     "output_type": "stream",
     "text": [
      "El número de ID IDs duplicadas de productos en aisles es: 0\n"
     ]
    }
   ],
   "source": [
    "# Check only for duplicate product IDs\n",
    "\n",
    "# Verify if there are duplicate product IDs in aisles_id\n",
    "duplicated_id_produc_aisles = df_aisles['aisle_id'].duplicated().sum()\n",
    "\n",
    "# Print the result\n",
    "print(f\"El número de ID IDs duplicadas de productos en aisles es: {duplicated_id_produc_aisles}\")\n",
    "\n"
   ]
  },
  {
   "cell_type": "markdown",
   "id": "ac63826f",
   "metadata": {
    "id": "ac63826f"
   },
   "source": [
    "Briefly describe your findings and what you did with them.\n",
    "\n",
    "R/\n",
    "* There are no duplicate values.\n",
    "* The duplicated() method was applied along with sum() on both the dataframe and the aisle ID, considering the latter as the product since this dataframe consists only of two columns: the ID and the aisle.\n",
    "* Upon not finding duplicate aisle IDs, I confirmed that each aisle ID is unique in the dataset."
   ]
  },
  {
   "cell_type": "markdown",
   "id": "274cd06a",
   "metadata": {
    "id": "274cd06a"
   },
   "source": [
    "### `order_products` data frame"
   ]
  },
  {
   "cell_type": "code",
   "execution_count": 22,
   "id": "52326689-84a8-4b8f-a881-7c68780f62c9",
   "metadata": {
    "id": "52326689-84a8-4b8f-a881-7c68780f62c9"
   },
   "outputs": [
    {
     "name": "stdout",
     "output_type": "stream",
     "text": [
      "El número de filas totalmente duplicadas en order es: 0\n"
     ]
    }
   ],
   "source": [
    "# Check for completely duplicate rows\n",
    "\n",
    "# Verify if there are completely duplicate rows in the order\n",
    "duplicated_order_products = df_order.duplicated().sum()\n",
    "\n",
    "# Print the result\n",
    "print(f\"El número de filas totalmente duplicadas en order es: {duplicated_order_products}\")"
   ]
  },
  {
   "cell_type": "code",
   "execution_count": 23,
   "id": "7b861391",
   "metadata": {
    "id": "7b861391"
   },
   "outputs": [
    {
     "name": "stdout",
     "output_type": "stream",
     "text": [
      "El número de duplicadas en order es: 0\n"
     ]
    }
   ],
   "source": [
    "# Recheck if there are any other misleading duplicates\n",
    "\n",
    "# Verify if there are duplicates in the order\n",
    "duplicated_order_prod = df_order.duplicated().sum()\n",
    "\n",
    "# Print the result\n",
    "print(f\"El número de duplicadas en order es: {duplicated_order_prod}\")\n"
   ]
  },
  {
   "cell_type": "markdown",
   "id": "1e46de76",
   "metadata": {
    "id": "1e46de76"
   },
   "source": [
    "Briefly describe your findings and what you did with them.\n",
    "\n",
    "A/ \n",
    "* As a result, it indicates that the `order_products` DataFrame is clean of duplicates, ensuring data integrity.\n",
    "\n",
    "## Find and eliminate missing values\n",
    "\n",
    "While working with duplicate values, we also noticed that we need to investigate missing values:\n",
    "\n",
    "* The `'product_name'` column in the `products` table.\n",
    "* The `'days_since_prior_order'` column in the `orders` table.\n",
    "* The `'add_to_cart_order'` column in the `order_products` table.\n"
   ]
  },
  {
   "cell_type": "markdown",
   "id": "c0aebd78",
   "metadata": {
    "id": "c0aebd78"
   },
   "source": [
    "### `products` data frame"
   ]
  },
  {
   "cell_type": "code",
   "execution_count": 24,
   "id": "fe4a8b0f",
   "metadata": {
    "id": "fe4a8b0f"
   },
   "outputs": [
    {
     "name": "stdout",
     "output_type": "stream",
     "text": [
      "Se encontraron 1258 valores ausentes en la columna 'product_name' del DataFrame 'products'.\n"
     ]
    }
   ],
   "source": [
    "# Find missing values in the 'product_name' column\n",
    "\n",
    "products_NaN = df_products['product_name'].isna().sum()\n",
    "\n",
    "print(f\"Se encontraron {products_NaN} valores ausentes en la columna 'product_name' del DataFrame 'products'.\")\n"
   ]
  },
  {
   "cell_type": "markdown",
   "id": "-A6x1AbJhjkp",
   "metadata": {
    "id": "-A6x1AbJhjkp"
   },
   "source": [
    "Briefly describe your findings.\n",
    "\n",
    "R /\n",
    " * There are 1258 missing values, which could lead to misinterpretation when analyzing the data."
   ]
  },
  {
   "cell_type": "code",
   "execution_count": 25,
   "id": "e96167bc",
   "metadata": {
    "id": "e96167bc"
   },
   "outputs": [
    {
     "name": "stdout",
     "output_type": "stream",
     "text": [
      "Todos los nombres de productos ausentes están relacionados con el pasillo con ID 100.\n"
     ]
    }
   ],
   "source": [
    "# Are all missing product names related to aisle with ID 100?\n",
    "df_products_ID_100 = df_products[df_products['aisle_id'] == 100]\n",
    "\n",
    "# Check for missing values in the 'product_name' column of the filtered DataFrame\n",
    "df_product_NaN_aisle_100 = df_products_ID_100['product_name'].isna().sum()\n",
    "\n",
    "\n",
    "if df_product_NaN_aisle_100 == products_NaN:\n",
    "    print (\"Todos los nombres de productos ausentes están relacionados con el pasillo con ID 100.\")\n",
    "else:\n",
    "    print(\"No todos los nombres de productos ausentes están relacionados con el pasillo con ID 100.\")\n"
   ]
  },
  {
   "cell_type": "markdown",
   "id": "WRpIfXRphpSL",
   "metadata": {
    "id": "WRpIfXRphpSL"
   },
   "source": [
    "Briefly describe your findings.\n",
    "\n",
    "A/\n",
    "\n",
    "* Each of the missing values is directly related to ID 100."
   ]
  },
  {
   "cell_type": "code",
   "execution_count": 26,
   "id": "8fd0a541",
   "metadata": {
    "id": "8fd0a541"
   },
   "outputs": [
    {
     "name": "stdout",
     "output_type": "stream",
     "text": [
      "Todos los nombres de productos ausentes están relacionados con el departamento con ID 21.\n"
     ]
    }
   ],
   "source": [
    "# Are all missing product names related to department with ID 21?\n",
    "df_products_id_21 = df_products[df_products['department_id'] == 21]\n",
    "\n",
    "# Validate if there are missing values in the 'product_name' column of the filtered DataFrame\n",
    "df_products_NaN_id_21 = df_products_id_21['product_name'].isna().sum()\n",
    "\n",
    "if df_products_NaN_id_21 == products_NaN:\n",
    "    print (\"Todos los nombres de productos ausentes están relacionados con el departamento con ID 21.\")\n",
    "else:\n",
    "    print(\"No todos los nombres de productos ausentes están relacionados con el departamento con ID 21.\")"
   ]
  },
  {
   "cell_type": "markdown",
   "id": "qDpdYn1Fht_I",
   "metadata": {
    "id": "qDpdYn1Fht_I"
   },
   "source": [
    "Briefly describe your findings.\n",
    "\n",
    "A/\n",
    "* Each of the missing values is directly related, which is limited to the department with ID 21."
   ]
  },
  {
   "cell_type": "code",
   "execution_count": 27,
   "id": "325c3464",
   "metadata": {
    "id": "325c3464"
   },
   "outputs": [
    {
     "name": "stdout",
     "output_type": "stream",
     "text": [
      "Datos del aisle id 100 son:\n"
     ]
    },
    {
     "data": {
      "text/html": [
       "<div>\n",
       "<style scoped>\n",
       "    .dataframe tbody tr th:only-of-type {\n",
       "        vertical-align: middle;\n",
       "    }\n",
       "\n",
       "    .dataframe tbody tr th {\n",
       "        vertical-align: top;\n",
       "    }\n",
       "\n",
       "    .dataframe thead th {\n",
       "        text-align: right;\n",
       "    }\n",
       "</style>\n",
       "<table border=\"1\" class=\"dataframe\">\n",
       "  <thead>\n",
       "    <tr style=\"text-align: right;\">\n",
       "      <th></th>\n",
       "      <th>product_id</th>\n",
       "      <th>product_name</th>\n",
       "      <th>aisle_id</th>\n",
       "      <th>department_id</th>\n",
       "      <th>aisle</th>\n",
       "    </tr>\n",
       "  </thead>\n",
       "  <tbody>\n",
       "    <tr>\n",
       "      <th>37</th>\n",
       "      <td>38</td>\n",
       "      <td>NaN</td>\n",
       "      <td>100</td>\n",
       "      <td>21</td>\n",
       "      <td>missing</td>\n",
       "    </tr>\n",
       "    <tr>\n",
       "      <th>71</th>\n",
       "      <td>72</td>\n",
       "      <td>NaN</td>\n",
       "      <td>100</td>\n",
       "      <td>21</td>\n",
       "      <td>missing</td>\n",
       "    </tr>\n",
       "    <tr>\n",
       "      <th>109</th>\n",
       "      <td>110</td>\n",
       "      <td>NaN</td>\n",
       "      <td>100</td>\n",
       "      <td>21</td>\n",
       "      <td>missing</td>\n",
       "    </tr>\n",
       "    <tr>\n",
       "      <th>296</th>\n",
       "      <td>297</td>\n",
       "      <td>NaN</td>\n",
       "      <td>100</td>\n",
       "      <td>21</td>\n",
       "      <td>missing</td>\n",
       "    </tr>\n",
       "    <tr>\n",
       "      <th>416</th>\n",
       "      <td>417</td>\n",
       "      <td>NaN</td>\n",
       "      <td>100</td>\n",
       "      <td>21</td>\n",
       "      <td>missing</td>\n",
       "    </tr>\n",
       "    <tr>\n",
       "      <th>...</th>\n",
       "      <td>...</td>\n",
       "      <td>...</td>\n",
       "      <td>...</td>\n",
       "      <td>...</td>\n",
       "      <td>...</td>\n",
       "    </tr>\n",
       "    <tr>\n",
       "      <th>49552</th>\n",
       "      <td>49553</td>\n",
       "      <td>NaN</td>\n",
       "      <td>100</td>\n",
       "      <td>21</td>\n",
       "      <td>missing</td>\n",
       "    </tr>\n",
       "    <tr>\n",
       "      <th>49574</th>\n",
       "      <td>49575</td>\n",
       "      <td>NaN</td>\n",
       "      <td>100</td>\n",
       "      <td>21</td>\n",
       "      <td>missing</td>\n",
       "    </tr>\n",
       "    <tr>\n",
       "      <th>49640</th>\n",
       "      <td>49641</td>\n",
       "      <td>NaN</td>\n",
       "      <td>100</td>\n",
       "      <td>21</td>\n",
       "      <td>missing</td>\n",
       "    </tr>\n",
       "    <tr>\n",
       "      <th>49663</th>\n",
       "      <td>49664</td>\n",
       "      <td>NaN</td>\n",
       "      <td>100</td>\n",
       "      <td>21</td>\n",
       "      <td>missing</td>\n",
       "    </tr>\n",
       "    <tr>\n",
       "      <th>49668</th>\n",
       "      <td>49669</td>\n",
       "      <td>NaN</td>\n",
       "      <td>100</td>\n",
       "      <td>21</td>\n",
       "      <td>missing</td>\n",
       "    </tr>\n",
       "  </tbody>\n",
       "</table>\n",
       "<p>1258 rows × 5 columns</p>\n",
       "</div>"
      ],
      "text/plain": [
       "       product_id product_name  aisle_id  department_id    aisle\n",
       "37             38          NaN       100             21  missing\n",
       "71             72          NaN       100             21  missing\n",
       "109           110          NaN       100             21  missing\n",
       "296           297          NaN       100             21  missing\n",
       "416           417          NaN       100             21  missing\n",
       "...           ...          ...       ...            ...      ...\n",
       "49552       49553          NaN       100             21  missing\n",
       "49574       49575          NaN       100             21  missing\n",
       "49640       49641          NaN       100             21  missing\n",
       "49663       49664          NaN       100             21  missing\n",
       "49668       49669          NaN       100             21  missing\n",
       "\n",
       "[1258 rows x 5 columns]"
      ]
     },
     "metadata": {},
     "output_type": "display_data"
    },
    {
     "name": "stdout",
     "output_type": "stream",
     "text": [
      "--------------------------------\n",
      "Datos del department con id 21 son:\n"
     ]
    },
    {
     "data": {
      "text/html": [
       "<div>\n",
       "<style scoped>\n",
       "    .dataframe tbody tr th:only-of-type {\n",
       "        vertical-align: middle;\n",
       "    }\n",
       "\n",
       "    .dataframe tbody tr th {\n",
       "        vertical-align: top;\n",
       "    }\n",
       "\n",
       "    .dataframe thead th {\n",
       "        text-align: right;\n",
       "    }\n",
       "</style>\n",
       "<table border=\"1\" class=\"dataframe\">\n",
       "  <thead>\n",
       "    <tr style=\"text-align: right;\">\n",
       "      <th></th>\n",
       "      <th>product_id</th>\n",
       "      <th>product_name</th>\n",
       "      <th>aisle_id</th>\n",
       "      <th>department_id</th>\n",
       "      <th>department</th>\n",
       "    </tr>\n",
       "  </thead>\n",
       "  <tbody>\n",
       "    <tr>\n",
       "      <th>37</th>\n",
       "      <td>38</td>\n",
       "      <td>NaN</td>\n",
       "      <td>100</td>\n",
       "      <td>21</td>\n",
       "      <td>missing</td>\n",
       "    </tr>\n",
       "    <tr>\n",
       "      <th>71</th>\n",
       "      <td>72</td>\n",
       "      <td>NaN</td>\n",
       "      <td>100</td>\n",
       "      <td>21</td>\n",
       "      <td>missing</td>\n",
       "    </tr>\n",
       "    <tr>\n",
       "      <th>109</th>\n",
       "      <td>110</td>\n",
       "      <td>NaN</td>\n",
       "      <td>100</td>\n",
       "      <td>21</td>\n",
       "      <td>missing</td>\n",
       "    </tr>\n",
       "    <tr>\n",
       "      <th>296</th>\n",
       "      <td>297</td>\n",
       "      <td>NaN</td>\n",
       "      <td>100</td>\n",
       "      <td>21</td>\n",
       "      <td>missing</td>\n",
       "    </tr>\n",
       "    <tr>\n",
       "      <th>416</th>\n",
       "      <td>417</td>\n",
       "      <td>NaN</td>\n",
       "      <td>100</td>\n",
       "      <td>21</td>\n",
       "      <td>missing</td>\n",
       "    </tr>\n",
       "    <tr>\n",
       "      <th>...</th>\n",
       "      <td>...</td>\n",
       "      <td>...</td>\n",
       "      <td>...</td>\n",
       "      <td>...</td>\n",
       "      <td>...</td>\n",
       "    </tr>\n",
       "    <tr>\n",
       "      <th>49552</th>\n",
       "      <td>49553</td>\n",
       "      <td>NaN</td>\n",
       "      <td>100</td>\n",
       "      <td>21</td>\n",
       "      <td>missing</td>\n",
       "    </tr>\n",
       "    <tr>\n",
       "      <th>49574</th>\n",
       "      <td>49575</td>\n",
       "      <td>NaN</td>\n",
       "      <td>100</td>\n",
       "      <td>21</td>\n",
       "      <td>missing</td>\n",
       "    </tr>\n",
       "    <tr>\n",
       "      <th>49640</th>\n",
       "      <td>49641</td>\n",
       "      <td>NaN</td>\n",
       "      <td>100</td>\n",
       "      <td>21</td>\n",
       "      <td>missing</td>\n",
       "    </tr>\n",
       "    <tr>\n",
       "      <th>49663</th>\n",
       "      <td>49664</td>\n",
       "      <td>NaN</td>\n",
       "      <td>100</td>\n",
       "      <td>21</td>\n",
       "      <td>missing</td>\n",
       "    </tr>\n",
       "    <tr>\n",
       "      <th>49668</th>\n",
       "      <td>49669</td>\n",
       "      <td>NaN</td>\n",
       "      <td>100</td>\n",
       "      <td>21</td>\n",
       "      <td>missing</td>\n",
       "    </tr>\n",
       "  </tbody>\n",
       "</table>\n",
       "<p>1258 rows × 5 columns</p>\n",
       "</div>"
      ],
      "text/plain": [
       "       product_id product_name  aisle_id  department_id department\n",
       "37             38          NaN       100             21    missing\n",
       "71             72          NaN       100             21    missing\n",
       "109           110          NaN       100             21    missing\n",
       "296           297          NaN       100             21    missing\n",
       "416           417          NaN       100             21    missing\n",
       "...           ...          ...       ...            ...        ...\n",
       "49552       49553          NaN       100             21    missing\n",
       "49574       49575          NaN       100             21    missing\n",
       "49640       49641          NaN       100             21    missing\n",
       "49663       49664          NaN       100             21    missing\n",
       "49668       49669          NaN       100             21    missing\n",
       "\n",
       "[1258 rows x 5 columns]"
      ]
     },
     "metadata": {},
     "output_type": "display_data"
    }
   ],
   "source": [
    "# Use the department and aisle tables to check data for aisle with ID 100 and department with ID 21.\n",
    "\n",
    "df_product_id_aisle_100 = df_products.merge(df_aisles,on='aisle_id',how='left')\n",
    "\n",
    "df_product_id_department_21 = df_products.merge(df_departments,on='department_id',how='left')\n",
    "\n",
    "\n",
    "df_product_id_aisle_100_filtered = df_product_id_aisle_100 [df_product_id_aisle_100['aisle_id']== 100]\n",
    "\n",
    "df_product_id_department_21_filtered = df_product_id_department_21 [df_product_id_department_21['department_id']== 21]\n",
    "\n",
    "print (\"Datos del aisle id 100 son:\")\n",
    "display (df_product_id_aisle_100_filtered)\n",
    "print('--------------------------------')\n",
    "print (\"Datos del department con id 21 son:\")\n",
    "display (df_product_id_department_21_filtered)"
   ]
  },
  {
   "cell_type": "markdown",
   "id": "nqhSTUPhhvEJ",
   "metadata": {
    "id": "nqhSTUPhhvEJ"
   },
   "source": [
    "Briefly describe your findings."
   ]
  },
  {
   "cell_type": "code",
   "execution_count": 28,
   "id": "6b295120",
   "metadata": {
    "id": "6b295120"
   },
   "outputs": [
    {
     "name": "stdout",
     "output_type": "stream",
     "text": [
      "0\n"
     ]
    }
   ],
   "source": [
    "# Complete missing product names with 'Unknown'\n",
    "\n",
    "# Perform the filling of missing names\n",
    "df_products['product_name'].fillna('Unknown', inplace=True)\n",
    "\n",
    "# Validate if the operation was done using the isna() method in combination with sum()\n",
    "df_products_Ausentes = df_products['product_name'].isna().sum()\n",
    "\n",
    "# Print the result\n",
    "print(df_products_Ausentes)\n"
   ]
  },
  {
   "cell_type": "markdown",
   "id": "fc70e5ad",
   "metadata": {
    "id": "fc70e5ad"
   },
   "source": [
    "Briefly describe your findings and what you did with them.\n",
    "\n",
    "A/\n",
    "\n",
    "* Completing the missing values allows us to have a more readable dataframe for interpretation."
   ]
  },
  {
   "cell_type": "markdown",
   "id": "7eb45c86",
   "metadata": {
    "id": "7eb45c86"
   },
   "source": [
    "### `orders` data frame"
   ]
  },
  {
   "cell_type": "code",
   "execution_count": 29,
   "id": "93e41d96",
   "metadata": {
    "id": "93e41d96"
   },
   "outputs": [
    {
     "name": "stdout",
     "output_type": "stream",
     "text": [
      "order_id                      0\n",
      "user_id                       0\n",
      "order_number                  0\n",
      "order_dow                     0\n",
      "order_hour_of_day             0\n",
      "days_since_prior_order    28819\n",
      "dtype: int64\n"
     ]
    }
   ],
   "source": [
    "# Find missing values\n",
    "\n",
    "df_orders_nan = df_instacart_orders.isna().sum()\n",
    "\n",
    "print(df_orders_nan)"
   ]
  },
  {
   "cell_type": "code",
   "execution_count": 30,
   "id": "166e5a86",
   "metadata": {
    "id": "166e5a86"
   },
   "outputs": [
    {
     "name": "stdout",
     "output_type": "stream",
     "text": [
      "Se encontraron: 836 valores ausentes que no son el primer pedido del cliente\n"
     ]
    }
   ],
   "source": [
    "# Are there any missing values that aren't the first customer order?\n",
    "\n",
    "df_order_nan_dif = df_instacart_orders[(df_instacart_orders['days_since_prior_order'].isna()) & (df_instacart_orders['order_number']!=1)]\n",
    "\n",
    "\n",
    "print(f\"Se encontraron: {df_order ['add_to_cart_order'].isna().sum()} valores ausentes que no son el primer pedido del cliente\")\n"
   ]
  },
  {
   "cell_type": "markdown",
   "id": "4e23d089",
   "metadata": {
    "id": "4e23d089"
   },
   "source": [
    "Briefly describe your findings and what you did with them."
   ]
  },
  {
   "cell_type": "markdown",
   "id": "69dc9ca4",
   "metadata": {
    "id": "69dc9ca4"
   },
   "source": [
    "### `order_products` data frame"
   ]
  },
  {
   "cell_type": "code",
   "execution_count": 31,
   "id": "b8240253",
   "metadata": {
    "id": "b8240253"
   },
   "outputs": [
    {
     "name": "stdout",
     "output_type": "stream",
     "text": [
      "order_id               0\n",
      "product_id             0\n",
      "add_to_cart_order    836\n",
      "reordered              0\n",
      "dtype: int64\n"
     ]
    }
   ],
   "source": [
    "# Find missing values\n",
    "\n",
    "df_orders_products_nan = df_order.isna().sum()\n",
    "\n",
    "print(df_orders_products_nan)"
   ]
  },
  {
   "cell_type": "code",
   "execution_count": 32,
   "id": "9a78e5ee",
   "metadata": {
    "id": "9a78e5ee"
   },
   "outputs": [
    {
     "name": "stdout",
     "output_type": "stream",
     "text": [
      "Valor minimo: 1.0\n",
      "Valor minimo: 64.0\n"
     ]
    }
   ],
   "source": [
    "# What are the minimum and maximum values in this column?\n",
    "\n",
    "df_orders_products_min = df_order['add_to_cart_order'].min()\n",
    "\n",
    "df_orders_products_max = df_order['add_to_cart_order'].max()\n",
    "\n",
    "print(f\"Valor minimo: {df_orders_products_min}\")\n",
    "print(f\"Valor minimo: {df_orders_products_max}\")"
   ]
  },
  {
   "cell_type": "markdown",
   "id": "-Z2Ja215jW78",
   "metadata": {
    "id": "-Z2Ja215jW78"
   },
   "source": [
    "Briefly describe your findings.\n",
    "\n",
    "A/ \n",
    "* When evaluating the order dataframe, missing values are found in the add_to_cart_order column.\n",
    "* The minimum value tells us that 1 is the first item added to the cart, while 64 indicates the maximum value added."
   ]
  },
  {
   "cell_type": "code",
   "execution_count": 33,
   "id": "ab9d0c2b",
   "metadata": {
    "id": "ab9d0c2b"
   },
   "outputs": [
    {
     "name": "stdout",
     "output_type": "stream",
     "text": [
      "IDs de pedidos con un valor ausente en 'add_to_cart_order'son :\n",
      "\n",
      "[2449164 1968313 2926893 1717990 1959075  844733   61355  936852  264710\n",
      " 1564093  129627  293169 2849370 1386261 3308010  903110 2136777 3347453\n",
      " 1888628  165801 2094761 1038146 2997021  813364 2256933  171934 2409109\n",
      " 1730767 1169835  733526  404157 3125735  747668 1800005 1961723  871281\n",
      "  388234 1648217 1477139  102236 1021563 1832957 2721963  678116 1220886\n",
      " 1673227 2999801 1633337 2470674 2625444 1677118 2479011 3383594 1183255\n",
      " 1713430 2652650 1598369 1916118  854647 1302315  888470  180546 2621907\n",
      " 1308785 2729254    9310 2170451 2979697 1625713 1529171]\n"
     ]
    }
   ],
   "source": [
    "# Save all order IDs with a missing value in 'add_to_cart_order'\n",
    "\n",
    "# Filter out missing values in the 'add_to_cart_order' column by assigning them to a variable\n",
    "add_to_cart_order_nan = df_order[df_order['add_to_cart_order'].isna()]\n",
    "\n",
    "# Store the order IDs that correspond to the missing values in 'add_to_cart_order' in a variable\n",
    "df_add_to_cart_order_nan = add_to_cart_order_nan['order_id'].unique()\n",
    "\n",
    "# Print the result\n",
    "print (f\"IDs de pedidos con un valor ausente en 'add_to_cart_order'son :\")\n",
    "print()\n",
    "print(df_add_to_cart_order_nan)"
   ]
  },
  {
   "cell_type": "code",
   "execution_count": 34,
   "id": "54c31695",
   "metadata": {
    "id": "54c31695"
   },
   "outputs": [
    {
     "name": "stdout",
     "output_type": "stream",
     "text": [
      "Sí, al menos un pedido con datos ausentes tiene menos de 64 productos. Contando con un valor min de: 1\n"
     ]
    }
   ],
   "source": [
    "# Do all orders with missing values have more than 64 products?\n",
    "# Group all orders with missing data by their order ID.\n",
    "# Count the number of 'product_id' in each order and check the minimum count value.\n",
    "\n",
    "# Group all orders with missing data by 'order_id' and count the number of 'product_id' in each order\n",
    "df_add_to_cart_order_nan_grouped = add_to_cart_order_nan.groupby('order_id').size()\n",
    "\n",
    "# Check the minimum count value of 'product_id' in orders with missing data\n",
    "min_id_products_count_nan = df_add_to_cart_order_nan_grouped.min()\n",
    "\n",
    "# Verify if any order has fewer than 64 products\n",
    "if min_id_products_count_nan < 64:\n",
    "    print(f\"Sí, al menos un pedido con datos ausentes tiene menos de 64 productos. Contando con un valor min de: {min_id_products_count_nan}\")\n",
    "else:\n",
    "    print(f\"No, todos los pedidos con datos ausentes tienen al menos 64 productos. Contando con un valor min de: {min_id_products_count_nan}\")\n",
    "\n"
   ]
  },
  {
   "cell_type": "markdown",
   "id": "p9V6pddtjglj",
   "metadata": {
    "id": "p9V6pddtjglj"
   },
   "source": [
    "Briefly describe your findings.\n",
    "\n",
    "A/\n",
    "* For the analysis, we used size() since it returns the total number of elements in each group, including NaN elements. On the other hand, count() returns the number of non-null elements in each group, and in this case, we will evaluate null values."
   ]
  },
  {
   "cell_type": "code",
   "execution_count": 35,
   "id": "7a987d08",
   "metadata": {
    "id": "7a987d08"
   },
   "outputs": [
    {
     "name": "stdout",
     "output_type": "stream",
     "text": [
      "Valores ausentes en la columna 'add_to_cart_order' : 0\n",
      "-----------------------------------------------\n",
      "<class 'pandas.core.frame.DataFrame'>\n",
      "RangeIndex: 4545007 entries, 0 to 4545006\n",
      "Data columns (total 4 columns):\n",
      " #   Column             Dtype\n",
      "---  ------             -----\n",
      " 0   order_id           int64\n",
      " 1   product_id         int64\n",
      " 2   add_to_cart_order  int64\n",
      " 3   reordered          int64\n",
      "dtypes: int64(4)\n",
      "memory usage: 138.7 MB\n",
      "None\n"
     ]
    }
   ],
   "source": [
    "# Replace missing values in the 'add_to_cart' column with 999 and convert the column to integer type.\n",
    "\n",
    "# Replace missing values in 'add_to_cart' with 999 using fillna()\n",
    "df_order['add_to_cart_order'].fillna(999, inplace=True)\n",
    "\n",
    "# Convert the 'add_to_cart_order' column to integer type using astype()\n",
    "df_order['add_to_cart_order'] = df_order['add_to_cart_order'].astype(int)\n",
    "\n",
    "# Verify the operation on each column\n",
    "\n",
    "print(f\"Valores ausentes en la columna 'add_to_cart_order' : {df_order['add_to_cart_order'].isna().sum()}\")\n",
    "print('-----------------------------------------------')\n",
    "print(df_order.info())"
   ]
  },
  {
   "cell_type": "markdown",
   "id": "RnplPFY1gSrb",
   "metadata": {
    "id": "RnplPFY1gSrb"
   },
   "source": [
    "### Briefly describe your findings and what you did with them.\n",
    "\n",
    "A/\n",
    "\n",
    "* Missing values were replaced with the given value.\n",
    "* The column was converted to integer values for further analysis if a mathematical operation is required.\n",
    "* We verified if the changes were made successfully.\n",
    "* Executing each of these actions does not guarantee a more reliable database for manipulation and analysis.\n",
    "\n",
    "A/\n",
    "\n",
    "* It could be considered unusual since it is expected that customers do not make such large purchases frequently.\n",
    "\n",
    "## Conclusions\n",
    "\n",
    "Write your intermediate conclusions about Step 2: Data Preprocessing.\n",
    "\n",
    "A/\n",
    "\n",
    "* Various preprocessing tasks were executed, such as cleaning missing and duplicate values.\n",
    "* Missing and Duplicate Value Cleaning: Values in columns were adjusted according to the content, missing values were completed, and finally, the data's accuracy was verified."
   ]
  },
  {
   "cell_type": "markdown",
   "id": "turkish-kidney",
   "metadata": {
    "id": "turkish-kidney"
   },
   "source": [
    "# Step 3. Data Analysis\n",
    "\n",
    "Once the data is processed and ready, perform the following analysis:\n",
    "\n",
    "# [A] Easy (all must be completed to pass)\n",
    "\n",
    "1. Verify that the values in the columns `'order_hour_of_day'` and `'order_dow'` in the orders table are reasonable (i.e., `'order_hour_of_day'` should range from 0 to 23, and `'order_dow'` should range from 0 to 6).\n",
    "2. Create a plot showing the number of people placing orders depending on the hour of the day.\n",
    "3. Create a plot showing which day of the week people are making their purchases.\n",
    "4. Create a plot showing the time people wait before placing their next order, and comment on the minimum and maximum values.\n"
   ]
  },
  {
   "cell_type": "code",
   "execution_count": 36,
   "id": "b3bd569d",
   "metadata": {},
   "outputs": [
    {
     "name": "stdout",
     "output_type": "stream",
     "text": [
      "Valores únicos en 'order_hour_of_day': [13 12 19 20 11  8 18 15 16  9 22 10  0 14 17  1  7  6  2 21  3 23  5  4]\n",
      "¿Todos los valores en 'order_hour_of_day' son razonables? True\n",
      "Valores únicos en 'order_dow': [6 5 0 4 3 1 2]\n",
      "¿Todos los valores en 'order_dow' son razonables? True\n"
     ]
    }
   ],
   "source": [
    "# Verify 'order_hour_of_day' (0 to 23)\n",
    "\n",
    "unique_order_hours_of_day = df_instacart_orders['order_hour_of_day'].unique()\n",
    "valid_order_hour_of_day= (unique_order_hours_of_day >= 0) & (unique_order_hours_of_day <= 23)\n",
    "print(\"Valores únicos en 'order_hour_of_day':\", unique_order_hours_of_day)\n",
    "print(\"¿Todos los valores en 'order_hour_of_day' son razonables?\", valid_order_hour_of_day.all())\n",
    "\n",
    "# Verify 'order_dow' (0 to 6)\n",
    "unique_order_dow = df_instacart_orders['order_dow'].unique()\n",
    "valid_order_dow = (unique_order_dow >= 0) & (unique_order_dow <= 6)\n",
    "print(\"Valores únicos en 'order_dow':\", unique_order_dow)\n",
    "print(\"¿Todos los valores en 'order_dow' son razonables?\", valid_order_dow.all())"
   ]
  },
  {
   "cell_type": "code",
   "execution_count": 37,
   "id": "4aa7b864",
   "metadata": {},
   "outputs": [
    {
     "data": {
      "image/png": "[encoded data removed]",
      "text/plain": [
       "<Figure size 640x480 with 1 Axes>"
      ]
     },
     "metadata": {},
     "output_type": "display_data"
    }
   ],
   "source": [
    "\n",
    "# Count the number of orders in each hour of the day using count() and assigning an index to separate the columns for the axes of the chart\n",
    "df_hourly_orders = df_instacart_orders.groupby('order_hour_of_day')['order_id'].count().reset_index(name='order_count')\n",
    "\n",
    "\n",
    "# Set up the chart and assign values to display \n",
    "df_hourly_orders.plot (x='order_hour_of_day',\n",
    "                   y='order_count',\n",
    "                   kind='bar',\n",
    "                   title='Order FLow',\n",
    "                   xlabel='hour of day',\n",
    "                   ylabel='orders',\n",
    "                   legend=False,\n",
    "                   color='green'\n",
    "                   )\n",
    "# Plot the graph\n",
    "plt.show()\n",
    "\n"
   ]
  },
  {
   "cell_type": "code",
   "execution_count": 38,
   "id": "8bed2ebd",
   "metadata": {},
   "outputs": [
    {
     "data": {
      "image/png": "[encoded data removed]",
      "text/plain": [
       "<Figure size 640x480 with 1 Axes>"
      ]
     },
     "metadata": {},
     "output_type": "display_data"
    }
   ],
   "source": [
    "# Count the number of orders by day using count() and assigning an index to separate the columns for the axes of the chart\n",
    "df_daily_orders = df_instacart_orders.groupby('order_dow')['order_id'].count().reset_index(name='order_count')\n",
    "\n",
    "# Set up the chart and assign values to display\n",
    "df_daily_orders.plot (x='order_dow',\n",
    "                   y='order_count',\n",
    "                   kind='bar',\n",
    "                   title='Order FLow',\n",
    "                   xlabel='day of week',\n",
    "                   ylabel='orders',\n",
    "                   rot=0,\n",
    "                   legend=False,\n",
    "                   color='blue',                   \n",
    "                   )\n",
    "# Plot the graph\n",
    "plt.show()\n"
   ]
  },
  {
   "cell_type": "code",
   "execution_count": 39,
   "id": "aec1950e",
   "metadata": {},
   "outputs": [
    {
     "data": {
      "image/png": "[encoded data removed]",
      "text/plain": [
       "<Figure size 1000x800 with 1 Axes>"
      ]
     },
     "metadata": {},
     "output_type": "display_data"
    }
   ],
   "source": [
    "# Count the number of orders by days since the previous order\n",
    "days_since_order = df_instacart_orders['days_since_prior_order'].value_counts().sort_index()\n",
    "\n",
    "# Create a dictionary to assign a name to each data row with indexes and values\n",
    "data = {\n",
    "    'days_since_prior_order': days_since_order.index,\n",
    "    'counts': days_since_order.values\n",
    "}\n",
    "\n",
    "# Create the DataFrame\n",
    "df_daily_orders= pd.DataFrame(data)\n",
    "\n",
    "# Set up the chart and assign values to display\n",
    "df_daily_orders.plot (\n",
    "                   kind='bar',\n",
    "                   title='Wait time',\n",
    "                   xlabel='days',\n",
    "                   ylabel='orders',\n",
    "                   rot=0,\n",
    "                   legend=False,\n",
    "                   color='red',\n",
    "                   figsize=[10,8]\n",
    "                   )\n",
    "# Plot the graph\n",
    "plt.show()\n",
    "\n"
   ]
  },
  {
   "cell_type": "markdown",
   "id": "short-capability",
   "metadata": {
    "id": "short-capability"
   },
   "source": [
    "### [A1] Verify that the values are sensitive"
   ]
  },
  {
   "cell_type": "code",
   "execution_count": 40,
   "id": "growing-fruit",
   "metadata": {
    "id": "growing-fruit"
   },
   "outputs": [
    {
     "ename": "NameError",
     "evalue": "name 'dow_out_of_range' is not defined",
     "output_type": "error",
     "traceback": [
      "\u001b[0;31m---------------------------------------------------------------------------\u001b[0m",
      "\u001b[0;31mNameError\u001b[0m                                 Traceback (most recent call last)",
      "Cell \u001b[0;32mIn[40], line 9\u001b[0m\n\u001b[1;32m      6\u001b[0m \u001b[38;5;66;03m# evaluamos si hay valores fuera del rango esperado\u001b[39;00m\n\u001b[1;32m      7\u001b[0m hours_out_of_range \u001b[38;5;241m=\u001b[39m \u001b[38;5;28mmax\u001b[39m(unique_hours) \u001b[38;5;241m>\u001b[39m \u001b[38;5;241m23\u001b[39m \u001b[38;5;129;01mor\u001b[39;00m \u001b[38;5;28mmin\u001b[39m(unique_hours) \u001b[38;5;241m<\u001b[39m \u001b[38;5;241m0\u001b[39m\n\u001b[0;32m----> 9\u001b[0m \u001b[38;5;28;01mif\u001b[39;00m hours_out_of_range \u001b[38;5;129;01mor\u001b[39;00m \u001b[43mdow_out_of_range\u001b[49m:\n\u001b[1;32m     10\u001b[0m     \u001b[38;5;28mprint\u001b[39m(\u001b[38;5;124m\"\u001b[39m\u001b[38;5;124mHay valores fuera del rango esperado en \u001b[39m\u001b[38;5;124m'\u001b[39m\u001b[38;5;124morder_hour_of_day\u001b[39m\u001b[38;5;124m'\u001b[39m\u001b[38;5;124m.\u001b[39m\u001b[38;5;124m\"\u001b[39m)\n\u001b[1;32m     11\u001b[0m \u001b[38;5;28;01melse\u001b[39;00m:\n",
      "\u001b[0;31mNameError\u001b[0m: name 'dow_out_of_range' is not defined"
     ]
    }
   ],
   "source": [
    "# When talking about sensitive values in the 'order_hour_of_day' and 'order_dow' columns, it means that the values are within the expected range and are consistent with what we expect for those columns.\n",
    "\n",
    "# Check unique values in 'order_hour_of_day' and 'order_dow'\n",
    "unique_hours =  df_instacart_orders['order_hour_of_day'].unique()\n",
    "\n",
    "# Evaluate if there are values outside the expected range\n",
    "hours_out_of_range = max(unique_hours) > 23 or min(unique_hours) < 0\n",
    "\n",
    "if hours_out_of_range:\n",
    "    print(\"Hay valores fuera del rango esperado en 'order_hour_of_day'.\")\n",
    "else:\n",
    "    print(\"Los valores en 'order_hour_of_day' son sensibles.\")"
   ]
  },
  {
   "cell_type": "code",
   "execution_count": null,
   "id": "accessory-malaysia",
   "metadata": {
    "id": "accessory-malaysia"
   },
   "outputs": [],
   "source": [
    "# When talking about sensitive values in the 'order_hour_of_day' and 'order_dow' columns, it means that the values are within the expected range and are consistent with what we expect for those columns.\n",
    "\n",
    "# Check unique values in 'order_hour_of_day' and 'order_dow'\n",
    "unique_dow =  df_instacart_orders['order_dow'].unique()\n",
    "\n",
    "# Evaluate if there are values outside the expected range\n",
    "hours_out_of_range = max(unique_hours) > 23 or min(unique_hours) < 0\n",
    "dow_out_of_range = max(unique_dow) > 6 or min(unique_dow) < 0\n",
    "\n",
    "if dow_out_of_range:\n",
    "    print(\"Hay valores fuera del rango esperado en 'order_dow'.\")\n",
    "else:\n",
    "    print(\"Los valores en 'order_dow' son sensibles.\")"
   ]
  },
  {
   "cell_type": "markdown",
   "id": "a6743a70",
   "metadata": {
    "id": "a6743a70"
   },
   "source": [
    "Write your conclusions here\n",
    "\n",
    "R / The values of each analyzed variable are in accordance with what was expected.\n",
    "\n",
    "### [A2] For each hour of the day, how many people place orders?\n"
   ]
  },
  {
   "cell_type": "code",
   "execution_count": null,
   "id": "a36cca27",
   "metadata": {
    "id": "a36cca27"
   },
   "outputs": [],
   "source": [
    "# Group data by 'order_hour_of_day' and count the number of orders in each hour\n",
    "orders_per_hour = df_instacart_orders.groupby('order_hour_of_day')['order_id'].count()\n",
    "\n",
    "# Print the result\n",
    "print(orders_per_hour)"
   ]
  },
  {
   "cell_type": "markdown",
   "id": "documented-command",
   "metadata": {
    "id": "documented-command"
   },
   "source": [
    "Write your conclusions here\n",
    "\n",
    "A/\n",
    "\n",
    "* We observe that a large part of the orders are placed within a preferred time window, but purchases are made throughout the 24 hours.\n",
    "\n",
    "### [A3] On which day of the week do people buy groceries?"
   ]
  },
  {
   "cell_type": "code",
   "execution_count": 42,
   "id": "chief-digit",
   "metadata": {
    "id": "chief-digit"
   },
   "outputs": [
    {
     "name": "stdout",
     "output_type": "stream",
     "text": [
      "order_dow\n",
      "0    84090\n",
      "1    82185\n",
      "2    65833\n",
      "3    60912\n",
      "4    59810\n",
      "5    63488\n",
      "6    62649\n",
      "Name: order_id, dtype: int64\n"
     ]
    }
   ],
   "source": [
    "# Group data by 'order_hour_of_day' and count the number of orders in each hour\n",
    "orders_per_day = df_instacart_orders.groupby('order_dow')['order_id'].count()\n",
    "\n",
    "# Print the result\n",
    "print(orders_per_day)\n"
   ]
  },
  {
   "cell_type": "markdown",
   "id": "cutting-concert",
   "metadata": {
    "id": "cutting-concert"
   },
   "source": [
    "Write your conclusions here\n",
    "\n",
    "A/ \n",
    "* There is a slight variation of two days compared to the others, with Sunday and Monday being the days with the highest influx for purchasing groceries.\n",
    "\n",
    "### [A4] How long do people wait before placing another order? Comment on the minimum and maximum values."
   ]
  },
  {
   "cell_type": "code",
   "execution_count": 43,
   "id": "c231f523",
   "metadata": {
    "id": "c231f523"
   },
   "outputs": [
    {
     "name": "stdout",
     "output_type": "stream",
     "text": [
      "count    450148.000000\n",
      "mean         11.101751\n",
      "std           9.189975\n",
      "min           0.000000\n",
      "25%           4.000000\n",
      "50%           7.000000\n",
      "75%          15.000000\n",
      "max          30.000000\n",
      "Name: days_since_prior_order, dtype: float64\n"
     ]
    }
   ],
   "source": [
    "# Use the describe() method to explore the statistics\n",
    "order_wait_stats = df_instacart_orders['days_since_prior_order'].describe()\n",
    "\n",
    "# Print the result\n",
    "print(order_wait_stats)"
   ]
  },
  {
   "cell_type": "markdown",
   "id": "packed-classic",
   "metadata": {
    "id": "packed-classic"
   },
   "source": [
    "Write your conclusions here\n",
    "\n",
    "R/\n",
    "\n",
    "* According to what has been observed, there are interesting patterns in the distribution of orders throughout the day and week. Additionally, the waiting time between orders was examined, considering both the minimum and maximum values to understand customer purchasing habits.\n",
    "\n",
    "# [B] Intermediate (all must be completed to pass)\n",
    "\n",
    "1. Is there any difference between the distributions of `'order_hour_of_day'` on Wednesdays and Saturdays? Plot bar charts of `'order_hour_of_day'` for both days on the same figure and describe any differences you observe.\n",
    "2. Plot the distribution of the number of orders made by customers (i.e., how many customers made only 1 order, how many made 2, how many made 3, and so on...).\n",
    "3. What are the top 20 most frequently ordered products (show their identification and name)?\n",
    "\n",
    "### [B1] Difference between Wednesdays and Saturdays for `'order_hour_of_day'`. Plot bar charts for both days and describe the differences you see."
   ]
  },
  {
   "cell_type": "code",
   "execution_count": 44,
   "id": "d89b8403",
   "metadata": {
    "id": "d89b8403"
   },
   "outputs": [
    {
     "data": {
      "image/png": "[encoded data removed]",
      "text/plain": [
       "<Figure size 1000x800 with 1 Axes>"
      ]
     },
     "metadata": {},
     "output_type": "display_data"
    }
   ],
   "source": [
    "# Filter the data for records where 3 represents Wednesday\n",
    "orders_wednesday = df_instacart_orders[df_instacart_orders['order_dow'] == 3]  \n",
    "\n",
    "# Filter the data for records where 6 represents Saturday\n",
    "orders_saturday = df_instacart_orders[df_instacart_orders['order_dow'] == 6]  \n",
    "\n",
    "# Count the number of orders for each hour of the day for Wednesdays and Saturdays\n",
    "hourly_orders_wednesday = orders_wednesday['order_hour_of_day'].value_counts().sort_index()\n",
    "hourly_orders_saturday = orders_saturday['order_hour_of_day'].value_counts().sort_index()\n",
    "\n",
    "# Convert the series into DataFrames with one column\n",
    "hourly_orders_wednesday_df = pd.DataFrame(hourly_orders_wednesday).reset_index()\n",
    "hourly_orders_saturday_df = pd.DataFrame(hourly_orders_saturday).reset_index()\n",
    "\n",
    "# Rename the columns to make merging easier\n",
    "hourly_orders_wednesday_df.columns = ['hour_of_day', 'wednesday']\n",
    "hourly_orders_saturday_df.columns = ['hour_of_day', 'saturday']\n",
    "\n",
    "# Merge the DataFrames by index (hour_of_day)\n",
    "merged_hourly_orders = pd.merge(hourly_orders_wednesday_df, hourly_orders_saturday_df, on='hour_of_day', how='outer')\n",
    "\n",
    "# Sort the data by hour of the day\n",
    "merged_hourly_orders = merged_hourly_orders.sort_values('hour_of_day')\n",
    "\n",
    "\n",
    "cols= ['wednesday','saturday']\n",
    "\n",
    "# Set up the chart and assign values to display\n",
    "merged_hourly_orders.plot (\n",
    "                   x='hour_of_day',\n",
    "                   y=cols,          \n",
    "                   kind='bar',\n",
    "                   title='Camparative',\n",
    "                   xlabel='days',\n",
    "                   ylabel='orders',\n",
    "                   rot=0,\n",
    "                   legend=True,\n",
    "                   figsize=[10,8]\n",
    "                   )\n",
    "# Plot the graph\n",
    "plt.show()"
   ]
  },
  {
   "cell_type": "markdown",
   "id": "e3891143",
   "metadata": {
    "id": "e3891143"
   },
   "source": [
    "Write your conclusions here\n",
    "* Wednesdays are the days with the highest traffic, indicating a higher purchasing preference compared to Saturdays.\n",
    "* The peak order flow occurs between 7 AM and 7 PM, regardless of the day, whether it's Wednesday or Saturday, indicating consistency throughout the week.\n",
    "* Similarly, we can observe that there are purchasing preferences during non-typical hours, from 9 PM to 5 AM.\n",
    "\n",
    "### [B2] What is the distribution of orders per customer?"
   ]
  },
  {
   "cell_type": "code",
   "execution_count": 45,
   "id": "d8c26c23",
   "metadata": {
    "id": "d8c26c23"
   },
   "outputs": [
    {
     "name": "stdout",
     "output_type": "stream",
     "text": [
      "count    157437.000000\n",
      "mean          3.042277\n",
      "std           2.746990\n",
      "min           1.000000\n",
      "25%           1.000000\n",
      "50%           2.000000\n",
      "75%           4.000000\n",
      "max          28.000000\n",
      "Name: order_count, dtype: float64\n"
     ]
    }
   ],
   "source": [
    "# Count the number of orders per customer using count on a specific column\n",
    "orders_per_user = df_instacart_orders.groupby('user_id')['order_id'].count().reset_index(name='order_count')\n",
    "\n",
    "# Calculate descriptive statistics for the number of orders per customer\n",
    "order_count_stats = orders_per_user['order_count'].describe()\n",
    "\n",
    "\n",
    "print(order_count_stats)\n"
   ]
  },
  {
   "cell_type": "code",
   "execution_count": 46,
   "id": "25cb597c",
   "metadata": {
    "id": "00e69a66"
   },
   "outputs": [
    {
     "data": {
      "image/png": "[encoded data removed]",
      "text/plain": [
       "<Figure size 640x480 with 1 Axes>"
      ]
     },
     "metadata": {},
     "output_type": "display_data"
    }
   ],
   "source": [
    "# Set up the chart (histogram) and assign values to display\n",
    "orders_per_user['order_count'].plot(\n",
    "                                     kind='hist',\n",
    "                                     bins= 10,\n",
    "                                     title= 'Distribución del número de pedidos por cliente',\n",
    "                                     alpha =0.5\n",
    "                                    )\n",
    "# Show the chart\n",
    "plt.show()\n"
   ]
  },
  {
   "cell_type": "markdown",
   "id": "54a0319c",
   "metadata": {
    "id": "54a0319c"
   },
   "source": [
    "Write your conclusions here\n",
    "\n",
    "A/\n",
    "\n",
    "*When interpreting the results, we found that most customers place a low number of orders, while a small percentage of customers place many orders.\n",
    "\n",
    "### [B3] What are the 20 most popular products (show their ID and name)?"
   ]
  },
  {
   "cell_type": "code",
   "execution_count": 47,
   "id": "exterior-arizona",
   "metadata": {
    "id": "exterior-arizona",
    "scrolled": true
   },
   "outputs": [
    {
     "data": {
      "text/html": [
       "<div>\n",
       "<style scoped>\n",
       "    .dataframe tbody tr th:only-of-type {\n",
       "        vertical-align: middle;\n",
       "    }\n",
       "\n",
       "    .dataframe tbody tr th {\n",
       "        vertical-align: top;\n",
       "    }\n",
       "\n",
       "    .dataframe thead th {\n",
       "        text-align: right;\n",
       "    }\n",
       "</style>\n",
       "<table border=\"1\" class=\"dataframe\">\n",
       "  <thead>\n",
       "    <tr style=\"text-align: right;\">\n",
       "      <th></th>\n",
       "      <th>product_id</th>\n",
       "      <th>product_name</th>\n",
       "      <th>order_count</th>\n",
       "    </tr>\n",
       "  </thead>\n",
       "  <tbody>\n",
       "    <tr>\n",
       "      <th>0</th>\n",
       "      <td>24852</td>\n",
       "      <td>BANANA</td>\n",
       "      <td>66050</td>\n",
       "    </tr>\n",
       "    <tr>\n",
       "      <th>1</th>\n",
       "      <td>13176</td>\n",
       "      <td>BAG OF ORGANIC BANANAS</td>\n",
       "      <td>53297</td>\n",
       "    </tr>\n",
       "    <tr>\n",
       "      <th>2</th>\n",
       "      <td>21137</td>\n",
       "      <td>ORGANIC STRAWBERRIES</td>\n",
       "      <td>37039</td>\n",
       "    </tr>\n",
       "    <tr>\n",
       "      <th>3</th>\n",
       "      <td>21903</td>\n",
       "      <td>ORGANIC BABY SPINACH</td>\n",
       "      <td>33971</td>\n",
       "    </tr>\n",
       "    <tr>\n",
       "      <th>4</th>\n",
       "      <td>47209</td>\n",
       "      <td>ORGANIC HASS AVOCADO</td>\n",
       "      <td>29773</td>\n",
       "    </tr>\n",
       "    <tr>\n",
       "      <th>5</th>\n",
       "      <td>47766</td>\n",
       "      <td>ORGANIC AVOCADO</td>\n",
       "      <td>24689</td>\n",
       "    </tr>\n",
       "    <tr>\n",
       "      <th>6</th>\n",
       "      <td>47626</td>\n",
       "      <td>LARGE LEMON</td>\n",
       "      <td>21495</td>\n",
       "    </tr>\n",
       "    <tr>\n",
       "      <th>7</th>\n",
       "      <td>16797</td>\n",
       "      <td>STRAWBERRIES</td>\n",
       "      <td>20018</td>\n",
       "    </tr>\n",
       "    <tr>\n",
       "      <th>8</th>\n",
       "      <td>26209</td>\n",
       "      <td>LIMES</td>\n",
       "      <td>19690</td>\n",
       "    </tr>\n",
       "    <tr>\n",
       "      <th>9</th>\n",
       "      <td>27845</td>\n",
       "      <td>ORGANIC WHOLE MILK</td>\n",
       "      <td>19600</td>\n",
       "    </tr>\n",
       "    <tr>\n",
       "      <th>10</th>\n",
       "      <td>27966</td>\n",
       "      <td>ORGANIC RASPBERRIES</td>\n",
       "      <td>19197</td>\n",
       "    </tr>\n",
       "    <tr>\n",
       "      <th>11</th>\n",
       "      <td>22935</td>\n",
       "      <td>ORGANIC YELLOW ONION</td>\n",
       "      <td>15898</td>\n",
       "    </tr>\n",
       "    <tr>\n",
       "      <th>12</th>\n",
       "      <td>24964</td>\n",
       "      <td>ORGANIC GARLIC</td>\n",
       "      <td>15292</td>\n",
       "    </tr>\n",
       "    <tr>\n",
       "      <th>13</th>\n",
       "      <td>45007</td>\n",
       "      <td>ORGANIC ZUCCHINI</td>\n",
       "      <td>14584</td>\n",
       "    </tr>\n",
       "    <tr>\n",
       "      <th>14</th>\n",
       "      <td>39275</td>\n",
       "      <td>ORGANIC BLUEBERRIES</td>\n",
       "      <td>13879</td>\n",
       "    </tr>\n",
       "    <tr>\n",
       "      <th>15</th>\n",
       "      <td>49683</td>\n",
       "      <td>CUCUMBER KIRBY</td>\n",
       "      <td>13675</td>\n",
       "    </tr>\n",
       "    <tr>\n",
       "      <th>16</th>\n",
       "      <td>28204</td>\n",
       "      <td>ORGANIC FUJI APPLE</td>\n",
       "      <td>12544</td>\n",
       "    </tr>\n",
       "    <tr>\n",
       "      <th>17</th>\n",
       "      <td>5876</td>\n",
       "      <td>ORGANIC LEMON</td>\n",
       "      <td>12232</td>\n",
       "    </tr>\n",
       "    <tr>\n",
       "      <th>18</th>\n",
       "      <td>8277</td>\n",
       "      <td>APPLE HONEYCRISP ORGANIC</td>\n",
       "      <td>11993</td>\n",
       "    </tr>\n",
       "    <tr>\n",
       "      <th>19</th>\n",
       "      <td>40706</td>\n",
       "      <td>ORGANIC GRAPE TOMATOES</td>\n",
       "      <td>11781</td>\n",
       "    </tr>\n",
       "  </tbody>\n",
       "</table>\n",
       "</div>"
      ],
      "text/plain": [
       "    product_id              product_name  order_count\n",
       "0        24852                    BANANA        66050\n",
       "1        13176    BAG OF ORGANIC BANANAS        53297\n",
       "2        21137      ORGANIC STRAWBERRIES        37039\n",
       "3        21903      ORGANIC BABY SPINACH        33971\n",
       "4        47209      ORGANIC HASS AVOCADO        29773\n",
       "5        47766           ORGANIC AVOCADO        24689\n",
       "6        47626               LARGE LEMON        21495\n",
       "7        16797              STRAWBERRIES        20018\n",
       "8        26209                     LIMES        19690\n",
       "9        27845        ORGANIC WHOLE MILK        19600\n",
       "10       27966       ORGANIC RASPBERRIES        19197\n",
       "11       22935      ORGANIC YELLOW ONION        15898\n",
       "12       24964            ORGANIC GARLIC        15292\n",
       "13       45007          ORGANIC ZUCCHINI        14584\n",
       "14       39275       ORGANIC BLUEBERRIES        13879\n",
       "15       49683            CUCUMBER KIRBY        13675\n",
       "16       28204        ORGANIC FUJI APPLE        12544\n",
       "17        5876             ORGANIC LEMON        12232\n",
       "18        8277  APPLE HONEYCRISP ORGANIC        11993\n",
       "19       40706    ORGANIC GRAPE TOMATOES        11781"
      ]
     },
     "metadata": {},
     "output_type": "display_data"
    }
   ],
   "source": [
    "# Count the number of times each product has been ordered using the 'df_order' dataframe\n",
    "product_counts = df_order['product_id'].value_counts().reset_index()\n",
    "\n",
    "# Assign names to the columns\n",
    "product_counts.columns = ['product_id', 'order_count']\n",
    "\n",
    "# Join the data with the products table to get the product names\n",
    "product_popularity = product_counts.merge(df_products[['product_id', 'product_name']], on='product_id')\n",
    "\n",
    "# Select the top 20\n",
    "top_20_products = product_popularity.head(20)\n",
    "\n",
    "# Print the result\n",
    "display(top_20_products[['product_id', 'product_name','order_count']])\n"
   ]
  },
  {
   "cell_type": "markdown",
   "id": "romantic-deposit",
   "metadata": {
    "id": "romantic-deposit"
   },
   "source": [
    "Write your conclusions here\n",
    "\n",
    "R / \n",
    "* As a first impression, we see that these are essential products with a tendency toward organic fruits and vegetables, with some slight variations.\n",
    "\n",
    "# [C] Difficult (must be completed in order to pass)\n",
    "\n",
    "1. How many items do people usually purchase in an order? What is the distribution like?\n",
    "2. What are the top 20 items that are reordered most frequently (show their names and product IDs)?\n",
    "3. For each product, what is the reorder rate (number of reorders/total orders)?\n",
    "4. For each customer, what proportion of the products they ordered had already been ordered before? Calculate the reorder rate for each user instead of for each product.\n",
    "5. What are the top 20 items that people add first to their carts (show the product IDs, their names, and the number of times they were the first item added to the cart)?\n",
    "\n",
    "### [C1] How many items do people usually purchase in an order? What is the distribution like?"
   ]
  },
  {
   "cell_type": "code",
   "execution_count": 48,
   "id": "virtual-punch",
   "metadata": {
    "id": "virtual-punch"
   },
   "outputs": [
    {
     "data": {
      "image/png": "[encoded data removed]",
      "text/plain": [
       "<Figure size 1000x600 with 1 Axes>"
      ]
     },
     "metadata": {},
     "output_type": "display_data"
    },
    {
     "name": "stdout",
     "output_type": "stream",
     "text": [
      "count    450046.000000\n",
      "mean         10.098983\n",
      "std           7.540206\n",
      "min           1.000000\n",
      "25%           5.000000\n",
      "50%           8.000000\n",
      "75%          14.000000\n",
      "max         127.000000\n",
      "Name: items_count, dtype: float64\n"
     ]
    }
   ],
   "source": [
    "# Count the number of items per order using count(), reset the index and assign the column name 'items_count'\n",
    "items_per_order = df_order.groupby('order_id')['product_id'].count().reset_index(name='items_count')\n",
    "\n",
    "# Set up the chart (histogram) and assign values to display\n",
    "items_per_order['items_count'].plot(\n",
    "                                     kind='hist',\n",
    "                                     bins= 30,\n",
    "                                     title= 'Distribución del número de pedidos por pedido',\n",
    "                                     alpha =0.9,\n",
    "                                     color='green',\n",
    "                                     figsize=(10,6)\n",
    "                                    )\n",
    "# Show the chart\n",
    "plt.show()\n",
    "\n",
    "# Review descriptive statistics for the number of items per order\n",
    "items_count_stats = items_per_order['items_count'].describe()\n",
    "print(items_count_stats)\n"
   ]
  },
  {
   "cell_type": "markdown",
   "id": "5e6b5537",
   "metadata": {
    "id": "5e6b5537"
   },
   "source": [
    "Write your conclusions here\n",
    "\n",
    "A/\n",
    "* Interpreting the diagram, we can conclude that a large portion of the customers make 1 purchase on their first order, which decreases as they make more.\n",
    "\n",
    "### [C2] What are the 20 most frequently reordered items (show their names and product IDs)?"
   ]
  },
  {
   "cell_type": "code",
   "execution_count": 49,
   "id": "9374e55a",
   "metadata": {
    "id": "9374e55a"
   },
   "outputs": [
    {
     "data": {
      "text/html": [
       "<div>\n",
       "<style scoped>\n",
       "    .dataframe tbody tr th:only-of-type {\n",
       "        vertical-align: middle;\n",
       "    }\n",
       "\n",
       "    .dataframe tbody tr th {\n",
       "        vertical-align: top;\n",
       "    }\n",
       "\n",
       "    .dataframe thead th {\n",
       "        text-align: right;\n",
       "    }\n",
       "</style>\n",
       "<table border=\"1\" class=\"dataframe\">\n",
       "  <thead>\n",
       "    <tr style=\"text-align: right;\">\n",
       "      <th></th>\n",
       "      <th>index</th>\n",
       "      <th>Product ID</th>\n",
       "      <th>Product Name</th>\n",
       "    </tr>\n",
       "  </thead>\n",
       "  <tbody>\n",
       "    <tr>\n",
       "      <th>0</th>\n",
       "      <td>13176</td>\n",
       "      <td>44450</td>\n",
       "      <td>ALLIUM CEPA 30 C</td>\n",
       "    </tr>\n",
       "    <tr>\n",
       "      <th>1</th>\n",
       "      <td>21137</td>\n",
       "      <td>28639</td>\n",
       "      <td>EXOTIC PAPAYA &amp; HIBISCUS FLOWER SCENTED OIL RE...</td>\n",
       "    </tr>\n",
       "    <tr>\n",
       "      <th>2</th>\n",
       "      <td>21903</td>\n",
       "      <td>26233</td>\n",
       "      <td>ORGANIC EINKORN GINGER SPICE COOKIES</td>\n",
       "    </tr>\n",
       "    <tr>\n",
       "      <th>3</th>\n",
       "      <td>47209</td>\n",
       "      <td>23629</td>\n",
       "      <td>RISERVA BALSAMIC VINEGAR &amp; CARAMELIZED ONIONS ...</td>\n",
       "    </tr>\n",
       "    <tr>\n",
       "      <th>4</th>\n",
       "      <td>47766</td>\n",
       "      <td>18743</td>\n",
       "      <td>DARK CHOCOLATE CHEESECAKE SOFT DESSERT COOKIES</td>\n",
       "    </tr>\n",
       "    <tr>\n",
       "      <th>5</th>\n",
       "      <td>27845</td>\n",
       "      <td>16251</td>\n",
       "      <td>DOUBLE CREAM CREMONT</td>\n",
       "    </tr>\n",
       "    <tr>\n",
       "      <th>6</th>\n",
       "      <td>47626</td>\n",
       "      <td>15044</td>\n",
       "      <td>QUARK SEA SALT CARAMEL</td>\n",
       "    </tr>\n",
       "    <tr>\n",
       "      <th>7</th>\n",
       "      <td>27966</td>\n",
       "      <td>14748</td>\n",
       "      <td>SOFT WHITE 200 WATTS GENERAL PURPOSE LIGHT BULB</td>\n",
       "    </tr>\n",
       "    <tr>\n",
       "      <th>8</th>\n",
       "      <td>16797</td>\n",
       "      <td>13945</td>\n",
       "      <td>2 IN 1 WHITENING TOOTHPASTE</td>\n",
       "    </tr>\n",
       "    <tr>\n",
       "      <th>9</th>\n",
       "      <td>26209</td>\n",
       "      <td>13327</td>\n",
       "      <td>100% COLOMBIAN MEDIUM COFFEE</td>\n",
       "    </tr>\n",
       "    <tr>\n",
       "      <th>10</th>\n",
       "      <td>22935</td>\n",
       "      <td>11145</td>\n",
       "      <td>UNBLEACHED WHITE FINE PASTRY FLOUR</td>\n",
       "    </tr>\n",
       "    <tr>\n",
       "      <th>11</th>\n",
       "      <td>24964</td>\n",
       "      <td>10411</td>\n",
       "      <td>CAULIFLOWER HEAD</td>\n",
       "    </tr>\n",
       "    <tr>\n",
       "      <th>12</th>\n",
       "      <td>45007</td>\n",
       "      <td>10076</td>\n",
       "      <td>CHUNK LIGHT YELLOWFIN</td>\n",
       "    </tr>\n",
       "    <tr>\n",
       "      <th>13</th>\n",
       "      <td>49683</td>\n",
       "      <td>9538</td>\n",
       "      <td>INSTANT LUNCH CHICKEN FLAVOR</td>\n",
       "    </tr>\n",
       "    <tr>\n",
       "      <th>14</th>\n",
       "      <td>28204</td>\n",
       "      <td>8989</td>\n",
       "      <td>OLIVE OIL &amp; BALSAMIC DRESSING</td>\n",
       "    </tr>\n",
       "    <tr>\n",
       "      <th>15</th>\n",
       "      <td>8277</td>\n",
       "      <td>8836</td>\n",
       "      <td>JALAPENO CASHEWS</td>\n",
       "    </tr>\n",
       "    <tr>\n",
       "      <th>16</th>\n",
       "      <td>39275</td>\n",
       "      <td>8799</td>\n",
       "      <td>1ST FOODS SWEET POTATOES</td>\n",
       "    </tr>\n",
       "    <tr>\n",
       "      <th>17</th>\n",
       "      <td>5876</td>\n",
       "      <td>8412</td>\n",
       "      <td>GREEN PEAS NO SALT ADDED</td>\n",
       "    </tr>\n",
       "    <tr>\n",
       "      <th>18</th>\n",
       "      <td>49235</td>\n",
       "      <td>8389</td>\n",
       "      <td>8.1 OZ. WHEAT THIN TOASTED CHIPS ROASTED GARLIC</td>\n",
       "    </tr>\n",
       "    <tr>\n",
       "      <th>19</th>\n",
       "      <td>44632</td>\n",
       "      <td>8187</td>\n",
       "      <td>TRIPLE CHUNK BROWNIE</td>\n",
       "    </tr>\n",
       "  </tbody>\n",
       "</table>\n",
       "</div>"
      ],
      "text/plain": [
       "    index  Product ID                                       Product Name\n",
       "0   13176       44450                                   ALLIUM CEPA 30 C\n",
       "1   21137       28639  EXOTIC PAPAYA & HIBISCUS FLOWER SCENTED OIL RE...\n",
       "2   21903       26233               ORGANIC EINKORN GINGER SPICE COOKIES\n",
       "3   47209       23629  RISERVA BALSAMIC VINEGAR & CARAMELIZED ONIONS ...\n",
       "4   47766       18743     DARK CHOCOLATE CHEESECAKE SOFT DESSERT COOKIES\n",
       "5   27845       16251                               DOUBLE CREAM CREMONT\n",
       "6   47626       15044                             QUARK SEA SALT CARAMEL\n",
       "7   27966       14748    SOFT WHITE 200 WATTS GENERAL PURPOSE LIGHT BULB\n",
       "8   16797       13945                        2 IN 1 WHITENING TOOTHPASTE\n",
       "9   26209       13327                       100% COLOMBIAN MEDIUM COFFEE\n",
       "10  22935       11145                 UNBLEACHED WHITE FINE PASTRY FLOUR\n",
       "11  24964       10411                                   CAULIFLOWER HEAD\n",
       "12  45007       10076                              CHUNK LIGHT YELLOWFIN\n",
       "13  49683        9538                       INSTANT LUNCH CHICKEN FLAVOR\n",
       "14  28204        8989                      OLIVE OIL & BALSAMIC DRESSING\n",
       "15   8277        8836                                   JALAPENO CASHEWS\n",
       "16  39275        8799                           1ST FOODS SWEET POTATOES\n",
       "17   5876        8412                           GREEN PEAS NO SALT ADDED\n",
       "18  49235        8389    8.1 OZ. WHEAT THIN TOASTED CHIPS ROASTED GARLIC\n",
       "19  44632        8187                               TRIPLE CHUNK BROWNIE"
      ]
     },
     "metadata": {},
     "output_type": "display_data"
    }
   ],
   "source": [
    "# Count the frequency of products that have been reordered and reset the index\n",
    "reordered_products_count = df_order[df_order['reordered'] == 1]['product_id'].value_counts().reset_index()\n",
    "\n",
    "# Join 'reordered_products_count' and 'df_products' since they share the common id to add the product name\n",
    "top_reordered_products = reordered_products_count.merge(df_products[['product_id', 'product_name']], on='product_id')\n",
    "\n",
    "# Rename the columns \n",
    "top_reordered_products=top_reordered_products.rename(columns={'product_id': 'Product ID', 'product_name': 'Product Name'})\n",
    "\n",
    "# Show the top 20 products that are reordered most frequently\n",
    "top_20_reordered_products = top_reordered_products.head(20)\n",
    "\n",
    "display(top_20_reordered_products)"
   ]
  },
  {
   "cell_type": "markdown",
   "id": "9d312b14",
   "metadata": {
    "id": "9d312b14"
   },
   "source": [
    "Write your conclusions here\n",
    "\n",
    "A/\n",
    "\n",
    "* The products that are ordered most frequently may be related to the most popular products.\n",
    "* The number of times customers order these products indicates high customer loyalty. To increase sales and customer retention, these products could receive special emphasis in promotional and advertising campaigns.\n",
    "* For inventory management, it is essential to know which products are ordered most frequently.\n",
    "\n",
    "In conclusion, the top 20 most frequently ordered items reflect customer preferences and are crucial for customer satisfaction, retention, and overall business success.\n",
    "\n",
    "### [C3] For each product, what is the ratio of times it is ordered and reordered?"
   ]
  },
  {
   "cell_type": "code",
   "execution_count": 50,
   "id": "8ae9f4b1",
   "metadata": {
    "id": "8ae9f4b1"
   },
   "outputs": [
    {
     "name": "stdout",
     "output_type": "stream",
     "text": [
      "1        0.564286\n",
      "2             NaN\n",
      "3        0.738095\n",
      "4        0.510204\n",
      "7        0.500000\n",
      "           ...   \n",
      "49690    0.800000\n",
      "49691    0.430556\n",
      "49692    0.416667\n",
      "49693    0.440000\n",
      "49694    0.333333\n",
      "Name: product_id, Length: 45573, dtype: float64\n"
     ]
    }
   ],
   "source": [
    "# Calculate the frequency of each product ordered at least once, counting how many times each unique value appears in the 'product_id' column.\n",
    "product_order_count = df_order['product_id'].value_counts()\n",
    "\n",
    "# Calculate the frequency of each product that has been reordered, filter the 'df_order' dataframe to include only rows where the 'reordered' column is equal to 1 (indicating that the product was reordered), and then count the number of times each reordered product appears.\n",
    "reordered_product_count = df_order[df_order['reordered'] == 1]['product_id'].value_counts()\n",
    "\n",
    "# Perform the mathematical operation for the proportion of times each product is ordered and reordered\n",
    "product_reorder_ratio = reordered_product_count / product_order_count\n",
    "\n",
    "# Print the result\n",
    "print(product_reorder_ratio)"
   ]
  },
  {
   "cell_type": "markdown",
   "id": "subject-boxing",
   "metadata": {
    "id": "subject-boxing"
   },
   "source": [
    "Write your conclusions here\n",
    "\n",
    "A/\n",
    "* Customer loyalty is reflected in the products that are reordered compared to how many times they were initially ordered, concluding that customers are satisfied and are regular users in their purchases.\n",
    "\n",
    "* Customer Loyalty: Products with a high ratio of reorders compared to initial orders are indicative of high customer loyalty. This suggests that customers are satisfied with those products and regularly include them in subsequent purchases.\n",
    "\n",
    "* When discussing the products, it is highly likely that it is a popular and in-demand item among customers.\n",
    "\n",
    "* Additionally, it gives us an indication of buying trends related to the product.\n",
    "\n",
    "### [C4] For each customer, what proportion of their products had they ordered before?"
   ]
  },
  {
   "cell_type": "code",
   "execution_count": 1,
   "id": "medical-couple",
   "metadata": {
    "id": "medical-couple",
    "scrolled": true
   },
   "outputs": [
    {
     "ename": "NameError",
     "evalue": "name 'df_instacart_orders' is not defined",
     "output_type": "error",
     "traceback": [
      "\u001b[0;31m---------------------------------------------------------------------------\u001b[0m",
      "\u001b[0;31mNameError\u001b[0m                                 Traceback (most recent call last)",
      "Cell \u001b[0;32mIn[1], line 2\u001b[0m\n\u001b[1;32m      1\u001b[0m \u001b[38;5;66;03m# Unimos los DataFrames df_instacart_orders y df_order medinate la columna 'order_id' (valores en comun entre ambos df)\u001b[39;00m\n\u001b[0;32m----> 2\u001b[0m merged_df \u001b[38;5;241m=\u001b[39m \u001b[43mdf_instacart_orders\u001b[49m\u001b[38;5;241m.\u001b[39mmerge(df_order, on\u001b[38;5;241m=\u001b[39m\u001b[38;5;124m'\u001b[39m\u001b[38;5;124morder_id\u001b[39m\u001b[38;5;124m'\u001b[39m)\n\u001b[1;32m      4\u001b[0m \u001b[38;5;66;03m# Calculamos la frecuencia de cada producto que se ha pedido al menos una vez para cada cliente\u001b[39;00m\n\u001b[1;32m      5\u001b[0m product_order_count_per_user \u001b[38;5;241m=\u001b[39m merged_df\u001b[38;5;241m.\u001b[39mgroupby([\u001b[38;5;124m'\u001b[39m\u001b[38;5;124muser_id\u001b[39m\u001b[38;5;124m'\u001b[39m, \u001b[38;5;124m'\u001b[39m\u001b[38;5;124mproduct_id\u001b[39m\u001b[38;5;124m'\u001b[39m])\u001b[38;5;241m.\u001b[39mcount()[\u001b[38;5;124m'\u001b[39m\u001b[38;5;124morder_id\u001b[39m\u001b[38;5;124m'\u001b[39m]\n",
      "\u001b[0;31mNameError\u001b[0m: name 'df_instacart_orders' is not defined"
     ]
    }
   ],
   "source": [
    "# Join the 'df_instacart_orders' and 'df_order' DataFrames using the 'order_id' column (common values between both DataFrames)\n",
    "merged_df = df_instacart_orders.merge(df_order, on='order_id')\n",
    "\n",
    "# Calculate the frequency of each product ordered at least once for each customer\n",
    "product_order_count_per_user = merged_df.groupby(['user_id', 'product_id']).count()['order_id']\n",
    "\n",
    "# Calculate the frequency of each product reordered for each customer\n",
    "reordered_product_count_per_user = merged_df[merged_df['reordered'] == 1].groupby(['user_id', 'product_id']).count()['order_id']\n",
    "\n",
    "# Calculate the proportion of times each product is ordered and reordered for each customer (fill NaN values with 0 for better visualization and interpretation of the data)\n",
    "product_reorder_ratio_per_user = (reordered_product_count_per_user / product_order_count_per_user).fillna(0)\n",
    "\n",
    "# Print the result\n",
    "print(product_reorder_ratio_per_user)"
   ]
  },
  {
   "cell_type": "markdown",
   "id": "92d35137",
   "metadata": {
    "id": "92d35137"
   },
   "source": [
    "Write your conclusions here\n",
    "\n",
    "R/\n",
    "* We highlight customer loyalty towards certain products, noting that the higher the proportion, the greater the probability that the customer will repurchase that product in future orders.\n",
    "\n",
    "* We can identify product categorization using a BCG matrix, considering the most popular products among customers with high reorder proportions. This can be useful for identifying star products and focusing marketing strategies on them. Optimizing the product offering and increasing customer retention in the business.\n",
    "\n",
    "### [C5] What are the top 20 items that people add to their carts first?"
   ]
  },
  {
   "cell_type": "code",
   "execution_count": null,
   "id": "0ae57274",
   "metadata": {
    "id": "0ae57274",
    "scrolled": false
   },
   "outputs": [],
   "source": [
    "# Filter the products that are added first to the cart\n",
    "first_items = df_order[df_order['add_to_cart_order'] == 1]\n",
    "\n",
    "# Count the frequency of each product, reset the index and assign a name to the calculated column\n",
    "top_first_items = first_items.groupby('product_id')['product_id'].count().reset_index(name='frequency')\n",
    "\n",
    "# Sort by frequency and get the top 20 products in descending order of frequency\n",
    "top_first_items = top_first_items.sort_values(by='frequency', ascending=False).head(20)\n",
    "\n",
    "# Get the corresponding product names and select the 3 columns we want to keep\n",
    "top_first_items_with_names = top_first_items.merge(df_products, on='product_id')[['product_id', 'product_name', 'frequency']]\n",
    "\n",
    "# Show the results\n",
    "display(top_first_items_with_names)"
   ]
  },
  {
   "cell_type": "markdown",
   "id": "f7e0bb66",
   "metadata": {
    "id": "Nk-4GS7mDwqY"
   },
   "source": [
    "### Conclusions\n",
    "\n",
    "R/\n",
    "\n",
    "* The products that are added first to the cart may be basic, essential, or popular products that customers tend to buy regularly. In this case, we can further detail that a large portion corresponds to organic products. Identifying these products can help understand and identify buying patterns, behaviors, preferences, and customer needs.\n",
    "\n",
    "### General Conclusion of the Project:\n",
    "\n",
    "In this project, we conducted an in-depth analysis of Instacart data to better understand customer buying behavior and extract valuable insights for the company. Over the course of three steps: data description, preprocessing, and data analysis, we explored various techniques and tools to extract meaningful information. Here are the general conclusions of the project:\n",
    "\n",
    "Understanding the Data: We started by understanding the structure and content of the provided data. We identified the available tables, as well as the relevant columns and variables in each of them.\n",
    "\n",
    "Data Preprocessing: We performed a series of preprocessing tasks to clean and prepare the data for analysis. This included correcting data types, identifying and handling missing and duplicate values, as well as verifying data integrity.\n",
    "\n",
    "Exploratory Data Analysis: We used exploratory data analysis techniques to gain meaningful insights into customer buying behavior. This included visualizing buying patterns throughout the day and week, identifying popular and frequently purchased products, and understanding the frequency and intervals between orders.\n",
    "\n",
    "Inferences and Recommendations: Based on the data analysis, we were able to draw various inferences and make recommendations.\n",
    "\n",
    "Process Optimization: By using efficient programming techniques and employing libraries like pandas and matplotlib in Python, we were able to perform complex analyses effectively and optimize the processes of data manipulation and visualization."
   ]
  }
 ],
 "metadata": {
  "ExecuteTimeLog": [
   {
    "duration": 4362,
    "start_time": "2024-05-16T12:28:02.794Z"
   },
   {
    "duration": 1978,
    "start_time": "2024-05-16T12:28:07.159Z"
   },
   {
    "duration": 19,
    "start_time": "2024-05-16T12:28:09.140Z"
   },
   {
    "duration": 15,
    "start_time": "2024-05-16T12:28:09.162Z"
   },
   {
    "duration": 33,
    "start_time": "2024-05-16T12:28:09.182Z"
   },
   {
    "duration": 14,
    "start_time": "2024-05-16T12:28:09.218Z"
   },
   {
    "duration": 12,
    "start_time": "2024-05-16T12:28:09.235Z"
   },
   {
    "duration": 122,
    "start_time": "2024-05-16T12:28:09.251Z"
   },
   {
    "duration": 4,
    "start_time": "2024-05-16T12:28:09.376Z"
   },
   {
    "duration": 4,
    "start_time": "2024-05-16T12:28:09.383Z"
   },
   {
    "duration": 4,
    "start_time": "2024-05-16T12:28:09.406Z"
   },
   {
    "duration": 4,
    "start_time": "2024-05-16T12:28:09.413Z"
   },
   {
    "duration": 4,
    "start_time": "2024-05-16T12:28:09.420Z"
   },
   {
    "duration": 6,
    "start_time": "2024-05-16T12:28:09.432Z"
   },
   {
    "duration": 3,
    "start_time": "2024-05-16T12:28:09.441Z"
   },
   {
    "duration": 3,
    "start_time": "2024-05-16T12:28:09.448Z"
   },
   {
    "duration": 3,
    "start_time": "2024-05-16T12:28:09.507Z"
   },
   {
    "duration": 3,
    "start_time": "2024-05-16T12:28:09.514Z"
   },
   {
    "duration": 3,
    "start_time": "2024-05-16T12:28:09.520Z"
   },
   {
    "duration": 4,
    "start_time": "2024-05-16T12:28:09.526Z"
   },
   {
    "duration": 4,
    "start_time": "2024-05-16T12:28:09.533Z"
   },
   {
    "duration": 4,
    "start_time": "2024-05-16T12:28:09.540Z"
   },
   {
    "duration": 3,
    "start_time": "2024-05-16T12:28:09.548Z"
   },
   {
    "duration": 4,
    "start_time": "2024-05-16T12:28:09.606Z"
   },
   {
    "duration": 4,
    "start_time": "2024-05-16T12:28:09.613Z"
   },
   {
    "duration": 5,
    "start_time": "2024-05-16T12:28:09.619Z"
   },
   {
    "duration": 2,
    "start_time": "2024-05-16T12:28:09.628Z"
   },
   {
    "duration": 3,
    "start_time": "2024-05-16T12:28:09.634Z"
   },
   {
    "duration": 3,
    "start_time": "2024-05-16T12:28:09.641Z"
   },
   {
    "duration": 59,
    "start_time": "2024-05-16T12:28:09.647Z"
   },
   {
    "duration": 8,
    "start_time": "2024-05-16T12:28:09.709Z"
   },
   {
    "duration": 6,
    "start_time": "2024-05-16T12:28:09.720Z"
   },
   {
    "duration": 4,
    "start_time": "2024-05-16T12:28:09.729Z"
   },
   {
    "duration": 3,
    "start_time": "2024-05-16T12:28:09.736Z"
   },
   {
    "duration": 29,
    "start_time": "2024-05-16T12:31:48.720Z"
   },
   {
    "duration": 28,
    "start_time": "2024-05-16T12:32:35.060Z"
   },
   {
    "duration": 31,
    "start_time": "2024-05-16T12:33:42.451Z"
   },
   {
    "duration": 33,
    "start_time": "2024-05-16T12:33:57.129Z"
   },
   {
    "duration": 20,
    "start_time": "2024-05-16T12:34:19.167Z"
   },
   {
    "duration": 495,
    "start_time": "2024-05-16T12:38:18.660Z"
   },
   {
    "duration": 88,
    "start_time": "2024-05-16T12:38:32.820Z"
   },
   {
    "duration": 269,
    "start_time": "2024-05-16T12:41:30.143Z"
   },
   {
    "duration": 155,
    "start_time": "2024-05-16T12:41:42.539Z"
   },
   {
    "duration": 163,
    "start_time": "2024-05-16T12:41:54.107Z"
   },
   {
    "duration": 152,
    "start_time": "2024-05-16T12:42:21.180Z"
   },
   {
    "duration": 231,
    "start_time": "2024-05-16T12:42:48.316Z"
   },
   {
    "duration": 85,
    "start_time": "2024-05-16T12:42:57.643Z"
   },
   {
    "duration": 87,
    "start_time": "2024-05-16T12:43:11.558Z"
   },
   {
    "duration": 83,
    "start_time": "2024-05-16T12:43:41.987Z"
   },
   {
    "duration": 171,
    "start_time": "2024-05-16T12:44:38.573Z"
   },
   {
    "duration": 239,
    "start_time": "2024-05-16T12:44:50.440Z"
   },
   {
    "duration": 73,
    "start_time": "2024-05-16T12:45:24.822Z"
   },
   {
    "duration": 176,
    "start_time": "2024-05-16T12:45:28.210Z"
   },
   {
    "duration": 27,
    "start_time": "2024-05-16T13:01:19.782Z"
   },
   {
    "duration": 38,
    "start_time": "2024-05-16T13:01:32.613Z"
   },
   {
    "duration": 27,
    "start_time": "2024-05-16T13:01:45.946Z"
   },
   {
    "duration": 25,
    "start_time": "2024-05-16T13:01:56.017Z"
   },
   {
    "duration": 25,
    "start_time": "2024-05-16T13:02:12.312Z"
   },
   {
    "duration": 28,
    "start_time": "2024-05-16T13:02:19.569Z"
   },
   {
    "duration": 22,
    "start_time": "2024-05-16T13:14:53.461Z"
   },
   {
    "duration": 14,
    "start_time": "2024-05-16T13:16:53.155Z"
   },
   {
    "duration": 8,
    "start_time": "2024-05-16T13:17:54.262Z"
   },
   {
    "duration": 27,
    "start_time": "2024-05-16T13:18:07.259Z"
   },
   {
    "duration": 8,
    "start_time": "2024-05-16T13:18:31.678Z"
   },
   {
    "duration": 8,
    "start_time": "2024-05-16T13:18:42.644Z"
   },
   {
    "duration": 31,
    "start_time": "2024-05-16T13:20:08.097Z"
   },
   {
    "duration": 26,
    "start_time": "2024-05-16T13:20:56.179Z"
   },
   {
    "duration": 9,
    "start_time": "2024-05-16T13:21:21.487Z"
   },
   {
    "duration": 15,
    "start_time": "2024-05-16T13:22:01.592Z"
   },
   {
    "duration": 14,
    "start_time": "2024-05-16T13:22:11.245Z"
   },
   {
    "duration": 5,
    "start_time": "2024-05-16T13:25:10.750Z"
   },
   {
    "duration": 23,
    "start_time": "2024-05-16T13:25:27.260Z"
   },
   {
    "duration": 4,
    "start_time": "2024-05-16T13:25:51.432Z"
   },
   {
    "duration": 1886,
    "start_time": "2024-05-16T13:25:51.440Z"
   },
   {
    "duration": 29,
    "start_time": "2024-05-16T13:25:53.329Z"
   },
   {
    "duration": 60,
    "start_time": "2024-05-16T13:25:53.361Z"
   },
   {
    "duration": 25,
    "start_time": "2024-05-16T13:25:53.426Z"
   },
   {
    "duration": 62,
    "start_time": "2024-05-16T13:25:53.454Z"
   },
   {
    "duration": 50,
    "start_time": "2024-05-16T13:25:53.518Z"
   },
   {
    "duration": 180,
    "start_time": "2024-05-16T13:25:53.571Z"
   },
   {
    "duration": 95,
    "start_time": "2024-05-16T13:25:53.754Z"
   },
   {
    "duration": 16,
    "start_time": "2024-05-16T13:25:53.852Z"
   },
   {
    "duration": 6,
    "start_time": "2024-05-16T13:25:53.871Z"
   },
   {
    "duration": 22,
    "start_time": "2024-05-16T13:25:53.907Z"
   },
   {
    "duration": 0,
    "start_time": "2024-05-16T13:25:53.933Z"
   },
   {
    "duration": 0,
    "start_time": "2024-05-16T13:25:53.936Z"
   },
   {
    "duration": 0,
    "start_time": "2024-05-16T13:25:53.938Z"
   },
   {
    "duration": 0,
    "start_time": "2024-05-16T13:25:53.941Z"
   },
   {
    "duration": 0,
    "start_time": "2024-05-16T13:25:53.943Z"
   },
   {
    "duration": 0,
    "start_time": "2024-05-16T13:25:53.945Z"
   },
   {
    "duration": 0,
    "start_time": "2024-05-16T13:25:53.948Z"
   },
   {
    "duration": 0,
    "start_time": "2024-05-16T13:25:53.950Z"
   },
   {
    "duration": 0,
    "start_time": "2024-05-16T13:25:53.952Z"
   },
   {
    "duration": 0,
    "start_time": "2024-05-16T13:25:53.954Z"
   },
   {
    "duration": 0,
    "start_time": "2024-05-16T13:25:53.955Z"
   },
   {
    "duration": 0,
    "start_time": "2024-05-16T13:25:53.956Z"
   },
   {
    "duration": 0,
    "start_time": "2024-05-16T13:25:54.006Z"
   },
   {
    "duration": 0,
    "start_time": "2024-05-16T13:25:54.007Z"
   },
   {
    "duration": 0,
    "start_time": "2024-05-16T13:25:54.009Z"
   },
   {
    "duration": 0,
    "start_time": "2024-05-16T13:25:54.010Z"
   },
   {
    "duration": 0,
    "start_time": "2024-05-16T13:25:54.012Z"
   },
   {
    "duration": 0,
    "start_time": "2024-05-16T13:25:54.016Z"
   },
   {
    "duration": 0,
    "start_time": "2024-05-16T13:25:54.017Z"
   },
   {
    "duration": 0,
    "start_time": "2024-05-16T13:25:54.019Z"
   },
   {
    "duration": 0,
    "start_time": "2024-05-16T13:25:54.021Z"
   },
   {
    "duration": 0,
    "start_time": "2024-05-16T13:25:54.023Z"
   },
   {
    "duration": 0,
    "start_time": "2024-05-16T13:25:54.024Z"
   },
   {
    "duration": 21,
    "start_time": "2024-05-16T13:26:04.238Z"
   },
   {
    "duration": 22,
    "start_time": "2024-05-16T13:26:17.413Z"
   },
   {
    "duration": 15,
    "start_time": "2024-05-16T13:26:23.666Z"
   },
   {
    "duration": 5,
    "start_time": "2024-05-16T13:26:28.627Z"
   },
   {
    "duration": 9,
    "start_time": "2024-05-16T13:26:30.641Z"
   },
   {
    "duration": 9,
    "start_time": "2024-05-16T13:28:16.321Z"
   },
   {
    "duration": 22,
    "start_time": "2024-05-16T13:29:01.906Z"
   },
   {
    "duration": 25,
    "start_time": "2024-05-16T13:30:23.932Z"
   },
   {
    "duration": 34,
    "start_time": "2024-05-16T13:30:36.027Z"
   },
   {
    "duration": 6,
    "start_time": "2024-05-16T13:30:53.825Z"
   },
   {
    "duration": 8,
    "start_time": "2024-05-16T13:30:56.049Z"
   },
   {
    "duration": 9,
    "start_time": "2024-05-16T13:31:21.235Z"
   },
   {
    "duration": 19,
    "start_time": "2024-05-16T13:35:41.965Z"
   },
   {
    "duration": 24,
    "start_time": "2024-05-16T13:35:49.788Z"
   },
   {
    "duration": 20,
    "start_time": "2024-05-16T13:35:57.083Z"
   },
   {
    "duration": 7,
    "start_time": "2024-05-16T13:36:38.394Z"
   },
   {
    "duration": 24,
    "start_time": "2024-05-16T13:38:02.669Z"
   },
   {
    "duration": 34,
    "start_time": "2024-05-16T13:38:19.106Z"
   },
   {
    "duration": 29,
    "start_time": "2024-05-16T13:38:43.334Z"
   },
   {
    "duration": 27,
    "start_time": "2024-05-16T13:42:42.399Z"
   },
   {
    "duration": 44,
    "start_time": "2024-05-16T13:43:04.773Z"
   },
   {
    "duration": 43,
    "start_time": "2024-05-16T13:43:10.325Z"
   },
   {
    "duration": 8,
    "start_time": "2024-05-16T13:46:31.123Z"
   },
   {
    "duration": 46,
    "start_time": "2024-05-16T13:46:58.192Z"
   },
   {
    "duration": 10,
    "start_time": "2024-05-16T13:50:40.205Z"
   },
   {
    "duration": 7,
    "start_time": "2024-05-16T13:53:41.612Z"
   },
   {
    "duration": 6,
    "start_time": "2024-05-16T13:54:20.162Z"
   },
   {
    "duration": 5,
    "start_time": "2024-05-16T13:54:37.792Z"
   },
   {
    "duration": 5,
    "start_time": "2024-05-16T13:54:45.253Z"
   },
   {
    "duration": 5,
    "start_time": "2024-05-16T13:54:51.475Z"
   },
   {
    "duration": 5,
    "start_time": "2024-05-16T14:06:19.976Z"
   },
   {
    "duration": 5,
    "start_time": "2024-05-16T14:06:27.744Z"
   },
   {
    "duration": 8,
    "start_time": "2024-05-16T14:43:11.089Z"
   },
   {
    "duration": 7,
    "start_time": "2024-05-16T14:43:41.330Z"
   },
   {
    "duration": 6,
    "start_time": "2024-05-16T14:43:47.580Z"
   },
   {
    "duration": 6,
    "start_time": "2024-05-16T14:48:57.303Z"
   },
   {
    "duration": 6,
    "start_time": "2024-05-16T14:49:05.420Z"
   },
   {
    "duration": 8,
    "start_time": "2024-05-16T14:53:00.035Z"
   },
   {
    "duration": 849,
    "start_time": "2024-05-16T14:53:22.640Z"
   },
   {
    "duration": 73,
    "start_time": "2024-05-16T14:53:32.678Z"
   },
   {
    "duration": 7,
    "start_time": "2024-05-16T14:54:04.245Z"
   },
   {
    "duration": 7,
    "start_time": "2024-05-16T14:55:10.893Z"
   },
   {
    "duration": 7,
    "start_time": "2024-05-16T14:55:11.487Z"
   },
   {
    "duration": 1311,
    "start_time": "2024-05-16T14:58:22.045Z"
   },
   {
    "duration": 14,
    "start_time": "2024-05-16T14:58:39.680Z"
   },
   {
    "duration": 82,
    "start_time": "2024-05-16T14:59:34.347Z"
   },
   {
    "duration": 16,
    "start_time": "2024-05-16T15:00:01.024Z"
   },
   {
    "duration": 256,
    "start_time": "2024-05-16T15:00:22.654Z"
   },
   {
    "duration": 22,
    "start_time": "2024-05-16T15:02:27.920Z"
   },
   {
    "duration": 292,
    "start_time": "2024-05-16T15:02:58.833Z"
   },
   {
    "duration": 270,
    "start_time": "2024-05-16T15:03:27.813Z"
   },
   {
    "duration": 277,
    "start_time": "2024-05-16T15:05:38.162Z"
   },
   {
    "duration": 255,
    "start_time": "2024-05-16T15:08:45.111Z"
   },
   {
    "duration": 247,
    "start_time": "2024-05-16T15:08:53.905Z"
   },
   {
    "duration": 272,
    "start_time": "2024-05-16T15:09:06.276Z"
   },
   {
    "duration": 260,
    "start_time": "2024-05-16T15:09:24.606Z"
   },
   {
    "duration": 262,
    "start_time": "2024-05-16T15:09:34.120Z"
   },
   {
    "duration": 274,
    "start_time": "2024-05-16T15:09:50.900Z"
   },
   {
    "duration": 4631,
    "start_time": "2024-05-17T11:50:24.678Z"
   },
   {
    "duration": 1777,
    "start_time": "2024-05-17T11:50:29.313Z"
   },
   {
    "duration": 44,
    "start_time": "2024-05-17T11:50:31.093Z"
   },
   {
    "duration": 28,
    "start_time": "2024-05-17T11:50:31.142Z"
   },
   {
    "duration": 50,
    "start_time": "2024-05-17T11:50:31.174Z"
   },
   {
    "duration": 19,
    "start_time": "2024-05-17T11:50:31.228Z"
   },
   {
    "duration": 86,
    "start_time": "2024-05-17T11:50:31.250Z"
   },
   {
    "duration": 182,
    "start_time": "2024-05-17T11:50:31.339Z"
   },
   {
    "duration": 88,
    "start_time": "2024-05-17T11:50:31.523Z"
   },
   {
    "duration": 31,
    "start_time": "2024-05-17T11:50:31.619Z"
   },
   {
    "duration": 7,
    "start_time": "2024-05-17T11:50:31.656Z"
   },
   {
    "duration": 44,
    "start_time": "2024-05-17T11:50:31.666Z"
   },
   {
    "duration": 7,
    "start_time": "2024-05-17T11:50:31.713Z"
   },
   {
    "duration": 22,
    "start_time": "2024-05-17T11:50:31.723Z"
   },
   {
    "duration": 8,
    "start_time": "2024-05-17T11:50:31.748Z"
   },
   {
    "duration": 84,
    "start_time": "2024-05-17T11:50:31.759Z"
   },
   {
    "duration": 7,
    "start_time": "2024-05-17T11:50:31.847Z"
   },
   {
    "duration": 8,
    "start_time": "2024-05-17T11:50:31.857Z"
   },
   {
    "duration": 42,
    "start_time": "2024-05-17T11:50:31.869Z"
   },
   {
    "duration": 8,
    "start_time": "2024-05-17T11:50:31.914Z"
   },
   {
    "duration": 7,
    "start_time": "2024-05-17T11:50:31.926Z"
   },
   {
    "duration": 1386,
    "start_time": "2024-05-17T11:50:31.936Z"
   },
   {
    "duration": 292,
    "start_time": "2024-05-17T11:50:33.325Z"
   },
   {
    "duration": 3,
    "start_time": "2024-05-17T11:50:33.620Z"
   },
   {
    "duration": 4,
    "start_time": "2024-05-17T11:50:33.626Z"
   },
   {
    "duration": 4,
    "start_time": "2024-05-17T11:50:33.633Z"
   },
   {
    "duration": 4,
    "start_time": "2024-05-17T11:50:33.640Z"
   },
   {
    "duration": 4,
    "start_time": "2024-05-17T11:50:33.652Z"
   },
   {
    "duration": 51,
    "start_time": "2024-05-17T11:50:33.659Z"
   },
   {
    "duration": 4,
    "start_time": "2024-05-17T11:50:33.713Z"
   },
   {
    "duration": 3,
    "start_time": "2024-05-17T11:50:33.720Z"
   },
   {
    "duration": 4,
    "start_time": "2024-05-17T11:50:33.726Z"
   },
   {
    "duration": 4,
    "start_time": "2024-05-17T11:50:33.732Z"
   },
   {
    "duration": 3,
    "start_time": "2024-05-17T11:50:33.739Z"
   },
   {
    "duration": 4,
    "start_time": "2024-05-17T11:50:33.746Z"
   },
   {
    "duration": 10,
    "start_time": "2024-05-17T11:54:26.845Z"
   },
   {
    "duration": 9,
    "start_time": "2024-05-17T11:54:34.818Z"
   },
   {
    "duration": 8,
    "start_time": "2024-05-17T11:54:42.040Z"
   },
   {
    "duration": 7,
    "start_time": "2024-05-17T11:55:58.950Z"
   },
   {
    "duration": 7,
    "start_time": "2024-05-17T11:56:08.868Z"
   },
   {
    "duration": 8,
    "start_time": "2024-05-17T11:56:37.733Z"
   },
   {
    "duration": 13,
    "start_time": "2024-05-17T12:00:31.568Z"
   },
   {
    "duration": 10,
    "start_time": "2024-05-17T12:00:51.068Z"
   },
   {
    "duration": 10,
    "start_time": "2024-05-17T12:02:01.518Z"
   },
   {
    "duration": 6,
    "start_time": "2024-05-17T12:02:24.862Z"
   },
   {
    "duration": 3,
    "start_time": "2024-05-17T12:02:30.680Z"
   },
   {
    "duration": 1491,
    "start_time": "2024-05-17T12:02:30.688Z"
   },
   {
    "duration": 40,
    "start_time": "2024-05-17T12:02:32.182Z"
   },
   {
    "duration": 25,
    "start_time": "2024-05-17T12:02:32.225Z"
   },
   {
    "duration": 21,
    "start_time": "2024-05-17T12:02:32.254Z"
   },
   {
    "duration": 21,
    "start_time": "2024-05-17T12:02:32.309Z"
   },
   {
    "duration": 77,
    "start_time": "2024-05-17T12:02:32.333Z"
   },
   {
    "duration": 174,
    "start_time": "2024-05-17T12:02:32.414Z"
   },
   {
    "duration": 87,
    "start_time": "2024-05-17T12:02:32.591Z"
   },
   {
    "duration": 35,
    "start_time": "2024-05-17T12:02:32.682Z"
   },
   {
    "duration": 5,
    "start_time": "2024-05-17T12:02:32.724Z"
   },
   {
    "duration": 9,
    "start_time": "2024-05-17T12:02:32.732Z"
   },
   {
    "duration": 6,
    "start_time": "2024-05-17T12:02:32.745Z"
   },
   {
    "duration": 69,
    "start_time": "2024-05-17T12:02:32.754Z"
   },
   {
    "duration": 7,
    "start_time": "2024-05-17T12:02:32.826Z"
   },
   {
    "duration": 44,
    "start_time": "2024-05-17T12:02:32.835Z"
   },
   {
    "duration": 31,
    "start_time": "2024-05-17T12:02:32.882Z"
   },
   {
    "duration": 8,
    "start_time": "2024-05-17T12:02:32.917Z"
   },
   {
    "duration": 8,
    "start_time": "2024-05-17T12:02:32.929Z"
   },
   {
    "duration": 7,
    "start_time": "2024-05-17T12:02:32.940Z"
   },
   {
    "duration": 58,
    "start_time": "2024-05-17T12:02:32.950Z"
   },
   {
    "duration": 1330,
    "start_time": "2024-05-17T12:02:33.011Z"
   },
   {
    "duration": 283,
    "start_time": "2024-05-17T12:02:34.345Z"
   },
   {
    "duration": 13,
    "start_time": "2024-05-17T12:02:34.631Z"
   },
   {
    "duration": 7,
    "start_time": "2024-05-17T12:02:34.647Z"
   },
   {
    "duration": 3,
    "start_time": "2024-05-17T12:02:34.657Z"
   },
   {
    "duration": 3,
    "start_time": "2024-05-17T12:02:34.664Z"
   },
   {
    "duration": 5,
    "start_time": "2024-05-17T12:02:34.710Z"
   },
   {
    "duration": 5,
    "start_time": "2024-05-17T12:02:34.725Z"
   },
   {
    "duration": 4,
    "start_time": "2024-05-17T12:02:34.733Z"
   },
   {
    "duration": 6,
    "start_time": "2024-05-17T12:02:34.740Z"
   },
   {
    "duration": 4,
    "start_time": "2024-05-17T12:02:34.749Z"
   },
   {
    "duration": 52,
    "start_time": "2024-05-17T12:02:34.758Z"
   },
   {
    "duration": 6,
    "start_time": "2024-05-17T12:02:34.813Z"
   },
   {
    "duration": 4,
    "start_time": "2024-05-17T12:02:34.823Z"
   },
   {
    "duration": 6,
    "start_time": "2024-05-17T12:02:43.083Z"
   },
   {
    "duration": 8,
    "start_time": "2024-05-17T12:02:50.864Z"
   },
   {
    "duration": 13,
    "start_time": "2024-05-17T12:03:07.420Z"
   },
   {
    "duration": 14,
    "start_time": "2024-05-17T12:03:39.104Z"
   },
   {
    "duration": 9,
    "start_time": "2024-05-17T12:07:43.343Z"
   },
   {
    "duration": 8,
    "start_time": "2024-05-17T12:10:56.816Z"
   },
   {
    "duration": 15,
    "start_time": "2024-05-17T12:16:58.943Z"
   },
   {
    "duration": 40,
    "start_time": "2024-05-17T12:20:33.462Z"
   },
   {
    "duration": 6,
    "start_time": "2024-05-17T12:25:02.204Z"
   },
   {
    "duration": 12,
    "start_time": "2024-05-17T12:25:17.186Z"
   },
   {
    "duration": 13,
    "start_time": "2024-05-17T12:29:03.201Z"
   },
   {
    "duration": 415,
    "start_time": "2024-05-17T12:29:24.900Z"
   },
   {
    "duration": 21,
    "start_time": "2024-05-17T12:29:36.301Z"
   },
   {
    "duration": 853,
    "start_time": "2024-05-17T12:30:27.964Z"
   },
   {
    "duration": 305,
    "start_time": "2024-05-17T12:31:22.827Z"
   },
   {
    "duration": 13,
    "start_time": "2024-05-17T12:31:33.197Z"
   },
   {
    "duration": 92,
    "start_time": "2024-05-17T12:31:56.230Z"
   },
   {
    "duration": 95,
    "start_time": "2024-05-17T12:32:10.115Z"
   },
   {
    "duration": 100,
    "start_time": "2024-05-17T12:32:42.393Z"
   },
   {
    "duration": 46,
    "start_time": "2024-05-17T12:33:18.055Z"
   },
   {
    "duration": 45,
    "start_time": "2024-05-17T12:33:34.849Z"
   },
   {
    "duration": 14,
    "start_time": "2024-05-17T12:33:44.264Z"
   },
   {
    "duration": 9,
    "start_time": "2024-05-17T12:34:35.274Z"
   },
   {
    "duration": 16,
    "start_time": "2024-05-17T12:34:56.047Z"
   },
   {
    "duration": 15,
    "start_time": "2024-05-17T12:35:10.693Z"
   },
   {
    "duration": 16,
    "start_time": "2024-05-17T12:35:24.039Z"
   },
   {
    "duration": 18,
    "start_time": "2024-05-17T12:36:19.703Z"
   },
   {
    "duration": 16,
    "start_time": "2024-05-17T12:36:47.173Z"
   },
   {
    "duration": 5,
    "start_time": "2024-05-17T12:40:08.805Z"
   },
   {
    "duration": 6,
    "start_time": "2024-05-17T12:40:23.828Z"
   },
   {
    "duration": 16,
    "start_time": "2024-05-17T12:43:00.804Z"
   },
   {
    "duration": 10,
    "start_time": "2024-05-17T12:46:38.847Z"
   },
   {
    "duration": 10,
    "start_time": "2024-05-17T12:47:21.709Z"
   },
   {
    "duration": 11,
    "start_time": "2024-05-17T12:47:28.999Z"
   },
   {
    "duration": 26,
    "start_time": "2024-05-17T12:49:03.912Z"
   },
   {
    "duration": 18,
    "start_time": "2024-05-17T12:50:16.953Z"
   },
   {
    "duration": 13,
    "start_time": "2024-05-17T12:50:38.048Z"
   },
   {
    "duration": 13,
    "start_time": "2024-05-17T12:51:54.574Z"
   },
   {
    "duration": 77,
    "start_time": "2024-05-17T12:55:44.739Z"
   },
   {
    "duration": 730,
    "start_time": "2024-05-17T12:57:19.543Z"
   },
   {
    "duration": 4,
    "start_time": "2024-05-17T12:57:50.461Z"
   },
   {
    "duration": 345,
    "start_time": "2024-05-17T12:58:28.863Z"
   },
   {
    "duration": 14,
    "start_time": "2024-05-17T12:58:44.550Z"
   },
   {
    "duration": 11,
    "start_time": "2024-05-17T12:59:01.363Z"
   },
   {
    "duration": 15,
    "start_time": "2024-05-17T12:59:23.365Z"
   },
   {
    "duration": 15,
    "start_time": "2024-05-17T12:59:26.278Z"
   },
   {
    "duration": 28,
    "start_time": "2024-05-17T13:00:51.019Z"
   },
   {
    "duration": 27,
    "start_time": "2024-05-17T13:01:00.855Z"
   },
   {
    "duration": 10,
    "start_time": "2024-05-17T13:01:07.945Z"
   },
   {
    "duration": 10,
    "start_time": "2024-05-17T13:02:25.427Z"
   },
   {
    "duration": 18,
    "start_time": "2024-05-17T13:02:31.561Z"
   },
   {
    "duration": 10,
    "start_time": "2024-05-17T13:02:39.680Z"
   },
   {
    "duration": 311,
    "start_time": "2024-05-17T15:04:56.019Z"
   },
   {
    "duration": 22,
    "start_time": "2024-05-17T15:05:54.054Z"
   },
   {
    "duration": 4583,
    "start_time": "2024-05-17T15:06:17.874Z"
   },
   {
    "duration": 1816,
    "start_time": "2024-05-17T15:06:22.461Z"
   },
   {
    "duration": 55,
    "start_time": "2024-05-17T15:06:24.280Z"
   },
   {
    "duration": 35,
    "start_time": "2024-05-17T15:06:24.339Z"
   },
   {
    "duration": 47,
    "start_time": "2024-05-17T15:06:24.380Z"
   },
   {
    "duration": 23,
    "start_time": "2024-05-17T15:06:24.429Z"
   },
   {
    "duration": 82,
    "start_time": "2024-05-17T15:06:24.455Z"
   },
   {
    "duration": 179,
    "start_time": "2024-05-17T15:06:24.540Z"
   },
   {
    "duration": 92,
    "start_time": "2024-05-17T15:06:24.722Z"
   },
   {
    "duration": 30,
    "start_time": "2024-05-17T15:06:24.817Z"
   },
   {
    "duration": 9,
    "start_time": "2024-05-17T15:06:24.851Z"
   },
   {
    "duration": 10,
    "start_time": "2024-05-17T15:06:24.864Z"
   },
   {
    "duration": 7,
    "start_time": "2024-05-17T15:06:24.914Z"
   },
   {
    "duration": 27,
    "start_time": "2024-05-17T15:06:24.930Z"
   },
   {
    "duration": 8,
    "start_time": "2024-05-17T15:06:24.960Z"
   },
   {
    "duration": 98,
    "start_time": "2024-05-17T15:06:24.971Z"
   },
   {
    "duration": 8,
    "start_time": "2024-05-17T15:06:25.072Z"
   },
   {
    "duration": 35,
    "start_time": "2024-05-17T15:06:25.084Z"
   },
   {
    "duration": 7,
    "start_time": "2024-05-17T15:06:25.122Z"
   },
   {
    "duration": 9,
    "start_time": "2024-05-17T15:06:25.133Z"
   },
   {
    "duration": 8,
    "start_time": "2024-05-17T15:06:25.145Z"
   },
   {
    "duration": 1456,
    "start_time": "2024-05-17T15:06:25.157Z"
   },
   {
    "duration": 324,
    "start_time": "2024-05-17T15:06:26.616Z"
   },
   {
    "duration": 8,
    "start_time": "2024-05-17T15:06:26.943Z"
   },
   {
    "duration": 15,
    "start_time": "2024-05-17T15:06:26.955Z"
   },
   {
    "duration": 44,
    "start_time": "2024-05-17T15:06:26.973Z"
   },
   {
    "duration": 4,
    "start_time": "2024-05-17T15:06:27.020Z"
   },
   {
    "duration": 4,
    "start_time": "2024-05-17T15:06:27.027Z"
   },
   {
    "duration": 4,
    "start_time": "2024-05-17T15:06:27.034Z"
   },
   {
    "duration": 4,
    "start_time": "2024-05-17T15:06:27.044Z"
   },
   {
    "duration": 3,
    "start_time": "2024-05-17T15:06:27.051Z"
   },
   {
    "duration": 55,
    "start_time": "2024-05-17T15:06:27.057Z"
   },
   {
    "duration": 4,
    "start_time": "2024-05-17T15:06:27.115Z"
   },
   {
    "duration": 3,
    "start_time": "2024-05-17T15:06:27.122Z"
   },
   {
    "duration": 4,
    "start_time": "2024-05-17T15:06:27.128Z"
   },
   {
    "duration": 158,
    "start_time": "2024-05-17T15:06:27.948Z"
   },
   {
    "duration": 180,
    "start_time": "2024-05-17T15:07:10.998Z"
   },
   {
    "duration": 160,
    "start_time": "2024-05-17T15:07:28.324Z"
   },
   {
    "duration": 156,
    "start_time": "2024-05-17T15:08:02.250Z"
   },
   {
    "duration": 18,
    "start_time": "2024-05-17T15:12:40.172Z"
   },
   {
    "duration": 6,
    "start_time": "2024-05-17T15:17:30.068Z"
   },
   {
    "duration": 8,
    "start_time": "2024-05-17T15:18:36.392Z"
   },
   {
    "duration": 7,
    "start_time": "2024-05-17T15:19:30.328Z"
   },
   {
    "duration": 6,
    "start_time": "2024-05-17T15:19:41.974Z"
   },
   {
    "duration": 310,
    "start_time": "2024-05-17T22:12:06.891Z"
   },
   {
    "duration": 21,
    "start_time": "2024-05-17T22:12:59.775Z"
   },
   {
    "duration": 4310,
    "start_time": "2024-05-17T22:13:10.135Z"
   },
   {
    "duration": 1730,
    "start_time": "2024-05-17T22:13:14.448Z"
   },
   {
    "duration": 49,
    "start_time": "2024-05-17T22:13:16.181Z"
   },
   {
    "duration": 27,
    "start_time": "2024-05-17T22:13:16.233Z"
   },
   {
    "duration": 23,
    "start_time": "2024-05-17T22:13:16.264Z"
   },
   {
    "duration": 56,
    "start_time": "2024-05-17T22:13:16.290Z"
   },
   {
    "duration": 52,
    "start_time": "2024-05-17T22:13:16.349Z"
   },
   {
    "duration": 172,
    "start_time": "2024-05-17T22:13:16.431Z"
   },
   {
    "duration": 32,
    "start_time": "2024-05-17T22:13:16.605Z"
   },
   {
    "duration": 7,
    "start_time": "2024-05-17T22:13:16.640Z"
   },
   {
    "duration": 8,
    "start_time": "2024-05-17T22:13:16.650Z"
   },
   {
    "duration": 6,
    "start_time": "2024-05-17T22:13:16.661Z"
   },
   {
    "duration": 64,
    "start_time": "2024-05-17T22:13:16.671Z"
   },
   {
    "duration": 7,
    "start_time": "2024-05-17T22:13:16.741Z"
   },
   {
    "duration": 44,
    "start_time": "2024-05-17T22:13:16.752Z"
   },
   {
    "duration": 8,
    "start_time": "2024-05-17T22:13:16.831Z"
   },
   {
    "duration": 7,
    "start_time": "2024-05-17T22:13:16.842Z"
   },
   {
    "duration": 7,
    "start_time": "2024-05-17T22:13:16.853Z"
   },
   {
    "duration": 8,
    "start_time": "2024-05-17T22:13:16.864Z"
   },
   {
    "duration": 56,
    "start_time": "2024-05-17T22:13:16.876Z"
   },
   {
    "duration": 1371,
    "start_time": "2024-05-17T22:13:16.935Z"
   },
   {
    "duration": 291,
    "start_time": "2024-05-17T22:13:18.311Z"
   },
   {
    "duration": 9,
    "start_time": "2024-05-17T22:13:18.605Z"
   },
   {
    "duration": 13,
    "start_time": "2024-05-17T22:13:18.632Z"
   },
   {
    "duration": 10,
    "start_time": "2024-05-17T22:13:18.648Z"
   },
   {
    "duration": 3,
    "start_time": "2024-05-17T22:13:18.661Z"
   },
   {
    "duration": 4,
    "start_time": "2024-05-17T22:13:18.667Z"
   },
   {
    "duration": 4,
    "start_time": "2024-05-17T22:13:18.674Z"
   },
   {
    "duration": 4,
    "start_time": "2024-05-17T22:13:18.731Z"
   },
   {
    "duration": 4,
    "start_time": "2024-05-17T22:13:18.738Z"
   },
   {
    "duration": 3,
    "start_time": "2024-05-17T22:13:18.745Z"
   },
   {
    "duration": 4,
    "start_time": "2024-05-17T22:13:18.753Z"
   },
   {
    "duration": 4,
    "start_time": "2024-05-17T22:13:18.759Z"
   },
   {
    "duration": 4,
    "start_time": "2024-05-17T22:13:18.766Z"
   },
   {
    "duration": 18,
    "start_time": "2024-05-17T22:13:41.751Z"
   },
   {
    "duration": 9,
    "start_time": "2024-05-17T22:14:03.998Z"
   },
   {
    "duration": 9,
    "start_time": "2024-05-17T22:14:11.612Z"
   },
   {
    "duration": 5,
    "start_time": "2024-05-17T22:14:44.589Z"
   },
   {
    "duration": 4,
    "start_time": "2024-05-17T22:14:49.644Z"
   },
   {
    "duration": 1524,
    "start_time": "2024-05-17T22:14:49.653Z"
   },
   {
    "duration": 34,
    "start_time": "2024-05-17T22:14:51.181Z"
   },
   {
    "duration": 26,
    "start_time": "2024-05-17T22:14:51.232Z"
   },
   {
    "duration": 23,
    "start_time": "2024-05-17T22:14:51.262Z"
   },
   {
    "duration": 59,
    "start_time": "2024-05-17T22:14:51.288Z"
   },
   {
    "duration": 48,
    "start_time": "2024-05-17T22:14:51.350Z"
   },
   {
    "duration": 184,
    "start_time": "2024-05-17T22:14:51.401Z"
   },
   {
    "duration": 18,
    "start_time": "2024-05-17T22:14:51.587Z"
   },
   {
    "duration": 27,
    "start_time": "2024-05-17T22:14:51.608Z"
   },
   {
    "duration": 8,
    "start_time": "2024-05-17T22:14:51.638Z"
   },
   {
    "duration": 7,
    "start_time": "2024-05-17T22:14:51.649Z"
   },
   {
    "duration": 25,
    "start_time": "2024-05-17T22:14:51.660Z"
   },
   {
    "duration": 7,
    "start_time": "2024-05-17T22:14:51.730Z"
   },
   {
    "duration": 63,
    "start_time": "2024-05-17T22:14:51.740Z"
   },
   {
    "duration": 28,
    "start_time": "2024-05-17T22:14:51.807Z"
   },
   {
    "duration": 8,
    "start_time": "2024-05-17T22:14:51.838Z"
   },
   {
    "duration": 7,
    "start_time": "2024-05-17T22:14:51.848Z"
   },
   {
    "duration": 10,
    "start_time": "2024-05-17T22:14:51.858Z"
   },
   {
    "duration": 7,
    "start_time": "2024-05-17T22:14:51.871Z"
   },
   {
    "duration": 1363,
    "start_time": "2024-05-17T22:14:51.932Z"
   },
   {
    "duration": 291,
    "start_time": "2024-05-17T22:14:53.299Z"
   },
   {
    "duration": 8,
    "start_time": "2024-05-17T22:14:53.593Z"
   },
   {
    "duration": 33,
    "start_time": "2024-05-17T22:14:53.604Z"
   },
   {
    "duration": 9,
    "start_time": "2024-05-17T22:14:53.643Z"
   },
   {
    "duration": 4,
    "start_time": "2024-05-17T22:14:53.655Z"
   },
   {
    "duration": 3,
    "start_time": "2024-05-17T22:14:53.662Z"
   },
   {
    "duration": 3,
    "start_time": "2024-05-17T22:14:53.669Z"
   },
   {
    "duration": 53,
    "start_time": "2024-05-17T22:14:53.677Z"
   },
   {
    "duration": 3,
    "start_time": "2024-05-17T22:14:53.733Z"
   },
   {
    "duration": 3,
    "start_time": "2024-05-17T22:14:53.742Z"
   },
   {
    "duration": 4,
    "start_time": "2024-05-17T22:14:53.748Z"
   },
   {
    "duration": 3,
    "start_time": "2024-05-17T22:14:53.755Z"
   },
   {
    "duration": 4,
    "start_time": "2024-05-17T22:14:53.761Z"
   },
   {
    "duration": 149,
    "start_time": "2024-05-17T22:15:39.578Z"
   },
   {
    "duration": 161,
    "start_time": "2024-05-17T22:15:46.403Z"
   },
   {
    "duration": 158,
    "start_time": "2024-05-17T22:16:06.278Z"
   },
   {
    "duration": 18,
    "start_time": "2024-05-17T22:17:04.051Z"
   },
   {
    "duration": 162,
    "start_time": "2024-05-17T22:19:14.633Z"
   },
   {
    "duration": 182,
    "start_time": "2024-05-17T22:19:50.250Z"
   },
   {
    "duration": 18,
    "start_time": "2024-05-17T22:24:11.511Z"
   },
   {
    "duration": 19,
    "start_time": "2024-05-17T22:24:25.698Z"
   },
   {
    "duration": 41,
    "start_time": "2024-05-17T22:26:32.739Z"
   },
   {
    "duration": 60,
    "start_time": "2024-05-17T22:27:11.990Z"
   },
   {
    "duration": 37,
    "start_time": "2024-05-17T22:27:36.830Z"
   },
   {
    "duration": 39,
    "start_time": "2024-05-17T22:28:13.178Z"
   },
   {
    "duration": 75,
    "start_time": "2024-05-17T22:29:54.379Z"
   },
   {
    "duration": 24,
    "start_time": "2024-05-17T22:30:09.312Z"
   },
   {
    "duration": 27,
    "start_time": "2024-05-17T22:38:54.251Z"
   },
   {
    "duration": 23,
    "start_time": "2024-05-17T22:39:01.351Z"
   },
   {
    "duration": 16,
    "start_time": "2024-05-17T22:39:06.998Z"
   },
   {
    "duration": 28,
    "start_time": "2024-05-17T22:45:57.442Z"
   },
   {
    "duration": 33,
    "start_time": "2024-05-17T22:46:18.798Z"
   },
   {
    "duration": 35,
    "start_time": "2024-05-17T22:47:22.793Z"
   },
   {
    "duration": 17,
    "start_time": "2024-05-17T22:48:01.474Z"
   },
   {
    "duration": 6,
    "start_time": "2024-05-17T23:00:25.760Z"
   },
   {
    "duration": 11,
    "start_time": "2024-05-17T23:01:28.952Z"
   },
   {
    "duration": 6,
    "start_time": "2024-05-17T23:02:37.639Z"
   },
   {
    "duration": 4542,
    "start_time": "2024-05-18T00:39:29.026Z"
   },
   {
    "duration": 1772,
    "start_time": "2024-05-18T00:39:33.572Z"
   },
   {
    "duration": 47,
    "start_time": "2024-05-18T00:39:35.350Z"
   },
   {
    "duration": 46,
    "start_time": "2024-05-18T00:39:35.400Z"
   },
   {
    "duration": 26,
    "start_time": "2024-05-18T00:39:35.451Z"
   },
   {
    "duration": 57,
    "start_time": "2024-05-18T00:39:35.481Z"
   },
   {
    "duration": 62,
    "start_time": "2024-05-18T00:39:35.541Z"
   },
   {
    "duration": 183,
    "start_time": "2024-05-18T00:39:35.631Z"
   },
   {
    "duration": 31,
    "start_time": "2024-05-18T00:39:35.818Z"
   },
   {
    "duration": 11,
    "start_time": "2024-05-18T00:39:35.852Z"
   },
   {
    "duration": 7,
    "start_time": "2024-05-18T00:39:35.866Z"
   },
   {
    "duration": 1058,
    "start_time": "2024-05-18T00:39:35.876Z"
   },
   {
    "duration": 0,
    "start_time": "2024-05-18T00:39:36.938Z"
   },
   {
    "duration": 0,
    "start_time": "2024-05-18T00:39:36.941Z"
   },
   {
    "duration": 0,
    "start_time": "2024-05-18T00:39:36.942Z"
   },
   {
    "duration": 0,
    "start_time": "2024-05-18T00:39:36.944Z"
   },
   {
    "duration": 0,
    "start_time": "2024-05-18T00:39:36.946Z"
   },
   {
    "duration": 0,
    "start_time": "2024-05-18T00:39:36.948Z"
   },
   {
    "duration": 0,
    "start_time": "2024-05-18T00:39:36.950Z"
   },
   {
    "duration": 0,
    "start_time": "2024-05-18T00:39:36.953Z"
   },
   {
    "duration": 0,
    "start_time": "2024-05-18T00:39:36.955Z"
   },
   {
    "duration": 0,
    "start_time": "2024-05-18T00:39:36.957Z"
   },
   {
    "duration": 0,
    "start_time": "2024-05-18T00:39:36.959Z"
   },
   {
    "duration": 0,
    "start_time": "2024-05-18T00:39:36.962Z"
   },
   {
    "duration": 0,
    "start_time": "2024-05-18T00:39:36.964Z"
   },
   {
    "duration": 0,
    "start_time": "2024-05-18T00:39:36.966Z"
   },
   {
    "duration": 0,
    "start_time": "2024-05-18T00:39:36.969Z"
   },
   {
    "duration": 0,
    "start_time": "2024-05-18T00:39:36.970Z"
   },
   {
    "duration": 0,
    "start_time": "2024-05-18T00:39:36.972Z"
   },
   {
    "duration": 0,
    "start_time": "2024-05-18T00:39:36.973Z"
   },
   {
    "duration": 0,
    "start_time": "2024-05-18T00:39:36.975Z"
   },
   {
    "duration": 0,
    "start_time": "2024-05-18T00:39:37.033Z"
   },
   {
    "duration": 0,
    "start_time": "2024-05-18T00:39:37.035Z"
   },
   {
    "duration": 0,
    "start_time": "2024-05-18T00:39:37.037Z"
   },
   {
    "duration": 1386,
    "start_time": "2024-05-18T00:39:49.812Z"
   },
   {
    "duration": 275,
    "start_time": "2024-05-18T00:39:51.335Z"
   },
   {
    "duration": 4,
    "start_time": "2024-05-18T00:40:04.592Z"
   },
   {
    "duration": 1582,
    "start_time": "2024-05-18T00:40:05.150Z"
   },
   {
    "duration": 31,
    "start_time": "2024-05-18T00:40:06.736Z"
   },
   {
    "duration": 28,
    "start_time": "2024-05-18T00:40:07.129Z"
   },
   {
    "duration": 24,
    "start_time": "2024-05-18T00:40:07.390Z"
   },
   {
    "duration": 24,
    "start_time": "2024-05-18T00:40:07.601Z"
   },
   {
    "duration": 53,
    "start_time": "2024-05-18T00:40:07.851Z"
   },
   {
    "duration": 148,
    "start_time": "2024-05-18T00:40:09.912Z"
   },
   {
    "duration": 19,
    "start_time": "2024-05-18T00:40:11.017Z"
   },
   {
    "duration": 9,
    "start_time": "2024-05-18T00:40:12.881Z"
   },
   {
    "duration": 7,
    "start_time": "2024-05-18T00:40:14.003Z"
   },
   {
    "duration": 111,
    "start_time": "2024-05-18T00:40:29.907Z"
   },
   {
    "duration": 7,
    "start_time": "2024-05-18T00:41:48.637Z"
   },
   {
    "duration": 1530,
    "start_time": "2024-05-18T00:41:49.625Z"
   },
   {
    "duration": 37,
    "start_time": "2024-05-18T00:41:55.392Z"
   },
   {
    "duration": 28,
    "start_time": "2024-05-18T00:41:57.124Z"
   },
   {
    "duration": 22,
    "start_time": "2024-05-18T00:41:58.912Z"
   },
   {
    "duration": 21,
    "start_time": "2024-05-18T00:42:00.292Z"
   },
   {
    "duration": 73,
    "start_time": "2024-05-18T00:42:02.010Z"
   },
   {
    "duration": 149,
    "start_time": "2024-05-18T00:42:12.821Z"
   },
   {
    "duration": 21,
    "start_time": "2024-05-18T00:42:15.883Z"
   },
   {
    "duration": 10,
    "start_time": "2024-05-18T00:42:20.152Z"
   },
   {
    "duration": 6,
    "start_time": "2024-05-18T00:42:21.860Z"
   },
   {
    "duration": 86,
    "start_time": "2024-05-18T00:42:23.597Z"
   },
   {
    "duration": 77,
    "start_time": "2024-05-18T00:42:43.559Z"
   },
   {
    "duration": 127,
    "start_time": "2024-05-18T00:43:52.535Z"
   },
   {
    "duration": 6,
    "start_time": "2024-05-18T00:44:12.692Z"
   },
   {
    "duration": 11,
    "start_time": "2024-05-18T00:44:39.680Z"
   },
   {
    "duration": 27,
    "start_time": "2024-05-18T00:44:52.989Z"
   },
   {
    "duration": 22,
    "start_time": "2024-05-18T00:45:13.819Z"
   },
   {
    "duration": 6,
    "start_time": "2024-05-18T00:45:26.649Z"
   },
   {
    "duration": 81,
    "start_time": "2024-05-18T00:45:53.409Z"
   },
   {
    "duration": 156,
    "start_time": "2024-05-18T00:47:16.729Z"
   },
   {
    "duration": 129,
    "start_time": "2024-05-18T00:49:29.020Z"
   },
   {
    "duration": 139,
    "start_time": "2024-05-18T00:56:37.499Z"
   },
   {
    "duration": 140,
    "start_time": "2024-05-18T00:57:36.477Z"
   },
   {
    "duration": 38,
    "start_time": "2024-05-18T01:00:05.189Z"
   },
   {
    "duration": 38,
    "start_time": "2024-05-18T01:00:57.098Z"
   },
   {
    "duration": 40,
    "start_time": "2024-05-18T01:01:12.613Z"
   },
   {
    "duration": 37,
    "start_time": "2024-05-18T01:01:16.222Z"
   },
   {
    "duration": 38,
    "start_time": "2024-05-18T01:01:55.950Z"
   },
   {
    "duration": 20,
    "start_time": "2024-05-18T01:02:08.585Z"
   },
   {
    "duration": 7,
    "start_time": "2024-05-18T01:02:28.909Z"
   },
   {
    "duration": 20,
    "start_time": "2024-05-18T01:03:36.842Z"
   },
   {
    "duration": 27,
    "start_time": "2024-05-18T01:03:42.669Z"
   },
   {
    "duration": 6,
    "start_time": "2024-05-18T01:05:58.372Z"
   },
   {
    "duration": 41,
    "start_time": "2024-05-18T01:07:32.610Z"
   },
   {
    "duration": 17,
    "start_time": "2024-05-18T01:07:37.017Z"
   },
   {
    "duration": 5,
    "start_time": "2024-05-18T01:07:42.962Z"
   },
   {
    "duration": 6,
    "start_time": "2024-05-18T01:07:45.729Z"
   },
   {
    "duration": 8,
    "start_time": "2024-05-18T01:07:52.509Z"
   },
   {
    "duration": 6,
    "start_time": "2024-05-18T01:09:10.442Z"
   },
   {
    "duration": 5,
    "start_time": "2024-05-18T01:09:45.961Z"
   },
   {
    "duration": 23,
    "start_time": "2024-05-18T01:12:06.440Z"
   },
   {
    "duration": 604,
    "start_time": "2024-05-18T01:12:36.883Z"
   },
   {
    "duration": 24,
    "start_time": "2024-05-18T01:13:00.123Z"
   },
   {
    "duration": 5,
    "start_time": "2024-05-18T01:13:37.111Z"
   },
   {
    "duration": 1449,
    "start_time": "2024-05-18T01:22:12.362Z"
   },
   {
    "duration": 5,
    "start_time": "2024-05-18T01:22:21.279Z"
   },
   {
    "duration": 5,
    "start_time": "2024-05-18T01:22:25.099Z"
   },
   {
    "duration": 6,
    "start_time": "2024-05-18T01:22:30.652Z"
   },
   {
    "duration": 6,
    "start_time": "2024-05-18T01:22:34.050Z"
   },
   {
    "duration": 1321,
    "start_time": "2024-05-18T01:26:14.559Z"
   },
   {
    "duration": 1301,
    "start_time": "2024-05-18T01:26:47.020Z"
   },
   {
    "duration": 8,
    "start_time": "2024-05-18T01:30:35.223Z"
   },
   {
    "duration": 8,
    "start_time": "2024-05-18T01:35:40.732Z"
   },
   {
    "duration": 8,
    "start_time": "2024-05-18T01:40:56.788Z"
   },
   {
    "duration": 8,
    "start_time": "2024-05-18T01:42:39.963Z"
   },
   {
    "duration": 10,
    "start_time": "2024-05-18T01:46:16.870Z"
   },
   {
    "duration": 8,
    "start_time": "2024-05-18T01:47:30.729Z"
   },
   {
    "duration": 319,
    "start_time": "2024-05-18T13:48:23.363Z"
   },
   {
    "duration": 4347,
    "start_time": "2024-05-18T13:48:43.008Z"
   },
   {
    "duration": 1719,
    "start_time": "2024-05-18T13:48:47.359Z"
   },
   {
    "duration": 42,
    "start_time": "2024-05-18T13:48:49.081Z"
   },
   {
    "duration": 26,
    "start_time": "2024-05-18T13:48:49.127Z"
   },
   {
    "duration": 55,
    "start_time": "2024-05-18T13:48:49.157Z"
   },
   {
    "duration": 20,
    "start_time": "2024-05-18T13:48:49.215Z"
   },
   {
    "duration": 77,
    "start_time": "2024-05-18T13:48:49.238Z"
   },
   {
    "duration": 163,
    "start_time": "2024-05-18T13:48:49.319Z"
   },
   {
    "duration": 19,
    "start_time": "2024-05-18T13:48:49.835Z"
   },
   {
    "duration": 171,
    "start_time": "2024-05-18T13:48:50.833Z"
   },
   {
    "duration": 163,
    "start_time": "2024-05-18T13:48:51.310Z"
   },
   {
    "duration": 40,
    "start_time": "2024-05-18T13:48:51.757Z"
   },
   {
    "duration": 30,
    "start_time": "2024-05-18T13:48:53.099Z"
   },
   {
    "duration": 6,
    "start_time": "2024-05-18T13:48:53.591Z"
   },
   {
    "duration": 42,
    "start_time": "2024-05-18T13:48:54.103Z"
   },
   {
    "duration": 18,
    "start_time": "2024-05-18T13:48:54.608Z"
   },
   {
    "duration": 5,
    "start_time": "2024-05-18T13:48:56.049Z"
   },
   {
    "duration": 5,
    "start_time": "2024-05-18T13:48:56.533Z"
   },
   {
    "duration": 8,
    "start_time": "2024-05-18T13:48:58.176Z"
   },
   {
    "duration": 5,
    "start_time": "2024-05-18T13:48:58.791Z"
   },
   {
    "duration": 1456,
    "start_time": "2024-05-18T13:49:00.271Z"
   },
   {
    "duration": 1389,
    "start_time": "2024-05-18T13:49:01.731Z"
   },
   {
    "duration": 7,
    "start_time": "2024-05-18T13:49:03.258Z"
   },
   {
    "duration": 9,
    "start_time": "2024-05-18T13:49:04.844Z"
   },
   {
    "duration": 9,
    "start_time": "2024-05-18T13:49:06.289Z"
   },
   {
    "duration": 787,
    "start_time": "2024-05-18T13:49:08.520Z"
   },
   {
    "duration": 32,
    "start_time": "2024-05-18T13:51:16.619Z"
   },
   {
    "duration": 38,
    "start_time": "2024-05-18T13:51:48.545Z"
   },
   {
    "duration": 35,
    "start_time": "2024-05-18T13:52:23.624Z"
   },
   {
    "duration": 37,
    "start_time": "2024-05-18T13:52:58.149Z"
   },
   {
    "duration": 34,
    "start_time": "2024-05-18T13:56:01.205Z"
   },
   {
    "duration": 33,
    "start_time": "2024-05-18T13:56:16.745Z"
   },
   {
    "duration": 34,
    "start_time": "2024-05-18T13:57:12.291Z"
   },
   {
    "duration": 35,
    "start_time": "2024-05-18T13:57:22.018Z"
   },
   {
    "duration": 35,
    "start_time": "2024-05-18T13:57:36.069Z"
   },
   {
    "duration": 120,
    "start_time": "2024-05-18T13:59:27.781Z"
   },
   {
    "duration": 48,
    "start_time": "2024-05-18T14:01:28.971Z"
   },
   {
    "duration": 54,
    "start_time": "2024-05-18T14:01:47.802Z"
   },
   {
    "duration": 10,
    "start_time": "2024-05-18T14:02:04.449Z"
   },
   {
    "duration": 60,
    "start_time": "2024-05-18T14:02:20.789Z"
   },
   {
    "duration": 49,
    "start_time": "2024-05-18T14:03:37.185Z"
   },
   {
    "duration": 57,
    "start_time": "2024-05-18T14:04:40.117Z"
   },
   {
    "duration": 61,
    "start_time": "2024-05-18T14:04:53.095Z"
   },
   {
    "duration": 10,
    "start_time": "2024-05-18T14:08:10.028Z"
   },
   {
    "duration": 12,
    "start_time": "2024-05-18T14:09:44.934Z"
   },
   {
    "duration": 29,
    "start_time": "2024-05-18T14:12:02.659Z"
   },
   {
    "duration": 36,
    "start_time": "2024-05-18T14:12:34.313Z"
   },
   {
    "duration": 41,
    "start_time": "2024-05-18T14:12:55.629Z"
   },
   {
    "duration": 22,
    "start_time": "2024-05-18T14:14:01.239Z"
   },
   {
    "duration": 7,
    "start_time": "2024-05-18T14:14:38.793Z"
   },
   {
    "duration": 1525,
    "start_time": "2024-05-18T14:14:38.813Z"
   },
   {
    "duration": 45,
    "start_time": "2024-05-18T14:14:40.341Z"
   },
   {
    "duration": 47,
    "start_time": "2024-05-18T14:14:40.390Z"
   },
   {
    "duration": 25,
    "start_time": "2024-05-18T14:14:40.444Z"
   },
   {
    "duration": 58,
    "start_time": "2024-05-18T14:14:40.472Z"
   },
   {
    "duration": 80,
    "start_time": "2024-05-18T14:14:40.534Z"
   },
   {
    "duration": 179,
    "start_time": "2024-05-18T14:14:40.616Z"
   },
   {
    "duration": 31,
    "start_time": "2024-05-18T14:14:40.798Z"
   },
   {
    "duration": 212,
    "start_time": "2024-05-18T14:14:40.832Z"
   },
   {
    "duration": 174,
    "start_time": "2024-05-18T14:14:41.047Z"
   },
   {
    "duration": 47,
    "start_time": "2024-05-18T14:14:41.224Z"
   },
   {
    "duration": 49,
    "start_time": "2024-05-18T14:14:41.274Z"
   },
   {
    "duration": 5,
    "start_time": "2024-05-18T14:14:41.330Z"
   },
   {
    "duration": 44,
    "start_time": "2024-05-18T14:14:41.338Z"
   },
   {
    "duration": 43,
    "start_time": "2024-05-18T14:14:41.385Z"
   },
   {
    "duration": 5,
    "start_time": "2024-05-18T14:14:41.432Z"
   },
   {
    "duration": 6,
    "start_time": "2024-05-18T14:14:41.441Z"
   },
   {
    "duration": 7,
    "start_time": "2024-05-18T14:14:41.451Z"
   },
   {
    "duration": 9,
    "start_time": "2024-05-18T14:14:41.512Z"
   },
   {
    "duration": 1333,
    "start_time": "2024-05-18T14:14:41.524Z"
   },
   {
    "duration": 1386,
    "start_time": "2024-05-18T14:14:42.861Z"
   },
   {
    "duration": 8,
    "start_time": "2024-05-18T14:14:44.251Z"
   },
   {
    "duration": 9,
    "start_time": "2024-05-18T14:14:44.263Z"
   },
   {
    "duration": 37,
    "start_time": "2024-05-18T14:14:44.275Z"
   },
   {
    "duration": 65,
    "start_time": "2024-05-18T14:14:44.315Z"
   },
   {
    "duration": 11,
    "start_time": "2024-05-18T14:14:44.413Z"
   },
   {
    "duration": 22,
    "start_time": "2024-05-18T14:14:44.427Z"
   },
   {
    "duration": 0,
    "start_time": "2024-05-18T14:14:44.452Z"
   },
   {
    "duration": 0,
    "start_time": "2024-05-18T14:14:44.453Z"
   },
   {
    "duration": 0,
    "start_time": "2024-05-18T14:14:44.455Z"
   },
   {
    "duration": 0,
    "start_time": "2024-05-18T14:14:44.457Z"
   },
   {
    "duration": 0,
    "start_time": "2024-05-18T14:14:44.460Z"
   },
   {
    "duration": 0,
    "start_time": "2024-05-18T14:14:44.461Z"
   },
   {
    "duration": 21,
    "start_time": "2024-05-18T14:14:49.223Z"
   },
   {
    "duration": 23,
    "start_time": "2024-05-18T14:15:10.877Z"
   },
   {
    "duration": 8,
    "start_time": "2024-05-18T14:15:18.277Z"
   },
   {
    "duration": 10,
    "start_time": "2024-05-18T14:15:49.834Z"
   },
   {
    "duration": 23,
    "start_time": "2024-05-18T14:16:00.090Z"
   },
   {
    "duration": 26,
    "start_time": "2024-05-18T14:16:17.109Z"
   },
   {
    "duration": 9,
    "start_time": "2024-05-18T14:20:01.056Z"
   },
   {
    "duration": 12,
    "start_time": "2024-05-18T14:22:56.126Z"
   },
   {
    "duration": 41,
    "start_time": "2024-05-18T14:23:19.395Z"
   },
   {
    "duration": 31,
    "start_time": "2024-05-18T14:24:01.338Z"
   },
   {
    "duration": 18,
    "start_time": "2024-05-18T14:24:32.992Z"
   },
   {
    "duration": 14,
    "start_time": "2024-05-18T14:26:23.672Z"
   },
   {
    "duration": 16,
    "start_time": "2024-05-18T14:26:29.248Z"
   },
   {
    "duration": 35,
    "start_time": "2024-05-18T14:30:46.360Z"
   },
   {
    "duration": 112,
    "start_time": "2024-05-18T14:35:34.350Z"
   },
   {
    "duration": 27,
    "start_time": "2024-05-18T14:37:13.776Z"
   },
   {
    "duration": 47,
    "start_time": "2024-05-18T14:37:44.731Z"
   },
   {
    "duration": 11,
    "start_time": "2024-05-18T15:05:51.348Z"
   },
   {
    "duration": 452,
    "start_time": "2024-05-18T15:05:53.706Z"
   },
   {
    "duration": 14,
    "start_time": "2024-05-18T15:06:14.732Z"
   },
   {
    "duration": 27,
    "start_time": "2024-05-18T15:06:17.985Z"
   },
   {
    "duration": 47,
    "start_time": "2024-05-18T15:06:21.112Z"
   },
   {
    "duration": 21,
    "start_time": "2024-05-18T15:09:38.349Z"
   },
   {
    "duration": 13,
    "start_time": "2024-05-18T15:10:08.049Z"
   },
   {
    "duration": 11,
    "start_time": "2024-05-18T15:10:18.778Z"
   },
   {
    "duration": 30,
    "start_time": "2024-05-18T15:10:41.327Z"
   },
   {
    "duration": 30,
    "start_time": "2024-05-18T15:11:08.478Z"
   },
   {
    "duration": 11,
    "start_time": "2024-05-18T15:12:28.524Z"
   },
   {
    "duration": 30,
    "start_time": "2024-05-18T15:12:38.101Z"
   },
   {
    "duration": 12,
    "start_time": "2024-05-18T15:13:25.563Z"
   },
   {
    "duration": 11,
    "start_time": "2024-05-18T15:16:28.675Z"
   },
   {
    "duration": 8,
    "start_time": "2024-05-18T15:20:21.016Z"
   },
   {
    "duration": 10,
    "start_time": "2024-05-18T15:21:33.440Z"
   },
   {
    "duration": 7,
    "start_time": "2024-05-18T15:27:47.571Z"
   },
   {
    "duration": 6,
    "start_time": "2024-05-18T15:29:32.532Z"
   },
   {
    "duration": 9,
    "start_time": "2024-05-18T15:29:44.213Z"
   },
   {
    "duration": 7,
    "start_time": "2024-05-18T15:30:10.465Z"
   },
   {
    "duration": 28,
    "start_time": "2024-05-18T15:31:19.645Z"
   },
   {
    "duration": 9,
    "start_time": "2024-05-18T15:31:33.437Z"
   },
   {
    "duration": 7,
    "start_time": "2024-05-18T15:32:55.263Z"
   },
   {
    "duration": 7,
    "start_time": "2024-05-18T15:33:08.039Z"
   },
   {
    "duration": 7,
    "start_time": "2024-05-18T15:33:36.931Z"
   },
   {
    "duration": 26,
    "start_time": "2024-05-18T15:35:50.736Z"
   },
   {
    "duration": 40,
    "start_time": "2024-05-18T15:36:43.233Z"
   },
   {
    "duration": 1211,
    "start_time": "2024-05-18T15:37:24.031Z"
   },
   {
    "duration": 1488,
    "start_time": "2024-05-18T15:37:27.109Z"
   },
   {
    "duration": 1278,
    "start_time": "2024-05-18T15:37:36.691Z"
   },
   {
    "duration": 37,
    "start_time": "2024-05-18T15:39:33.338Z"
   },
   {
    "duration": 40,
    "start_time": "2024-05-18T15:39:45.703Z"
   },
   {
    "duration": 7,
    "start_time": "2024-05-18T15:41:01.231Z"
   },
   {
    "duration": 39,
    "start_time": "2024-05-18T15:41:16.815Z"
   },
   {
    "duration": 44,
    "start_time": "2024-05-18T15:41:29.591Z"
   },
   {
    "duration": 37,
    "start_time": "2024-05-18T15:41:38.251Z"
   },
   {
    "duration": 46,
    "start_time": "2024-05-18T15:42:21.532Z"
   },
   {
    "duration": 89,
    "start_time": "2024-05-18T15:42:31.365Z"
   },
   {
    "duration": 43,
    "start_time": "2024-05-18T15:42:43.853Z"
   },
   {
    "duration": 321,
    "start_time": "2024-05-18T19:42:49.982Z"
   },
   {
    "duration": 4277,
    "start_time": "2024-05-18T19:42:57.459Z"
   },
   {
    "duration": 1723,
    "start_time": "2024-05-18T19:43:01.740Z"
   },
   {
    "duration": 34,
    "start_time": "2024-05-18T19:43:03.466Z"
   },
   {
    "duration": 31,
    "start_time": "2024-05-18T19:43:03.513Z"
   },
   {
    "duration": 23,
    "start_time": "2024-05-18T19:43:03.551Z"
   },
   {
    "duration": 21,
    "start_time": "2024-05-18T19:43:03.612Z"
   },
   {
    "duration": 79,
    "start_time": "2024-05-18T19:43:03.637Z"
   },
   {
    "duration": 180,
    "start_time": "2024-05-18T19:43:03.719Z"
   },
   {
    "duration": 28,
    "start_time": "2024-05-18T19:43:03.902Z"
   },
   {
    "duration": 190,
    "start_time": "2024-05-18T19:43:03.933Z"
   },
   {
    "duration": 166,
    "start_time": "2024-05-18T19:43:04.126Z"
   },
   {
    "duration": 47,
    "start_time": "2024-05-18T19:43:04.295Z"
   },
   {
    "duration": 23,
    "start_time": "2024-05-18T19:43:04.345Z"
   },
   {
    "duration": 6,
    "start_time": "2024-05-18T19:43:04.373Z"
   },
   {
    "duration": 39,
    "start_time": "2024-05-18T19:43:04.411Z"
   },
   {
    "duration": 17,
    "start_time": "2024-05-18T19:43:04.453Z"
   },
   {
    "duration": 5,
    "start_time": "2024-05-18T19:43:04.473Z"
   },
   {
    "duration": 6,
    "start_time": "2024-05-18T19:43:04.511Z"
   },
   {
    "duration": 6,
    "start_time": "2024-05-18T19:43:04.521Z"
   },
   {
    "duration": 7,
    "start_time": "2024-05-18T19:43:04.530Z"
   },
   {
    "duration": 1372,
    "start_time": "2024-05-18T19:43:04.540Z"
   },
   {
    "duration": 1353,
    "start_time": "2024-05-18T19:43:05.914Z"
   },
   {
    "duration": 8,
    "start_time": "2024-05-18T19:43:07.270Z"
   },
   {
    "duration": 32,
    "start_time": "2024-05-18T19:43:07.281Z"
   },
   {
    "duration": 8,
    "start_time": "2024-05-18T19:43:07.316Z"
   },
   {
    "duration": 85,
    "start_time": "2024-05-18T19:43:07.327Z"
   },
   {
    "duration": 12,
    "start_time": "2024-05-18T19:43:07.415Z"
   },
   {
    "duration": 96,
    "start_time": "2024-05-18T19:43:07.430Z"
   },
   {
    "duration": 0,
    "start_time": "2024-05-18T19:43:07.529Z"
   },
   {
    "duration": 0,
    "start_time": "2024-05-18T19:43:07.532Z"
   },
   {
    "duration": 0,
    "start_time": "2024-05-18T19:43:07.534Z"
   },
   {
    "duration": 0,
    "start_time": "2024-05-18T19:43:07.537Z"
   },
   {
    "duration": 0,
    "start_time": "2024-05-18T19:43:07.539Z"
   },
   {
    "duration": 0,
    "start_time": "2024-05-18T19:43:07.544Z"
   },
   {
    "duration": 53,
    "start_time": "2024-05-18T19:43:10.927Z"
   },
   {
    "duration": 5,
    "start_time": "2024-05-18T19:43:46.426Z"
   },
   {
    "duration": 1476,
    "start_time": "2024-05-18T19:43:47.136Z"
   },
   {
    "duration": 32,
    "start_time": "2024-05-18T19:43:48.616Z"
   },
   {
    "duration": 26,
    "start_time": "2024-05-18T19:43:48.651Z"
   },
   {
    "duration": 23,
    "start_time": "2024-05-18T19:43:49.274Z"
   },
   {
    "duration": 19,
    "start_time": "2024-05-18T19:43:49.836Z"
   },
   {
    "duration": 47,
    "start_time": "2024-05-18T19:43:50.422Z"
   },
   {
    "duration": 160,
    "start_time": "2024-05-18T19:43:53.488Z"
   },
   {
    "duration": 18,
    "start_time": "2024-05-18T19:43:54.428Z"
   },
   {
    "duration": 163,
    "start_time": "2024-05-18T19:43:55.447Z"
   },
   {
    "duration": 171,
    "start_time": "2024-05-18T19:43:55.986Z"
   },
   {
    "duration": 46,
    "start_time": "2024-05-18T19:43:56.478Z"
   },
   {
    "duration": 21,
    "start_time": "2024-05-18T19:43:57.916Z"
   },
   {
    "duration": 6,
    "start_time": "2024-05-18T19:43:58.388Z"
   },
   {
    "duration": 43,
    "start_time": "2024-05-18T19:43:58.886Z"
   },
   {
    "duration": 18,
    "start_time": "2024-05-18T19:43:59.417Z"
   },
   {
    "duration": 5,
    "start_time": "2024-05-18T19:44:00.838Z"
   },
   {
    "duration": 4,
    "start_time": "2024-05-18T19:44:01.324Z"
   },
   {
    "duration": 6,
    "start_time": "2024-05-18T19:44:02.776Z"
   },
   {
    "duration": 4,
    "start_time": "2024-05-18T19:44:03.329Z"
   },
   {
    "duration": 1321,
    "start_time": "2024-05-18T19:44:05.545Z"
   },
   {
    "duration": 1324,
    "start_time": "2024-05-18T19:44:06.870Z"
   },
   {
    "duration": 7,
    "start_time": "2024-05-18T19:44:08.651Z"
   },
   {
    "duration": 7,
    "start_time": "2024-05-18T19:44:09.683Z"
   },
   {
    "duration": 8,
    "start_time": "2024-05-18T19:44:10.831Z"
   },
   {
    "duration": 58,
    "start_time": "2024-05-18T19:44:12.266Z"
   },
   {
    "duration": 13,
    "start_time": "2024-05-18T19:44:13.856Z"
   },
   {
    "duration": 27,
    "start_time": "2024-05-18T19:44:16.032Z"
   },
   {
    "duration": 14,
    "start_time": "2024-05-18T19:44:16.648Z"
   },
   {
    "duration": 10,
    "start_time": "2024-05-18T19:44:30.991Z"
   },
   {
    "duration": 15,
    "start_time": "2024-05-18T19:44:43.988Z"
   },
   {
    "duration": 27,
    "start_time": "2024-05-18T19:44:45.834Z"
   },
   {
    "duration": 49,
    "start_time": "2024-05-18T19:44:46.632Z"
   },
   {
    "duration": 16,
    "start_time": "2024-05-18T19:44:48.038Z"
   },
   {
    "duration": 6,
    "start_time": "2024-05-18T19:44:48.671Z"
   },
   {
    "duration": 45,
    "start_time": "2024-05-18T19:44:50.606Z"
   },
   {
    "duration": 34,
    "start_time": "2024-05-18T19:56:19.338Z"
   },
   {
    "duration": 28,
    "start_time": "2024-05-18T19:56:54.463Z"
   },
   {
    "duration": 14,
    "start_time": "2024-05-18T19:57:22.525Z"
   },
   {
    "duration": 29,
    "start_time": "2024-05-18T20:02:51.520Z"
   },
   {
    "duration": 33,
    "start_time": "2024-05-18T20:03:19.628Z"
   },
   {
    "duration": 38,
    "start_time": "2024-05-18T20:03:30.225Z"
   },
   {
    "duration": 86,
    "start_time": "2024-05-18T20:05:21.900Z"
   },
   {
    "duration": 130,
    "start_time": "2024-05-18T20:08:40.476Z"
   },
   {
    "duration": 75,
    "start_time": "2024-05-18T20:09:31.544Z"
   },
   {
    "duration": 76,
    "start_time": "2024-05-18T20:09:59.708Z"
   },
   {
    "duration": 887,
    "start_time": "2024-05-18T20:10:25.274Z"
   },
   {
    "duration": 107,
    "start_time": "2024-05-18T20:11:08.576Z"
   },
   {
    "duration": 3838,
    "start_time": "2024-05-18T20:14:50.255Z"
   },
   {
    "duration": 2500,
    "start_time": "2024-05-18T20:15:01.491Z"
   },
   {
    "duration": 738,
    "start_time": "2024-05-18T20:17:14.494Z"
   },
   {
    "duration": 446,
    "start_time": "2024-05-18T20:18:02.904Z"
   },
   {
    "duration": 41,
    "start_time": "2024-05-18T20:26:03.502Z"
   },
   {
    "duration": 39,
    "start_time": "2024-05-18T20:26:28.695Z"
   },
   {
    "duration": 299,
    "start_time": "2024-05-18T20:26:37.831Z"
   },
   {
    "duration": 113,
    "start_time": "2024-05-18T20:27:53.397Z"
   },
   {
    "duration": 390,
    "start_time": "2024-05-18T20:29:05.150Z"
   },
   {
    "duration": 392,
    "start_time": "2024-05-18T20:29:12.687Z"
   },
   {
    "duration": 278,
    "start_time": "2024-05-18T20:29:26.839Z"
   },
   {
    "duration": 379,
    "start_time": "2024-05-18T20:29:41.443Z"
   },
   {
    "duration": 16,
    "start_time": "2024-05-18T20:32:21.319Z"
   },
   {
    "duration": 14,
    "start_time": "2024-05-18T20:32:47.418Z"
   },
   {
    "duration": 110,
    "start_time": "2024-05-18T20:35:41.549Z"
   },
   {
    "duration": 360,
    "start_time": "2024-05-18T20:39:11.801Z"
   },
   {
    "duration": 364,
    "start_time": "2024-05-18T20:39:47.103Z"
   },
   {
    "duration": 367,
    "start_time": "2024-05-18T20:40:13.369Z"
   },
   {
    "duration": 466,
    "start_time": "2024-05-18T20:40:21.717Z"
   },
   {
    "duration": 322,
    "start_time": "2024-05-18T20:40:59.643Z"
   },
   {
    "duration": 319,
    "start_time": "2024-05-18T20:41:08.209Z"
   },
   {
    "duration": 520,
    "start_time": "2024-05-18T20:41:18.963Z"
   },
   {
    "duration": 330,
    "start_time": "2024-05-18T20:41:32.246Z"
   },
   {
    "duration": 338,
    "start_time": "2024-05-18T20:41:43.664Z"
   },
   {
    "duration": 321,
    "start_time": "2024-05-18T20:42:52.616Z"
   },
   {
    "duration": 318,
    "start_time": "2024-05-18T20:43:24.621Z"
   },
   {
    "duration": 332,
    "start_time": "2024-05-18T20:45:17.509Z"
   },
   {
    "duration": 255,
    "start_time": "2024-05-18T20:46:52.282Z"
   },
   {
    "duration": 34,
    "start_time": "2024-05-18T20:47:46.775Z"
   },
   {
    "duration": 317,
    "start_time": "2024-05-18T20:47:55.337Z"
   },
   {
    "duration": 109,
    "start_time": "2024-05-18T20:53:37.757Z"
   },
   {
    "duration": 208,
    "start_time": "2024-05-18T20:53:58.320Z"
   },
   {
    "duration": 209,
    "start_time": "2024-05-18T20:54:19.513Z"
   },
   {
    "duration": 210,
    "start_time": "2024-05-18T20:54:29.933Z"
   },
   {
    "duration": 214,
    "start_time": "2024-05-18T20:55:13.203Z"
   },
   {
    "duration": 216,
    "start_time": "2024-05-18T20:55:25.698Z"
   },
   {
    "duration": 221,
    "start_time": "2024-05-18T20:55:34.137Z"
   },
   {
    "duration": 417,
    "start_time": "2024-05-18T20:55:42.832Z"
   },
   {
    "duration": 210,
    "start_time": "2024-05-18T20:55:51.169Z"
   },
   {
    "duration": 252,
    "start_time": "2024-05-18T21:03:39.397Z"
   },
   {
    "duration": 480,
    "start_time": "2024-05-18T21:06:26.753Z"
   },
   {
    "duration": 234,
    "start_time": "2024-05-18T21:07:23.022Z"
   },
   {
    "duration": 16,
    "start_time": "2024-05-18T21:09:48.680Z"
   },
   {
    "duration": 1348,
    "start_time": "2024-05-18T21:11:49.946Z"
   },
   {
    "duration": 96,
    "start_time": "2024-05-18T21:13:09.908Z"
   },
   {
    "duration": 20,
    "start_time": "2024-05-18T21:13:49.216Z"
   },
   {
    "duration": 62,
    "start_time": "2024-05-18T21:15:34.834Z"
   },
   {
    "duration": 31,
    "start_time": "2024-05-18T21:15:50.226Z"
   },
   {
    "duration": 31,
    "start_time": "2024-05-18T21:16:03.392Z"
   },
   {
    "duration": 21,
    "start_time": "2024-05-18T21:16:28.054Z"
   },
   {
    "duration": 20,
    "start_time": "2024-05-18T21:16:36.740Z"
   },
   {
    "duration": 17,
    "start_time": "2024-05-18T21:16:58.094Z"
   },
   {
    "duration": 16,
    "start_time": "2024-05-18T21:17:03.996Z"
   },
   {
    "duration": 94,
    "start_time": "2024-05-18T21:18:32.063Z"
   },
   {
    "duration": 450,
    "start_time": "2024-05-18T21:18:58.704Z"
   },
   {
    "duration": 95,
    "start_time": "2024-05-18T21:23:13.984Z"
   },
   {
    "duration": 91,
    "start_time": "2024-05-18T21:23:29.292Z"
   },
   {
    "duration": 90,
    "start_time": "2024-05-18T21:24:01.191Z"
   },
   {
    "duration": 91,
    "start_time": "2024-05-18T21:24:17.393Z"
   },
   {
    "duration": 14,
    "start_time": "2024-05-18T21:25:15.426Z"
   },
   {
    "duration": 15,
    "start_time": "2024-05-18T21:25:36.907Z"
   },
   {
    "duration": 90,
    "start_time": "2024-05-18T21:30:07.779Z"
   },
   {
    "duration": 241,
    "start_time": "2024-05-18T21:38:15.302Z"
   },
   {
    "duration": 123,
    "start_time": "2024-05-18T21:38:44.364Z"
   },
   {
    "duration": 22,
    "start_time": "2024-05-18T21:43:22.466Z"
   },
   {
    "duration": 75,
    "start_time": "2024-05-18T21:44:00.452Z"
   },
   {
    "duration": 20,
    "start_time": "2024-05-18T21:44:19.531Z"
   },
   {
    "duration": 27,
    "start_time": "2024-05-18T21:44:34.316Z"
   },
   {
    "duration": 14,
    "start_time": "2024-05-18T21:47:25.252Z"
   },
   {
    "duration": 17,
    "start_time": "2024-05-18T21:47:34.258Z"
   },
   {
    "duration": 229,
    "start_time": "2024-05-18T21:48:31.124Z"
   },
   {
    "duration": 435,
    "start_time": "2024-05-18T21:49:51.377Z"
   },
   {
    "duration": 434,
    "start_time": "2024-05-18T21:50:39.230Z"
   },
   {
    "duration": 410,
    "start_time": "2024-05-18T21:51:49.918Z"
   },
   {
    "duration": 451,
    "start_time": "2024-05-18T21:52:00.626Z"
   },
   {
    "duration": 503,
    "start_time": "2024-05-18T21:55:07.660Z"
   },
   {
    "duration": 411,
    "start_time": "2024-05-18T21:55:24.605Z"
   },
   {
    "duration": 459,
    "start_time": "2024-05-18T21:58:48.781Z"
   },
   {
    "duration": 14,
    "start_time": "2024-05-18T22:01:22.429Z"
   },
   {
    "duration": 10,
    "start_time": "2024-05-18T22:07:32.843Z"
   },
   {
    "duration": 6,
    "start_time": "2024-05-18T22:08:02.251Z"
   },
   {
    "duration": 14,
    "start_time": "2024-05-18T22:08:53.225Z"
   },
   {
    "duration": 13,
    "start_time": "2024-05-18T22:09:16.932Z"
   },
   {
    "duration": 12,
    "start_time": "2024-05-18T22:11:14.695Z"
   },
   {
    "duration": 8,
    "start_time": "2024-05-18T22:13:30.436Z"
   },
   {
    "duration": 9,
    "start_time": "2024-05-18T22:14:04.425Z"
   },
   {
    "duration": 11,
    "start_time": "2024-05-18T22:14:31.293Z"
   },
   {
    "duration": 9,
    "start_time": "2024-05-18T22:14:58.989Z"
   },
   {
    "duration": 11,
    "start_time": "2024-05-18T22:15:58.688Z"
   },
   {
    "duration": 12,
    "start_time": "2024-05-18T22:16:01.499Z"
   },
   {
    "duration": 14,
    "start_time": "2024-05-18T22:17:10.191Z"
   },
   {
    "duration": 43,
    "start_time": "2024-05-18T22:18:05.473Z"
   },
   {
    "duration": 26,
    "start_time": "2024-05-18T22:18:22.825Z"
   },
   {
    "duration": 545,
    "start_time": "2024-05-18T22:18:39.969Z"
   },
   {
    "duration": 16,
    "start_time": "2024-05-18T22:18:45.355Z"
   },
   {
    "duration": 13,
    "start_time": "2024-05-18T22:21:35.925Z"
   },
   {
    "duration": 15,
    "start_time": "2024-05-18T22:22:02.651Z"
   },
   {
    "duration": 13,
    "start_time": "2024-05-18T22:22:11.303Z"
   },
   {
    "duration": 90,
    "start_time": "2024-05-18T22:22:23.945Z"
   },
   {
    "duration": 23,
    "start_time": "2024-05-18T22:22:38.515Z"
   },
   {
    "duration": 13,
    "start_time": "2024-05-18T22:22:48.783Z"
   },
   {
    "duration": 35,
    "start_time": "2024-05-18T22:23:52.529Z"
   },
   {
    "duration": 38,
    "start_time": "2024-05-18T22:32:29.326Z"
   },
   {
    "duration": 42,
    "start_time": "2024-05-18T22:32:33.026Z"
   },
   {
    "duration": 440,
    "start_time": "2024-05-18T22:57:35.172Z"
   },
   {
    "duration": 19,
    "start_time": "2024-05-18T22:58:06.281Z"
   },
   {
    "duration": 392,
    "start_time": "2024-05-18T23:01:52.012Z"
   },
   {
    "duration": 20,
    "start_time": "2024-05-18T23:04:11.184Z"
   },
   {
    "duration": 29,
    "start_time": "2024-05-18T23:07:43.267Z"
   },
   {
    "duration": 52,
    "start_time": "2024-05-18T23:10:49.195Z"
   },
   {
    "duration": 400,
    "start_time": "2024-05-18T23:11:06.690Z"
   },
   {
    "duration": 444,
    "start_time": "2024-05-18T23:11:36.986Z"
   },
   {
    "duration": 112,
    "start_time": "2024-05-18T23:12:32.102Z"
   },
   {
    "duration": 468,
    "start_time": "2024-05-18T23:12:43.994Z"
   },
   {
    "duration": 8,
    "start_time": "2024-05-18T23:21:52.678Z"
   },
   {
    "duration": 4,
    "start_time": "2024-05-18T23:22:10.559Z"
   },
   {
    "duration": 4247,
    "start_time": "2024-05-19T12:11:37.568Z"
   },
   {
    "duration": 1709,
    "start_time": "2024-05-19T12:11:41.818Z"
   },
   {
    "duration": 34,
    "start_time": "2024-05-19T12:11:43.530Z"
   },
   {
    "duration": 51,
    "start_time": "2024-05-19T12:11:43.568Z"
   },
   {
    "duration": 22,
    "start_time": "2024-05-19T12:11:43.622Z"
   },
   {
    "duration": 20,
    "start_time": "2024-05-19T12:11:43.647Z"
   },
   {
    "duration": 77,
    "start_time": "2024-05-19T12:11:43.670Z"
   },
   {
    "duration": 198,
    "start_time": "2024-05-19T12:11:43.751Z"
   },
   {
    "duration": 20,
    "start_time": "2024-05-19T12:11:43.953Z"
   },
   {
    "duration": 175,
    "start_time": "2024-05-19T12:11:44.003Z"
   },
   {
    "duration": 172,
    "start_time": "2024-05-19T12:11:44.181Z"
   },
   {
    "duration": 58,
    "start_time": "2024-05-19T12:11:44.356Z"
   },
   {
    "duration": 22,
    "start_time": "2024-05-19T12:11:44.417Z"
   },
   {
    "duration": 5,
    "start_time": "2024-05-19T12:11:44.442Z"
   },
   {
    "duration": 65,
    "start_time": "2024-05-19T12:11:44.453Z"
   },
   {
    "duration": 18,
    "start_time": "2024-05-19T12:11:44.522Z"
   },
   {
    "duration": 6,
    "start_time": "2024-05-19T12:11:44.543Z"
   },
   {
    "duration": 6,
    "start_time": "2024-05-19T12:11:44.552Z"
   },
   {
    "duration": 41,
    "start_time": "2024-05-19T12:11:44.561Z"
   },
   {
    "duration": 7,
    "start_time": "2024-05-19T12:11:44.605Z"
   },
   {
    "duration": 1380,
    "start_time": "2024-05-19T12:11:44.617Z"
   },
   {
    "duration": 1379,
    "start_time": "2024-05-19T12:11:46.002Z"
   },
   {
    "duration": 18,
    "start_time": "2024-05-19T12:11:47.385Z"
   },
   {
    "duration": 9,
    "start_time": "2024-05-19T12:11:47.406Z"
   },
   {
    "duration": 8,
    "start_time": "2024-05-19T12:11:47.418Z"
   },
   {
    "duration": 97,
    "start_time": "2024-05-19T12:11:47.429Z"
   },
   {
    "duration": 11,
    "start_time": "2024-05-19T12:11:47.529Z"
   },
   {
    "duration": 10,
    "start_time": "2024-05-19T12:11:47.544Z"
   },
   {
    "duration": 54,
    "start_time": "2024-05-19T12:11:47.557Z"
   },
   {
    "duration": 29,
    "start_time": "2024-05-19T12:11:47.684Z"
   },
   {
    "duration": 49,
    "start_time": "2024-05-19T12:11:47.864Z"
   },
   {
    "duration": 21,
    "start_time": "2024-05-19T12:11:48.232Z"
   },
   {
    "duration": 7,
    "start_time": "2024-05-19T12:11:48.412Z"
   },
   {
    "duration": 45,
    "start_time": "2024-05-19T12:11:48.802Z"
   },
   {
    "duration": 13,
    "start_time": "2024-05-19T12:11:50.179Z"
   },
   {
    "duration": 342,
    "start_time": "2024-05-19T12:11:50.348Z"
   },
   {
    "duration": 234,
    "start_time": "2024-05-19T12:11:50.701Z"
   },
   {
    "duration": 516,
    "start_time": "2024-05-19T12:11:50.940Z"
   },
   {
    "duration": 377,
    "start_time": "2024-05-19T12:11:51.460Z"
   },
   {
    "duration": 0,
    "start_time": "2024-05-19T12:11:51.840Z"
   },
   {
    "duration": 0,
    "start_time": "2024-05-19T12:11:51.842Z"
   },
   {
    "duration": 14,
    "start_time": "2024-05-19T12:11:52.319Z"
   },
   {
    "duration": 33,
    "start_time": "2024-05-19T12:11:52.822Z"
   },
   {
    "duration": 453,
    "start_time": "2024-05-19T12:11:54.074Z"
   },
   {
    "duration": 4292,
    "start_time": "2024-05-19T20:56:16.546Z"
   },
   {
    "duration": 1672,
    "start_time": "2024-05-19T20:56:20.841Z"
   },
   {
    "duration": 34,
    "start_time": "2024-05-19T20:56:22.516Z"
   },
   {
    "duration": 30,
    "start_time": "2024-05-19T20:56:22.554Z"
   },
   {
    "duration": 22,
    "start_time": "2024-05-19T20:56:22.614Z"
   },
   {
    "duration": 20,
    "start_time": "2024-05-19T20:56:22.639Z"
   },
   {
    "duration": 86,
    "start_time": "2024-05-19T20:56:22.662Z"
   },
   {
    "duration": 177,
    "start_time": "2024-05-19T20:56:22.751Z"
   },
   {
    "duration": 19,
    "start_time": "2024-05-19T20:56:22.932Z"
   },
   {
    "duration": 202,
    "start_time": "2024-05-19T20:56:22.956Z"
   },
   {
    "duration": 168,
    "start_time": "2024-05-19T20:56:23.161Z"
   },
   {
    "duration": 41,
    "start_time": "2024-05-19T20:56:23.332Z"
   },
   {
    "duration": 50,
    "start_time": "2024-05-19T20:56:23.375Z"
   },
   {
    "duration": 6,
    "start_time": "2024-05-19T20:56:23.428Z"
   },
   {
    "duration": 40,
    "start_time": "2024-05-19T20:56:23.437Z"
   },
   {
    "duration": 51,
    "start_time": "2024-05-19T20:56:23.480Z"
   },
   {
    "duration": 6,
    "start_time": "2024-05-19T20:56:23.535Z"
   },
   {
    "duration": 6,
    "start_time": "2024-05-19T20:56:23.545Z"
   },
   {
    "duration": 7,
    "start_time": "2024-05-19T20:56:23.554Z"
   },
   {
    "duration": 53,
    "start_time": "2024-05-19T20:56:23.565Z"
   },
   {
    "duration": 1351,
    "start_time": "2024-05-19T20:56:23.622Z"
   },
   {
    "duration": 1362,
    "start_time": "2024-05-19T20:56:24.977Z"
   },
   {
    "duration": 7,
    "start_time": "2024-05-19T20:56:26.345Z"
   },
   {
    "duration": 10,
    "start_time": "2024-05-19T20:56:26.355Z"
   },
   {
    "duration": 45,
    "start_time": "2024-05-19T20:56:26.367Z"
   },
   {
    "duration": 57,
    "start_time": "2024-05-19T20:56:26.415Z"
   },
   {
    "duration": 38,
    "start_time": "2024-05-19T20:56:26.476Z"
   },
   {
    "duration": 11,
    "start_time": "2024-05-19T20:56:26.517Z"
   },
   {
    "duration": 15,
    "start_time": "2024-05-19T20:56:26.531Z"
   },
   {
    "duration": 68,
    "start_time": "2024-05-19T20:56:26.549Z"
   },
   {
    "duration": 50,
    "start_time": "2024-05-19T20:56:26.620Z"
   },
   {
    "duration": 25,
    "start_time": "2024-05-19T20:56:26.771Z"
   },
   {
    "duration": 7,
    "start_time": "2024-05-19T20:56:26.934Z"
   },
   {
    "duration": 45,
    "start_time": "2024-05-19T20:56:27.254Z"
   },
   {
    "duration": 14,
    "start_time": "2024-05-19T20:56:30.720Z"
   },
   {
    "duration": 351,
    "start_time": "2024-05-19T20:56:31.387Z"
   },
   {
    "duration": 255,
    "start_time": "2024-05-19T20:56:31.948Z"
   },
   {
    "duration": 447,
    "start_time": "2024-05-19T20:56:32.517Z"
   },
   {
    "duration": 362,
    "start_time": "2024-05-19T20:56:34.074Z"
   },
   {
    "duration": 10,
    "start_time": "2024-05-19T20:56:42.527Z"
   },
   {
    "duration": 8,
    "start_time": "2024-05-19T20:57:29.525Z"
   },
   {
    "duration": 11,
    "start_time": "2024-05-19T20:57:33.904Z"
   },
   {
    "duration": 13,
    "start_time": "2024-05-19T20:57:36.012Z"
   },
   {
    "duration": 14,
    "start_time": "2024-05-19T20:57:42.510Z"
   },
   {
    "duration": 36,
    "start_time": "2024-05-19T20:57:47.548Z"
   },
   {
    "duration": 453,
    "start_time": "2024-05-19T20:57:59.804Z"
   },
   {
    "duration": 25,
    "start_time": "2024-05-19T20:58:06.774Z"
   },
   {
    "duration": 74,
    "start_time": "2024-05-19T20:58:35.656Z"
   },
   {
    "duration": 186,
    "start_time": "2024-05-19T20:59:02.889Z"
   },
   {
    "duration": 33,
    "start_time": "2024-05-19T20:59:15.713Z"
   },
   {
    "duration": 71,
    "start_time": "2024-05-19T20:59:27.233Z"
   },
   {
    "duration": 33,
    "start_time": "2024-05-19T21:00:00.841Z"
   },
   {
    "duration": 74,
    "start_time": "2024-05-19T21:00:11.114Z"
   },
   {
    "duration": 93,
    "start_time": "2024-05-19T21:01:49.756Z"
   },
   {
    "duration": 79,
    "start_time": "2024-05-19T21:02:10.933Z"
   },
   {
    "duration": 336,
    "start_time": "2024-05-19T21:03:55.635Z"
   },
   {
    "duration": 68,
    "start_time": "2024-05-19T21:23:54.550Z"
   },
   {
    "duration": 65,
    "start_time": "2024-05-19T21:24:32.480Z"
   },
   {
    "duration": 380,
    "start_time": "2024-05-19T21:28:16.704Z"
   },
   {
    "duration": 259,
    "start_time": "2024-05-19T21:29:12.309Z"
   },
   {
    "duration": 12,
    "start_time": "2024-05-19T21:31:04.411Z"
   },
   {
    "duration": 305,
    "start_time": "2024-05-19T21:31:32.787Z"
   },
   {
    "duration": 303,
    "start_time": "2024-05-19T21:31:44.811Z"
   },
   {
    "duration": 282,
    "start_time": "2024-05-19T21:31:52.262Z"
   },
   {
    "duration": 345,
    "start_time": "2024-05-19T21:32:13.235Z"
   },
   {
    "duration": 264,
    "start_time": "2024-05-19T21:32:19.390Z"
   },
   {
    "duration": 268,
    "start_time": "2024-05-19T21:32:55.054Z"
   },
   {
    "duration": 272,
    "start_time": "2024-05-19T21:37:01.456Z"
   },
   {
    "duration": 267,
    "start_time": "2024-05-19T21:37:15.598Z"
   },
   {
    "duration": 7,
    "start_time": "2024-05-19T21:37:24.648Z"
   },
   {
    "duration": 4,
    "start_time": "2024-05-19T21:37:29.606Z"
   },
   {
    "duration": 12,
    "start_time": "2024-05-19T21:38:47.672Z"
   },
   {
    "duration": 86,
    "start_time": "2024-05-19T21:39:36.688Z"
   },
   {
    "duration": 281,
    "start_time": "2024-05-19T21:39:39.175Z"
   },
   {
    "duration": 27,
    "start_time": "2024-05-19T21:40:15.642Z"
   },
   {
    "duration": 383,
    "start_time": "2024-05-19T21:40:35.412Z"
   },
   {
    "duration": 4009,
    "start_time": "2024-05-19T21:42:54.511Z"
   },
   {
    "duration": 404,
    "start_time": "2024-05-19T21:47:46.798Z"
   },
   {
    "duration": 176,
    "start_time": "2024-05-19T21:48:26.569Z"
   },
   {
    "duration": 159,
    "start_time": "2024-05-19T21:48:47.153Z"
   },
   {
    "duration": 167,
    "start_time": "2024-05-19T21:49:09.063Z"
   },
   {
    "duration": 194,
    "start_time": "2024-05-19T21:49:40.832Z"
   },
   {
    "duration": 155,
    "start_time": "2024-05-19T21:49:46.637Z"
   },
   {
    "duration": 170,
    "start_time": "2024-05-19T21:49:54.474Z"
   },
   {
    "duration": 157,
    "start_time": "2024-05-19T21:49:59.546Z"
   },
   {
    "duration": 161,
    "start_time": "2024-05-19T21:50:20.891Z"
   },
   {
    "duration": 151,
    "start_time": "2024-05-19T21:50:59.763Z"
   },
   {
    "duration": 154,
    "start_time": "2024-05-19T21:51:19.365Z"
   },
   {
    "duration": 187,
    "start_time": "2024-05-19T21:52:12.925Z"
   },
   {
    "duration": 198,
    "start_time": "2024-05-19T21:52:30.605Z"
   },
   {
    "duration": 178,
    "start_time": "2024-05-19T21:52:45.449Z"
   },
   {
    "duration": 257,
    "start_time": "2024-05-19T21:53:45.374Z"
   },
   {
    "duration": 175,
    "start_time": "2024-05-19T21:53:58.322Z"
   },
   {
    "duration": 191,
    "start_time": "2024-05-19T21:55:19.006Z"
   },
   {
    "duration": 176,
    "start_time": "2024-05-19T21:56:09.467Z"
   },
   {
    "duration": 181,
    "start_time": "2024-05-19T21:56:33.902Z"
   },
   {
    "duration": 6,
    "start_time": "2024-05-19T21:57:00.443Z"
   },
   {
    "duration": 6,
    "start_time": "2024-05-19T21:57:13.087Z"
   },
   {
    "duration": 176,
    "start_time": "2024-05-19T21:57:28.345Z"
   },
   {
    "duration": 176,
    "start_time": "2024-05-19T21:57:41.522Z"
   },
   {
    "duration": 177,
    "start_time": "2024-05-19T21:59:15.936Z"
   },
   {
    "duration": 904,
    "start_time": "2024-05-19T22:02:13.735Z"
   },
   {
    "duration": 509,
    "start_time": "2024-05-19T22:02:55.491Z"
   },
   {
    "duration": 530,
    "start_time": "2024-05-19T22:03:50.897Z"
   },
   {
    "duration": 524,
    "start_time": "2024-05-19T22:04:19.375Z"
   },
   {
    "duration": 829,
    "start_time": "2024-05-19T22:04:35.715Z"
   },
   {
    "duration": 765,
    "start_time": "2024-05-19T22:06:15.723Z"
   },
   {
    "duration": 763,
    "start_time": "2024-05-19T22:06:36.825Z"
   },
   {
    "duration": 763,
    "start_time": "2024-05-19T22:07:03.759Z"
   },
   {
    "duration": 816,
    "start_time": "2024-05-19T22:07:47.269Z"
   },
   {
    "duration": 758,
    "start_time": "2024-05-19T22:08:05.726Z"
   },
   {
    "duration": 1610,
    "start_time": "2024-05-19T22:08:45.556Z"
   },
   {
    "duration": 1721,
    "start_time": "2024-05-19T22:09:52.042Z"
   },
   {
    "duration": 1576,
    "start_time": "2024-05-19T22:10:11.778Z"
   },
   {
    "duration": 1533,
    "start_time": "2024-05-19T22:12:22.485Z"
   },
   {
    "duration": 510,
    "start_time": "2024-05-19T22:13:33.075Z"
   },
   {
    "duration": 1516,
    "start_time": "2024-05-19T22:14:09.214Z"
   },
   {
    "duration": 799,
    "start_time": "2024-05-19T22:14:23.637Z"
   },
   {
    "duration": 824,
    "start_time": "2024-05-19T22:14:54.031Z"
   },
   {
    "duration": 823,
    "start_time": "2024-05-19T22:16:16.118Z"
   },
   {
    "duration": 820,
    "start_time": "2024-05-19T22:17:01.241Z"
   },
   {
    "duration": 861,
    "start_time": "2024-05-19T22:18:43.733Z"
   },
   {
    "duration": 830,
    "start_time": "2024-05-19T22:19:20.627Z"
   },
   {
    "duration": 993,
    "start_time": "2024-05-19T22:19:42.313Z"
   },
   {
    "duration": 756,
    "start_time": "2024-05-19T22:19:48.697Z"
   },
   {
    "duration": 751,
    "start_time": "2024-05-19T22:29:12.165Z"
   },
   {
    "duration": 790,
    "start_time": "2024-05-19T22:30:29.168Z"
   },
   {
    "duration": 304,
    "start_time": "2024-05-19T22:38:50.687Z"
   },
   {
    "duration": 195,
    "start_time": "2024-05-19T22:38:59.329Z"
   },
   {
    "duration": 213,
    "start_time": "2024-05-19T22:40:24.510Z"
   },
   {
    "duration": 249,
    "start_time": "2024-05-19T22:44:29.940Z"
   },
   {
    "duration": 199,
    "start_time": "2024-05-19T22:44:40.141Z"
   },
   {
    "duration": 197,
    "start_time": "2024-05-19T22:45:00.190Z"
   },
   {
    "duration": 338,
    "start_time": "2024-05-19T22:54:03.485Z"
   },
   {
    "duration": 5,
    "start_time": "2024-05-19T22:55:08.455Z"
   },
   {
    "duration": 10,
    "start_time": "2024-05-19T22:55:22.285Z"
   },
   {
    "duration": 3414,
    "start_time": "2024-05-19T22:55:40.276Z"
   },
   {
    "duration": 11,
    "start_time": "2024-05-19T22:56:04.098Z"
   },
   {
    "duration": 28,
    "start_time": "2024-05-19T22:56:13.810Z"
   },
   {
    "duration": 19,
    "start_time": "2024-05-19T22:56:23.173Z"
   },
   {
    "duration": 343,
    "start_time": "2024-05-19T22:56:39.001Z"
   },
   {
    "duration": 208,
    "start_time": "2024-05-19T23:10:33.441Z"
   },
   {
    "duration": 80,
    "start_time": "2024-05-19T23:11:46.810Z"
   },
   {
    "duration": 1915,
    "start_time": "2024-05-19T23:26:28.307Z"
   },
   {
    "duration": 82,
    "start_time": "2024-05-19T23:26:45.282Z"
   },
   {
    "duration": 1826,
    "start_time": "2024-05-19T23:27:03.735Z"
   },
   {
    "duration": 1771,
    "start_time": "2024-05-19T23:30:02.211Z"
   },
   {
    "duration": 10748,
    "start_time": "2024-05-19T23:32:20.271Z"
   },
   {
    "duration": 11943,
    "start_time": "2024-05-19T23:33:25.029Z"
   },
   {
    "duration": 10861,
    "start_time": "2024-05-19T23:34:46.351Z"
   },
   {
    "duration": 8,
    "start_time": "2024-05-19T23:35:15.432Z"
   },
   {
    "duration": 1163,
    "start_time": "2024-05-19T23:35:34.814Z"
   },
   {
    "duration": 10577,
    "start_time": "2024-05-19T23:35:40.924Z"
   },
   {
    "duration": 11165,
    "start_time": "2024-05-19T23:38:30.024Z"
   },
   {
    "duration": 75,
    "start_time": "2024-05-19T23:50:14.546Z"
   },
   {
    "duration": 78,
    "start_time": "2024-05-19T23:55:47.117Z"
   },
   {
    "duration": 11332,
    "start_time": "2024-05-19T23:55:56.792Z"
   },
   {
    "duration": 10573,
    "start_time": "2024-05-19T23:56:11.597Z"
   },
   {
    "duration": 197,
    "start_time": "2024-05-19T23:56:33.942Z"
   },
   {
    "duration": 78,
    "start_time": "2024-05-19T23:56:53.721Z"
   },
   {
    "duration": 69,
    "start_time": "2024-05-19T23:57:00.736Z"
   },
   {
    "duration": 15,
    "start_time": "2024-05-19T23:57:21.617Z"
   },
   {
    "duration": 13,
    "start_time": "2024-05-19T23:57:29.333Z"
   },
   {
    "duration": 4,
    "start_time": "2024-05-20T00:05:51.118Z"
   },
   {
    "duration": 1398,
    "start_time": "2024-05-20T00:05:51.713Z"
   },
   {
    "duration": 31,
    "start_time": "2024-05-20T00:05:53.116Z"
   },
   {
    "duration": 29,
    "start_time": "2024-05-20T00:05:53.303Z"
   },
   {
    "duration": 21,
    "start_time": "2024-05-20T00:05:54.149Z"
   },
   {
    "duration": 20,
    "start_time": "2024-05-20T00:05:54.806Z"
   },
   {
    "duration": 46,
    "start_time": "2024-05-20T00:05:55.556Z"
   },
   {
    "duration": 128,
    "start_time": "2024-05-20T00:05:59.970Z"
   },
   {
    "duration": 19,
    "start_time": "2024-05-20T00:06:02.297Z"
   },
   {
    "duration": 144,
    "start_time": "2024-05-20T00:06:03.797Z"
   },
   {
    "duration": 133,
    "start_time": "2024-05-20T00:06:05.216Z"
   },
   {
    "duration": 36,
    "start_time": "2024-05-20T00:06:06.038Z"
   },
   {
    "duration": 23,
    "start_time": "2024-05-20T00:06:11.542Z"
   },
   {
    "duration": 5,
    "start_time": "2024-05-20T00:06:12.864Z"
   },
   {
    "duration": 44,
    "start_time": "2024-05-20T00:06:14.059Z"
   },
   {
    "duration": 20,
    "start_time": "2024-05-20T00:06:15.258Z"
   },
   {
    "duration": 13,
    "start_time": "2024-05-20T00:06:17.647Z"
   },
   {
    "duration": 5,
    "start_time": "2024-05-20T00:06:18.344Z"
   },
   {
    "duration": 7,
    "start_time": "2024-05-20T00:06:20.183Z"
   },
   {
    "duration": 6,
    "start_time": "2024-05-20T00:07:23.936Z"
   },
   {
    "duration": 6,
    "start_time": "2024-05-20T00:07:24.580Z"
   },
   {
    "duration": 1270,
    "start_time": "2024-05-20T00:07:26.566Z"
   },
   {
    "duration": 1251,
    "start_time": "2024-05-20T00:07:27.843Z"
   },
   {
    "duration": 7,
    "start_time": "2024-05-20T00:07:32.546Z"
   },
   {
    "duration": 10,
    "start_time": "2024-05-20T00:07:34.408Z"
   },
   {
    "duration": 8,
    "start_time": "2024-05-20T00:07:36.625Z"
   },
   {
    "duration": 57,
    "start_time": "2024-05-20T00:07:38.586Z"
   },
   {
    "duration": 11,
    "start_time": "2024-05-20T00:07:40.768Z"
   },
   {
    "duration": 10,
    "start_time": "2024-05-20T00:07:43.054Z"
   },
   {
    "duration": 16,
    "start_time": "2024-05-20T00:07:43.854Z"
   },
   {
    "duration": 26,
    "start_time": "2024-05-20T00:07:47.924Z"
   },
   {
    "duration": 44,
    "start_time": "2024-05-20T00:07:49.247Z"
   },
   {
    "duration": 43,
    "start_time": "2024-05-20T00:09:01.205Z"
   },
   {
    "duration": 44,
    "start_time": "2024-05-20T00:09:09.328Z"
   },
   {
    "duration": 17,
    "start_time": "2024-05-20T00:09:17.564Z"
   },
   {
    "duration": 8,
    "start_time": "2024-05-20T00:09:18.741Z"
   },
   {
    "duration": 49,
    "start_time": "2024-05-20T00:09:21.853Z"
   },
   {
    "duration": 14,
    "start_time": "2024-05-20T00:09:26.783Z"
   },
   {
    "duration": 332,
    "start_time": "2024-05-20T00:09:28.573Z"
   },
   {
    "duration": 216,
    "start_time": "2024-05-20T00:09:36.634Z"
   },
   {
    "duration": 466,
    "start_time": "2024-05-20T00:09:42.766Z"
   },
   {
    "duration": 10,
    "start_time": "2024-05-20T00:09:47.823Z"
   },
   {
    "duration": 9,
    "start_time": "2024-05-20T00:09:50.440Z"
   },
   {
    "duration": 14,
    "start_time": "2024-05-20T00:09:54.433Z"
   },
   {
    "duration": 13,
    "start_time": "2024-05-20T00:11:58.853Z"
   },
   {
    "duration": 33,
    "start_time": "2024-05-20T00:15:24.480Z"
   },
   {
    "duration": 790,
    "start_time": "2024-05-20T00:15:28.409Z"
   },
   {
    "duration": 84,
    "start_time": "2024-05-20T00:16:09.871Z"
   },
   {
    "duration": 218,
    "start_time": "2024-05-20T00:16:11.702Z"
   },
   {
    "duration": 151,
    "start_time": "2024-05-20T00:16:18.665Z"
   },
   {
    "duration": 775,
    "start_time": "2024-05-20T00:18:29.559Z"
   },
   {
    "duration": 228,
    "start_time": "2024-05-20T00:18:37.107Z"
   },
   {
    "duration": 284,
    "start_time": "2024-05-20T00:18:42.668Z"
   },
   {
    "duration": 11371,
    "start_time": "2024-05-20T00:18:50.049Z"
   },
   {
    "duration": 76,
    "start_time": "2024-05-20T00:19:13.201Z"
   },
   {
    "duration": 734,
    "start_time": "2024-06-10T18:05:25.513Z"
   },
   {
    "duration": 2021,
    "start_time": "2024-06-10T18:05:26.251Z"
   },
   {
    "duration": 33,
    "start_time": "2024-06-10T18:05:28.275Z"
   },
   {
    "duration": 51,
    "start_time": "2024-06-10T18:05:28.313Z"
   },
   {
    "duration": 25,
    "start_time": "2024-06-10T18:05:28.367Z"
   },
   {
    "duration": 53,
    "start_time": "2024-06-10T18:05:28.395Z"
   },
   {
    "duration": 57,
    "start_time": "2024-06-10T18:05:28.450Z"
   },
   {
    "duration": 194,
    "start_time": "2024-06-10T18:05:28.510Z"
   },
   {
    "duration": 32,
    "start_time": "2024-06-10T18:05:28.707Z"
   },
   {
    "duration": 223,
    "start_time": "2024-06-10T18:05:28.748Z"
   },
   {
    "duration": 172,
    "start_time": "2024-06-10T18:05:28.974Z"
   },
   {
    "duration": 47,
    "start_time": "2024-06-10T18:05:29.149Z"
   },
   {
    "duration": 34,
    "start_time": "2024-06-10T18:05:29.218Z"
   },
   {
    "duration": 5,
    "start_time": "2024-06-10T18:05:29.526Z"
   },
   {
    "duration": 48,
    "start_time": "2024-06-10T18:05:29.843Z"
   },
   {
    "duration": 5,
    "start_time": "2024-06-10T18:05:33.959Z"
   },
   {
    "duration": 67,
    "start_time": "2024-06-10T18:05:34.120Z"
   },
   {
    "duration": 19,
    "start_time": "2024-06-10T18:05:34.267Z"
   },
   {
    "duration": 6,
    "start_time": "2024-06-10T18:05:35.001Z"
   },
   {
    "duration": 8,
    "start_time": "2024-06-10T18:05:35.159Z"
   },
   {
    "duration": 7,
    "start_time": "2024-06-10T18:05:35.614Z"
   },
   {
    "duration": 6,
    "start_time": "2024-06-10T18:05:35.769Z"
   },
   {
    "duration": 1591,
    "start_time": "2024-06-10T18:05:36.239Z"
   },
   {
    "duration": 1439,
    "start_time": "2024-06-10T18:05:37.835Z"
   },
   {
    "duration": 8,
    "start_time": "2024-06-10T18:05:39.278Z"
   },
   {
    "duration": 11,
    "start_time": "2024-06-10T18:05:39.291Z"
   },
   {
    "duration": 14,
    "start_time": "2024-06-10T18:05:39.336Z"
   },
   {
    "duration": 91,
    "start_time": "2024-06-10T18:05:39.355Z"
   },
   {
    "duration": 19,
    "start_time": "2024-06-10T18:05:39.450Z"
   },
   {
    "duration": 16,
    "start_time": "2024-06-10T18:05:39.472Z"
   },
   {
    "duration": 55,
    "start_time": "2024-06-10T18:05:39.491Z"
   },
   {
    "duration": 34,
    "start_time": "2024-06-10T18:05:39.556Z"
   },
   {
    "duration": 63,
    "start_time": "2024-06-10T18:05:39.609Z"
   },
   {
    "duration": 34,
    "start_time": "2024-06-10T18:05:39.935Z"
   },
   {
    "duration": 8,
    "start_time": "2024-06-10T18:05:40.091Z"
   },
   {
    "duration": 52,
    "start_time": "2024-06-10T18:05:40.392Z"
   },
   {
    "duration": 17,
    "start_time": "2024-06-10T18:05:41.502Z"
   },
   {
    "duration": 403,
    "start_time": "2024-06-10T18:05:41.699Z"
   },
   {
    "duration": 264,
    "start_time": "2024-06-10T18:05:42.106Z"
   },
   {
    "duration": 512,
    "start_time": "2024-06-10T18:05:42.373Z"
   },
   {
    "duration": 418,
    "start_time": "2024-06-10T18:05:42.889Z"
   },
   {
    "duration": 0,
    "start_time": "2024-06-10T18:05:43.309Z"
   },
   {
    "duration": 0,
    "start_time": "2024-06-10T18:05:43.312Z"
   },
   {
    "duration": 31,
    "start_time": "2024-06-10T18:05:43.728Z"
   },
   {
    "duration": 56,
    "start_time": "2024-06-10T18:05:44.225Z"
   },
   {
    "duration": 580,
    "start_time": "2024-06-10T18:05:44.847Z"
   },
   {
    "duration": 95,
    "start_time": "2024-06-10T18:05:45.431Z"
   },
   {
    "duration": 242,
    "start_time": "2024-06-10T18:05:45.536Z"
   },
   {
    "duration": 229,
    "start_time": "2024-06-10T18:05:45.987Z"
   },
   {
    "duration": 1099,
    "start_time": "2024-06-10T18:05:46.785Z"
   },
   {
    "duration": 307,
    "start_time": "2024-06-10T18:05:47.888Z"
   },
   {
    "duration": 395,
    "start_time": "2024-06-10T18:05:48.198Z"
   },
   {
    "duration": 400,
    "start_time": "2024-06-10T18:06:16.510Z"
   },
   {
    "duration": 765,
    "start_time": "2024-06-10T18:06:37.832Z"
   },
   {
    "duration": 1724,
    "start_time": "2024-06-10T18:06:38.600Z"
   },
   {
    "duration": 38,
    "start_time": "2024-06-10T18:06:40.327Z"
   },
   {
    "duration": 27,
    "start_time": "2024-06-10T18:06:40.644Z"
   },
   {
    "duration": 25,
    "start_time": "2024-06-10T18:06:41.617Z"
   },
   {
    "duration": 20,
    "start_time": "2024-06-10T18:06:42.234Z"
   },
   {
    "duration": 49,
    "start_time": "2024-06-10T18:06:42.914Z"
   },
   {
    "duration": 161,
    "start_time": "2024-06-10T18:06:51.710Z"
   },
   {
    "duration": 21,
    "start_time": "2024-06-10T18:06:53.049Z"
   },
   {
    "duration": 165,
    "start_time": "2024-06-10T18:06:57.659Z"
   },
   {
    "duration": 157,
    "start_time": "2024-06-10T18:06:59.004Z"
   },
   {
    "duration": 39,
    "start_time": "2024-06-10T18:06:59.773Z"
   },
   {
    "duration": 23,
    "start_time": "2024-06-10T18:07:02.076Z"
   },
   {
    "duration": 6,
    "start_time": "2024-06-10T18:07:02.753Z"
   },
   {
    "duration": 40,
    "start_time": "2024-06-10T18:07:06.540Z"
   },
   {
    "duration": 17,
    "start_time": "2024-06-10T18:07:07.395Z"
   },
   {
    "duration": 5,
    "start_time": "2024-06-10T18:07:09.900Z"
   },
   {
    "duration": 5,
    "start_time": "2024-06-10T18:07:13.163Z"
   },
   {
    "duration": 6,
    "start_time": "2024-06-10T18:07:14.708Z"
   },
   {
    "duration": 5,
    "start_time": "2024-06-10T18:07:15.258Z"
   },
   {
    "duration": 1321,
    "start_time": "2024-06-10T18:07:17.231Z"
   },
   {
    "duration": 1328,
    "start_time": "2024-06-10T18:07:20.468Z"
   },
   {
    "duration": 7,
    "start_time": "2024-06-10T18:07:22.839Z"
   },
   {
    "duration": 7,
    "start_time": "2024-06-10T18:07:23.922Z"
   },
   {
    "duration": 8,
    "start_time": "2024-06-10T18:07:27.562Z"
   },
   {
    "duration": 56,
    "start_time": "2024-06-10T18:07:29.307Z"
   },
   {
    "duration": 11,
    "start_time": "2024-06-10T18:07:33.318Z"
   },
   {
    "duration": 10,
    "start_time": "2024-06-10T18:07:35.550Z"
   },
   {
    "duration": 17,
    "start_time": "2024-06-10T18:07:36.232Z"
   },
   {
    "duration": 27,
    "start_time": "2024-06-10T18:07:39.984Z"
   },
   {
    "duration": 52,
    "start_time": "2024-06-10T18:07:40.680Z"
   },
   {
    "duration": 23,
    "start_time": "2024-06-10T18:07:42.205Z"
   },
   {
    "duration": 8,
    "start_time": "2024-06-10T18:07:45.320Z"
   },
   {
    "duration": 45,
    "start_time": "2024-06-10T18:07:46.343Z"
   },
   {
    "duration": 13,
    "start_time": "2024-06-10T18:07:56.678Z"
   },
   {
    "duration": 349,
    "start_time": "2024-06-10T18:07:59.567Z"
   },
   {
    "duration": 210,
    "start_time": "2024-06-10T18:08:01.674Z"
   },
   {
    "duration": 448,
    "start_time": "2024-06-10T18:08:02.876Z"
   },
   {
    "duration": 102,
    "start_time": "2024-06-10T18:08:17.356Z"
   }
  ],
  "colab": {
   "provenance": []
  },
  "kernelspec": {
   "display_name": "Python 3 (ipykernel)",
   "language": "python",
   "name": "python3"
  },
  "language_info": {
   "codemirror_mode": {
    "name": "ipython",
    "version": 3
   },
   "file_extension": ".py",
   "mimetype": "text/x-python",
   "name": "python",
   "nbconvert_exporter": "python",
   "pygments_lexer": "ipython3",
   "version": "3.9.19"
  },
  "toc": {
   "base_numbering": 1,
   "nav_menu": {},
   "number_sections": true,
   "sideBar": true,
   "skip_h1_title": true,
   "title_cell": "Table of Contents",
   "title_sidebar": "Contents",
   "toc_cell": false,
   "toc_position": {},
   "toc_section_display": true,
   "toc_window_display": false
  },
  "vscode": {
   "interpreter": {
    "hash": "01a7be9ec63e704a62cefc5fe7a4756944464ee731be31632bdf42a4cb4688cf"
   }
  }
 },
 "nbformat": 4,
 "nbformat_minor": 5
}
