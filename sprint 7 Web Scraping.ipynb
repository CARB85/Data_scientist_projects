{
 "cells": [
  {
   "cell_type": "code",
   "execution_count": null,
   "metadata": {},
   "outputs": [],
   "source": [
    "# Importar librerías necesarias:\n",
    "import pandas as pd # para organizar esa información en una tabla.\n",
    "import requests # para obtener el contenido de una página web.\n",
    "from bs4 import BeautifulSoup # para analizar ese contenido y encontrar la información que queremos\n",
    "\n",
    "# URL del sitio web\n",
    "url = 'https://practicum-content.s3.us-west-1.amazonaws.com/data-analyst-eng/moved_chicago_weather_2017.html'\n",
    "\n",
    "# Obtener el contenido de la página web\n",
    "req = requests.get(url)\n",
    "\n",
    "# Analizar el contenido de la página\n",
    "soup = BeautifulSoup(req.text, 'lxml') # obtiene el contenido de la página web como una cadena de texto (string), 'lxml' es el nombre de un \"parser\" (analizador) que BeautifulSoup usa para leer y entender el código HTML\n",
    "\n",
    "# Encontrar la tabla específica con el id 'weather_records'\n",
    "table = soup.find('table', attrs={\"id\": \"weather_records\"})\n",
    "\n",
    "# Obtener los encabezados de la tabla\n",
    "\n",
    "# crear una lista vacia para incorporar los encabezados descritos por 'th' (table head)\n",
    "heading_table=[] \n",
    "\n",
    "# bucle para buscar en la tabla los titulos y adjuntarlos a la tabla en forma de texto\n",
    "for head in table.find_all('th'):\n",
    "    heading_table.append(head.text)\n",
    "\n",
    "# Obtener el contenido de la tabla\n",
    "\n",
    "# crear una lista vacia para incorporar el resto del contenido descritos por 'tr' (table row) filas\n",
    "content=[]\n",
    "\n",
    "#  bucle para buscar en la tabla el contenido de las filas y adjuntarlos a la tabla en forma de texto\n",
    "for row in table.find_all('tr'):\n",
    "    if not row.find_all('th'):\n",
    "        content.append([element.text for element in row.find_all('td')]) # td (table cell) contenido en celdas\n",
    "\n",
    "# Creamos una lista vacía. Luego, buscamos todas las filas de la tabla (marcadas con <tr>). Si una fila no tiene encabezados (para evitar duplicar los encabezados), tomamos todos los elementos de la fila (marcados con <td>) y agregamos su texto a nuestra lista content.\n",
    "\n",
    "# Crear un DataFrame con la información\n",
    "weather_records = pd.DataFrame(content, columns=heading_table)\n",
    "#  La tabla tiene los encabezados que guardamos en heading_table y el contenido que guardamos en content.\n",
    "\n",
    "# Imprimir el DataFrame completo\n",
    "print(weather_records)\n"
   ]
  }
 ],
 "metadata": {
  "language_info": {
   "name": "python"
  }
 },
 "nbformat": 4,
 "nbformat_minor": 2
}
