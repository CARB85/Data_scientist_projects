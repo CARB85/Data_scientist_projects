{
 "cells": [
  {
   "cell_type": "markdown",
   "metadata": {
    "id": "3rYiDeEH0q0f"
   },
   "source": [
    "# Which is the Best Tariff?\n",
    "\n",
    "You work as an analyst for the telecommunications operator Megaline. The company offers its customers two prepaid tariffs, Surf and Ultimate. The commercial department wants to know which of the tariffs generates more revenue so they can adjust the advertising budget.\n",
    "\n",
    "You will conduct a preliminary analysis of the tariffs based on a relatively small selection of customers. You will have data for 500 Megaline customers: who the customers are, where they are from, which tariff they use, as well as the number of calls they made and the text messages they sent in 2018. Your task is to analyze the customer behavior and determine which prepaid tariff generates more revenue.\n",
    "\n",
    "## Initialization"
   ]
  },
  {
   "cell_type": "code",
   "execution_count": 1,
   "metadata": {
    "id": "MtYIuBxu0q0z"
   },
   "outputs": [],
   "source": [
    "# Load all libraries\n",
    "import pandas as pd\n",
    "import numpy as np\n",
    "from matplotlib import pyplot as plt\n",
    "from math import factorial\n",
    "from scipy import stats as st\n"
   ]
  },
  {
   "cell_type": "markdown",
   "metadata": {
    "id": "4ysWWC5i0q00"
   },
   "source": [
    "## Load data"
   ]
  },
  {
   "cell_type": "code",
   "execution_count": 2,
   "metadata": {
    "id": "CCqPW7rS0q01"
   },
   "outputs": [],
   "source": [
    "# Load the data files into different DataFrames\n",
    "df_calls =pd.read_csv('/datasets/megaline_calls.csv')\n",
    "df_internet =pd.read_csv('/datasets/megaline_internet.csv')\n",
    "df_messages =pd.read_csv('/datasets/megaline_messages.csv')\n",
    "df_plans =pd.read_csv('/datasets/megaline_plans.csv')\n",
    "df_users =pd.read_csv('/datasets/megaline_users.csv')"
   ]
  },
  {
   "cell_type": "code",
   "execution_count": 3,
   "metadata": {},
   "outputs": [
    {
     "name": "stdout",
     "output_type": "stream",
     "text": [
      "0\n",
      "0\n",
      "0\n",
      "0\n",
      "0\n"
     ]
    }
   ],
   "source": [
    "print(df_calls.duplicated().sum())\n",
    "print(df_internet.duplicated().sum())\n",
    "print(df_messages.duplicated().sum())\n",
    "print(df_plans.duplicated().sum())\n",
    "print(df_users.duplicated().sum())"
   ]
  },
  {
   "cell_type": "markdown",
   "metadata": {
    "id": "ohBhimvH0q01"
   },
   "source": [
    "## Prepare the data\n",
    "\n",
    "## Rates"
   ]
  },
  {
   "cell_type": "code",
   "execution_count": 4,
   "metadata": {
    "id": "GptqP3Q40q02"
   },
   "outputs": [
    {
     "name": "stdout",
     "output_type": "stream",
     "text": [
      "<class 'pandas.core.frame.DataFrame'>\n",
      "RangeIndex: 2 entries, 0 to 1\n",
      "Data columns (total 8 columns):\n",
      " #   Column                 Non-Null Count  Dtype  \n",
      "---  ------                 --------------  -----  \n",
      " 0   messages_included      2 non-null      int64  \n",
      " 1   mb_per_month_included  2 non-null      int64  \n",
      " 2   minutes_included       2 non-null      int64  \n",
      " 3   usd_monthly_pay        2 non-null      int64  \n",
      " 4   usd_per_gb             2 non-null      int64  \n",
      " 5   usd_per_message        2 non-null      float64\n",
      " 6   usd_per_minute         2 non-null      float64\n",
      " 7   plan_name              2 non-null      object \n",
      "dtypes: float64(2), int64(5), object(1)\n",
      "memory usage: 256.0+ bytes\n"
     ]
    }
   ],
   "source": [
    "# Print general/summary information about the rate DataFrame\n",
    "df_plans.info()"
   ]
  },
  {
   "cell_type": "code",
   "execution_count": 5,
   "metadata": {
    "id": "64xzjwL70q02"
   },
   "outputs": [
    {
     "data": {
      "text/html": [
       "<div>\n",
       "<style scoped>\n",
       "    .dataframe tbody tr th:only-of-type {\n",
       "        vertical-align: middle;\n",
       "    }\n",
       "\n",
       "    .dataframe tbody tr th {\n",
       "        vertical-align: top;\n",
       "    }\n",
       "\n",
       "    .dataframe thead th {\n",
       "        text-align: right;\n",
       "    }\n",
       "</style>\n",
       "<table border=\"1\" class=\"dataframe\">\n",
       "  <thead>\n",
       "    <tr style=\"text-align: right;\">\n",
       "      <th></th>\n",
       "      <th>messages_included</th>\n",
       "      <th>mb_per_month_included</th>\n",
       "      <th>minutes_included</th>\n",
       "      <th>usd_monthly_pay</th>\n",
       "      <th>usd_per_gb</th>\n",
       "      <th>usd_per_message</th>\n",
       "      <th>usd_per_minute</th>\n",
       "      <th>plan_name</th>\n",
       "    </tr>\n",
       "  </thead>\n",
       "  <tbody>\n",
       "    <tr>\n",
       "      <th>0</th>\n",
       "      <td>50</td>\n",
       "      <td>15360</td>\n",
       "      <td>500</td>\n",
       "      <td>20</td>\n",
       "      <td>10</td>\n",
       "      <td>0.03</td>\n",
       "      <td>0.03</td>\n",
       "      <td>surf</td>\n",
       "    </tr>\n",
       "    <tr>\n",
       "      <th>1</th>\n",
       "      <td>1000</td>\n",
       "      <td>30720</td>\n",
       "      <td>3000</td>\n",
       "      <td>70</td>\n",
       "      <td>7</td>\n",
       "      <td>0.01</td>\n",
       "      <td>0.01</td>\n",
       "      <td>ultimate</td>\n",
       "    </tr>\n",
       "  </tbody>\n",
       "</table>\n",
       "</div>"
      ],
      "text/plain": [
       "   messages_included  mb_per_month_included  minutes_included  \\\n",
       "0                 50                  15360               500   \n",
       "1               1000                  30720              3000   \n",
       "\n",
       "   usd_monthly_pay  usd_per_gb  usd_per_message  usd_per_minute plan_name  \n",
       "0               20          10             0.03            0.03      surf  \n",
       "1               70           7             0.01            0.01  ultimate  "
      ]
     },
     "metadata": {},
     "output_type": "display_data"
    }
   ],
   "source": [
    "# Print a sample of the data for the rates\n",
    "display(df_plans.head())"
   ]
  },
  {
   "cell_type": "markdown",
   "metadata": {
    "id": "R3C05i1l0q03"
   },
   "source": [
    "R/ \n",
    "\n",
    "**- Data Types:**\n",
    "\n",
    "The columns `messages_included`, `mb_per_month_included`, `minutes_included`, `usd_monthly_pay`, `usd_per_gb`, `usd_per_message` consist of 64-bit integer values suitable for the respective calculations.\n",
    "Similarly, the columns `usd_per_message` and `usd_per_minute` are of 64-bit floating point type. The column `plan_name` is of object type, which describes the names of each plan.\n",
    "\n",
    "For a total of 8 columns and 2 rows.\n",
    "\n",
    "There are no missing or null values.\n",
    "\n",
    "**- To be evaluated:**\n",
    "\n",
    "Standardize the names, as this is important when considering them with the rest of the dataframe to avoid generating gaps or confusion in the calculation of each one.\n",
    "\n",
    "Validate the data compatibility between each column.\n",
    "\n",
    "## Correct data"
   ]
  },
  {
   "cell_type": "code",
   "execution_count": 6,
   "metadata": {
    "id": "Y7SVmjGn0q03"
   },
   "outputs": [
    {
     "name": "stdout",
     "output_type": "stream",
     "text": [
      "0\n",
      "['surf' 'ultimate']\n"
     ]
    }
   ],
   "source": [
    "# Evaluate if there are duplicates\n",
    "print(df_plans['plan_name'].duplicated().sum())\n",
    "\n",
    "# Print the unique values\n",
    "print(df_plans['plan_name'].unique())\n"
   ]
  },
  {
   "cell_type": "code",
   "execution_count": 7,
   "metadata": {},
   "outputs": [],
   "source": [
    "# Standardize the plan names to lowercase text\n",
    "df_plans['plan_name'] = df_plans['plan_name'].str.lower()"
   ]
  },
  {
   "cell_type": "markdown",
   "metadata": {
    "id": "LJir7bml0q03"
   },
   "source": [
    "## Enrich the Data"
   ]
  },
  {
   "cell_type": "code",
   "execution_count": 8,
   "metadata": {
    "id": "gfcIEuXV0q04"
   },
   "outputs": [
    {
     "name": "stdout",
     "output_type": "stream",
     "text": [
      "<class 'pandas.core.frame.DataFrame'>\n",
      "RangeIndex: 2 entries, 0 to 1\n",
      "Data columns (total 10 columns):\n",
      " #   Column                 Non-Null Count  Dtype  \n",
      "---  ------                 --------------  -----  \n",
      " 0   messages_included      2 non-null      int64  \n",
      " 1   mb_per_month_included  2 non-null      int64  \n",
      " 2   minutes_included       2 non-null      int64  \n",
      " 3   usd_monthly_pay        2 non-null      int64  \n",
      " 4   usd_per_gb             2 non-null      int64  \n",
      " 5   usd_per_message        2 non-null      float64\n",
      " 6   usd_per_minute         2 non-null      float64\n",
      " 7   plan_name              2 non-null      object \n",
      " 8   usd_per_mb             2 non-null      float64\n",
      " 9   annual_fee             2 non-null      int64  \n",
      "dtypes: float64(3), int64(6), object(1)\n",
      "memory usage: 288.0+ bytes\n",
      "None\n",
      "\n",
      "-----------------------------------------\n"
     ]
    },
    {
     "data": {
      "text/html": [
       "<div>\n",
       "<style scoped>\n",
       "    .dataframe tbody tr th:only-of-type {\n",
       "        vertical-align: middle;\n",
       "    }\n",
       "\n",
       "    .dataframe tbody tr th {\n",
       "        vertical-align: top;\n",
       "    }\n",
       "\n",
       "    .dataframe thead th {\n",
       "        text-align: right;\n",
       "    }\n",
       "</style>\n",
       "<table border=\"1\" class=\"dataframe\">\n",
       "  <thead>\n",
       "    <tr style=\"text-align: right;\">\n",
       "      <th></th>\n",
       "      <th>messages_included</th>\n",
       "      <th>mb_per_month_included</th>\n",
       "      <th>minutes_included</th>\n",
       "      <th>usd_monthly_pay</th>\n",
       "      <th>usd_per_gb</th>\n",
       "      <th>usd_per_message</th>\n",
       "      <th>usd_per_minute</th>\n",
       "      <th>plan_name</th>\n",
       "      <th>usd_per_mb</th>\n",
       "      <th>annual_fee</th>\n",
       "    </tr>\n",
       "  </thead>\n",
       "  <tbody>\n",
       "    <tr>\n",
       "      <th>0</th>\n",
       "      <td>50</td>\n",
       "      <td>15360</td>\n",
       "      <td>500</td>\n",
       "      <td>20</td>\n",
       "      <td>10</td>\n",
       "      <td>0.03</td>\n",
       "      <td>0.03</td>\n",
       "      <td>surf</td>\n",
       "      <td>0.009766</td>\n",
       "      <td>240</td>\n",
       "    </tr>\n",
       "    <tr>\n",
       "      <th>1</th>\n",
       "      <td>1000</td>\n",
       "      <td>30720</td>\n",
       "      <td>3000</td>\n",
       "      <td>70</td>\n",
       "      <td>7</td>\n",
       "      <td>0.01</td>\n",
       "      <td>0.01</td>\n",
       "      <td>ultimate</td>\n",
       "      <td>0.006836</td>\n",
       "      <td>840</td>\n",
       "    </tr>\n",
       "  </tbody>\n",
       "</table>\n",
       "</div>"
      ],
      "text/plain": [
       "   messages_included  mb_per_month_included  minutes_included  \\\n",
       "0                 50                  15360               500   \n",
       "1               1000                  30720              3000   \n",
       "\n",
       "   usd_monthly_pay  usd_per_gb  usd_per_message  usd_per_minute plan_name  \\\n",
       "0               20          10             0.03            0.03      surf   \n",
       "1               70           7             0.01            0.01  ultimate   \n",
       "\n",
       "   usd_per_mb  annual_fee  \n",
       "0    0.009766         240  \n",
       "1    0.006836         840  "
      ]
     },
     "metadata": {},
     "output_type": "display_data"
    }
   ],
   "source": [
    "# Calculate the cost per additional MB using the cost per GB\n",
    "df_plans['usd_per_mb'] = df_plans['usd_per_gb'] / 1024\n",
    "\n",
    "# Calculate the annual cost of the rate using the monthly payment\n",
    "df_plans['annual_fee'] = df_plans['usd_monthly_pay'] * 12\n",
    "\n",
    "# Print\n",
    "print(df_plans.info())\n",
    "print()\n",
    "print('-----------------------------------------')\n",
    "display(df_plans.head())"
   ]
  },
  {
   "cell_type": "markdown",
   "metadata": {
    "id": "1n2X6WXf0q04"
   },
   "source": [
    "## Users"
   ]
  },
  {
   "cell_type": "code",
   "execution_count": 9,
   "metadata": {
    "id": "2NgjWFqx0q05"
   },
   "outputs": [
    {
     "name": "stdout",
     "output_type": "stream",
     "text": [
      "<class 'pandas.core.frame.DataFrame'>\n",
      "RangeIndex: 500 entries, 0 to 499\n",
      "Data columns (total 8 columns):\n",
      " #   Column      Non-Null Count  Dtype \n",
      "---  ------      --------------  ----- \n",
      " 0   user_id     500 non-null    int64 \n",
      " 1   first_name  500 non-null    object\n",
      " 2   last_name   500 non-null    object\n",
      " 3   age         500 non-null    int64 \n",
      " 4   city        500 non-null    object\n",
      " 5   reg_date    500 non-null    object\n",
      " 6   plan        500 non-null    object\n",
      " 7   churn_date  34 non-null     object\n",
      "dtypes: int64(2), object(6)\n",
      "memory usage: 31.4+ KB\n"
     ]
    }
   ],
   "source": [
    "# Print general/summary information about the user DataFrame\n",
    "df_users.info()"
   ]
  },
  {
   "cell_type": "code",
   "execution_count": 10,
   "metadata": {
    "id": "1IN1L9uh0q05"
   },
   "outputs": [
    {
     "data": {
      "text/html": [
       "<div>\n",
       "<style scoped>\n",
       "    .dataframe tbody tr th:only-of-type {\n",
       "        vertical-align: middle;\n",
       "    }\n",
       "\n",
       "    .dataframe tbody tr th {\n",
       "        vertical-align: top;\n",
       "    }\n",
       "\n",
       "    .dataframe thead th {\n",
       "        text-align: right;\n",
       "    }\n",
       "</style>\n",
       "<table border=\"1\" class=\"dataframe\">\n",
       "  <thead>\n",
       "    <tr style=\"text-align: right;\">\n",
       "      <th></th>\n",
       "      <th>user_id</th>\n",
       "      <th>first_name</th>\n",
       "      <th>last_name</th>\n",
       "      <th>age</th>\n",
       "      <th>city</th>\n",
       "      <th>reg_date</th>\n",
       "      <th>plan</th>\n",
       "      <th>churn_date</th>\n",
       "    </tr>\n",
       "  </thead>\n",
       "  <tbody>\n",
       "    <tr>\n",
       "      <th>0</th>\n",
       "      <td>1000</td>\n",
       "      <td>Anamaria</td>\n",
       "      <td>Bauer</td>\n",
       "      <td>45</td>\n",
       "      <td>Atlanta-Sandy Springs-Roswell, GA MSA</td>\n",
       "      <td>2018-12-24</td>\n",
       "      <td>ultimate</td>\n",
       "      <td>NaN</td>\n",
       "    </tr>\n",
       "    <tr>\n",
       "      <th>1</th>\n",
       "      <td>1001</td>\n",
       "      <td>Mickey</td>\n",
       "      <td>Wilkerson</td>\n",
       "      <td>28</td>\n",
       "      <td>Seattle-Tacoma-Bellevue, WA MSA</td>\n",
       "      <td>2018-08-13</td>\n",
       "      <td>surf</td>\n",
       "      <td>NaN</td>\n",
       "    </tr>\n",
       "    <tr>\n",
       "      <th>2</th>\n",
       "      <td>1002</td>\n",
       "      <td>Carlee</td>\n",
       "      <td>Hoffman</td>\n",
       "      <td>36</td>\n",
       "      <td>Las Vegas-Henderson-Paradise, NV MSA</td>\n",
       "      <td>2018-10-21</td>\n",
       "      <td>surf</td>\n",
       "      <td>NaN</td>\n",
       "    </tr>\n",
       "    <tr>\n",
       "      <th>3</th>\n",
       "      <td>1003</td>\n",
       "      <td>Reynaldo</td>\n",
       "      <td>Jenkins</td>\n",
       "      <td>52</td>\n",
       "      <td>Tulsa, OK MSA</td>\n",
       "      <td>2018-01-28</td>\n",
       "      <td>surf</td>\n",
       "      <td>NaN</td>\n",
       "    </tr>\n",
       "    <tr>\n",
       "      <th>4</th>\n",
       "      <td>1004</td>\n",
       "      <td>Leonila</td>\n",
       "      <td>Thompson</td>\n",
       "      <td>40</td>\n",
       "      <td>Seattle-Tacoma-Bellevue, WA MSA</td>\n",
       "      <td>2018-05-23</td>\n",
       "      <td>surf</td>\n",
       "      <td>NaN</td>\n",
       "    </tr>\n",
       "  </tbody>\n",
       "</table>\n",
       "</div>"
      ],
      "text/plain": [
       "   user_id first_name  last_name  age                                   city  \\\n",
       "0     1000   Anamaria      Bauer   45  Atlanta-Sandy Springs-Roswell, GA MSA   \n",
       "1     1001     Mickey  Wilkerson   28        Seattle-Tacoma-Bellevue, WA MSA   \n",
       "2     1002     Carlee    Hoffman   36   Las Vegas-Henderson-Paradise, NV MSA   \n",
       "3     1003   Reynaldo    Jenkins   52                          Tulsa, OK MSA   \n",
       "4     1004    Leonila   Thompson   40        Seattle-Tacoma-Bellevue, WA MSA   \n",
       "\n",
       "     reg_date      plan churn_date  \n",
       "0  2018-12-24  ultimate        NaN  \n",
       "1  2018-08-13      surf        NaN  \n",
       "2  2018-10-21      surf        NaN  \n",
       "3  2018-01-28      surf        NaN  \n",
       "4  2018-05-23      surf        NaN  "
      ]
     },
     "metadata": {},
     "output_type": "display_data"
    }
   ],
   "source": [
    "# Print a sample of the user data\n",
    "display(df_users.head())"
   ]
  },
  {
   "cell_type": "markdown",
   "metadata": {
    "id": "BX5FQh_I0q06"
   },
   "source": [
    "R/\n",
    "\n",
    "**- Data Types:**\n",
    "\n",
    "There are a total of 8 columns and 500 rows.\n",
    "The columns `user_id` and `age` are of type 64-bit integer.\n",
    "The columns `first_name`, `last_name`, `city`, `plan`, `reg_date`, and `churn_date` are of object or string type (with the last two being dates).\n",
    "\n",
    "NaN or null values in the `churn_date` column are normal for active users, as it indicates the abandonment date.\n",
    "\n",
    "**- To consider:**\n",
    "\n",
    "- Standardization of names in lowercase.\n",
    "- Data type for dates.\n",
    "- Verify and handle null values in date columns, especially in `churn_date`.\n",
    "\n",
    "### Correct the data"
   ]
  },
  {
   "cell_type": "code",
   "execution_count": 11,
   "metadata": {
    "id": "yUqX-K0C0q07"
   },
   "outputs": [
    {
     "name": "stdout",
     "output_type": "stream",
     "text": [
      "<class 'pandas.core.frame.DataFrame'>\n",
      "RangeIndex: 500 entries, 0 to 499\n",
      "Data columns (total 8 columns):\n",
      " #   Column      Non-Null Count  Dtype         \n",
      "---  ------      --------------  -----         \n",
      " 0   user_id     500 non-null    int64         \n",
      " 1   first_name  500 non-null    object        \n",
      " 2   last_name   500 non-null    object        \n",
      " 3   age         500 non-null    int64         \n",
      " 4   city        500 non-null    object        \n",
      " 5   reg_date    500 non-null    datetime64[ns]\n",
      " 6   plan        500 non-null    object        \n",
      " 7   churn_date  34 non-null     datetime64[ns]\n",
      "dtypes: datetime64[ns](2), int64(2), object(4)\n",
      "memory usage: 31.4+ KB\n"
     ]
    }
   ],
   "source": [
    "# Standardize the plan names to lowercase\n",
    "df_users['plan'] = df_users['plan'].str.lower()\n",
    "\n",
    "# Corrections according to the comments - Convert date columns to datetime for processing\n",
    "df_users['reg_date'] = pd.to_datetime(df_users['reg_date'])\n",
    "df_users['churn_date'] = pd.to_datetime(df_users['churn_date'], format='%Y-%m-%d', errors='coerce')\n",
    "\n",
    "df_users.info()"
   ]
  },
  {
   "cell_type": "markdown",
   "metadata": {},
   "source": [
    "**Note:**\n",
    "\n",
    "The argument errors='coerce' is used in the pandas function pd.to_datetime() to handle errors during the conversion of a column to datetime type. This argument has the following specific function:\n",
    "\n",
    "Function of errors='coerce'\n",
    "\n",
    "errors='coerce': When this value is specified, pandas will convert entries that cannot be interpreted as valid dates into NaT (Not a Time), which is the pandas value used to represent missing data in the context of dates.\n",
    "\n",
    "By using errors='coerce', we ensure that these values are converted to NaT without raising an error.\n",
    "\n",
    "### Enriching the Data\n",
    "\n",
    "Some ideas that may be useful for subsequent calculations:\n",
    "\n",
    "* Subscription Duration: The time a user has been subscribed, calculated from the registration date to the cancellation date (or the current date if there is no cancellation date).\n",
    "\n",
    "* Subscription Status: An indicator of whether a user is active or has canceled their subscription.\n",
    "\n",
    "* Registration Year: The year the user registered, which could be useful for trend analysis.\n",
    "\n",
    "* Registration Month: The month the user registered, for more detailed analysis of registration patterns."
   ]
  },
  {
   "cell_type": "code",
   "execution_count": 12,
   "metadata": {
    "id": "iq0AaBS90q08"
   },
   "outputs": [
    {
     "name": "stdout",
     "output_type": "stream",
     "text": [
      "<class 'pandas.core.frame.DataFrame'>\n",
      "RangeIndex: 500 entries, 0 to 499\n",
      "Data columns (total 12 columns):\n",
      " #   Column                 Non-Null Count  Dtype         \n",
      "---  ------                 --------------  -----         \n",
      " 0   user_id                500 non-null    int64         \n",
      " 1   first_name             500 non-null    object        \n",
      " 2   last_name              500 non-null    object        \n",
      " 3   age                    500 non-null    int64         \n",
      " 4   city                   500 non-null    object        \n",
      " 5   reg_date               500 non-null    datetime64[ns]\n",
      " 6   plan                   500 non-null    object        \n",
      " 7   churn_date             34 non-null     datetime64[ns]\n",
      " 8   subscription_duration  500 non-null    int64         \n",
      " 9   subscription_status    500 non-null    object        \n",
      " 10  reg_year               500 non-null    int64         \n",
      " 11  reg_month              500 non-null    int64         \n",
      "dtypes: datetime64[ns](2), int64(5), object(5)\n",
      "memory usage: 47.0+ KB\n",
      "None\n"
     ]
    },
    {
     "data": {
      "text/html": [
       "<div>\n",
       "<style scoped>\n",
       "    .dataframe tbody tr th:only-of-type {\n",
       "        vertical-align: middle;\n",
       "    }\n",
       "\n",
       "    .dataframe tbody tr th {\n",
       "        vertical-align: top;\n",
       "    }\n",
       "\n",
       "    .dataframe thead th {\n",
       "        text-align: right;\n",
       "    }\n",
       "</style>\n",
       "<table border=\"1\" class=\"dataframe\">\n",
       "  <thead>\n",
       "    <tr style=\"text-align: right;\">\n",
       "      <th></th>\n",
       "      <th>user_id</th>\n",
       "      <th>first_name</th>\n",
       "      <th>last_name</th>\n",
       "      <th>age</th>\n",
       "      <th>city</th>\n",
       "      <th>reg_date</th>\n",
       "      <th>plan</th>\n",
       "      <th>churn_date</th>\n",
       "      <th>subscription_duration</th>\n",
       "      <th>subscription_status</th>\n",
       "      <th>reg_year</th>\n",
       "      <th>reg_month</th>\n",
       "    </tr>\n",
       "  </thead>\n",
       "  <tbody>\n",
       "    <tr>\n",
       "      <th>0</th>\n",
       "      <td>1000</td>\n",
       "      <td>Anamaria</td>\n",
       "      <td>Bauer</td>\n",
       "      <td>45</td>\n",
       "      <td>Atlanta-Sandy Springs-Roswell, GA MSA</td>\n",
       "      <td>2018-12-24</td>\n",
       "      <td>ultimate</td>\n",
       "      <td>NaT</td>\n",
       "      <td>1985</td>\n",
       "      <td>active</td>\n",
       "      <td>2018</td>\n",
       "      <td>12</td>\n",
       "    </tr>\n",
       "    <tr>\n",
       "      <th>1</th>\n",
       "      <td>1001</td>\n",
       "      <td>Mickey</td>\n",
       "      <td>Wilkerson</td>\n",
       "      <td>28</td>\n",
       "      <td>Seattle-Tacoma-Bellevue, WA MSA</td>\n",
       "      <td>2018-08-13</td>\n",
       "      <td>surf</td>\n",
       "      <td>NaT</td>\n",
       "      <td>2118</td>\n",
       "      <td>active</td>\n",
       "      <td>2018</td>\n",
       "      <td>8</td>\n",
       "    </tr>\n",
       "    <tr>\n",
       "      <th>2</th>\n",
       "      <td>1002</td>\n",
       "      <td>Carlee</td>\n",
       "      <td>Hoffman</td>\n",
       "      <td>36</td>\n",
       "      <td>Las Vegas-Henderson-Paradise, NV MSA</td>\n",
       "      <td>2018-10-21</td>\n",
       "      <td>surf</td>\n",
       "      <td>NaT</td>\n",
       "      <td>2049</td>\n",
       "      <td>active</td>\n",
       "      <td>2018</td>\n",
       "      <td>10</td>\n",
       "    </tr>\n",
       "    <tr>\n",
       "      <th>3</th>\n",
       "      <td>1003</td>\n",
       "      <td>Reynaldo</td>\n",
       "      <td>Jenkins</td>\n",
       "      <td>52</td>\n",
       "      <td>Tulsa, OK MSA</td>\n",
       "      <td>2018-01-28</td>\n",
       "      <td>surf</td>\n",
       "      <td>NaT</td>\n",
       "      <td>2315</td>\n",
       "      <td>active</td>\n",
       "      <td>2018</td>\n",
       "      <td>1</td>\n",
       "    </tr>\n",
       "    <tr>\n",
       "      <th>4</th>\n",
       "      <td>1004</td>\n",
       "      <td>Leonila</td>\n",
       "      <td>Thompson</td>\n",
       "      <td>40</td>\n",
       "      <td>Seattle-Tacoma-Bellevue, WA MSA</td>\n",
       "      <td>2018-05-23</td>\n",
       "      <td>surf</td>\n",
       "      <td>NaT</td>\n",
       "      <td>2200</td>\n",
       "      <td>active</td>\n",
       "      <td>2018</td>\n",
       "      <td>5</td>\n",
       "    </tr>\n",
       "  </tbody>\n",
       "</table>\n",
       "</div>"
      ],
      "text/plain": [
       "   user_id first_name  last_name  age                                   city  \\\n",
       "0     1000   Anamaria      Bauer   45  Atlanta-Sandy Springs-Roswell, GA MSA   \n",
       "1     1001     Mickey  Wilkerson   28        Seattle-Tacoma-Bellevue, WA MSA   \n",
       "2     1002     Carlee    Hoffman   36   Las Vegas-Henderson-Paradise, NV MSA   \n",
       "3     1003   Reynaldo    Jenkins   52                          Tulsa, OK MSA   \n",
       "4     1004    Leonila   Thompson   40        Seattle-Tacoma-Bellevue, WA MSA   \n",
       "\n",
       "    reg_date      plan churn_date  subscription_duration subscription_status  \\\n",
       "0 2018-12-24  ultimate        NaT                   1985              active   \n",
       "1 2018-08-13      surf        NaT                   2118              active   \n",
       "2 2018-10-21      surf        NaT                   2049              active   \n",
       "3 2018-01-28      surf        NaT                   2315              active   \n",
       "4 2018-05-23      surf        NaT                   2200              active   \n",
       "\n",
       "   reg_year  reg_month  \n",
       "0      2018         12  \n",
       "1      2018          8  \n",
       "2      2018         10  \n",
       "3      2018          1  \n",
       "4      2018          5  "
      ]
     },
     "metadata": {},
     "output_type": "display_data"
    }
   ],
   "source": [
    "# Calculate the subscription duration (in days)\n",
    "df_users['subscription_duration'] = (df_users['churn_date'].fillna(pd.Timestamp('2024-05-31')) - df_users['reg_date']).dt.days\n",
    "\n",
    "# Create a subscription status column 'active' 'inactive'\n",
    "df_users['subscription_status'] = np.where(df_users['churn_date'].isna(), 'active', 'inactive') \n",
    "\n",
    "# Extract year and month from the registration date\n",
    "df_users['reg_year'] = df_users['reg_date'].dt.year\n",
    "df_users['reg_month'] = df_users['reg_date'].dt.month\n",
    "\n",
    "# General information about the user DataFrame after modifications\n",
    "print(df_users.info())\n",
    "\n",
    "# Print the result with additional data and corrections\n",
    "display(df_users.head())"
   ]
  },
  {
   "cell_type": "markdown",
   "metadata": {},
   "source": [
    "**Note:**\n",
    "\n",
    "**df_users['churn_date'].fillna(pd.Timestamp('2024-05-31')):**\n",
    "\n",
    "* df_users['churn_date']: \n",
    "\n",
    "This column in the df_users DataFrame contains the date when users canceled their subscription (churn date).\n",
    "\n",
    "* .fillna(pd.Timestamp('2024-05-31')): \n",
    "\n",
    "This method (.fillna()) replaces NaN values (representing users who haven't canceled their subscription) in the churn_date column with the date 2024-05-31. The function pd.Timestamp('date') converts the string '2024-05-31' into a pandas Timestamp object, which is the appropriate data type for handling dates and times in pandas.\n",
    "\n",
    "* - df_users['reg_date']:\n",
    "\n",
    "This column (reg_date) contains the registration date, which is subtracted from the churn date (churn_date) or '2024-05-31' if they haven't canceled. Since both columns are date-type, this operation returns a series of Timedelta objects, representing the time difference between the two dates.\n",
    "\n",
    "* .dt.days:\n",
    "\n",
    "The .dt.days attribute extracts the number of days from each Timedelta object. The result is a series of integers representing the number of days between the registration date and the churn date (or the current date, 2024-05-31).\n",
    "\n",
    "In summary, this line calculates the subscription duration in days for each user and stores the result in a new column called subscription_duration in the df_users DataFrame.\n",
    "\n",
    "**df_users['subscription_status'] = np.where(df_users['churn_date'].isna(), 'active', 'inactive'):**\n",
    "\n",
    "This line of code uses the np.where function from the numpy library to create a new column called subscription_status in the df_users DataFrame, which indicates whether a user is active or inactive based on the presence of a churn date.\n",
    "\n",
    "* np.where:\n",
    "\n",
    "np.where is a numpy function that returns elements based on a condition. The basic syntax is np.where(condition, [x, y]), where:\n",
    "\n",
    "condition: A condition that is evaluated element by element.\n",
    "x: The value to use when the condition is True.\n",
    "y: The value to use when the condition is False.\n",
    "\n",
    "* df_users['churn_date'].isna():\n",
    "\n",
    "df_users['churn_date']: This is the column in the df_users DataFrame that contains churn dates.\n",
    ".isna(): This pandas method returns a boolean series that is True where values are NaN (i.e., where there is no churn date) and False where there is a churn date.\n",
    "\n",
    "* 'active' and 'inactive':\n",
    "\n",
    "'active': This is the value that np.where will assign to rows where the condition is True (i.e., where churn_date is NaN).\n",
    "'inactive': This is the value that np.where will assign to rows where the condition is False (i.e., where churn_date is not NaN).\n",
    "\n",
    "## Calls"
   ]
  },
  {
   "cell_type": "code",
   "execution_count": 13,
   "metadata": {
    "id": "6dDlnoDm0q08"
   },
   "outputs": [
    {
     "name": "stdout",
     "output_type": "stream",
     "text": [
      "<class 'pandas.core.frame.DataFrame'>\n",
      "RangeIndex: 137735 entries, 0 to 137734\n",
      "Data columns (total 4 columns):\n",
      " #   Column     Non-Null Count   Dtype  \n",
      "---  ------     --------------   -----  \n",
      " 0   id         137735 non-null  object \n",
      " 1   user_id    137735 non-null  int64  \n",
      " 2   call_date  137735 non-null  object \n",
      " 3   duration   137735 non-null  float64\n",
      "dtypes: float64(1), int64(1), object(2)\n",
      "memory usage: 4.2+ MB\n"
     ]
    }
   ],
   "source": [
    "# Print general/summary information about the call DataFrame\n",
    "df_calls.info()"
   ]
  },
  {
   "cell_type": "code",
   "execution_count": 14,
   "metadata": {
    "id": "kuh1vlNB0q09",
    "scrolled": true
   },
   "outputs": [
    {
     "data": {
      "text/html": [
       "<div>\n",
       "<style scoped>\n",
       "    .dataframe tbody tr th:only-of-type {\n",
       "        vertical-align: middle;\n",
       "    }\n",
       "\n",
       "    .dataframe tbody tr th {\n",
       "        vertical-align: top;\n",
       "    }\n",
       "\n",
       "    .dataframe thead th {\n",
       "        text-align: right;\n",
       "    }\n",
       "</style>\n",
       "<table border=\"1\" class=\"dataframe\">\n",
       "  <thead>\n",
       "    <tr style=\"text-align: right;\">\n",
       "      <th></th>\n",
       "      <th>id</th>\n",
       "      <th>user_id</th>\n",
       "      <th>call_date</th>\n",
       "      <th>duration</th>\n",
       "    </tr>\n",
       "  </thead>\n",
       "  <tbody>\n",
       "    <tr>\n",
       "      <th>0</th>\n",
       "      <td>1000_93</td>\n",
       "      <td>1000</td>\n",
       "      <td>2018-12-27</td>\n",
       "      <td>8.52</td>\n",
       "    </tr>\n",
       "    <tr>\n",
       "      <th>1</th>\n",
       "      <td>1000_145</td>\n",
       "      <td>1000</td>\n",
       "      <td>2018-12-27</td>\n",
       "      <td>13.66</td>\n",
       "    </tr>\n",
       "    <tr>\n",
       "      <th>2</th>\n",
       "      <td>1000_247</td>\n",
       "      <td>1000</td>\n",
       "      <td>2018-12-27</td>\n",
       "      <td>14.48</td>\n",
       "    </tr>\n",
       "    <tr>\n",
       "      <th>3</th>\n",
       "      <td>1000_309</td>\n",
       "      <td>1000</td>\n",
       "      <td>2018-12-28</td>\n",
       "      <td>5.76</td>\n",
       "    </tr>\n",
       "    <tr>\n",
       "      <th>4</th>\n",
       "      <td>1000_380</td>\n",
       "      <td>1000</td>\n",
       "      <td>2018-12-30</td>\n",
       "      <td>4.22</td>\n",
       "    </tr>\n",
       "  </tbody>\n",
       "</table>\n",
       "</div>"
      ],
      "text/plain": [
       "         id  user_id   call_date  duration\n",
       "0   1000_93     1000  2018-12-27      8.52\n",
       "1  1000_145     1000  2018-12-27     13.66\n",
       "2  1000_247     1000  2018-12-27     14.48\n",
       "3  1000_309     1000  2018-12-28      5.76\n",
       "4  1000_380     1000  2018-12-30      4.22"
      ]
     },
     "metadata": {},
     "output_type": "display_data"
    }
   ],
   "source": [
    "# Print a sample of the call data\n",
    "display(df_calls.head())"
   ]
  },
  {
   "cell_type": "markdown",
   "metadata": {
    "id": "S7hzxmbX0q0-"
   },
   "source": [
    "R/ \n",
    "\n",
    "**- Data Types:**\n",
    "\n",
    "The DataFrame contains a total of 137,735 rows and 4 columns.\n",
    "\n",
    "Column id: Unique identifier for the call and call_date: Call date are of object type (string).\n",
    "\n",
    "Column user_id: Unique identifier for the user with 64-bit integer data type.\n",
    "\n",
    "Column duration: Call duration in minutes with 64-bit float data type.\n",
    "\n",
    "There are no null values in any of the columns, as the count of non-null values for all columns equals the total number of rows (137,735).\n",
    "\n",
    "**- To Consider:**\n",
    "\n",
    "The column call_date is stored as object type instead of a datetime data type. Converting it to a datetime data type would facilitate working with dates.\n",
    "\n",
    "The call duration is stored as a float, which is suitable for representing decimal values, but we could round it as necessary depending on the analysis to be performed.\n",
    "\n",
    "### Correcting the Data"
   ]
  },
  {
   "cell_type": "code",
   "execution_count": 15,
   "metadata": {
    "id": "S2r8xA4f0q0-"
   },
   "outputs": [
    {
     "name": "stdout",
     "output_type": "stream",
     "text": [
      "Información actualizada del DataFrame df_calls:\n",
      "<class 'pandas.core.frame.DataFrame'>\n",
      "RangeIndex: 137735 entries, 0 to 137734\n",
      "Data columns (total 4 columns):\n",
      " #   Column     Non-Null Count   Dtype         \n",
      "---  ------     --------------   -----         \n",
      " 0   id         137735 non-null  object        \n",
      " 1   user_id    137735 non-null  int64         \n",
      " 2   call_date  137735 non-null  datetime64[ns]\n",
      " 3   duration   137735 non-null  int64         \n",
      "dtypes: datetime64[ns](1), int64(2), object(1)\n",
      "memory usage: 4.2+ MB\n",
      "None\n"
     ]
    }
   ],
   "source": [
    "# Corrections according to the comments - Convert the 'call_date' column to datetime using the to_datetime() method\n",
    "df_calls['call_date'] = pd.to_datetime(df_calls['call_date'], format='%Y-%m-%d')\n",
    "\n",
    "# Round the call duration to whole numbers\n",
    "df_calls['duration'] = np.round(df_calls['duration']).astype(int)\n",
    "\n",
    "# Print updated information for validation\n",
    "print(\"Información actualizada del DataFrame df_calls:\")\n",
    "print(df_calls.info())"
   ]
  },
  {
   "cell_type": "markdown",
   "metadata": {
    "id": "KrMgTrlG0q0_"
   },
   "source": [
    "**Note:** \n",
    "\n",
    "line: **df_calls['duration'] = np.round(df_calls['duration']).astype(int)**\n",
    "\n",
    "**df_calls['duration']**: This selects the 'duration' column from the df_calls DataFrame.\n",
    "\n",
    "**np.round(df_calls['duration'])**: Here, np.round() is a function from the NumPy library that rounds the values in the 'duration' column to the nearest integer. This function takes the df_calls['duration'] data series as an argument and returns a new series with the rounded values.\n",
    "\n",
    "**.astype(int)**: This part of the code converts the rounded values in the 'duration' column to integers using the astype() method from pandas. This means that all values will be integers instead of floating-point numbers.\n",
    "\n",
    "### Enriching the data"
   ]
  },
  {
   "cell_type": "code",
   "execution_count": 16,
   "metadata": {
    "id": "iZ1avpA_0q0_"
   },
   "outputs": [
    {
     "data": {
      "text/html": [
       "<div>\n",
       "<style scoped>\n",
       "    .dataframe tbody tr th:only-of-type {\n",
       "        vertical-align: middle;\n",
       "    }\n",
       "\n",
       "    .dataframe tbody tr th {\n",
       "        vertical-align: top;\n",
       "    }\n",
       "\n",
       "    .dataframe thead th {\n",
       "        text-align: right;\n",
       "    }\n",
       "</style>\n",
       "<table border=\"1\" class=\"dataframe\">\n",
       "  <thead>\n",
       "    <tr style=\"text-align: right;\">\n",
       "      <th></th>\n",
       "      <th>id</th>\n",
       "      <th>user_id</th>\n",
       "      <th>call_date</th>\n",
       "      <th>duration</th>\n",
       "      <th>day_of_week</th>\n",
       "      <th>month</th>\n",
       "      <th>hour_of_day</th>\n",
       "      <th>call_duration_category</th>\n",
       "    </tr>\n",
       "  </thead>\n",
       "  <tbody>\n",
       "    <tr>\n",
       "      <th>0</th>\n",
       "      <td>1000_93</td>\n",
       "      <td>1000</td>\n",
       "      <td>2018-12-27</td>\n",
       "      <td>9</td>\n",
       "      <td>Thursday</td>\n",
       "      <td>December</td>\n",
       "      <td>0</td>\n",
       "      <td>5-10 min</td>\n",
       "    </tr>\n",
       "    <tr>\n",
       "      <th>1</th>\n",
       "      <td>1000_145</td>\n",
       "      <td>1000</td>\n",
       "      <td>2018-12-27</td>\n",
       "      <td>14</td>\n",
       "      <td>Thursday</td>\n",
       "      <td>December</td>\n",
       "      <td>0</td>\n",
       "      <td>10-15 min</td>\n",
       "    </tr>\n",
       "    <tr>\n",
       "      <th>2</th>\n",
       "      <td>1000_247</td>\n",
       "      <td>1000</td>\n",
       "      <td>2018-12-27</td>\n",
       "      <td>14</td>\n",
       "      <td>Thursday</td>\n",
       "      <td>December</td>\n",
       "      <td>0</td>\n",
       "      <td>10-15 min</td>\n",
       "    </tr>\n",
       "    <tr>\n",
       "      <th>3</th>\n",
       "      <td>1000_309</td>\n",
       "      <td>1000</td>\n",
       "      <td>2018-12-28</td>\n",
       "      <td>6</td>\n",
       "      <td>Friday</td>\n",
       "      <td>December</td>\n",
       "      <td>0</td>\n",
       "      <td>5-10 min</td>\n",
       "    </tr>\n",
       "    <tr>\n",
       "      <th>4</th>\n",
       "      <td>1000_380</td>\n",
       "      <td>1000</td>\n",
       "      <td>2018-12-30</td>\n",
       "      <td>4</td>\n",
       "      <td>Sunday</td>\n",
       "      <td>December</td>\n",
       "      <td>0</td>\n",
       "      <td>&lt;5 min</td>\n",
       "    </tr>\n",
       "    <tr>\n",
       "      <th>...</th>\n",
       "      <td>...</td>\n",
       "      <td>...</td>\n",
       "      <td>...</td>\n",
       "      <td>...</td>\n",
       "      <td>...</td>\n",
       "      <td>...</td>\n",
       "      <td>...</td>\n",
       "      <td>...</td>\n",
       "    </tr>\n",
       "    <tr>\n",
       "      <th>137730</th>\n",
       "      <td>1499_199</td>\n",
       "      <td>1499</td>\n",
       "      <td>2018-11-21</td>\n",
       "      <td>9</td>\n",
       "      <td>Wednesday</td>\n",
       "      <td>November</td>\n",
       "      <td>0</td>\n",
       "      <td>5-10 min</td>\n",
       "    </tr>\n",
       "    <tr>\n",
       "      <th>137731</th>\n",
       "      <td>1499_200</td>\n",
       "      <td>1499</td>\n",
       "      <td>2018-10-20</td>\n",
       "      <td>11</td>\n",
       "      <td>Saturday</td>\n",
       "      <td>October</td>\n",
       "      <td>0</td>\n",
       "      <td>10-15 min</td>\n",
       "    </tr>\n",
       "    <tr>\n",
       "      <th>137732</th>\n",
       "      <td>1499_201</td>\n",
       "      <td>1499</td>\n",
       "      <td>2018-09-21</td>\n",
       "      <td>8</td>\n",
       "      <td>Friday</td>\n",
       "      <td>September</td>\n",
       "      <td>0</td>\n",
       "      <td>5-10 min</td>\n",
       "    </tr>\n",
       "    <tr>\n",
       "      <th>137733</th>\n",
       "      <td>1499_202</td>\n",
       "      <td>1499</td>\n",
       "      <td>2018-10-10</td>\n",
       "      <td>0</td>\n",
       "      <td>Wednesday</td>\n",
       "      <td>October</td>\n",
       "      <td>0</td>\n",
       "      <td>0 min</td>\n",
       "    </tr>\n",
       "    <tr>\n",
       "      <th>137734</th>\n",
       "      <td>1499_203</td>\n",
       "      <td>1499</td>\n",
       "      <td>2018-12-29</td>\n",
       "      <td>14</td>\n",
       "      <td>Saturday</td>\n",
       "      <td>December</td>\n",
       "      <td>0</td>\n",
       "      <td>10-15 min</td>\n",
       "    </tr>\n",
       "  </tbody>\n",
       "</table>\n",
       "<p>137735 rows × 8 columns</p>\n",
       "</div>"
      ],
      "text/plain": [
       "              id  user_id  call_date  duration day_of_week      month  \\\n",
       "0        1000_93     1000 2018-12-27         9    Thursday   December   \n",
       "1       1000_145     1000 2018-12-27        14    Thursday   December   \n",
       "2       1000_247     1000 2018-12-27        14    Thursday   December   \n",
       "3       1000_309     1000 2018-12-28         6      Friday   December   \n",
       "4       1000_380     1000 2018-12-30         4      Sunday   December   \n",
       "...          ...      ...        ...       ...         ...        ...   \n",
       "137730  1499_199     1499 2018-11-21         9   Wednesday   November   \n",
       "137731  1499_200     1499 2018-10-20        11    Saturday    October   \n",
       "137732  1499_201     1499 2018-09-21         8      Friday  September   \n",
       "137733  1499_202     1499 2018-10-10         0   Wednesday    October   \n",
       "137734  1499_203     1499 2018-12-29        14    Saturday   December   \n",
       "\n",
       "        hour_of_day call_duration_category  \n",
       "0                 0               5-10 min  \n",
       "1                 0              10-15 min  \n",
       "2                 0              10-15 min  \n",
       "3                 0               5-10 min  \n",
       "4                 0                 <5 min  \n",
       "...             ...                    ...  \n",
       "137730            0               5-10 min  \n",
       "137731            0              10-15 min  \n",
       "137732            0               5-10 min  \n",
       "137733            0                  0 min  \n",
       "137734            0              10-15 min  \n",
       "\n",
       "[137735 rows x 8 columns]"
      ]
     },
     "metadata": {},
     "output_type": "display_data"
    },
    {
     "data": {
      "text/html": [
       "<div>\n",
       "<style scoped>\n",
       "    .dataframe tbody tr th:only-of-type {\n",
       "        vertical-align: middle;\n",
       "    }\n",
       "\n",
       "    .dataframe tbody tr th {\n",
       "        vertical-align: top;\n",
       "    }\n",
       "\n",
       "    .dataframe thead th {\n",
       "        text-align: right;\n",
       "    }\n",
       "</style>\n",
       "<table border=\"1\" class=\"dataframe\">\n",
       "  <thead>\n",
       "    <tr style=\"text-align: right;\">\n",
       "      <th></th>\n",
       "      <th>index</th>\n",
       "      <th>call_duration_category</th>\n",
       "      <th>user_id</th>\n",
       "      <th>percentage</th>\n",
       "    </tr>\n",
       "  </thead>\n",
       "  <tbody>\n",
       "    <tr>\n",
       "      <th>0</th>\n",
       "      <td>5</td>\n",
       "      <td>5-10 min</td>\n",
       "      <td>38070</td>\n",
       "      <td>27.64</td>\n",
       "    </tr>\n",
       "    <tr>\n",
       "      <th>1</th>\n",
       "      <td>0</td>\n",
       "      <td>0 min</td>\n",
       "      <td>29683</td>\n",
       "      <td>21.55</td>\n",
       "    </tr>\n",
       "    <tr>\n",
       "      <th>2</th>\n",
       "      <td>6</td>\n",
       "      <td>&lt;5 min</td>\n",
       "      <td>27626</td>\n",
       "      <td>20.06</td>\n",
       "    </tr>\n",
       "    <tr>\n",
       "      <th>3</th>\n",
       "      <td>1</td>\n",
       "      <td>10-15 min</td>\n",
       "      <td>27086</td>\n",
       "      <td>19.67</td>\n",
       "    </tr>\n",
       "    <tr>\n",
       "      <th>4</th>\n",
       "      <td>2</td>\n",
       "      <td>15-20 min</td>\n",
       "      <td>11610</td>\n",
       "      <td>8.43</td>\n",
       "    </tr>\n",
       "    <tr>\n",
       "      <th>5</th>\n",
       "      <td>3</td>\n",
       "      <td>20-30 min</td>\n",
       "      <td>3606</td>\n",
       "      <td>2.62</td>\n",
       "    </tr>\n",
       "    <tr>\n",
       "      <th>6</th>\n",
       "      <td>4</td>\n",
       "      <td>30-60 min</td>\n",
       "      <td>54</td>\n",
       "      <td>0.04</td>\n",
       "    </tr>\n",
       "  </tbody>\n",
       "</table>\n",
       "</div>"
      ],
      "text/plain": [
       "   index call_duration_category  user_id  percentage\n",
       "0      5               5-10 min    38070       27.64\n",
       "1      0                  0 min    29683       21.55\n",
       "2      6                 <5 min    27626       20.06\n",
       "3      1              10-15 min    27086       19.67\n",
       "4      2              15-20 min    11610        8.43\n",
       "5      3              20-30 min     3606        2.62\n",
       "6      4              30-60 min       54        0.04"
      ]
     },
     "metadata": {},
     "output_type": "display_data"
    }
   ],
   "source": [
    "# Separate and add the day of the week in a new column\n",
    "df_calls['day_of_week'] = df_calls['call_date'].dt.day_name()\n",
    "\n",
    "# Add the month\n",
    "df_calls['month'] = df_calls['call_date'].dt.month_name()\n",
    "\n",
    "# Add the time of day\n",
    "df_calls['hour_of_day'] = df_calls['call_date'].dt.hour\n",
    "\n",
    "# Add call duration categorization and create a new column assigning the new values\n",
    "bins = [0, 5, 10, 15, 20, 30, 60, 120, float('inf')]\n",
    "labels = ['<5 min', '5-10 min', '10-15 min', '15-20 min', '20-30 min', '30-60 min', '1-2 hours', '>2 hours']\n",
    "\n",
    "def categorize_duration(duration):\n",
    "    if duration == 0:\n",
    "        return '0 min'\n",
    "    elif duration < 5:\n",
    "        return '<5 min'\n",
    "    elif duration < 10:\n",
    "        return '5-10 min'\n",
    "    elif duration < 15:\n",
    "        return '10-15 min'\n",
    "    elif duration < 20:\n",
    "        return '15-20 min'\n",
    "    elif duration < 30:\n",
    "        return '20-30 min'\n",
    "    elif duration < 60:\n",
    "        return '30-60 min'\n",
    "    elif duration < 120:\n",
    "        return '1-2 hours'\n",
    "    else:\n",
    "        return '>2 hours'\n",
    "\n",
    "df_calls['call_duration_category'] = df_calls['duration'].apply(categorize_duration)\n",
    "\n",
    "\n",
    "display(df_calls)\n",
    "\n",
    "# Evaluate the number of calls per category\n",
    "quantity_call_duration = df_calls.groupby('call_duration_category')['user_id'].count()\n",
    "total_quantity_call_duration= quantity_call_duration.sum()\n",
    "\n",
    "# Calculate the percentage of each category\n",
    "percentage_call_duration = (quantity_call_duration / total_quantity_call_duration) * 100\n",
    "\n",
    "# Round the percentages to 2 decimal places\n",
    "percentage_call_duration = percentage_call_duration.round(2)\n",
    "\n",
    "# Create a DataFrame to better visualize the results\n",
    "df_percentage_category_call_duration = pd.DataFrame({\n",
    "    'call_duration_category': quantity_call_duration.index,\n",
    "    'user_id': quantity_call_duration.values,\n",
    "    'percentage': percentage_call_duration.values\n",
    "})\n",
    "\n",
    "# Sort the DataFrame by the percentage column from highest to lowest\n",
    "df_percentage_category_call_duration = df_percentage_category_call_duration.sort_values('percentage', ascending=False).reset_index()\n",
    "\n",
    "# Print the result\n",
    "display(df_percentage_category_call_duration)"
   ]
  },
  {
   "cell_type": "markdown",
   "metadata": {
    "id": "mOUZSi180q0_"
   },
   "source": [
    "**Notes**:\n",
    "\n",
    "We will explain in more detail the section described as **# Add call duration categorization**.\n",
    "\n",
    "**.dt**: This is an accessor that allows us to access the date and time properties of date objects in pandas.\n",
    "\n",
    "**.day_name() and .month_name()**: This method is applied to the 'call_date' column after .dt and returns the name of the day and/or month corresponding to each date in full text format (e.g., \"Monday\", \"Tuesday\", \"January\", \"February\", etc.).\n",
    "\n",
    "**bins** = [0, 5, 10, 15, 20, 30, 60, 120, float('inf')]: This line defines the interval boundaries for categorizing the call duration. Each number in the list represents the upper limit of the interval, and the last element float('inf') represents infinity, meaning the last interval will be open on the upper end, i.e., any value greater than 120.\n",
    "\n",
    "**labels** = ['<5 min', '5-10 min', '10-15 min', '15-20 min', '20-30 min', '30-60 min', '1-2 hours', '>2 hours']: Here, we define the labels for each duration interval. These labels will be assigned to the resulting categories after segmentation.\n",
    "\n",
    "**def categorize_duration(duration):**\n",
    "Here we define a function called categorize_duration that takes an argument named duration (manually assigned names). The function uses a series of **if, elif, and else** statements to categorize the call duration into different intervals. Each if block checks if the call duration falls within a specific range and returns a string representing that category. For example, if **duration** is less than 5, the function returns the string '<5 min' and so on for the other intervals, with each **elif** checking if the duration falls within the corresponding range and returning the appropriate string. The last **else** statement is used for any duration value that is 120 or greater.\n",
    "\n",
    "Function application using **apply()**: This line of code applies the **categorize_duration** function to each value in the duration column of the **df_calls** DataFrame.\n",
    "\n",
    "**df_calls['duration']**: Selects the duration column from the df_calls DataFrame.  \n",
    "**.apply(categorize_duration)**: Applies the **categorize_duration** function to each value in the duration column. The function is called for each individual value in the column, and the result (the corresponding category) is stored in a new series with the duration categories assigned to each value. This series is assigned to a new column in the **df_calls** DataFrame called **'call_duration_category'**.\n",
    "\n",
    "-------------------------------------------------------------\n",
    "\n",
    "Or if we prefer a shorter line of code, we can use the following code, but for a better understanding of its functionality, we chose the one described earlier.\n",
    "\n",
    "**df_calls['call_duration_category'] = pd.cut(df_calls['duration'], bins=bins, labels=labels, right=False):** This line applies the data segmentation to the 'duration' column of the df_calls DataFrame. We use the pandas **pd.cut()** function to segment the data into the intervals defined by bins and assign the labels defined by labels to each interval. The **right=False** argument indicates that the intervals are semi-open on the right side, meaning the upper boundary of the interval is not included in the category.\n",
    "\n",
    "R/ \n",
    "\n",
    "**Highest percentage of calls**: Calls with a duration of 0 minutes represent 21.55% of the total calls. This is significant as it is the second highest percentage after calls lasting between 5 and 10 minutes (27.64%).\n",
    "\n",
    "**High proportion of calls with no duration**: A percentage this high of calls with 0 minutes of duration could indicate several scenarios:\n",
    "\n",
    "**Unanswered calls**: These could be calls that were not answered and therefore lasted no time.\n",
    "Errors or failures: There could be technical errors or failures in the call logging system.\n",
    "Test calls: These could be test calls made for testing purposes, which were hung up immediately after being made.\n",
    "\n",
    "**Comparison with other categories**: The 0-minute call category is notably high compared to other categories. For example, it has a higher percentage than calls lasting 10-15 minutes (19.67%) and is almost equal to calls lasting less than 5 minutes (20.06%).\n",
    "\n",
    "**Impact on usage analysis**: Since these calls have no duration, they could distort the usage analysis if not properly accounted for. Depending on the context, it might be useful to investigate further the reasons behind these calls to better understand their nature.\n",
    "\n",
    "This shows that the 0-minute category is one of the most common and deserves special attention.\n",
    "\n",
    "## Messages\n"
   ]
  },
  {
   "cell_type": "code",
   "execution_count": 17,
   "metadata": {
    "id": "R-bYJpdV0q1A"
   },
   "outputs": [
    {
     "name": "stdout",
     "output_type": "stream",
     "text": [
      "<class 'pandas.core.frame.DataFrame'>\n",
      "RangeIndex: 76051 entries, 0 to 76050\n",
      "Data columns (total 3 columns):\n",
      " #   Column        Non-Null Count  Dtype \n",
      "---  ------        --------------  ----- \n",
      " 0   id            76051 non-null  object\n",
      " 1   user_id       76051 non-null  int64 \n",
      " 2   message_date  76051 non-null  object\n",
      "dtypes: int64(1), object(2)\n",
      "memory usage: 1.7+ MB\n"
     ]
    }
   ],
   "source": [
    "# Print general/summary information about the message DataFrame\n",
    "df_messages.info()"
   ]
  },
  {
   "cell_type": "code",
   "execution_count": 18,
   "metadata": {
    "id": "mCEl2iGE0q1A"
   },
   "outputs": [
    {
     "data": {
      "text/html": [
       "<div>\n",
       "<style scoped>\n",
       "    .dataframe tbody tr th:only-of-type {\n",
       "        vertical-align: middle;\n",
       "    }\n",
       "\n",
       "    .dataframe tbody tr th {\n",
       "        vertical-align: top;\n",
       "    }\n",
       "\n",
       "    .dataframe thead th {\n",
       "        text-align: right;\n",
       "    }\n",
       "</style>\n",
       "<table border=\"1\" class=\"dataframe\">\n",
       "  <thead>\n",
       "    <tr style=\"text-align: right;\">\n",
       "      <th></th>\n",
       "      <th>id</th>\n",
       "      <th>user_id</th>\n",
       "      <th>message_date</th>\n",
       "    </tr>\n",
       "  </thead>\n",
       "  <tbody>\n",
       "    <tr>\n",
       "      <th>0</th>\n",
       "      <td>1000_125</td>\n",
       "      <td>1000</td>\n",
       "      <td>2018-12-27</td>\n",
       "    </tr>\n",
       "    <tr>\n",
       "      <th>1</th>\n",
       "      <td>1000_160</td>\n",
       "      <td>1000</td>\n",
       "      <td>2018-12-31</td>\n",
       "    </tr>\n",
       "    <tr>\n",
       "      <th>2</th>\n",
       "      <td>1000_223</td>\n",
       "      <td>1000</td>\n",
       "      <td>2018-12-31</td>\n",
       "    </tr>\n",
       "    <tr>\n",
       "      <th>3</th>\n",
       "      <td>1000_251</td>\n",
       "      <td>1000</td>\n",
       "      <td>2018-12-27</td>\n",
       "    </tr>\n",
       "    <tr>\n",
       "      <th>4</th>\n",
       "      <td>1000_255</td>\n",
       "      <td>1000</td>\n",
       "      <td>2018-12-26</td>\n",
       "    </tr>\n",
       "  </tbody>\n",
       "</table>\n",
       "</div>"
      ],
      "text/plain": [
       "         id  user_id message_date\n",
       "0  1000_125     1000   2018-12-27\n",
       "1  1000_160     1000   2018-12-31\n",
       "2  1000_223     1000   2018-12-31\n",
       "3  1000_251     1000   2018-12-27\n",
       "4  1000_255     1000   2018-12-26"
      ]
     },
     "metadata": {},
     "output_type": "display_data"
    }
   ],
   "source": [
    "# Print a sample of the message data\n",
    "display(df_messages.head())"
   ]
  },
  {
   "cell_type": "markdown",
   "metadata": {
    "id": "Sprfak900q1B"
   },
   "source": [
    "R/\n",
    "\n",
    "**- Data Types:**\n",
    "\n",
    "The DataFrame contains a total of 76,051 rows and 3 columns.\n",
    "\n",
    "Column id: Unique identifier of the message and message_date: Message date are of object (string) type.\n",
    "\n",
    "Column user_id: Unique identifier of the user with 64-bit integer data type.\n",
    "\n",
    "There are no null values in any of the columns, as the count of non-null values for all columns is equal to the total number of rows (76,051).\n",
    "\n",
    "\n",
    "**- To Consider:**\n",
    "\n",
    "The column message_date is stored as object instead of a datetime type. Converting it to a datetime type would facilitate working with dates.\n",
    "\n",
    "### Correct the data"
   ]
  },
  {
   "cell_type": "code",
   "execution_count": 19,
   "metadata": {
    "id": "vsllvkoa0q1B"
   },
   "outputs": [
    {
     "name": "stdout",
     "output_type": "stream",
     "text": [
      "<class 'pandas.core.frame.DataFrame'>\n",
      "RangeIndex: 76051 entries, 0 to 76050\n",
      "Data columns (total 3 columns):\n",
      " #   Column        Non-Null Count  Dtype         \n",
      "---  ------        --------------  -----         \n",
      " 0   id            76051 non-null  object        \n",
      " 1   user_id       76051 non-null  int64         \n",
      " 2   message_date  76051 non-null  datetime64[ns]\n",
      "dtypes: datetime64[ns](1), int64(1), object(1)\n",
      "memory usage: 1.7+ MB\n"
     ]
    }
   ],
   "source": [
    "# Convert the 'message_date' column to datetime\n",
    "df_messages['message_date'] = pd.to_datetime(df_messages['message_date'])\n",
    "\n",
    "df_messages.info()"
   ]
  },
  {
   "cell_type": "markdown",
   "metadata": {},
   "source": [
    "### Enriching the Data\n",
    "\n",
    "1. Date Decomposition:\n",
    "Break down `message_date` into useful components such as year, month, weekday, and hour.\n",
    "\n",
    "2. Message Count per User:\n",
    "Add a column indicating the total number of messages sent by each user.\n",
    "\n",
    "3. Active/Inactive User Identification:\n",
    "Mark users as active (with messages in the last 30 days) versus those who are inactive.\n",
    "\n",
    "4. Duration from First to Last Message:\n",
    "Calculate the duration between the first and last message for each user.\n",
    "\n",
    "5. Time of Day:\n",
    "Categorize messages according to the time of day (morning, afternoon, evening)."
   ]
  },
  {
   "cell_type": "code",
   "execution_count": 20,
   "metadata": {
    "id": "zYEXZac10q1C"
   },
   "outputs": [
    {
     "data": {
      "text/html": [
       "<div>\n",
       "<style scoped>\n",
       "    .dataframe tbody tr th:only-of-type {\n",
       "        vertical-align: middle;\n",
       "    }\n",
       "\n",
       "    .dataframe tbody tr th {\n",
       "        vertical-align: top;\n",
       "    }\n",
       "\n",
       "    .dataframe thead th {\n",
       "        text-align: right;\n",
       "    }\n",
       "</style>\n",
       "<table border=\"1\" class=\"dataframe\">\n",
       "  <thead>\n",
       "    <tr style=\"text-align: right;\">\n",
       "      <th></th>\n",
       "      <th>id</th>\n",
       "      <th>user_id</th>\n",
       "      <th>message_date</th>\n",
       "      <th>year</th>\n",
       "      <th>month</th>\n",
       "      <th>month_of_year</th>\n",
       "      <th>day</th>\n",
       "      <th>day_of_week</th>\n",
       "      <th>message_count</th>\n",
       "      <th>active</th>\n",
       "      <th>activity_duration</th>\n",
       "    </tr>\n",
       "  </thead>\n",
       "  <tbody>\n",
       "    <tr>\n",
       "      <th>0</th>\n",
       "      <td>1000_125</td>\n",
       "      <td>1000</td>\n",
       "      <td>2018-12-27</td>\n",
       "      <td>2018</td>\n",
       "      <td>December</td>\n",
       "      <td>12</td>\n",
       "      <td>Thursday</td>\n",
       "      <td>3</td>\n",
       "      <td>11</td>\n",
       "      <td>True</td>\n",
       "      <td>6</td>\n",
       "    </tr>\n",
       "    <tr>\n",
       "      <th>1</th>\n",
       "      <td>1000_160</td>\n",
       "      <td>1000</td>\n",
       "      <td>2018-12-31</td>\n",
       "      <td>2018</td>\n",
       "      <td>December</td>\n",
       "      <td>12</td>\n",
       "      <td>Monday</td>\n",
       "      <td>0</td>\n",
       "      <td>11</td>\n",
       "      <td>True</td>\n",
       "      <td>6</td>\n",
       "    </tr>\n",
       "    <tr>\n",
       "      <th>2</th>\n",
       "      <td>1000_223</td>\n",
       "      <td>1000</td>\n",
       "      <td>2018-12-31</td>\n",
       "      <td>2018</td>\n",
       "      <td>December</td>\n",
       "      <td>12</td>\n",
       "      <td>Monday</td>\n",
       "      <td>0</td>\n",
       "      <td>11</td>\n",
       "      <td>True</td>\n",
       "      <td>6</td>\n",
       "    </tr>\n",
       "    <tr>\n",
       "      <th>3</th>\n",
       "      <td>1000_251</td>\n",
       "      <td>1000</td>\n",
       "      <td>2018-12-27</td>\n",
       "      <td>2018</td>\n",
       "      <td>December</td>\n",
       "      <td>12</td>\n",
       "      <td>Thursday</td>\n",
       "      <td>3</td>\n",
       "      <td>11</td>\n",
       "      <td>True</td>\n",
       "      <td>6</td>\n",
       "    </tr>\n",
       "    <tr>\n",
       "      <th>4</th>\n",
       "      <td>1000_255</td>\n",
       "      <td>1000</td>\n",
       "      <td>2018-12-26</td>\n",
       "      <td>2018</td>\n",
       "      <td>December</td>\n",
       "      <td>12</td>\n",
       "      <td>Wednesday</td>\n",
       "      <td>2</td>\n",
       "      <td>11</td>\n",
       "      <td>True</td>\n",
       "      <td>6</td>\n",
       "    </tr>\n",
       "    <tr>\n",
       "      <th>...</th>\n",
       "      <td>...</td>\n",
       "      <td>...</td>\n",
       "      <td>...</td>\n",
       "      <td>...</td>\n",
       "      <td>...</td>\n",
       "      <td>...</td>\n",
       "      <td>...</td>\n",
       "      <td>...</td>\n",
       "      <td>...</td>\n",
       "      <td>...</td>\n",
       "      <td>...</td>\n",
       "    </tr>\n",
       "    <tr>\n",
       "      <th>76046</th>\n",
       "      <td>1497_526</td>\n",
       "      <td>1497</td>\n",
       "      <td>2018-12-24</td>\n",
       "      <td>2018</td>\n",
       "      <td>December</td>\n",
       "      <td>12</td>\n",
       "      <td>Monday</td>\n",
       "      <td>0</td>\n",
       "      <td>50</td>\n",
       "      <td>True</td>\n",
       "      <td>20</td>\n",
       "    </tr>\n",
       "    <tr>\n",
       "      <th>76047</th>\n",
       "      <td>1497_536</td>\n",
       "      <td>1497</td>\n",
       "      <td>2018-12-24</td>\n",
       "      <td>2018</td>\n",
       "      <td>December</td>\n",
       "      <td>12</td>\n",
       "      <td>Monday</td>\n",
       "      <td>0</td>\n",
       "      <td>50</td>\n",
       "      <td>True</td>\n",
       "      <td>20</td>\n",
       "    </tr>\n",
       "    <tr>\n",
       "      <th>76048</th>\n",
       "      <td>1497_547</td>\n",
       "      <td>1497</td>\n",
       "      <td>2018-12-31</td>\n",
       "      <td>2018</td>\n",
       "      <td>December</td>\n",
       "      <td>12</td>\n",
       "      <td>Monday</td>\n",
       "      <td>0</td>\n",
       "      <td>50</td>\n",
       "      <td>True</td>\n",
       "      <td>20</td>\n",
       "    </tr>\n",
       "    <tr>\n",
       "      <th>76049</th>\n",
       "      <td>1497_558</td>\n",
       "      <td>1497</td>\n",
       "      <td>2018-12-24</td>\n",
       "      <td>2018</td>\n",
       "      <td>December</td>\n",
       "      <td>12</td>\n",
       "      <td>Monday</td>\n",
       "      <td>0</td>\n",
       "      <td>50</td>\n",
       "      <td>True</td>\n",
       "      <td>20</td>\n",
       "    </tr>\n",
       "    <tr>\n",
       "      <th>76050</th>\n",
       "      <td>1497_613</td>\n",
       "      <td>1497</td>\n",
       "      <td>2018-12-23</td>\n",
       "      <td>2018</td>\n",
       "      <td>December</td>\n",
       "      <td>12</td>\n",
       "      <td>Sunday</td>\n",
       "      <td>6</td>\n",
       "      <td>50</td>\n",
       "      <td>True</td>\n",
       "      <td>20</td>\n",
       "    </tr>\n",
       "  </tbody>\n",
       "</table>\n",
       "<p>76051 rows × 11 columns</p>\n",
       "</div>"
      ],
      "text/plain": [
       "             id  user_id message_date  year     month  month_of_year  \\\n",
       "0      1000_125     1000   2018-12-27  2018  December             12   \n",
       "1      1000_160     1000   2018-12-31  2018  December             12   \n",
       "2      1000_223     1000   2018-12-31  2018  December             12   \n",
       "3      1000_251     1000   2018-12-27  2018  December             12   \n",
       "4      1000_255     1000   2018-12-26  2018  December             12   \n",
       "...         ...      ...          ...   ...       ...            ...   \n",
       "76046  1497_526     1497   2018-12-24  2018  December             12   \n",
       "76047  1497_536     1497   2018-12-24  2018  December             12   \n",
       "76048  1497_547     1497   2018-12-31  2018  December             12   \n",
       "76049  1497_558     1497   2018-12-24  2018  December             12   \n",
       "76050  1497_613     1497   2018-12-23  2018  December             12   \n",
       "\n",
       "             day  day_of_week  message_count  active  activity_duration  \n",
       "0       Thursday            3             11    True                  6  \n",
       "1         Monday            0             11    True                  6  \n",
       "2         Monday            0             11    True                  6  \n",
       "3       Thursday            3             11    True                  6  \n",
       "4      Wednesday            2             11    True                  6  \n",
       "...          ...          ...            ...     ...                ...  \n",
       "76046     Monday            0             50    True                 20  \n",
       "76047     Monday            0             50    True                 20  \n",
       "76048     Monday            0             50    True                 20  \n",
       "76049     Monday            0             50    True                 20  \n",
       "76050     Sunday            6             50    True                 20  \n",
       "\n",
       "[76051 rows x 11 columns]"
      ]
     },
     "metadata": {},
     "output_type": "display_data"
    }
   ],
   "source": [
    "# Decompose the Date into year, month, day, and hour\n",
    "df_messages['year'] = df_messages['message_date'].dt.year\n",
    "df_messages['month'] = df_messages['message_date'].dt.month_name()\n",
    "df_messages['month_of_year'] = df_messages['message_date'].dt.month\n",
    "df_messages['day'] = df_messages['message_date'].dt.day_name()\n",
    "df_messages['day_of_week'] = df_messages['message_date'].dt.dayofweek\n",
    "\n",
    "# Create a new column for the Message Count in a separate df by User, adding it to df_messages\n",
    "message_counts = df_messages.groupby('user_id').size().reset_index(name='message_count')\n",
    "df_messages = pd.merge(df_messages, message_counts, on='user_id', how='left')\n",
    "\n",
    "# Identify Active/Inactive Users (active in the last 30 days)\n",
    "recent_date = df_messages['message_date'].max()\n",
    "df_messages['active'] = (recent_date - df_messages['message_date']).dt.days <= 30\n",
    "\n",
    "# Duration in days from the First to the Last Message by User\n",
    "activity_duration = (df_messages.groupby('user_id')['message_date'].max() - df_messages.groupby('user_id')['message_date'].min()).dt.days.reset_index(name='activity_duration')\n",
    "df_messages = pd.merge(df_messages, activity_duration, on='user_id', how='left')\n",
    "\n",
    "# Print and verify the changes made\n",
    "display(df_messages)"
   ]
  },
  {
   "cell_type": "markdown",
   "metadata": {
    "id": "bStkaxn40q1C"
   },
   "source": [
    "**Note:**\n",
    "\n",
    "* **.message_counts = df_messages.groupby('user_id').size().reset_index(name='message_count'):** Calculates the number of messages for each user and stores it in a DataFrame called message_counts. The argument **reset_index(name='message_count')** assigns the name **'message_count'** to the column that contains the message count.\n",
    "\n",
    "* **df_messages = pd.merge(df_messages, message_counts, on='user_id', how='left'):** Merges the DataFrame **df_messages** with the DataFrame **message_counts** on the **'user_id'** column, keeping all rows from df_messages. This adds a new column called **'message_count'** to the df_messages DataFrame, containing the message count for each user. **how=left** ensures that all rows from the left DataFrame (the first DataFrame in the merge function) are kept. The merge will include all rows from the left DataFrame, regardless of whether there are matches in the columns specified in the **on** argument. If there are no matches, the right DataFrame's columns will be filled with null values.\n",
    "\n",
    "* **recent_date = df_messages['message_date'].max()** Finds the most recent date in the **'message_date'** column of the df_messages DataFrame and stores it in the variable **recent_date**.\n",
    "\n",
    "* **df_messages['active'] = (recent_date - df_messages['message_date']).dt.days <= 30:** Calculates the difference in days between the most recent date (**recent_date**) and each date in the **'message_date'** column. Then, it checks if this difference is less than or equal to 30 days and assigns the result (True or False) to the **'active'** column in the df_messages DataFrame. This identifies users who have been active in the last 30 days.\n",
    "\n",
    "* **activity_duration = (df_messages.groupby('user_id')['message_date'].max() - df_messages.groupby('user_id')['message_date'].min()).dt.days.reset_index(name='activity_duration'):** Calculates the duration in days from the first to the last message for each user and stores the results in a DataFrame called **activity_duration**. The argument **reset_index(name='activity_duration')** assigns the name **'activity_duration'** to the column that contains the activity duration per user.\n",
    "\n",
    "* **df_messages = pd.merge(df_messages, activity_duration, on='user_id', how='left'):** Merges the DataFrame **df_messages** with the DataFrame **activity_duration** on the **'user_id'** column, keeping all rows from df_messages. This adds a new column called **'activity_duration'** to the **df_messages** DataFrame, containing the activity duration for each user.\n",
    "\n",
    "* The line of code for hours **df_messages['hour'] = df_messages['message_date'].dt.hour** is not executed because it was found that the data does not include hours.\n",
    "\n",
    "## Internet"
   ]
  },
  {
   "cell_type": "code",
   "execution_count": 21,
   "metadata": {
    "id": "e-Uz5qyn0q1C"
   },
   "outputs": [
    {
     "name": "stdout",
     "output_type": "stream",
     "text": [
      "<class 'pandas.core.frame.DataFrame'>\n",
      "RangeIndex: 104825 entries, 0 to 104824\n",
      "Data columns (total 4 columns):\n",
      " #   Column        Non-Null Count   Dtype  \n",
      "---  ------        --------------   -----  \n",
      " 0   id            104825 non-null  object \n",
      " 1   user_id       104825 non-null  int64  \n",
      " 2   session_date  104825 non-null  object \n",
      " 3   mb_used       104825 non-null  float64\n",
      "dtypes: float64(1), int64(1), object(2)\n",
      "memory usage: 3.2+ MB\n"
     ]
    }
   ],
   "source": [
    "# Print general/summary information about the internet DataFrame\n",
    "df_internet.info()\n"
   ]
  },
  {
   "cell_type": "code",
   "execution_count": 22,
   "metadata": {
    "id": "9r3x_XLw0q1C"
   },
   "outputs": [
    {
     "data": {
      "text/html": [
       "<div>\n",
       "<style scoped>\n",
       "    .dataframe tbody tr th:only-of-type {\n",
       "        vertical-align: middle;\n",
       "    }\n",
       "\n",
       "    .dataframe tbody tr th {\n",
       "        vertical-align: top;\n",
       "    }\n",
       "\n",
       "    .dataframe thead th {\n",
       "        text-align: right;\n",
       "    }\n",
       "</style>\n",
       "<table border=\"1\" class=\"dataframe\">\n",
       "  <thead>\n",
       "    <tr style=\"text-align: right;\">\n",
       "      <th></th>\n",
       "      <th>id</th>\n",
       "      <th>user_id</th>\n",
       "      <th>session_date</th>\n",
       "      <th>mb_used</th>\n",
       "    </tr>\n",
       "  </thead>\n",
       "  <tbody>\n",
       "    <tr>\n",
       "      <th>0</th>\n",
       "      <td>1000_13</td>\n",
       "      <td>1000</td>\n",
       "      <td>2018-12-29</td>\n",
       "      <td>89.86</td>\n",
       "    </tr>\n",
       "    <tr>\n",
       "      <th>1</th>\n",
       "      <td>1000_204</td>\n",
       "      <td>1000</td>\n",
       "      <td>2018-12-31</td>\n",
       "      <td>0.00</td>\n",
       "    </tr>\n",
       "    <tr>\n",
       "      <th>2</th>\n",
       "      <td>1000_379</td>\n",
       "      <td>1000</td>\n",
       "      <td>2018-12-28</td>\n",
       "      <td>660.40</td>\n",
       "    </tr>\n",
       "    <tr>\n",
       "      <th>3</th>\n",
       "      <td>1000_413</td>\n",
       "      <td>1000</td>\n",
       "      <td>2018-12-26</td>\n",
       "      <td>270.99</td>\n",
       "    </tr>\n",
       "    <tr>\n",
       "      <th>4</th>\n",
       "      <td>1000_442</td>\n",
       "      <td>1000</td>\n",
       "      <td>2018-12-27</td>\n",
       "      <td>880.22</td>\n",
       "    </tr>\n",
       "  </tbody>\n",
       "</table>\n",
       "</div>"
      ],
      "text/plain": [
       "         id  user_id session_date  mb_used\n",
       "0   1000_13     1000   2018-12-29    89.86\n",
       "1  1000_204     1000   2018-12-31     0.00\n",
       "2  1000_379     1000   2018-12-28   660.40\n",
       "3  1000_413     1000   2018-12-26   270.99\n",
       "4  1000_442     1000   2018-12-27   880.22"
      ]
     },
     "metadata": {},
     "output_type": "display_data"
    }
   ],
   "source": [
    "# Print a sample of the internet traffic data\n",
    "display(df_internet.head())"
   ]
  },
  {
   "cell_type": "markdown",
   "metadata": {
    "id": "yA0tkPFg0q1D"
   },
   "source": [
    "R/\n",
    "\n",
    "**- Data Types:**\n",
    "\n",
    "The DataFrame contains a total of 104825 rows and 4 columns.\n",
    "\n",
    "Column id: Unique identifier of the message, and session_date: Message date, both are of object type (string).\n",
    "\n",
    "Column user_id: Unique identifier of the user, with data of 64-bit integer type.\n",
    "\n",
    "Column mb_used: Contains values of megabytes as 64-bit floating-point numbers.\n",
    "\n",
    "There are no null values in any of the columns, as the count of non-null values for all columns equals the total number of rows (104825).\n",
    "\n",
    "**- To Consider:**\n",
    "\n",
    "The column session_date is stored as object instead of a datetime data type. Converting it to a datetime type would make working with dates easier.\n",
    "\n",
    "### Fix the data"
   ]
  },
  {
   "cell_type": "code",
   "execution_count": 23,
   "metadata": {
    "id": "zVeanzdd0q1E"
   },
   "outputs": [
    {
     "name": "stdout",
     "output_type": "stream",
     "text": [
      "<class 'pandas.core.frame.DataFrame'>\n",
      "RangeIndex: 104825 entries, 0 to 104824\n",
      "Data columns (total 4 columns):\n",
      " #   Column        Non-Null Count   Dtype         \n",
      "---  ------        --------------   -----         \n",
      " 0   id            104825 non-null  object        \n",
      " 1   user_id       104825 non-null  int64         \n",
      " 2   session_date  104825 non-null  datetime64[ns]\n",
      " 3   mb_used       104825 non-null  float64       \n",
      "dtypes: datetime64[ns](1), float64(1), int64(1), object(1)\n",
      "memory usage: 3.2+ MB\n"
     ]
    }
   ],
   "source": [
    "# Convert the 'session_date' column to datetime\n",
    "df_internet['session_date'] = pd.to_datetime(df_internet['session_date'])\n",
    "\n",
    "# Print the result to validate the changes made\n",
    "df_internet.info()"
   ]
  },
  {
   "cell_type": "markdown",
   "metadata": {
    "id": "e8_mLF4a0q1E"
   },
   "source": [
    "### Enrich the data"
   ]
  },
  {
   "cell_type": "code",
   "execution_count": 24,
   "metadata": {
    "id": "ESiYPIEK0q1E"
   },
   "outputs": [
    {
     "data": {
      "text/html": [
       "<div>\n",
       "<style scoped>\n",
       "    .dataframe tbody tr th:only-of-type {\n",
       "        vertical-align: middle;\n",
       "    }\n",
       "\n",
       "    .dataframe tbody tr th {\n",
       "        vertical-align: top;\n",
       "    }\n",
       "\n",
       "    .dataframe thead th {\n",
       "        text-align: right;\n",
       "    }\n",
       "</style>\n",
       "<table border=\"1\" class=\"dataframe\">\n",
       "  <thead>\n",
       "    <tr style=\"text-align: right;\">\n",
       "      <th></th>\n",
       "      <th>id</th>\n",
       "      <th>user_id</th>\n",
       "      <th>session_date</th>\n",
       "      <th>mb_used</th>\n",
       "      <th>year</th>\n",
       "      <th>month</th>\n",
       "      <th>month_of_year</th>\n",
       "      <th>day</th>\n",
       "      <th>day_of_week</th>\n",
       "    </tr>\n",
       "  </thead>\n",
       "  <tbody>\n",
       "    <tr>\n",
       "      <th>0</th>\n",
       "      <td>1000_13</td>\n",
       "      <td>1000</td>\n",
       "      <td>2018-12-29</td>\n",
       "      <td>89.86</td>\n",
       "      <td>2018</td>\n",
       "      <td>December</td>\n",
       "      <td>12</td>\n",
       "      <td>Saturday</td>\n",
       "      <td>5</td>\n",
       "    </tr>\n",
       "    <tr>\n",
       "      <th>1</th>\n",
       "      <td>1000_204</td>\n",
       "      <td>1000</td>\n",
       "      <td>2018-12-31</td>\n",
       "      <td>0.00</td>\n",
       "      <td>2018</td>\n",
       "      <td>December</td>\n",
       "      <td>12</td>\n",
       "      <td>Monday</td>\n",
       "      <td>0</td>\n",
       "    </tr>\n",
       "    <tr>\n",
       "      <th>2</th>\n",
       "      <td>1000_379</td>\n",
       "      <td>1000</td>\n",
       "      <td>2018-12-28</td>\n",
       "      <td>660.40</td>\n",
       "      <td>2018</td>\n",
       "      <td>December</td>\n",
       "      <td>12</td>\n",
       "      <td>Friday</td>\n",
       "      <td>4</td>\n",
       "    </tr>\n",
       "    <tr>\n",
       "      <th>3</th>\n",
       "      <td>1000_413</td>\n",
       "      <td>1000</td>\n",
       "      <td>2018-12-26</td>\n",
       "      <td>270.99</td>\n",
       "      <td>2018</td>\n",
       "      <td>December</td>\n",
       "      <td>12</td>\n",
       "      <td>Wednesday</td>\n",
       "      <td>2</td>\n",
       "    </tr>\n",
       "    <tr>\n",
       "      <th>4</th>\n",
       "      <td>1000_442</td>\n",
       "      <td>1000</td>\n",
       "      <td>2018-12-27</td>\n",
       "      <td>880.22</td>\n",
       "      <td>2018</td>\n",
       "      <td>December</td>\n",
       "      <td>12</td>\n",
       "      <td>Thursday</td>\n",
       "      <td>3</td>\n",
       "    </tr>\n",
       "  </tbody>\n",
       "</table>\n",
       "</div>"
      ],
      "text/plain": [
       "         id  user_id session_date  mb_used  year     month  month_of_year  \\\n",
       "0   1000_13     1000   2018-12-29    89.86  2018  December             12   \n",
       "1  1000_204     1000   2018-12-31     0.00  2018  December             12   \n",
       "2  1000_379     1000   2018-12-28   660.40  2018  December             12   \n",
       "3  1000_413     1000   2018-12-26   270.99  2018  December             12   \n",
       "4  1000_442     1000   2018-12-27   880.22  2018  December             12   \n",
       "\n",
       "         day  day_of_week  \n",
       "0   Saturday            5  \n",
       "1     Monday            0  \n",
       "2     Friday            4  \n",
       "3  Wednesday            2  \n",
       "4   Thursday            3  "
      ]
     },
     "metadata": {},
     "output_type": "display_data"
    }
   ],
   "source": [
    "# Decompose the Date into year, month, day, and hour\n",
    "df_internet['year'] = df_internet['session_date'].dt.year\n",
    "df_internet['month'] = df_internet['session_date'].dt.month_name()\n",
    "df_internet['month_of_year'] = df_internet['session_date'].dt.month\n",
    "df_internet['day'] = df_internet['session_date'].dt.day_name()\n",
    "df_internet['day_of_week'] = df_internet['session_date'].dt.dayofweek\n",
    "\n",
    "display(df_internet.head())"
   ]
  },
  {
   "cell_type": "markdown",
   "metadata": {
    "id": "3UA2cqIW0q1E"
   },
   "source": [
    "## Study the conditions of the rates"
   ]
  },
  {
   "cell_type": "code",
   "execution_count": 25,
   "metadata": {
    "id": "i409op8p0q1F"
   },
   "outputs": [
    {
     "data": {
      "text/html": [
       "<div>\n",
       "<style scoped>\n",
       "    .dataframe tbody tr th:only-of-type {\n",
       "        vertical-align: middle;\n",
       "    }\n",
       "\n",
       "    .dataframe tbody tr th {\n",
       "        vertical-align: top;\n",
       "    }\n",
       "\n",
       "    .dataframe thead th {\n",
       "        text-align: right;\n",
       "    }\n",
       "</style>\n",
       "<table border=\"1\" class=\"dataframe\">\n",
       "  <thead>\n",
       "    <tr style=\"text-align: right;\">\n",
       "      <th></th>\n",
       "      <th>messages_included</th>\n",
       "      <th>mb_per_month_included</th>\n",
       "      <th>minutes_included</th>\n",
       "      <th>usd_monthly_pay</th>\n",
       "      <th>usd_per_gb</th>\n",
       "      <th>usd_per_message</th>\n",
       "      <th>usd_per_minute</th>\n",
       "      <th>plan_name</th>\n",
       "      <th>usd_per_mb</th>\n",
       "      <th>annual_fee</th>\n",
       "    </tr>\n",
       "  </thead>\n",
       "  <tbody>\n",
       "    <tr>\n",
       "      <th>0</th>\n",
       "      <td>50</td>\n",
       "      <td>15360</td>\n",
       "      <td>500</td>\n",
       "      <td>20</td>\n",
       "      <td>10</td>\n",
       "      <td>0.03</td>\n",
       "      <td>0.03</td>\n",
       "      <td>surf</td>\n",
       "      <td>0.009766</td>\n",
       "      <td>240</td>\n",
       "    </tr>\n",
       "    <tr>\n",
       "      <th>1</th>\n",
       "      <td>1000</td>\n",
       "      <td>30720</td>\n",
       "      <td>3000</td>\n",
       "      <td>70</td>\n",
       "      <td>7</td>\n",
       "      <td>0.01</td>\n",
       "      <td>0.01</td>\n",
       "      <td>ultimate</td>\n",
       "      <td>0.006836</td>\n",
       "      <td>840</td>\n",
       "    </tr>\n",
       "  </tbody>\n",
       "</table>\n",
       "</div>"
      ],
      "text/plain": [
       "   messages_included  mb_per_month_included  minutes_included  \\\n",
       "0                 50                  15360               500   \n",
       "1               1000                  30720              3000   \n",
       "\n",
       "   usd_monthly_pay  usd_per_gb  usd_per_message  usd_per_minute plan_name  \\\n",
       "0               20          10             0.03            0.03      surf   \n",
       "1               70           7             0.01            0.01  ultimate   \n",
       "\n",
       "   usd_per_mb  annual_fee  \n",
       "0    0.009766         240  \n",
       "1    0.006836         840  "
      ]
     },
     "metadata": {},
     "output_type": "display_data"
    }
   ],
   "source": [
    "# Print the rate conditions and make sure they are clear\n",
    "display(df_plans.head())"
   ]
  },
  {
   "cell_type": "markdown",
   "metadata": {
    "id": "hMR1tP5d0q1F"
   },
   "source": [
    "## Add Data by User\n",
    "\n",
    "Now that the data is clean, add the data by user and by period so that there is only one record per user and per period. This will greatly facilitate the subsequent analysis."
   ]
  },
  {
   "cell_type": "code",
   "execution_count": 26,
   "metadata": {},
   "outputs": [
    {
     "name": "stdout",
     "output_type": "stream",
     "text": [
      "<class 'pandas.core.frame.DataFrame'>\n",
      "RangeIndex: 2 entries, 0 to 1\n",
      "Data columns (total 10 columns):\n",
      " #   Column                 Non-Null Count  Dtype  \n",
      "---  ------                 --------------  -----  \n",
      " 0   messages_included      2 non-null      int64  \n",
      " 1   mb_per_month_included  2 non-null      int64  \n",
      " 2   minutes_included       2 non-null      int64  \n",
      " 3   usd_monthly_pay        2 non-null      int64  \n",
      " 4   usd_per_gb             2 non-null      int64  \n",
      " 5   usd_per_message        2 non-null      float64\n",
      " 6   usd_per_minute         2 non-null      float64\n",
      " 7   plan_name              2 non-null      object \n",
      " 8   usd_per_mb             2 non-null      float64\n",
      " 9   annual_fee             2 non-null      int64  \n",
      "dtypes: float64(3), int64(6), object(1)\n",
      "memory usage: 288.0+ bytes\n",
      "<class 'pandas.core.frame.DataFrame'>\n",
      "RangeIndex: 137735 entries, 0 to 137734\n",
      "Data columns (total 8 columns):\n",
      " #   Column                  Non-Null Count   Dtype         \n",
      "---  ------                  --------------   -----         \n",
      " 0   id                      137735 non-null  object        \n",
      " 1   user_id                 137735 non-null  int64         \n",
      " 2   call_date               137735 non-null  datetime64[ns]\n",
      " 3   duration                137735 non-null  int64         \n",
      " 4   day_of_week             137735 non-null  object        \n",
      " 5   month                   137735 non-null  object        \n",
      " 6   hour_of_day             137735 non-null  int64         \n",
      " 7   call_duration_category  137735 non-null  object        \n",
      "dtypes: datetime64[ns](1), int64(3), object(4)\n",
      "memory usage: 8.4+ MB\n",
      "<class 'pandas.core.frame.DataFrame'>\n",
      "RangeIndex: 104825 entries, 0 to 104824\n",
      "Data columns (total 9 columns):\n",
      " #   Column         Non-Null Count   Dtype         \n",
      "---  ------         --------------   -----         \n",
      " 0   id             104825 non-null  object        \n",
      " 1   user_id        104825 non-null  int64         \n",
      " 2   session_date   104825 non-null  datetime64[ns]\n",
      " 3   mb_used        104825 non-null  float64       \n",
      " 4   year           104825 non-null  int64         \n",
      " 5   month          104825 non-null  object        \n",
      " 6   month_of_year  104825 non-null  int64         \n",
      " 7   day            104825 non-null  object        \n",
      " 8   day_of_week    104825 non-null  int64         \n",
      "dtypes: datetime64[ns](1), float64(1), int64(4), object(3)\n",
      "memory usage: 7.2+ MB\n",
      "<class 'pandas.core.frame.DataFrame'>\n",
      "Int64Index: 76051 entries, 0 to 76050\n",
      "Data columns (total 11 columns):\n",
      " #   Column             Non-Null Count  Dtype         \n",
      "---  ------             --------------  -----         \n",
      " 0   id                 76051 non-null  object        \n",
      " 1   user_id            76051 non-null  int64         \n",
      " 2   message_date       76051 non-null  datetime64[ns]\n",
      " 3   year               76051 non-null  int64         \n",
      " 4   month              76051 non-null  object        \n",
      " 5   month_of_year      76051 non-null  int64         \n",
      " 6   day                76051 non-null  object        \n",
      " 7   day_of_week        76051 non-null  int64         \n",
      " 8   message_count      76051 non-null  int64         \n",
      " 9   active             76051 non-null  bool          \n",
      " 10  activity_duration  76051 non-null  int64         \n",
      "dtypes: bool(1), datetime64[ns](1), int64(6), object(3)\n",
      "memory usage: 6.5+ MB\n",
      "<class 'pandas.core.frame.DataFrame'>\n",
      "RangeIndex: 500 entries, 0 to 499\n",
      "Data columns (total 12 columns):\n",
      " #   Column                 Non-Null Count  Dtype         \n",
      "---  ------                 --------------  -----         \n",
      " 0   user_id                500 non-null    int64         \n",
      " 1   first_name             500 non-null    object        \n",
      " 2   last_name              500 non-null    object        \n",
      " 3   age                    500 non-null    int64         \n",
      " 4   city                   500 non-null    object        \n",
      " 5   reg_date               500 non-null    datetime64[ns]\n",
      " 6   plan                   500 non-null    object        \n",
      " 7   churn_date             34 non-null     datetime64[ns]\n",
      " 8   subscription_duration  500 non-null    int64         \n",
      " 9   subscription_status    500 non-null    object        \n",
      " 10  reg_year               500 non-null    int64         \n",
      " 11  reg_month              500 non-null    int64         \n",
      "dtypes: datetime64[ns](2), int64(5), object(5)\n",
      "memory usage: 47.0+ KB\n"
     ]
    }
   ],
   "source": [
    "df_plans.info()\n",
    "df_calls.info()\n",
    "df_internet.info()\n",
    "df_messages.info()\n",
    "df_users.info()"
   ]
  },
  {
   "cell_type": "code",
   "execution_count": 27,
   "metadata": {
    "id": "A332cedB0q1G"
   },
   "outputs": [
    {
     "data": {
      "text/html": [
       "<div>\n",
       "<style scoped>\n",
       "    .dataframe tbody tr th:only-of-type {\n",
       "        vertical-align: middle;\n",
       "    }\n",
       "\n",
       "    .dataframe tbody tr th {\n",
       "        vertical-align: top;\n",
       "    }\n",
       "\n",
       "    .dataframe thead th {\n",
       "        text-align: right;\n",
       "    }\n",
       "</style>\n",
       "<table border=\"1\" class=\"dataframe\">\n",
       "  <thead>\n",
       "    <tr style=\"text-align: right;\">\n",
       "      <th></th>\n",
       "      <th>user_id</th>\n",
       "      <th>month</th>\n",
       "      <th>call_count</th>\n",
       "    </tr>\n",
       "  </thead>\n",
       "  <tbody>\n",
       "    <tr>\n",
       "      <th>0</th>\n",
       "      <td>1000</td>\n",
       "      <td>December</td>\n",
       "      <td>16</td>\n",
       "    </tr>\n",
       "    <tr>\n",
       "      <th>1</th>\n",
       "      <td>1001</td>\n",
       "      <td>August</td>\n",
       "      <td>27</td>\n",
       "    </tr>\n",
       "    <tr>\n",
       "      <th>2</th>\n",
       "      <td>1001</td>\n",
       "      <td>December</td>\n",
       "      <td>56</td>\n",
       "    </tr>\n",
       "    <tr>\n",
       "      <th>3</th>\n",
       "      <td>1001</td>\n",
       "      <td>November</td>\n",
       "      <td>64</td>\n",
       "    </tr>\n",
       "    <tr>\n",
       "      <th>4</th>\n",
       "      <td>1001</td>\n",
       "      <td>October</td>\n",
       "      <td>65</td>\n",
       "    </tr>\n",
       "    <tr>\n",
       "      <th>...</th>\n",
       "      <td>...</td>\n",
       "      <td>...</td>\n",
       "      <td>...</td>\n",
       "    </tr>\n",
       "    <tr>\n",
       "      <th>2253</th>\n",
       "      <td>1498</td>\n",
       "      <td>September</td>\n",
       "      <td>45</td>\n",
       "    </tr>\n",
       "    <tr>\n",
       "      <th>2254</th>\n",
       "      <td>1499</td>\n",
       "      <td>December</td>\n",
       "      <td>65</td>\n",
       "    </tr>\n",
       "    <tr>\n",
       "      <th>2255</th>\n",
       "      <td>1499</td>\n",
       "      <td>November</td>\n",
       "      <td>45</td>\n",
       "    </tr>\n",
       "    <tr>\n",
       "      <th>2256</th>\n",
       "      <td>1499</td>\n",
       "      <td>October</td>\n",
       "      <td>53</td>\n",
       "    </tr>\n",
       "    <tr>\n",
       "      <th>2257</th>\n",
       "      <td>1499</td>\n",
       "      <td>September</td>\n",
       "      <td>41</td>\n",
       "    </tr>\n",
       "  </tbody>\n",
       "</table>\n",
       "<p>2258 rows × 3 columns</p>\n",
       "</div>"
      ],
      "text/plain": [
       "      user_id      month  call_count\n",
       "0        1000   December          16\n",
       "1        1001     August          27\n",
       "2        1001   December          56\n",
       "3        1001   November          64\n",
       "4        1001    October          65\n",
       "...       ...        ...         ...\n",
       "2253     1498  September          45\n",
       "2254     1499   December          65\n",
       "2255     1499   November          45\n",
       "2256     1499    October          53\n",
       "2257     1499  September          41\n",
       "\n",
       "[2258 rows x 3 columns]"
      ]
     },
     "metadata": {},
     "output_type": "display_data"
    }
   ],
   "source": [
    "# Calculate the number of calls made by each user per month. Save the result.\n",
    "calls_per_user_per_month = df_calls.groupby(['user_id', 'month']).size().reset_index(name='call_count')\n",
    "display(calls_per_user_per_month)"
   ]
  },
  {
   "cell_type": "markdown",
   "metadata": {},
   "source": [
    "R/\n",
    "\n",
    "**Note:**\n",
    "\n",
    "**groupby(['user_id', 'month'])**: This groups the rows of the DataFrame by the unique values of **user_id** and **month**. Each group will be a subset of rows that share the same **user_id** and **month**. Each group corresponds to a user in a specific month.\n",
    "\n",
    "**.size()**: Counts the number of rows in each group (i.e., the number of calls made by each user in each month). It returns a Series where the indices are the unique values of **user_id** and **month**, and the values are the call counts for those groups.\n",
    "\n",
    "**.reset_index(name='call_count'):**\n",
    "**reset_index()**: Converts the indices of the GroupBy object into columns and resets the indices of the resulting DataFrame.\n",
    "**name='call_count'**: Assigns the name **'call_count'** to the column containing the group sizes (the call count)."
   ]
  },
  {
   "cell_type": "code",
   "execution_count": 28,
   "metadata": {
    "id": "aw2cmuql0q1G"
   },
   "outputs": [
    {
     "data": {
      "text/html": [
       "<div>\n",
       "<style scoped>\n",
       "    .dataframe tbody tr th:only-of-type {\n",
       "        vertical-align: middle;\n",
       "    }\n",
       "\n",
       "    .dataframe tbody tr th {\n",
       "        vertical-align: top;\n",
       "    }\n",
       "\n",
       "    .dataframe thead th {\n",
       "        text-align: right;\n",
       "    }\n",
       "</style>\n",
       "<table border=\"1\" class=\"dataframe\">\n",
       "  <thead>\n",
       "    <tr style=\"text-align: right;\">\n",
       "      <th></th>\n",
       "      <th>user_id</th>\n",
       "      <th>month</th>\n",
       "      <th>total_minutes</th>\n",
       "    </tr>\n",
       "  </thead>\n",
       "  <tbody>\n",
       "    <tr>\n",
       "      <th>0</th>\n",
       "      <td>1000</td>\n",
       "      <td>December</td>\n",
       "      <td>117</td>\n",
       "    </tr>\n",
       "    <tr>\n",
       "      <th>1</th>\n",
       "      <td>1001</td>\n",
       "      <td>August</td>\n",
       "      <td>173</td>\n",
       "    </tr>\n",
       "    <tr>\n",
       "      <th>2</th>\n",
       "      <td>1001</td>\n",
       "      <td>December</td>\n",
       "      <td>394</td>\n",
       "    </tr>\n",
       "    <tr>\n",
       "      <th>3</th>\n",
       "      <td>1001</td>\n",
       "      <td>November</td>\n",
       "      <td>404</td>\n",
       "    </tr>\n",
       "    <tr>\n",
       "      <th>4</th>\n",
       "      <td>1001</td>\n",
       "      <td>October</td>\n",
       "      <td>374</td>\n",
       "    </tr>\n",
       "    <tr>\n",
       "      <th>...</th>\n",
       "      <td>...</td>\n",
       "      <td>...</td>\n",
       "      <td>...</td>\n",
       "    </tr>\n",
       "    <tr>\n",
       "      <th>2253</th>\n",
       "      <td>1498</td>\n",
       "      <td>September</td>\n",
       "      <td>346</td>\n",
       "    </tr>\n",
       "    <tr>\n",
       "      <th>2254</th>\n",
       "      <td>1499</td>\n",
       "      <td>December</td>\n",
       "      <td>463</td>\n",
       "    </tr>\n",
       "    <tr>\n",
       "      <th>2255</th>\n",
       "      <td>1499</td>\n",
       "      <td>November</td>\n",
       "      <td>287</td>\n",
       "    </tr>\n",
       "    <tr>\n",
       "      <th>2256</th>\n",
       "      <td>1499</td>\n",
       "      <td>October</td>\n",
       "      <td>361</td>\n",
       "    </tr>\n",
       "    <tr>\n",
       "      <th>2257</th>\n",
       "      <td>1499</td>\n",
       "      <td>September</td>\n",
       "      <td>328</td>\n",
       "    </tr>\n",
       "  </tbody>\n",
       "</table>\n",
       "<p>2258 rows × 3 columns</p>\n",
       "</div>"
      ],
      "text/plain": [
       "      user_id      month  total_minutes\n",
       "0        1000   December            117\n",
       "1        1001     August            173\n",
       "2        1001   December            394\n",
       "3        1001   November            404\n",
       "4        1001    October            374\n",
       "...       ...        ...            ...\n",
       "2253     1498  September            346\n",
       "2254     1499   December            463\n",
       "2255     1499   November            287\n",
       "2256     1499    October            361\n",
       "2257     1499  September            328\n",
       "\n",
       "[2258 rows x 3 columns]"
      ]
     },
     "metadata": {},
     "output_type": "display_data"
    }
   ],
   "source": [
    "# Calculate the amount of minutes used by each user per month. Save the result.\n",
    "minutes_per_user_per_month = df_calls.groupby(['user_id', 'month'])['duration'].sum().reset_index(name='total_minutes')\n",
    "display(minutes_per_user_per_month)"
   ]
  },
  {
   "cell_type": "markdown",
   "metadata": {},
   "source": [
    "**Notes:** \n",
    "\n",
    "**df_calls.groupby(['user_id', 'month'])**: This groups the DataFrame `df_calls` by the **'user_id'** and **'month'** columns. This means that all rows with the same **'user_id'** and **'month'** will be grouped together.\n",
    "\n",
    "**['duration'].sum()**: After grouping, Pandas takes the **'duration'** column from each group and calculates the sum of the values in that column. This means that for each group of **'user_id'** and **'month'**, Pandas sums all the call durations.\n",
    "\n",
    "**.reset_index(name='total_minutes')**: Finally, the **reset_index()** method is used to convert the group indices back into regular columns, and the column containing the sum of minutes is renamed as **'total_minutes'** in order to avoid using the same name **'duration'** and to prevent future confusion."
   ]
  },
  {
   "cell_type": "code",
   "execution_count": 29,
   "metadata": {
    "id": "CcQvNHn60q1G"
   },
   "outputs": [
    {
     "data": {
      "text/html": [
       "<div>\n",
       "<style scoped>\n",
       "    .dataframe tbody tr th:only-of-type {\n",
       "        vertical-align: middle;\n",
       "    }\n",
       "\n",
       "    .dataframe tbody tr th {\n",
       "        vertical-align: top;\n",
       "    }\n",
       "\n",
       "    .dataframe thead th {\n",
       "        text-align: right;\n",
       "    }\n",
       "</style>\n",
       "<table border=\"1\" class=\"dataframe\">\n",
       "  <thead>\n",
       "    <tr style=\"text-align: right;\">\n",
       "      <th></th>\n",
       "      <th>user_id</th>\n",
       "      <th>month</th>\n",
       "      <th>message_count</th>\n",
       "    </tr>\n",
       "  </thead>\n",
       "  <tbody>\n",
       "    <tr>\n",
       "      <th>0</th>\n",
       "      <td>1000</td>\n",
       "      <td>December</td>\n",
       "      <td>121</td>\n",
       "    </tr>\n",
       "    <tr>\n",
       "      <th>1</th>\n",
       "      <td>1001</td>\n",
       "      <td>August</td>\n",
       "      <td>6210</td>\n",
       "    </tr>\n",
       "    <tr>\n",
       "      <th>2</th>\n",
       "      <td>1001</td>\n",
       "      <td>December</td>\n",
       "      <td>9108</td>\n",
       "    </tr>\n",
       "    <tr>\n",
       "      <th>3</th>\n",
       "      <td>1001</td>\n",
       "      <td>November</td>\n",
       "      <td>7452</td>\n",
       "    </tr>\n",
       "    <tr>\n",
       "      <th>4</th>\n",
       "      <td>1001</td>\n",
       "      <td>October</td>\n",
       "      <td>10971</td>\n",
       "    </tr>\n",
       "    <tr>\n",
       "      <th>...</th>\n",
       "      <td>...</td>\n",
       "      <td>...</td>\n",
       "      <td>...</td>\n",
       "    </tr>\n",
       "    <tr>\n",
       "      <th>1801</th>\n",
       "      <td>1496</td>\n",
       "      <td>December</td>\n",
       "      <td>715</td>\n",
       "    </tr>\n",
       "    <tr>\n",
       "      <th>1802</th>\n",
       "      <td>1496</td>\n",
       "      <td>November</td>\n",
       "      <td>845</td>\n",
       "    </tr>\n",
       "    <tr>\n",
       "      <th>1803</th>\n",
       "      <td>1496</td>\n",
       "      <td>October</td>\n",
       "      <td>1170</td>\n",
       "    </tr>\n",
       "    <tr>\n",
       "      <th>1804</th>\n",
       "      <td>1496</td>\n",
       "      <td>September</td>\n",
       "      <td>1365</td>\n",
       "    </tr>\n",
       "    <tr>\n",
       "      <th>1805</th>\n",
       "      <td>1497</td>\n",
       "      <td>December</td>\n",
       "      <td>2500</td>\n",
       "    </tr>\n",
       "  </tbody>\n",
       "</table>\n",
       "<p>1806 rows × 3 columns</p>\n",
       "</div>"
      ],
      "text/plain": [
       "      user_id      month  message_count\n",
       "0        1000   December            121\n",
       "1        1001     August           6210\n",
       "2        1001   December           9108\n",
       "3        1001   November           7452\n",
       "4        1001    October          10971\n",
       "...       ...        ...            ...\n",
       "1801     1496   December            715\n",
       "1802     1496   November            845\n",
       "1803     1496    October           1170\n",
       "1804     1496  September           1365\n",
       "1805     1497   December           2500\n",
       "\n",
       "[1806 rows x 3 columns]"
      ]
     },
     "metadata": {},
     "output_type": "display_data"
    }
   ],
   "source": [
    "# Calculate the number of messages sent by each user per month. Save the result.\n",
    "messages_per_user_per_month = df_messages.groupby(['user_id', 'month'])['message_count'].sum().reset_index()\n",
    "display(messages_per_user_per_month)"
   ]
  },
  {
   "cell_type": "markdown",
   "metadata": {},
   "source": [
    "R/ \n",
    "\n",
    "**Notes**:\n",
    "\n",
    "**df_messages.groupby(['user_id', 'month'])**: This part of the code takes the DataFrame **df_messages** and groups it by the **'user_id'** and **'month'** columns.\n",
    "\n",
    "**['message_count'].sum()**: After grouping the data, we select the **'message_count'** column and apply the **sum()** function. This sums the total number of messages for each user and month group. Remember that in the **df_messages** DataFrame, **'message_count'** contains the total sum of messages for each user in each month.\n",
    "\n",
    "**.reset_index()**: Similar to what we did in the previous step, the **reset_index()** method is used here to convert the resulting index from the grouping into normal columns. This is useful for easier data access and further operations if needed."
   ]
  },
  {
   "cell_type": "code",
   "execution_count": 30,
   "metadata": {
    "id": "H1AqN2eG0q1H"
   },
   "outputs": [
    {
     "data": {
      "text/html": [
       "<div>\n",
       "<style scoped>\n",
       "    .dataframe tbody tr th:only-of-type {\n",
       "        vertical-align: middle;\n",
       "    }\n",
       "\n",
       "    .dataframe tbody tr th {\n",
       "        vertical-align: top;\n",
       "    }\n",
       "\n",
       "    .dataframe thead th {\n",
       "        text-align: right;\n",
       "    }\n",
       "</style>\n",
       "<table border=\"1\" class=\"dataframe\">\n",
       "  <thead>\n",
       "    <tr style=\"text-align: right;\">\n",
       "      <th></th>\n",
       "      <th>user_id</th>\n",
       "      <th>month</th>\n",
       "      <th>mb_used</th>\n",
       "    </tr>\n",
       "  </thead>\n",
       "  <tbody>\n",
       "    <tr>\n",
       "      <th>0</th>\n",
       "      <td>1000</td>\n",
       "      <td>December</td>\n",
       "      <td>1901.47</td>\n",
       "    </tr>\n",
       "    <tr>\n",
       "      <th>1</th>\n",
       "      <td>1001</td>\n",
       "      <td>August</td>\n",
       "      <td>6919.15</td>\n",
       "    </tr>\n",
       "    <tr>\n",
       "      <th>2</th>\n",
       "      <td>1001</td>\n",
       "      <td>December</td>\n",
       "      <td>19369.18</td>\n",
       "    </tr>\n",
       "    <tr>\n",
       "      <th>3</th>\n",
       "      <td>1001</td>\n",
       "      <td>November</td>\n",
       "      <td>18504.30</td>\n",
       "    </tr>\n",
       "    <tr>\n",
       "      <th>4</th>\n",
       "      <td>1001</td>\n",
       "      <td>October</td>\n",
       "      <td>22330.49</td>\n",
       "    </tr>\n",
       "    <tr>\n",
       "      <th>...</th>\n",
       "      <td>...</td>\n",
       "      <td>...</td>\n",
       "      <td>...</td>\n",
       "    </tr>\n",
       "    <tr>\n",
       "      <th>2272</th>\n",
       "      <td>1498</td>\n",
       "      <td>September</td>\n",
       "      <td>22827.28</td>\n",
       "    </tr>\n",
       "    <tr>\n",
       "      <th>2273</th>\n",
       "      <td>1499</td>\n",
       "      <td>December</td>\n",
       "      <td>22059.21</td>\n",
       "    </tr>\n",
       "    <tr>\n",
       "      <th>2274</th>\n",
       "      <td>1499</td>\n",
       "      <td>November</td>\n",
       "      <td>16813.83</td>\n",
       "    </tr>\n",
       "    <tr>\n",
       "      <th>2275</th>\n",
       "      <td>1499</td>\n",
       "      <td>October</td>\n",
       "      <td>19492.43</td>\n",
       "    </tr>\n",
       "    <tr>\n",
       "      <th>2276</th>\n",
       "      <td>1499</td>\n",
       "      <td>September</td>\n",
       "      <td>12984.76</td>\n",
       "    </tr>\n",
       "  </tbody>\n",
       "</table>\n",
       "<p>2277 rows × 3 columns</p>\n",
       "</div>"
      ],
      "text/plain": [
       "      user_id      month   mb_used\n",
       "0        1000   December   1901.47\n",
       "1        1001     August   6919.15\n",
       "2        1001   December  19369.18\n",
       "3        1001   November  18504.30\n",
       "4        1001    October  22330.49\n",
       "...       ...        ...       ...\n",
       "2272     1498  September  22827.28\n",
       "2273     1499   December  22059.21\n",
       "2274     1499   November  16813.83\n",
       "2275     1499    October  19492.43\n",
       "2276     1499  September  12984.76\n",
       "\n",
       "[2277 rows x 3 columns]"
      ]
     },
     "metadata": {},
     "output_type": "display_data"
    }
   ],
   "source": [
    "# Calculate the internet traffic volume used by each user per month. Save the result.\n",
    "traffic_per_user_per_month = df_internet.groupby(['user_id', 'month'])['mb_used'].sum().reset_index()\n",
    "display(traffic_per_user_per_month)\n",
    "\n",
    "# Use the same methodology as the previous step but with the df_internet since it contains the data to query"
   ]
  },
  {
   "cell_type": "markdown",
   "metadata": {
    "id": "VDfYXnj80q1H"
   },
   "source": [
    "We combined the aggregated data into a DataFrame so that there is a record representing what a unique user consumed in a given month."
   ]
  },
  {
   "cell_type": "code",
   "execution_count": 31,
   "metadata": {
    "id": "FW99ykyf0q1H"
   },
   "outputs": [
    {
     "data": {
      "text/html": [
       "<div>\n",
       "<style scoped>\n",
       "    .dataframe tbody tr th:only-of-type {\n",
       "        vertical-align: middle;\n",
       "    }\n",
       "\n",
       "    .dataframe tbody tr th {\n",
       "        vertical-align: top;\n",
       "    }\n",
       "\n",
       "    .dataframe thead th {\n",
       "        text-align: right;\n",
       "    }\n",
       "</style>\n",
       "<table border=\"1\" class=\"dataframe\">\n",
       "  <thead>\n",
       "    <tr style=\"text-align: right;\">\n",
       "      <th></th>\n",
       "      <th>user_id</th>\n",
       "      <th>month</th>\n",
       "      <th>call_count</th>\n",
       "      <th>total_minutes</th>\n",
       "      <th>message_count</th>\n",
       "      <th>mb_used</th>\n",
       "    </tr>\n",
       "  </thead>\n",
       "  <tbody>\n",
       "    <tr>\n",
       "      <th>0</th>\n",
       "      <td>1000</td>\n",
       "      <td>December</td>\n",
       "      <td>16.0</td>\n",
       "      <td>117.0</td>\n",
       "      <td>121.0</td>\n",
       "      <td>1901.47</td>\n",
       "    </tr>\n",
       "    <tr>\n",
       "      <th>1</th>\n",
       "      <td>1001</td>\n",
       "      <td>August</td>\n",
       "      <td>27.0</td>\n",
       "      <td>173.0</td>\n",
       "      <td>6210.0</td>\n",
       "      <td>6919.15</td>\n",
       "    </tr>\n",
       "    <tr>\n",
       "      <th>2</th>\n",
       "      <td>1001</td>\n",
       "      <td>December</td>\n",
       "      <td>56.0</td>\n",
       "      <td>394.0</td>\n",
       "      <td>9108.0</td>\n",
       "      <td>19369.18</td>\n",
       "    </tr>\n",
       "    <tr>\n",
       "      <th>3</th>\n",
       "      <td>1001</td>\n",
       "      <td>November</td>\n",
       "      <td>64.0</td>\n",
       "      <td>404.0</td>\n",
       "      <td>7452.0</td>\n",
       "      <td>18504.30</td>\n",
       "    </tr>\n",
       "    <tr>\n",
       "      <th>4</th>\n",
       "      <td>1001</td>\n",
       "      <td>October</td>\n",
       "      <td>65.0</td>\n",
       "      <td>374.0</td>\n",
       "      <td>10971.0</td>\n",
       "      <td>22330.49</td>\n",
       "    </tr>\n",
       "  </tbody>\n",
       "</table>\n",
       "</div>"
      ],
      "text/plain": [
       "   user_id     month  call_count  total_minutes  message_count   mb_used\n",
       "0     1000  December        16.0          117.0          121.0   1901.47\n",
       "1     1001    August        27.0          173.0         6210.0   6919.15\n",
       "2     1001  December        56.0          394.0         9108.0  19369.18\n",
       "3     1001  November        64.0          404.0         7452.0  18504.30\n",
       "4     1001   October        65.0          374.0        10971.0  22330.49"
      ]
     },
     "metadata": {},
     "output_type": "display_data"
    }
   ],
   "source": [
    "# Merge call, minute, message, and internet data based on user_id and month\n",
    "# This time we will perform the calculation one by one:\n",
    "\n",
    "# Merge the Calls and Minutes DataFrames\n",
    "calls_minutes = pd.merge(calls_per_user_per_month, minutes_per_user_per_month, on=['user_id', 'month'], how='outer')\n",
    "\n",
    "# Merge the resulting DataFrame with the Messages DataFrame\n",
    "calls_minutes_messages = pd.merge(calls_minutes, messages_per_user_per_month, on=['user_id', 'month'], how='outer')\n",
    "\n",
    "# Merge the resulting DataFrame with the Internet DataFrame\n",
    "calls_minutes_messages_traffic_per_user_per_month = pd.merge(calls_minutes_messages, traffic_per_user_per_month, on=['user_id', 'month'], how='outer')\n",
    "\n",
    "# The final DataFrame will contain all columns merged based on user_id and month\n",
    "display(calls_minutes_messages_traffic_per_user_per_month.head())\n"
   ]
  },
  {
   "cell_type": "code",
   "execution_count": 32,
   "metadata": {
    "id": "0dNOXHag0q1H"
   },
   "outputs": [
    {
     "data": {
      "text/html": [
       "<div>\n",
       "<style scoped>\n",
       "    .dataframe tbody tr th:only-of-type {\n",
       "        vertical-align: middle;\n",
       "    }\n",
       "\n",
       "    .dataframe tbody tr th {\n",
       "        vertical-align: top;\n",
       "    }\n",
       "\n",
       "    .dataframe thead th {\n",
       "        text-align: right;\n",
       "    }\n",
       "</style>\n",
       "<table border=\"1\" class=\"dataframe\">\n",
       "  <thead>\n",
       "    <tr style=\"text-align: right;\">\n",
       "      <th></th>\n",
       "      <th>user_id</th>\n",
       "      <th>month</th>\n",
       "      <th>call_count</th>\n",
       "      <th>total_minutes</th>\n",
       "      <th>message_count</th>\n",
       "      <th>mb_used</th>\n",
       "      <th>first_name</th>\n",
       "      <th>last_name</th>\n",
       "      <th>age</th>\n",
       "      <th>city</th>\n",
       "      <th>...</th>\n",
       "      <th>reg_month</th>\n",
       "      <th>messages_included</th>\n",
       "      <th>mb_per_month_included</th>\n",
       "      <th>minutes_included</th>\n",
       "      <th>usd_monthly_pay</th>\n",
       "      <th>usd_per_gb</th>\n",
       "      <th>usd_per_message</th>\n",
       "      <th>usd_per_minute</th>\n",
       "      <th>usd_per_mb</th>\n",
       "      <th>annual_fee</th>\n",
       "    </tr>\n",
       "  </thead>\n",
       "  <tbody>\n",
       "    <tr>\n",
       "      <th>0</th>\n",
       "      <td>1000</td>\n",
       "      <td>December</td>\n",
       "      <td>16.0</td>\n",
       "      <td>117.0</td>\n",
       "      <td>121.0</td>\n",
       "      <td>1901.47</td>\n",
       "      <td>Anamaria</td>\n",
       "      <td>Bauer</td>\n",
       "      <td>45</td>\n",
       "      <td>Atlanta-Sandy Springs-Roswell, GA MSA</td>\n",
       "      <td>...</td>\n",
       "      <td>12</td>\n",
       "      <td>1000</td>\n",
       "      <td>30720</td>\n",
       "      <td>3000</td>\n",
       "      <td>70</td>\n",
       "      <td>7</td>\n",
       "      <td>0.01</td>\n",
       "      <td>0.01</td>\n",
       "      <td>0.006836</td>\n",
       "      <td>840</td>\n",
       "    </tr>\n",
       "    <tr>\n",
       "      <th>1</th>\n",
       "      <td>1006</td>\n",
       "      <td>December</td>\n",
       "      <td>9.0</td>\n",
       "      <td>54.0</td>\n",
       "      <td>21406.0</td>\n",
       "      <td>32118.82</td>\n",
       "      <td>Jesusa</td>\n",
       "      <td>Bradford</td>\n",
       "      <td>73</td>\n",
       "      <td>San Francisco-Oakland-Berkeley, CA MSA</td>\n",
       "      <td>...</td>\n",
       "      <td>11</td>\n",
       "      <td>1000</td>\n",
       "      <td>30720</td>\n",
       "      <td>3000</td>\n",
       "      <td>70</td>\n",
       "      <td>7</td>\n",
       "      <td>0.01</td>\n",
       "      <td>0.01</td>\n",
       "      <td>0.006836</td>\n",
       "      <td>840</td>\n",
       "    </tr>\n",
       "    <tr>\n",
       "      <th>2</th>\n",
       "      <td>1006</td>\n",
       "      <td>November</td>\n",
       "      <td>2.0</td>\n",
       "      <td>10.0</td>\n",
       "      <td>2310.0</td>\n",
       "      <td>2068.37</td>\n",
       "      <td>Jesusa</td>\n",
       "      <td>Bradford</td>\n",
       "      <td>73</td>\n",
       "      <td>San Francisco-Oakland-Berkeley, CA MSA</td>\n",
       "      <td>...</td>\n",
       "      <td>11</td>\n",
       "      <td>1000</td>\n",
       "      <td>30720</td>\n",
       "      <td>3000</td>\n",
       "      <td>70</td>\n",
       "      <td>7</td>\n",
       "      <td>0.01</td>\n",
       "      <td>0.01</td>\n",
       "      <td>0.006836</td>\n",
       "      <td>840</td>\n",
       "    </tr>\n",
       "  </tbody>\n",
       "</table>\n",
       "<p>3 rows × 26 columns</p>\n",
       "</div>"
      ],
      "text/plain": [
       "   user_id     month  call_count  total_minutes  message_count   mb_used  \\\n",
       "0     1000  December        16.0          117.0          121.0   1901.47   \n",
       "1     1006  December         9.0           54.0        21406.0  32118.82   \n",
       "2     1006  November         2.0           10.0         2310.0   2068.37   \n",
       "\n",
       "  first_name last_name  age                                    city  ...  \\\n",
       "0   Anamaria     Bauer   45   Atlanta-Sandy Springs-Roswell, GA MSA  ...   \n",
       "1     Jesusa  Bradford   73  San Francisco-Oakland-Berkeley, CA MSA  ...   \n",
       "2     Jesusa  Bradford   73  San Francisco-Oakland-Berkeley, CA MSA  ...   \n",
       "\n",
       "  reg_month messages_included mb_per_month_included  minutes_included  \\\n",
       "0        12              1000                 30720              3000   \n",
       "1        11              1000                 30720              3000   \n",
       "2        11              1000                 30720              3000   \n",
       "\n",
       "  usd_monthly_pay  usd_per_gb  usd_per_message  usd_per_minute  usd_per_mb  \\\n",
       "0              70           7             0.01            0.01    0.006836   \n",
       "1              70           7             0.01            0.01    0.006836   \n",
       "2              70           7             0.01            0.01    0.006836   \n",
       "\n",
       "   annual_fee  \n",
       "0         840  \n",
       "1         840  \n",
       "2         840  \n",
       "\n",
       "[3 rows x 26 columns]"
      ]
     },
     "metadata": {},
     "output_type": "display_data"
    }
   ],
   "source": [
    "# Add the rate information\n",
    "\n",
    "# Merge the merged data with the rate information based on the plan\n",
    "user_consumption_per_month = calls_minutes_messages_traffic_per_user_per_month.merge(df_users, on='user_id', how='outer') \\\n",
    "                    .merge(df_plans, left_on='plan', right_on='plan_name', how='outer')\n",
    "\n",
    "# Delete the plan_name column as it is no longer needed\n",
    "user_consumption_per_month.drop(columns=['plan_name'], inplace=True)\n",
    "\n",
    "display(user_consumption_per_month.head(3))"
   ]
  },
  {
   "cell_type": "markdown",
   "metadata": {},
   "source": [
    "**Note**\n",
    "\n",
    "Add tariff information:\n",
    "\n",
    "**calls_minutes_messages_traffic_per_user_per_month.merge(df_users, on='user_id', how='outer')**: This part merges the monthly consumption data per user (**calls_minutes_messages_traffic_per_user_per_month**) with the user data (**df_users**) using the **merge()** method.  \n",
    "**on='user_id'**: This indicates that the merge will be performed on the **'user_id'** column, which seems to be a primary key in both datasets and serves as the join key.  \n",
    "**how='outer'**: This indicates that all rows from both datasets will be kept, even if they don't have a match in the other. This means that the merge will be of type **\"outer\"**, resulting in a DataFrame containing all combinations of rows from both original DataFrames, and unmatched rows will be filled with **NaN (null values)**.\n",
    "\n",
    "Add tariff information based on the plan:\n",
    "\n",
    "**.merge(df_plans, left_on='plan', right_on='plan_name', how='outer')**: After the first merge, the result is merged again with the plan data (**df_plans**).  \n",
    "**left_on='plan'** and **right_on='plan_name'**: These parameters indicate that the merge will be performed on the **'plan'** column from **user_consumption_per_month** and the **'plan_name'** column from **df_plans**, respectively, as they contain the same information but with different column names.  \n",
    "**how='outer'**: As with the first merge, this indicates an **\"outer\"** merge, keeping all rows from both datasets even if they don't have a match in the other.\n",
    "\n",
    "Finally, the **'plan_name'** column is removed from **user_consumption_per_month** using the **.drop()** method with the parameter **columns=['plan_name']**.  \n",
    "The **inplace=True** parameter indicates that the deletion is done in place, meaning it modifies the existing DataFrame rather than returning a modified copy."
   ]
  },
  {
   "cell_type": "code",
   "execution_count": 33,
   "metadata": {
    "id": "5FGCf_c60q1I"
   },
   "outputs": [
    {
     "data": {
      "text/html": [
       "<div>\n",
       "<style scoped>\n",
       "    .dataframe tbody tr th:only-of-type {\n",
       "        vertical-align: middle;\n",
       "    }\n",
       "\n",
       "    .dataframe tbody tr th {\n",
       "        vertical-align: top;\n",
       "    }\n",
       "\n",
       "    .dataframe thead th {\n",
       "        text-align: right;\n",
       "    }\n",
       "</style>\n",
       "<table border=\"1\" class=\"dataframe\">\n",
       "  <thead>\n",
       "    <tr style=\"text-align: right;\">\n",
       "      <th></th>\n",
       "      <th>user_id</th>\n",
       "      <th>month</th>\n",
       "      <th>monthly_revenue</th>\n",
       "    </tr>\n",
       "  </thead>\n",
       "  <tbody>\n",
       "    <tr>\n",
       "      <th>0</th>\n",
       "      <td>1000</td>\n",
       "      <td>December</td>\n",
       "      <td>70.000000</td>\n",
       "    </tr>\n",
       "    <tr>\n",
       "      <th>1</th>\n",
       "      <td>1006</td>\n",
       "      <td>December</td>\n",
       "      <td>283.622246</td>\n",
       "    </tr>\n",
       "    <tr>\n",
       "      <th>2</th>\n",
       "      <td>1006</td>\n",
       "      <td>November</td>\n",
       "      <td>83.100000</td>\n",
       "    </tr>\n",
       "    <tr>\n",
       "      <th>3</th>\n",
       "      <td>1008</td>\n",
       "      <td>December</td>\n",
       "      <td>81.840000</td>\n",
       "    </tr>\n",
       "    <tr>\n",
       "      <th>4</th>\n",
       "      <td>1008</td>\n",
       "      <td>November</td>\n",
       "      <td>91.080000</td>\n",
       "    </tr>\n",
       "    <tr>\n",
       "      <th>...</th>\n",
       "      <td>...</td>\n",
       "      <td>...</td>\n",
       "      <td>...</td>\n",
       "    </tr>\n",
       "    <tr>\n",
       "      <th>2298</th>\n",
       "      <td>1143</td>\n",
       "      <td>NaN</td>\n",
       "      <td>NaN</td>\n",
       "    </tr>\n",
       "    <tr>\n",
       "      <th>2299</th>\n",
       "      <td>1307</td>\n",
       "      <td>NaN</td>\n",
       "      <td>NaN</td>\n",
       "    </tr>\n",
       "    <tr>\n",
       "      <th>2300</th>\n",
       "      <td>1319</td>\n",
       "      <td>NaN</td>\n",
       "      <td>NaN</td>\n",
       "    </tr>\n",
       "    <tr>\n",
       "      <th>2301</th>\n",
       "      <td>1378</td>\n",
       "      <td>NaN</td>\n",
       "      <td>NaN</td>\n",
       "    </tr>\n",
       "    <tr>\n",
       "      <th>2302</th>\n",
       "      <td>1473</td>\n",
       "      <td>NaN</td>\n",
       "      <td>NaN</td>\n",
       "    </tr>\n",
       "  </tbody>\n",
       "</table>\n",
       "<p>2303 rows × 3 columns</p>\n",
       "</div>"
      ],
      "text/plain": [
       "      user_id     month  monthly_revenue\n",
       "0        1000  December        70.000000\n",
       "1        1006  December       283.622246\n",
       "2        1006  November        83.100000\n",
       "3        1008  December        81.840000\n",
       "4        1008  November        91.080000\n",
       "...       ...       ...              ...\n",
       "2298     1143       NaN              NaN\n",
       "2299     1307       NaN              NaN\n",
       "2300     1319       NaN              NaN\n",
       "2301     1378       NaN              NaN\n",
       "2302     1473       NaN              NaN\n",
       "\n",
       "[2303 rows x 3 columns]"
      ]
     },
     "metadata": {},
     "output_type": "display_data"
    }
   ],
   "source": [
    "# Create new columns with the calculation of excess calls, messages, and data\n",
    "user_consumption_per_month['excess_calls'] = user_consumption_per_month['call_count'] - user_consumption_per_month['minutes_included']\n",
    "user_consumption_per_month['excess_messages'] = user_consumption_per_month['message_count'] - user_consumption_per_month['messages_included']\n",
    "user_consumption_per_month['excess_data'] = user_consumption_per_month['mb_used'] - user_consumption_per_month['mb_per_month_included']\n",
    "\n",
    "# Set negative values to 0 using the numpy library\n",
    "user_consumption_per_month['excess_calls'] = np.where(user_consumption_per_month['excess_calls'] < 0, 0, user_consumption_per_month['excess_calls'])\n",
    "user_consumption_per_month['excess_messages'] = np.where(user_consumption_per_month['excess_messages'] < 0, 0, user_consumption_per_month['excess_messages'])\n",
    "user_consumption_per_month['excess_data'] = np.where(user_consumption_per_month['excess_data'] < 0, 0, user_consumption_per_month['excess_data'])\n",
    "\n",
    "# Create and calculate the monthly revenue per user (calculate the USD amount of excess minutes, messages, and data and sum each with the monthly payment) \n",
    "user_consumption_per_month['monthly_revenue'] = (user_consumption_per_month['excess_calls'] * user_consumption_per_month['usd_per_minute'] +\n",
    "                                                user_consumption_per_month['excess_messages'] * user_consumption_per_month['usd_per_message'] +\n",
    "                                                user_consumption_per_month['excess_data'] / 1024 * user_consumption_per_month['usd_per_gb'] +\n",
    "                                                user_consumption_per_month['usd_monthly_pay'])\n",
    "\n",
    "# Show the DataFrame with the monthly revenue per user\n",
    "display(user_consumption_per_month[['user_id', 'month', 'monthly_revenue']])"
   ]
  },
  {
   "cell_type": "markdown",
   "metadata": {
    "id": "vtW4CJEe0q1J"
   },
   "source": [
    "**Note**\n",
    "\n",
    "Excess calculation for calls, messages, and data:\n",
    "\n",
    "* New columns are created in the **user_consumption_per_month** DataFrame to calculate the excess for calls, messages, and data, respectively.\n",
    "For calls, the number of minutes included in the plan (**minutes_included**) is subtracted from the actual number of minutes used (**call_count**).\n",
    "For messages, a similar operation is performed by subtracting the number of messages included in the plan (**messages_included**) from the actual number of messages sent (**message_count**).\n",
    "For data, the number of megabytes included in the plan (**mb_per_month_included**) is subtracted from the actual number of megabytes used (**mb_used**).\n",
    "\n",
    "**user_consumption_per_month['excess_calls']**: This part of the line indicates that a new column called **'excess_calls'** will be created in the **user_consumption_per_month** DataFrame, where the results of the calculation will be stored.\n",
    "\n",
    "**user_consumption_per_month['call_count']**: This represents the number of calls made by each user in the month, which is already present in the DataFrame.\n",
    "\n",
    "**user_consumption_per_month['minutes_included']**: This part represents the number of minutes included in the user's plan for that month. This information is also present in the DataFrame and refers to the limit of minutes allowed within the monthly plan.\n",
    "\n",
    "* The **np.where()** function from the NumPy library is used to set negative values of the excess columns to 0. This means that if the excess is negative, i.e., if the user does not exceed their limit, it is set to 0.\n",
    "\n",
    "**user_consumption_per_month['excess_calls']**: Refers to the **'excess_calls'** column in the **user_consumption_per_month** DataFrame, where the results will be stored.\n",
    "\n",
    "**np.where()**: A NumPy function that returns elements from the first array if the condition is True, and elements from the second array if the condition is False.\n",
    "\n",
    "**user_consumption_per_month['excess_calls'] < 0**: The condition being evaluated. It checks if the value in each row of the **'excess_calls'** column is less than 0.\n",
    "\n",
    "**0**: The value assigned if the condition is True, meaning if the excess calls are negative.\n",
    "\n",
    "**user_consumption_per_month['excess_calls']**: The value assigned if the condition is False, meaning if the excess calls are greater than or equal to **0**. In this case, the original value is not modified.\n",
    "\n",
    "* A new column called **'monthly_revenue'** is created in the **user_consumption_per_month** DataFrame.\n",
    "The monthly revenue is calculated by adding the cost of excess calls, messages, and data to the monthly plan payment.\n",
    "For calls, the excess calls (**excess_calls**) are multiplied by the cost per minute (**usd_per_minute**).\n",
    "For messages, the excess messages (**excess_messages**) are multiplied by the cost per message (**usd_per_message**).\n",
    "For data, the excess data (**excess_data**) is divided by 1024 (**to convert it from megabytes to gigabytes**) and then multiplied by the cost per gigabyte (**usd_per_gb**). This assumes that the cost per gigabyte is given in terms of megabytes in the original DataFrame.\n",
    "Finally, the fixed monthly plan cost (**usd_monthly_pay**) is added.\n",
    "\n",
    "## Study user behavior\n",
    "\n",
    "### Calls"
   ]
  },
  {
   "cell_type": "code",
   "execution_count": 34,
   "metadata": {},
   "outputs": [
    {
     "name": "stdout",
     "output_type": "stream",
     "text": [
      "<class 'pandas.core.frame.DataFrame'>\n",
      "Int64Index: 2303 entries, 0 to 2302\n",
      "Data columns (total 30 columns):\n",
      " #   Column                 Non-Null Count  Dtype         \n",
      "---  ------                 --------------  -----         \n",
      " 0   user_id                2303 non-null   int64         \n",
      " 1   month                  2293 non-null   object        \n",
      " 2   call_count             2258 non-null   float64       \n",
      " 3   total_minutes          2258 non-null   float64       \n",
      " 4   message_count          1806 non-null   float64       \n",
      " 5   mb_used                2277 non-null   float64       \n",
      " 6   first_name             2303 non-null   object        \n",
      " 7   last_name              2303 non-null   object        \n",
      " 8   age                    2303 non-null   int64         \n",
      " 9   city                   2303 non-null   object        \n",
      " 10  reg_date               2303 non-null   datetime64[ns]\n",
      " 11  plan                   2303 non-null   object        \n",
      " 12  churn_date             160 non-null    datetime64[ns]\n",
      " 13  subscription_duration  2303 non-null   int64         \n",
      " 14  subscription_status    2303 non-null   object        \n",
      " 15  reg_year               2303 non-null   int64         \n",
      " 16  reg_month              2303 non-null   int64         \n",
      " 17  messages_included      2303 non-null   int64         \n",
      " 18  mb_per_month_included  2303 non-null   int64         \n",
      " 19  minutes_included       2303 non-null   int64         \n",
      " 20  usd_monthly_pay        2303 non-null   int64         \n",
      " 21  usd_per_gb             2303 non-null   int64         \n",
      " 22  usd_per_message        2303 non-null   float64       \n",
      " 23  usd_per_minute         2303 non-null   float64       \n",
      " 24  usd_per_mb             2303 non-null   float64       \n",
      " 25  annual_fee             2303 non-null   int64         \n",
      " 26  excess_calls           2258 non-null   float64       \n",
      " 27  excess_messages        1806 non-null   float64       \n",
      " 28  excess_data            2277 non-null   float64       \n",
      " 29  monthly_revenue        1759 non-null   float64       \n",
      "dtypes: datetime64[ns](2), float64(11), int64(11), object(6)\n",
      "memory usage: 557.8+ KB\n"
     ]
    }
   ],
   "source": [
    "user_consumption_per_month.info()"
   ]
  },
  {
   "cell_type": "code",
   "execution_count": 35,
   "metadata": {
    "id": "Jf5v5--k0q1J"
   },
   "outputs": [
    {
     "data": {
      "text/html": [
       "<div>\n",
       "<style scoped>\n",
       "    .dataframe tbody tr th:only-of-type {\n",
       "        vertical-align: middle;\n",
       "    }\n",
       "\n",
       "    .dataframe tbody tr th {\n",
       "        vertical-align: top;\n",
       "    }\n",
       "\n",
       "    .dataframe thead th {\n",
       "        text-align: right;\n",
       "    }\n",
       "</style>\n",
       "<table border=\"1\" class=\"dataframe\">\n",
       "  <thead>\n",
       "    <tr style=\"text-align: right;\">\n",
       "      <th></th>\n",
       "      <th>plan</th>\n",
       "      <th>month</th>\n",
       "      <th>total_minutes</th>\n",
       "    </tr>\n",
       "  </thead>\n",
       "  <tbody>\n",
       "    <tr>\n",
       "      <th>0</th>\n",
       "      <td>surf</td>\n",
       "      <td>April</td>\n",
       "      <td>332.460000</td>\n",
       "    </tr>\n",
       "    <tr>\n",
       "      <th>1</th>\n",
       "      <td>surf</td>\n",
       "      <td>August</td>\n",
       "      <td>394.371069</td>\n",
       "    </tr>\n",
       "    <tr>\n",
       "      <th>2</th>\n",
       "      <td>surf</td>\n",
       "      <td>December</td>\n",
       "      <td>457.318328</td>\n",
       "    </tr>\n",
       "    <tr>\n",
       "      <th>3</th>\n",
       "      <td>surf</td>\n",
       "      <td>February</td>\n",
       "      <td>281.111111</td>\n",
       "    </tr>\n",
       "    <tr>\n",
       "      <th>4</th>\n",
       "      <td>surf</td>\n",
       "      <td>January</td>\n",
       "      <td>193.000000</td>\n",
       "    </tr>\n",
       "  </tbody>\n",
       "</table>\n",
       "</div>"
      ],
      "text/plain": [
       "   plan     month  total_minutes\n",
       "0  surf     April     332.460000\n",
       "1  surf    August     394.371069\n",
       "2  surf  December     457.318328\n",
       "3  surf  February     281.111111\n",
       "4  surf   January     193.000000"
      ]
     },
     "metadata": {},
     "output_type": "display_data"
    }
   ],
   "source": [
    "# Compare the average call duration for each plan and each month. Plot a bar chart to visualize it.\n",
    "\n",
    "# Calculate the average call duration for each plan and each month\n",
    "average_call_duration = user_consumption_per_month.groupby(['plan', 'month'])['total_minutes'].mean().reset_index()\n",
    "\n",
    "# Print the result\n",
    "display(average_call_duration.head())"
   ]
  },
  {
   "cell_type": "code",
   "execution_count": 36,
   "metadata": {
    "scrolled": true
   },
   "outputs": [
    {
     "data": {
      "image/png": "[encoded data removed]",
      "text/plain": [
       "<Figure size 1200x600 with 1 Axes>"
      ]
     },
     "metadata": {},
     "output_type": "display_data"
    }
   ],
   "source": [
    "# Use pivot_table (pivot table) to organize the data in a format suitable for the chart\n",
    "average_call_duration_pivot = average_call_duration.pivot_table(index='month', columns='plan', values='total_minutes')\n",
    "\n",
    "# Plot a bar chart to visualize the average call duration for each plan and each month\n",
    "average_call_duration_pivot.plot(\n",
    "                           kind='bar', \n",
    "                           figsize=(12, 6),\n",
    "                           title='Duración Promedio de Llamadas por Plan y Mes',\n",
    "                           xlabel= 'Mes',\n",
    "                           ylabel='Duración promedio (minutos)',\n",
    "                           rot=90,\n",
    "                           legend=True\n",
    "                          )\n",
    "# Print the chart\n",
    "plt.show()"
   ]
  },
  {
   "cell_type": "code",
   "execution_count": 37,
   "metadata": {
    "id": "QoLqW1S_0q1J"
   },
   "outputs": [
    {
     "data": {
      "image/png": "[encoded data removed]",
      "text/plain": [
       "<Figure size 1000x800 with 1 Axes>"
      ]
     },
     "metadata": {},
     "output_type": "display_data"
    }
   ],
   "source": [
    "# Compare the monthly minutes required by users of each plan. Plot a histogram.\n",
    "\n",
    "# Filter the data by plan\n",
    "plan_ultimate = user_consumption_per_month[user_consumption_per_month['plan'] == 'ultimate']['total_minutes']\n",
    "plan_surf = user_consumption_per_month[user_consumption_per_month['plan'] == 'surf']['total_minutes']\n",
    "\n",
    "plan_surf.plot(\n",
    "                           kind= 'hist', \n",
    "                           bins= 50,\n",
    "                           title= 'Distribucion de minutos por plan',\n",
    "                           ylabel= 'Frecuency',\n",
    "                           xlabel= 'Minutos mensuales',\n",
    "                           color= 'green',\n",
    "                           alpha= 0.7,\n",
    "                           figsize=[10,8]\n",
    "                          )\n",
    "\n",
    "plan_ultimate.plot(\n",
    "                           kind= 'hist', \n",
    "                           bins= 50,\n",
    "                           color= 'red',\n",
    "                           alpha= 0.7\n",
    "                          )\n",
    "\n",
    "plt.legend(['ultimate','surf'])\n",
    "\n",
    "# Print the chart\n",
    "plt.show()"
   ]
  },
  {
   "cell_type": "markdown",
   "metadata": {
    "id": "bLS9T8OH0q1K"
   },
   "source": [
    "We calculate the mean and variance of the call duration to find out if users of different plans behave differently when making their calls."
   ]
  },
  {
   "cell_type": "code",
   "execution_count": 38,
   "metadata": {
    "id": "oSndbAnt0q1K"
   },
   "outputs": [
    {
     "name": "stdout",
     "output_type": "stream",
     "text": [
      "Media de duración mensual de llamadas:\n",
      "month\n",
      "April        327.577465\n",
      "August       395.139130\n",
      "December     451.267391\n",
      "February     345.800000\n",
      "January      186.666667\n",
      "July         420.027933\n",
      "June         396.439716\n",
      "March        302.257143\n",
      "May          385.894231\n",
      "November     413.094293\n",
      "October      419.094955\n",
      "September    402.050542\n",
      "Name: mean, dtype: float64\n",
      "\n",
      "-----------------------------------\n",
      "\n",
      "Varianza de duración mensual de llamadas:\n",
      "month\n",
      "April        40837.904628\n",
      "August       46686.644314\n",
      "December     53644.954490\n",
      "February     50952.028571\n",
      "January      12117.466667\n",
      "July         56889.678991\n",
      "June         37791.190983\n",
      "March        38315.078992\n",
      "May          47091.318801\n",
      "November     46507.622928\n",
      "October      44912.729052\n",
      "September    43064.924973\n",
      "Name: var, dtype: float64\n"
     ]
    },
    {
     "data": {
      "text/html": [
       "<div>\n",
       "<style scoped>\n",
       "    .dataframe tbody tr th:only-of-type {\n",
       "        vertical-align: middle;\n",
       "    }\n",
       "\n",
       "    .dataframe tbody tr th {\n",
       "        vertical-align: top;\n",
       "    }\n",
       "\n",
       "    .dataframe thead th {\n",
       "        text-align: right;\n",
       "    }\n",
       "</style>\n",
       "<table border=\"1\" class=\"dataframe\">\n",
       "  <thead>\n",
       "    <tr style=\"text-align: right;\">\n",
       "      <th></th>\n",
       "      <th>mean</th>\n",
       "      <th>var</th>\n",
       "    </tr>\n",
       "    <tr>\n",
       "      <th>month</th>\n",
       "      <th></th>\n",
       "      <th></th>\n",
       "    </tr>\n",
       "  </thead>\n",
       "  <tbody>\n",
       "    <tr>\n",
       "      <th>April</th>\n",
       "      <td>327.577465</td>\n",
       "      <td>40837.904628</td>\n",
       "    </tr>\n",
       "    <tr>\n",
       "      <th>August</th>\n",
       "      <td>395.139130</td>\n",
       "      <td>46686.644314</td>\n",
       "    </tr>\n",
       "    <tr>\n",
       "      <th>December</th>\n",
       "      <td>451.267391</td>\n",
       "      <td>53644.954490</td>\n",
       "    </tr>\n",
       "    <tr>\n",
       "      <th>February</th>\n",
       "      <td>345.800000</td>\n",
       "      <td>50952.028571</td>\n",
       "    </tr>\n",
       "    <tr>\n",
       "      <th>January</th>\n",
       "      <td>186.666667</td>\n",
       "      <td>12117.466667</td>\n",
       "    </tr>\n",
       "  </tbody>\n",
       "</table>\n",
       "</div>"
      ],
      "text/plain": [
       "                mean           var\n",
       "month                             \n",
       "April     327.577465  40837.904628\n",
       "August    395.139130  46686.644314\n",
       "December  451.267391  53644.954490\n",
       "February  345.800000  50952.028571\n",
       "January   186.666667  12117.466667"
      ]
     },
     "metadata": {},
     "output_type": "display_data"
    }
   ],
   "source": [
    "# Calculate the mean and variance of the monthly call duration.\n",
    "\n",
    "# Group by month and calculate the mean and variance of the call duration\n",
    "monthly_call_duration_stats = user_consumption_per_month.groupby('month')['total_minutes'].agg(['mean', 'var'])\n",
    "\n",
    "# Print the results\n",
    "print(\"Media de duración mensual de llamadas:\")\n",
    "print(monthly_call_duration_stats['mean'])\n",
    "print()\n",
    "print('-----------------------------------')\n",
    "print()\n",
    "print(\"Varianza de duración mensual de llamadas:\")\n",
    "print(monthly_call_duration_stats['var'])\n",
    "\n",
    "display(monthly_call_duration_stats.head())"
   ]
  },
  {
   "cell_type": "code",
   "execution_count": 39,
   "metadata": {
    "id": "nZzoRUKc0q1K"
   },
   "outputs": [
    {
     "data": {
      "image/png": "[encoded data removed]",
      "text/plain": [
       "<Figure size 640x480 with 1 Axes>"
      ]
     },
     "metadata": {},
     "output_type": "display_data"
    }
   ],
   "source": [
    "# Plot a boxplot to visualize the distribution of the monthly call duration\n",
    "\n",
    "# Create the boxplot\n",
    "user_consumption_per_month.boxplot(column='total_minutes',\n",
    "                                  grid= False)\n",
    "\n",
    "# Show the boxplot\n",
    "plt.show()\n"
   ]
  },
  {
   "cell_type": "markdown",
   "metadata": {},
   "source": [
    "R/ \n",
    "\n",
    "**1. Average Call Duration by Plan and Month**\n",
    "\n",
    "From the bar chart of average call duration by plan and month, we observe:\n",
    "\n",
    "**Monthly Variability**: There is variability in the average call duration from one month to another. This variability could be influenced by seasonal factors, promotions, or specific events.\n",
    "\n",
    "**Differences Between Plans**: Comparing the 'surf' and 'ultimate' plans, we can observe differences in the average call duration. If one plan consistently shows a higher average duration, this could indicate that users of that plan tend to use more minutes.\n",
    "\n",
    "**2. Monthly Minutes Distribution by Plan**\n",
    "\n",
    "Through the overlapping histograms of the monthly minutes distribution by plan, we can observe:\n",
    "\n",
    "**Distribution and Frequency**: The 'surf' and 'ultimate' plans have distinct call duration distributions. For example, if the 'ultimate' plan histogram shows a higher concentration of high values compared to the 'surf' plan, this suggests that users of the 'ultimate' plan tend to make longer calls.\n",
    "\n",
    "**Overlapping**: The overlap of the histograms helps visually compare how call durations are distributed across each plan. Significant differences in the distributions can highlight distinct behaviors between users of the two plans.\n",
    "\n",
    "**3. Monthly Call Duration Statistics**\n",
    "\n",
    "From the calculated statistics (mean and variance):\n",
    "\n",
    "**Monthly Mean**: The mean monthly call duration gives us the average duration per month. Differences in the mean between months may suggest variations in user behavior over time.\n",
    "\n",
    "**Monthly Variance**: Variance indicates the spread of call durations. A high variance could mean that some users make calls much longer or much shorter than the average.\n",
    "\n",
    "**4. Box Plot**\n",
    "\n",
    "The box plot of total call duration provides a clear view of the distribution and possible outliers:\n",
    "\n",
    "**Interquartile Range (IQR)**: Indicates the variability of call durations. A large IQR suggests that there is a large difference in call durations between users.\n",
    "\n",
    "**Outliers**: Points outside the whiskers indicate users with atypical behaviors, such as making far more or far fewer calls than is typical for most users.\n",
    "\n",
    "**Conclusions:**\n",
    "\n",
    "**Variable Behavior Between Plans**: Users of the 'ultimate' and 'surf' plans appear to have different behaviors in terms of call duration. It is possible that users of the 'ultimate' plan make longer calls, which could be related to the benefits and features of that plan.\n",
    "\n",
    "**Monthly Variability**: Call durations vary from month to month, suggesting that user behavior is not static and may be influenced by different factors throughout the year.\n",
    "\n",
    "**Call Distribution**: The distribution of call durations shows that there are users with atypical behaviors, such as those making far more calls than others.\n",
    "\n",
    "**Usage Preferences**: The data suggests that the plan may influence how users utilize their call minutes, possibly due to the different cost and benefit structures of each plan.\n",
    "To gain more detailed conclusions, additional analyses such as statistical tests (e.g., t-test) could be conducted to confirm whether the observed differences are significant, or a correlation analysis to identify which factors might be influencing the call durations.\n",
    "\n",
    "### Messages"
   ]
  },
  {
   "cell_type": "code",
   "execution_count": 40,
   "metadata": {
    "id": "NXLxiTit0q1L",
    "scrolled": false
   },
   "outputs": [
    {
     "data": {
      "image/png": "[encoded data removed]",
      "text/plain": [
       "<Figure size 800x400 with 1 Axes>"
      ]
     },
     "metadata": {},
     "output_type": "display_data"
    }
   ],
   "source": [
    "# Compare the number of messages users of each plan tend to send each month\n",
    "\n",
    "# Calculate the number of messages for each plan and each month\n",
    "messages_quantity_month_per_plan = user_consumption_per_month.groupby(['plan', 'month'])['message_count'].sum().reset_index()\n",
    "\n",
    "# Use pivot_table (pivot table) to organize the data in a format suitable for the chart\n",
    "messages_quantity_month_per_plan_pivot = messages_quantity_month_per_plan .pivot_table(index='month', columns='plan', values='message_count')\n",
    "\n",
    "# Plot a bar chart to visualize the messages for each plan and each month\n",
    "messages_quantity_month_per_plan_pivot.plot(\n",
    "                           kind='bar', \n",
    "                           figsize=(8, 4),\n",
    "                           title='Mensajes por plan',\n",
    "                           xlabel= 'Mes',\n",
    "                           ylabel='Mensajes (und)',\n",
    "                           rot=90,\n",
    "                           legend=True\n",
    "                          )\n",
    "# Print the chart\n",
    "plt.show()"
   ]
  },
  {
   "cell_type": "code",
   "execution_count": 41,
   "metadata": {},
   "outputs": [
    {
     "data": {
      "text/html": [
       "<div>\n",
       "<style scoped>\n",
       "    .dataframe tbody tr th:only-of-type {\n",
       "        vertical-align: middle;\n",
       "    }\n",
       "\n",
       "    .dataframe tbody tr th {\n",
       "        vertical-align: top;\n",
       "    }\n",
       "\n",
       "    .dataframe thead th {\n",
       "        text-align: right;\n",
       "    }\n",
       "</style>\n",
       "<table border=\"1\" class=\"dataframe\">\n",
       "  <thead>\n",
       "    <tr style=\"text-align: right;\">\n",
       "      <th></th>\n",
       "      <th>plan</th>\n",
       "      <th>month</th>\n",
       "      <th>message_count</th>\n",
       "    </tr>\n",
       "  </thead>\n",
       "  <tbody>\n",
       "    <tr>\n",
       "      <th>0</th>\n",
       "      <td>surf</td>\n",
       "      <td>April</td>\n",
       "      <td>460400.0</td>\n",
       "    </tr>\n",
       "    <tr>\n",
       "      <th>1</th>\n",
       "      <td>surf</td>\n",
       "      <td>August</td>\n",
       "      <td>2087790.0</td>\n",
       "    </tr>\n",
       "    <tr>\n",
       "      <th>2</th>\n",
       "      <td>surf</td>\n",
       "      <td>December</td>\n",
       "      <td>3393808.0</td>\n",
       "    </tr>\n",
       "    <tr>\n",
       "      <th>3</th>\n",
       "      <td>surf</td>\n",
       "      <td>February</td>\n",
       "      <td>58507.0</td>\n",
       "    </tr>\n",
       "    <tr>\n",
       "      <th>4</th>\n",
       "      <td>surf</td>\n",
       "      <td>January</td>\n",
       "      <td>14112.0</td>\n",
       "    </tr>\n",
       "  </tbody>\n",
       "</table>\n",
       "</div>"
      ],
      "text/plain": [
       "   plan     month  message_count\n",
       "0  surf     April       460400.0\n",
       "1  surf    August      2087790.0\n",
       "2  surf  December      3393808.0\n",
       "3  surf  February        58507.0\n",
       "4  surf   January        14112.0"
      ]
     },
     "metadata": {},
     "output_type": "display_data"
    }
   ],
   "source": [
    "# Print the result\n",
    "display(messages_quantity_month_per_plan.head())"
   ]
  },
  {
   "cell_type": "code",
   "execution_count": 42,
   "metadata": {
    "id": "GRI_R7xF0q1L"
   },
   "outputs": [
    {
     "data": {
      "text/html": [
       "<div>\n",
       "<style scoped>\n",
       "    .dataframe tbody tr th:only-of-type {\n",
       "        vertical-align: middle;\n",
       "    }\n",
       "\n",
       "    .dataframe tbody tr th {\n",
       "        vertical-align: top;\n",
       "    }\n",
       "\n",
       "    .dataframe thead th {\n",
       "        text-align: right;\n",
       "    }\n",
       "</style>\n",
       "<table border=\"1\" class=\"dataframe\">\n",
       "  <thead>\n",
       "    <tr style=\"text-align: right;\">\n",
       "      <th></th>\n",
       "      <th>plan</th>\n",
       "      <th>mb_used</th>\n",
       "    </tr>\n",
       "  </thead>\n",
       "  <tbody>\n",
       "    <tr>\n",
       "      <th>0</th>\n",
       "      <td>surf</td>\n",
       "      <td>26046179.93</td>\n",
       "    </tr>\n",
       "    <tr>\n",
       "      <th>1</th>\n",
       "      <td>ultimate</td>\n",
       "      <td>12394583.78</td>\n",
       "    </tr>\n",
       "  </tbody>\n",
       "</table>\n",
       "</div>"
      ],
      "text/plain": [
       "       plan      mb_used\n",
       "0      surf  26046179.93\n",
       "1  ultimate  12394583.78"
      ]
     },
     "metadata": {},
     "output_type": "display_data"
    }
   ],
   "source": [
    "# Compare the amount of internet traffic consumed by users by plan\n",
    "\n",
    "# Calculate the average call duration for each plan and each month\n",
    "internet_traffic_quantity_month_per_plan = user_consumption_per_month.groupby('plan')['mb_used'].sum().reset_index()\n",
    "\n",
    "# Print the result\n",
    "display(internet_traffic_quantity_month_per_plan.head())"
   ]
  },
  {
   "cell_type": "markdown",
   "metadata": {
    "id": "dtFwCGAp0q1M"
   },
   "source": [
    "**Analysis of Monthly Behavior:**\n",
    "\n",
    "**Surf Plan Users:** The number of messages sent by users of the **\"surf\"** plan varies significantly throughout the year. The months with the highest number of messages are December (3,393,808), November (2,964,306), and October (2,935,425). The months with the lowest number of messages are January (14,112), February (58,507), and March (147,099). A significant peak is observed in October, November, and December, which could be related to the holiday season and festivities.\n",
    "\n",
    "**Ultimate Plan Users:** The number of messages sent by users of the **\"ultimate\"** plan also shows monthly variations, although not as pronounced as in the \"surf\" plan. The months with the highest number of messages are December (1,966,162), November (1,738,933), and October (1,631,449). The months with the lowest number of messages are January (37,951), February (79,963), and March (135,116). Similar to the **\"surf\"** plan, an increase in the number of messages is observed in October, November, and December, suggesting that festivities may also influence users of this plan.\n",
    "\n",
    "**Comparison Between Plans:**\n",
    "\n",
    "**Total Message Volume:** The **\"surf\"** plan has a significantly higher volume of messages compared to the **\"ultimate\"** plan in almost all months. This could be due to differences in the user base or the pricing and services included in each plan.\n",
    "\n",
    "**Seasonal Behavior:** Both plans show an increase in the number of messages during the last three months of the year, suggesting that the year-end holidays similarly affect users of both plans. However, the increase is more pronounced in the **\"surf\"** plan, indicating that users of this plan may be more sensitive to seasonal events.\n",
    "\n",
    "**Conclusion:**\n",
    "\n",
    "User behavior regarding messages varies by plan. **\"Surf\"** plan users tend to send a higher number of messages compared to **\"ultimate\"** plan users. Both groups show peaks in message usage during October, November, and December, possibly due to the year-end festivities. However, the impact of these peaks is more significant in the **\"surf\"** plan.\n",
    "\n",
    "Additionally, **\"surf\"** plan users seem to have greater monthly fluctuations in the number of messages sent, while **\"ultimate\"** plan users display more consistent behavior throughout the year, although with notable increases in the same months of October, November, and December.\n",
    "\n",
    "### Internet\n",
    "\n",
    "**Total Internet Traffic Volume:**\n",
    "\n",
    "Users on the **\"surf\"** plan consume approximately double the amount of internet traffic compared to users on the **\"ultimate\"** plan.\n",
    "This behavior could be influenced by several factors, such as differences in the user base, plan characteristics (such as data limits or internet speed), and the types of online activities performed by users of each plan.\n",
    "\n",
    "**Behavior Based on Plan:**\n",
    "\n",
    "**Surf Plan**: Users on the **\"surf\"** plan consume a significantly larger amount of data, which may indicate that this plan is designed for users with intensive internet usage.\n",
    "The large amount of data consumed suggests that users of this plan are likely engaging in high-demand activities such as video streaming, large downloads, or intensive use of online applications and services.\n",
    "\n",
    "**Ultimate Plan**: While total data consumption is lower compared to the **\"surf\"** plan, users on the **\"ultimate\"** plan still consume a considerable amount of data.\n",
    "It is possible that users of this plan have a mix of moderate to heavy internet usage, but the lower total volume suggests that there may be more restrictions or a more balanced use of different online services.\n",
    "\n",
    "**In conclusion**, users' internet traffic consumption behavior varies significantly depending on the plan. Users on the **\"surf\"** plan consume a considerably larger amount of data than those on the **\"ultimate\"** plan, suggesting different usage patterns and potentially different needs and service expectations between the two user groups.\n",
    "\n",
    "## Income"
   ]
  },
  {
   "cell_type": "code",
   "execution_count": 43,
   "metadata": {
    "id": "tz-dq_V00q1O"
   },
   "outputs": [
    {
     "data": {
      "text/html": [
       "<div>\n",
       "<style scoped>\n",
       "    .dataframe tbody tr th:only-of-type {\n",
       "        vertical-align: middle;\n",
       "    }\n",
       "\n",
       "    .dataframe tbody tr th {\n",
       "        vertical-align: top;\n",
       "    }\n",
       "\n",
       "    .dataframe thead th {\n",
       "        text-align: right;\n",
       "    }\n",
       "</style>\n",
       "<table border=\"1\" class=\"dataframe\">\n",
       "  <thead>\n",
       "    <tr style=\"text-align: right;\">\n",
       "      <th></th>\n",
       "      <th>count</th>\n",
       "      <th>mean</th>\n",
       "      <th>std</th>\n",
       "      <th>min</th>\n",
       "      <th>25%</th>\n",
       "      <th>50%</th>\n",
       "      <th>75%</th>\n",
       "      <th>max</th>\n",
       "    </tr>\n",
       "    <tr>\n",
       "      <th>plan</th>\n",
       "      <th></th>\n",
       "      <th></th>\n",
       "      <th></th>\n",
       "      <th></th>\n",
       "      <th></th>\n",
       "      <th></th>\n",
       "      <th></th>\n",
       "      <th></th>\n",
       "    </tr>\n",
       "  </thead>\n",
       "  <tbody>\n",
       "    <tr>\n",
       "      <th>surf</th>\n",
       "      <td>1180.0</td>\n",
       "      <td>484.067519</td>\n",
       "      <td>759.325155</td>\n",
       "      <td>20.0</td>\n",
       "      <td>97.263872</td>\n",
       "      <td>235.841523</td>\n",
       "      <td>544.358896</td>\n",
       "      <td>6310.409941</td>\n",
       "    </tr>\n",
       "    <tr>\n",
       "      <th>ultimate</th>\n",
       "      <td>579.0</td>\n",
       "      <td>249.936936</td>\n",
       "      <td>275.609108</td>\n",
       "      <td>70.0</td>\n",
       "      <td>86.310000</td>\n",
       "      <td>150.307119</td>\n",
       "      <td>335.470000</td>\n",
       "      <td>2198.080000</td>\n",
       "    </tr>\n",
       "  </tbody>\n",
       "</table>\n",
       "</div>"
      ],
      "text/plain": [
       "           count        mean         std   min        25%         50%  \\\n",
       "plan                                                                    \n",
       "surf      1180.0  484.067519  759.325155  20.0  97.263872  235.841523   \n",
       "ultimate   579.0  249.936936  275.609108  70.0  86.310000  150.307119   \n",
       "\n",
       "                 75%          max  \n",
       "plan                               \n",
       "surf      544.358896  6310.409941  \n",
       "ultimate  335.470000  2198.080000  "
      ]
     },
     "metadata": {},
     "output_type": "display_data"
    }
   ],
   "source": [
    "# Group by plan and calculate descriptive statistics\n",
    "income_stats_by_plan = user_consumption_per_month.groupby('plan')['monthly_revenue'].describe()\n",
    "\n",
    "display(income_stats_by_plan)"
   ]
  },
  {
   "cell_type": "markdown",
   "metadata": {},
   "source": [
    "R/ \n",
    "\n",
    "**Number of Users (count):**\n",
    "\n",
    "Surf: 1180 users  \n",
    "Ultimate: 579 users\n",
    "\n",
    "The number of users in the **\"surf\"** plan is approximately double that of the **\"ultimate\"** plan. This could influence the stability and variability of the statistics, as a larger number of users tends to provide more representative data that is less sensitive to outliers.\n",
    "\n",
    "**Average Monthly Income (mean):**\n",
    "\n",
    "Surf: 484.07  \n",
    "Ultimate: 249.94\n",
    "\n",
    "The average monthly income of the **\"surf\"** plan is significantly higher than that of the **\"ultimate\"** plan. This suggests that **\"surf\"** plan users generate more income on average.\n",
    "\n",
    "**Standard Deviation (std):**\n",
    "\n",
    "Surf: 759.33  \n",
    "Ultimate: 275.61\n",
    "\n",
    "The standard deviation of the **\"surf\"** plan is considerably higher than that of the **\"ultimate\"** plan. This indicates that there is greater variability in the income of **\"surf\"** plan users.\n",
    "\n",
    "**Minimum Monthly Income (min):**\n",
    "\n",
    "Surf: 20.0  \n",
    "Ultimate: 70.0\n",
    "\n",
    "The minimum monthly income is lower in the **\"surf\"** plan compared to the **\"ultimate\"** plan.\n",
    "\n",
    "**Percentiles (25%, 50%, 75%):**\n",
    "\n",
    "Surf:  \n",
    "25%: 97.26  \n",
    "50% (median): 235.84  \n",
    "75%: 544.36  \n",
    "\n",
    "Ultimate:  \n",
    "25%: 86.31  \n",
    "50% (median): 150.31  \n",
    "75%: 335.47  \n",
    "\n",
    "**Comparing the percentiles, we can observe that:** At the 25th percentile, the income of the **\"surf\"** plan is slightly higher than that of the **\"ultimate\"** plan. At the median (50th percentile), the income of the **\"surf\"** plan is significantly higher than that of the **\"ultimate\"** plan. At the 75th percentile, this difference widens even more.\n",
    "\n",
    "**Maximum Monthly Income (max):**\n",
    "\n",
    "Surf: 6310.41  \n",
    "Ultimate: 2198.08\n",
    "\n",
    "The maximum monthly income is much higher in the **\"surf\"** plan, indicating the presence of some users who generate exceptionally high incomes.\n",
    "\n",
    "**Conclusions**\n",
    "\n",
    "**Average Income:** The **\"surf\"** plan generates a significantly higher average monthly income compared to the **\"ultimate\"** plan. This may be because **\"surf\"** plan users make more intensive use of the included or additional services in the plan.\n",
    "\n",
    "**Variability:** There is greater variability in the income of **\"surf\"** plan users, which could be due to a wider range of usage among these users. Some users may be generating very high incomes, which increases both the average and the standard deviation.\n",
    "\n",
    "**Percentiles and Median:** The incomes at all analyzed percentiles (25%, 50%, 75%) are higher in the **\"surf\"** plan. The difference in the median suggests that the typical income of a **\"surf\"** user is higher than that of an **\"ultimate\"** user.\n",
    "\n",
    "**High-Income Users:** The presence of much higher maximum incomes in the **\"surf\"** plan suggests that this plan may attract users with significantly higher consumption needs, who generate very high incomes.  \n",
    "These differences could influence the company's strategic decisions, such as adjusting rates, included services, or specific marketing campaigns for each plan."
   ]
  },
  {
   "cell_type": "markdown",
   "metadata": {},
   "source": [
    "## Test the statistical hypotheses\n",
    "\n",
    "**Formulation of Hypotheses**\n",
    "\n",
    "**Null Hypothesis (𝐻0)**: The average income of users of the \"Ultimate\" and \"Surf\" plans is the same.\n",
    "\n",
    "                                            𝐻0:  𝜇 Ultimate = 𝜇 Surf\n",
    "\n",
    "**Alternative Hypothesis (𝐻𝑎)**: The average income of users of the \"Ultimate\" and \"Surf\" plans is different.\n",
    "\n",
    "                                            𝐻𝑎:  𝜇 Ultimate ≠ 𝜇 Surf\n",
    "\n",
    "**Choice of Statistical Test**: Since we are comparing the average incomes of two independent groups, the t-test for two independent samples is appropriate. This will allow us to determine if there is a statistically significant difference between the mean incomes of the two groups."
   ]
  },
  {
   "cell_type": "code",
   "execution_count": 44,
   "metadata": {
    "id": "nFoPNlPq0q1R"
   },
   "outputs": [
    {
     "name": "stdout",
     "output_type": "stream",
     "text": [
      "Valores nulos en 'plan': 0\n",
      "Valores nulos en 'monthly_revenue': 544\n",
      "valor p: 1.6835247406524798e-20\n",
      "rechazamos la hipotesis nula\n"
     ]
    }
   ],
   "source": [
    "# Test the hypotheses\n",
    "\n",
    "# Corrections according to the comments - Check for null values in the relevant columns\n",
    "print(\"Valores nulos en 'plan':\", user_consumption_per_month['plan'].isnull().sum())\n",
    "print(\"Valores nulos en 'monthly_revenue':\", user_consumption_per_month['monthly_revenue'].isnull().sum())\n",
    "\n",
    "# Corrections according to the comments - Filter out null values for the 'plan' and 'monthly_revenue' columns\n",
    "user_consumption_per_month = user_consumption_per_month.dropna(subset=['plan', 'monthly_revenue'])\n",
    "\n",
    "# Set the Alpha value\n",
    "alpha= 0.05\n",
    "\n",
    "# Monthly revenue of users by plan\n",
    "income_surf = user_consumption_per_month[user_consumption_per_month['plan'] == 'surf']['monthly_revenue']\n",
    "income_ultimate = user_consumption_per_month[user_consumption_per_month['plan'] == 'ultimate']['monthly_revenue']\n",
    "\n",
    "# t-test for independent samples\n",
    "results_test = st.ttest_ind(income_surf, income_ultimate, equal_var = False)\n",
    "\n",
    "# Print the p-value\n",
    "print(\"valor p:\",results_test.pvalue)\n",
    "\n",
    "# Interpretation\n",
    "if results_test.pvalue < alpha:\n",
    "    print('rechazamos la hipotesis nula')\n",
    "else:\n",
    "    print('No podemos rechazar la hipotesis nula')"
   ]
  },
  {
   "cell_type": "markdown",
   "metadata": {},
   "source": [
    "**Formulating the Hypotheses**\n",
    "\n",
    "Null Hypothesis (H₀):\n",
    "\n",
    "                                            𝐻0 : 𝜇𝑁𝑌 − 𝑁𝐽 = 𝜇𝑜𝑡𝑟𝑜𝑠\n",
    "\n",
    "The average income of users from the NY-NJ area is equal to that of users from other regions.\n",
    "\n",
    "Alternative Hypothesis (H₁):\n",
    "\n",
    "                                            𝐻1 : 𝜇𝑁𝑌 − 𝑁𝐽 ≠ 𝜇𝑜𝑡𝑟𝑜𝑠\n",
    "\n",
    "The average income of users from the NY-NJ area is different from that of users from other regions.\n",
    "\n",
    "**Choosing the Statistical Test**\n",
    "\n",
    "To compare the average incomes of two independent groups (NY-NJ vs other regions), we will use an independent t-test.\n",
    "\n",
    "**Determining the Alpha Value**\n",
    "A common significance level (α) of 0.05 is used."
   ]
  },
  {
   "cell_type": "code",
   "execution_count": 45,
   "metadata": {
    "id": "Cqcj7wrZ0q1S"
   },
   "outputs": [
    {
     "name": "stdout",
     "output_type": "stream",
     "text": [
      "Valores nulos en 'city': 0\n",
      "Valores nulos en 'monthly_revenue': 0\n",
      "valor p: 5.526541168721878e-09\n",
      "Rechazamos la hipótesis nula. El ingreso promedio de los usuarios del área NY-NJ es diferente al de los usuarios de otras regiones.\n"
     ]
    }
   ],
   "source": [
    "# Test the hypotheses\n",
    "\n",
    "# Corrections according to the comments - Check for null values in the columns we are going to analyze\n",
    "print(\"Valores nulos en 'city':\", user_consumption_per_month['city'].isnull().sum())\n",
    "print(\"Valores nulos en 'monthly_revenue':\", user_consumption_per_month['monthly_revenue'].isnull().sum())\n",
    "\n",
    "# Corrections according to the comments - Filter out null values for the 'city' and 'monthly_revenue' columns\n",
    "user_consumption_per_month = user_consumption_per_month.dropna(subset=['city', 'monthly_revenue'])\n",
    "\n",
    "# Set the Alpha value\n",
    "alpha= 0.05\n",
    "\n",
    "# Filter by regions\n",
    "region_ny_nj = \"New York-Newark-Jersey City, NY-NJ-PA MSA\"\n",
    "income_ny_nj = user_consumption_per_month[user_consumption_per_month['city'] == region_ny_nj]['monthly_revenue']\n",
    "income_otros = user_consumption_per_month[user_consumption_per_month['city'] != region_ny_nj]['monthly_revenue']\n",
    "\n",
    "# t-test for independent samples\n",
    "results_region = st.ttest_ind(income_ny_nj, income_otros, equal_var = False)\n",
    "\n",
    "# Print the p-value\n",
    "print(\"valor p:\",results_region.pvalue)\n",
    "\n",
    "# Interpretation\n",
    "if results_region.pvalue < alpha:\n",
    "    print(\"Rechazamos la hipótesis nula. El ingreso promedio de los usuarios del área NY-NJ es diferente al de los usuarios de otras regiones.\")\n",
    "else:\n",
    "    print(\"No podemos rechazar la hipótesis nula. No hay evidencia suficiente para decir que el ingreso promedio de los usuarios del área NY-NJ es diferente al de los usuarios de otras regiones.\")\n"
   ]
  },
  {
   "cell_type": "markdown",
   "metadata": {},
   "source": [
    "## General Conclusion\n",
    "\n",
    "**Average Call Duration by Plan and Month**\n",
    "\n",
    "**Monthly Variability**: There is significant variability in the average call duration from one month to another, which may be influenced by seasonal factors, promotions, or specific events.\n",
    "**Differences Between Plans**: Users of the **'surf'** and **'ultimate'** plans show differences in the average call duration. **'Ultimate'** plan users tend to use more minutes, suggesting higher service usage.\n",
    "\n",
    "**Monthly Minutes Distribution by Plan**\n",
    "\n",
    "**Distribution and Frequency**: The histograms show that **'ultimate'** plan users tend to make longer calls compared to **'surf'** plan users.\n",
    "**Distribution Overlap**: The overlapping histograms allow for a visual comparison of call durations between the plans, showing significant differences in user behavior.\n",
    "\n",
    "**Monthly Call Duration Statistics**\n",
    "\n",
    "**Monthly Mean**: The mean monthly call duration varies across months, suggesting fluctuations in user behavior throughout the year.\n",
    "**Monthly Variance**: The variance in call durations indicates significant dispersion, especially in the **'surf'** plan, which may be due to greater diversity in service usage among its users.\n",
    "\n",
    "**Box Plot of Total Call Duration**\n",
    "\n",
    "**Interquartile Range (IQR)**: A large IQR suggests high variability in call durations among users.\n",
    "**Outliers**: There are users with atypical behavior, making significantly more or fewer calls than the average.\n",
    "\n",
    "**Monthly Messaging Behavior**\n",
    "\n",
    "**Surf Plan Users**: They show considerable variability in the number of messages sent throughout the year, with significant peaks in October, November, and December.\n",
    "**Ultimate Plan Users**: While they also show variations, these are less pronounced than in the **'surf'** plan, but still with peaks in these months.\n",
    "\n",
    "**Comparison Between Plans in Messaging**\n",
    "\n",
    "**Total Message Volume**: The **'surf'** plan has a higher message volume in almost all months compared to the **'ultimate'** plan.\n",
    "**Seasonal Behavior**: Both plans show increases in messages during October, November, and December, with a more significant impact on the **'surf'** plan.\n",
    "\n",
    "**Internet Traffic Consumption**\n",
    "\n",
    "**Total Traffic Volume**: Users of the **'surf'** plan consume approximately twice the amount of internet traffic compared to **'ultimate'** plan users.\n",
    "**Plan-Based Behavior**: **'Surf'** plan users seem to have more intensive internet usage, possibly engaging in data-heavy activities.\n",
    "\n",
    "**Monthly Revenue Statistics**\n",
    "\n",
    "**Number of Users**: The **'surf'** plan has approximately twice as many users as the **'ultimate'** plan.\n",
    "**Average Revenue**: The **'surf'** plan generates a significantly higher average monthly revenue than the **'ultimate'** plan.\n",
    "**Variability**: There is greater variability in the revenue of the **'surf'** plan, with some users generating very high income.\n",
    "**Percentiles and Median**: In all analyzed percentiles, the revenue of the **'surf'** plan is higher than that of the **'ultimate'** plan.\n",
    "**High-Income Users**: The **'surf'** plan attracts users who generate exceptionally high revenue.\n",
    "\n",
    "**Conclusion**\n",
    "\n",
    "The analysis shows that the **'surf'** plan generates higher average monthly revenue and has more intensive service usage, especially in terms of calls and internet traffic. However, it also shows greater variability in both revenue and service usage. The **'ultimate'** plan, while having lower usage and revenue, presents greater stability and lower variability.\n",
    "\n",
    "These differences suggest that Megaline should consider adjusting its marketing and service strategies specifically for each plan, focusing on highlighting the features that attract users to each."
   ]
  }
 ],
 "metadata": {
  "ExecuteTimeLog": [
   {
    "duration": 828,
    "start_time": "2021-11-16T09:21:11.304Z"
   },
   {
    "duration": 893,
    "start_time": "2021-11-16T09:21:17.728Z"
   },
   {
    "duration": 1150,
    "start_time": "2021-11-16T09:21:29.568Z"
   },
   {
    "duration": 3,
    "start_time": "2021-11-16T09:24:14.495Z"
   },
   {
    "duration": 120,
    "start_time": "2021-11-16T09:24:46.630Z"
   },
   {
    "duration": 3,
    "start_time": "2021-11-16T09:28:27.882Z"
   },
   {
    "duration": 4,
    "start_time": "2021-11-16T09:29:54.281Z"
   },
   {
    "duration": 3,
    "start_time": "2021-11-16T09:30:45.936Z"
   },
   {
    "duration": 4,
    "start_time": "2021-11-16T09:31:06.300Z"
   },
   {
    "duration": 113,
    "start_time": "2021-11-16T09:31:37.208Z"
   },
   {
    "duration": 143,
    "start_time": "2021-11-16T09:31:48.656Z"
   },
   {
    "duration": 98,
    "start_time": "2021-11-16T09:31:55.678Z"
   },
   {
    "duration": 3,
    "start_time": "2021-11-16T09:32:08.535Z"
   },
   {
    "duration": 111,
    "start_time": "2021-11-16T09:32:10.120Z"
   },
   {
    "duration": 3,
    "start_time": "2021-11-16T09:32:15.732Z"
   },
   {
    "duration": 4,
    "start_time": "2021-11-16T09:32:29.423Z"
   },
   {
    "duration": 3,
    "start_time": "2021-11-16T10:03:03.074Z"
   },
   {
    "duration": 3,
    "start_time": "2021-11-16T10:10:01.288Z"
   },
   {
    "duration": 3,
    "start_time": "2021-11-16T10:10:46.923Z"
   },
   {
    "duration": 121,
    "start_time": "2021-11-16T10:37:46.494Z"
   },
   {
    "duration": 125,
    "start_time": "2021-11-16T10:38:20.632Z"
   },
   {
    "duration": 112,
    "start_time": "2021-11-16T10:46:53.001Z"
   },
   {
    "duration": 110,
    "start_time": "2021-11-16T10:48:25.775Z"
   },
   {
    "duration": 3,
    "start_time": "2021-11-16T10:50:18.720Z"
   },
   {
    "duration": 4,
    "start_time": "2021-11-16T10:50:37.649Z"
   },
   {
    "duration": 2,
    "start_time": "2021-11-16T10:50:51.884Z"
   },
   {
    "duration": 3,
    "start_time": "2021-11-16T10:51:56.237Z"
   },
   {
    "duration": 101,
    "start_time": "2021-11-16T10:53:13.791Z"
   },
   {
    "duration": 3,
    "start_time": "2021-11-16T10:55:59.186Z"
   },
   {
    "duration": 3,
    "start_time": "2021-11-16T10:56:10.751Z"
   },
   {
    "duration": 3,
    "start_time": "2021-11-16T10:56:49.038Z"
   },
   {
    "duration": 3,
    "start_time": "2021-11-16T10:56:49.174Z"
   },
   {
    "duration": 4,
    "start_time": "2021-11-16T10:56:49.414Z"
   },
   {
    "duration": 3,
    "start_time": "2021-11-16T10:56:49.680Z"
   },
   {
    "duration": 3,
    "start_time": "2021-11-16T10:56:50.370Z"
   },
   {
    "duration": 114,
    "start_time": "2021-11-16T10:59:34.518Z"
   },
   {
    "duration": 3,
    "start_time": "2021-11-16T11:01:41.201Z"
   },
   {
    "duration": 116,
    "start_time": "2021-11-16T11:01:48.754Z"
   },
   {
    "duration": 3,
    "start_time": "2021-11-16T11:02:16.685Z"
   },
   {
    "duration": 3,
    "start_time": "2021-11-16T11:02:19.479Z"
   },
   {
    "duration": 3,
    "start_time": "2021-11-16T11:02:47.067Z"
   },
   {
    "duration": 3,
    "start_time": "2021-11-16T11:02:49.353Z"
   },
   {
    "duration": 3,
    "start_time": "2021-11-16T11:03:07.835Z"
   },
   {
    "duration": 3,
    "start_time": "2021-11-16T11:03:07.953Z"
   },
   {
    "duration": 112,
    "start_time": "2021-11-16T11:07:52.072Z"
   },
   {
    "duration": 187,
    "start_time": "2021-11-16T11:09:23.468Z"
   },
   {
    "duration": 4,
    "start_time": "2021-11-16T11:10:01.455Z"
   },
   {
    "duration": 3,
    "start_time": "2021-11-16T11:10:05.069Z"
   },
   {
    "duration": 4,
    "start_time": "2021-11-16T11:10:13.376Z"
   },
   {
    "duration": 3,
    "start_time": "2021-11-16T11:10:14.434Z"
   },
   {
    "duration": 3,
    "start_time": "2021-11-16T11:10:22.853Z"
   },
   {
    "duration": 4,
    "start_time": "2021-11-16T11:27:29.279Z"
   },
   {
    "duration": 4,
    "start_time": "2021-11-16T11:29:08.919Z"
   },
   {
    "duration": 118,
    "start_time": "2021-11-16T11:29:46.703Z"
   },
   {
    "duration": 437,
    "start_time": "2021-11-16T11:36:02.181Z"
   },
   {
    "duration": 157,
    "start_time": "2021-11-16T11:36:14.388Z"
   },
   {
    "duration": 207,
    "start_time": "2021-11-16T11:47:15.898Z"
   },
   {
    "duration": 3,
    "start_time": "2021-11-16T11:53:52.092Z"
   },
   {
    "duration": 3,
    "start_time": "2021-11-16T11:53:52.236Z"
   },
   {
    "duration": 3,
    "start_time": "2021-11-16T11:59:12.005Z"
   },
   {
    "duration": 112,
    "start_time": "2021-11-16T12:00:33.446Z"
   },
   {
    "duration": 3,
    "start_time": "2021-11-16T12:02:14.453Z"
   },
   {
    "duration": 3,
    "start_time": "2021-11-16T12:02:39.512Z"
   },
   {
    "duration": 106,
    "start_time": "2021-11-16T12:03:03.460Z"
   },
   {
    "duration": 3,
    "start_time": "2021-11-17T20:37:21.139Z"
   },
   {
    "duration": 3,
    "start_time": "2021-11-17T20:37:22.229Z"
   },
   {
    "duration": 3,
    "start_time": "2021-11-17T20:38:38.806Z"
   },
   {
    "duration": 3,
    "start_time": "2021-11-17T20:38:41.958Z"
   },
   {
    "duration": 3,
    "start_time": "2021-11-17T20:43:46.551Z"
   },
   {
    "duration": 4,
    "start_time": "2021-11-17T20:58:21.835Z"
   },
   {
    "duration": 3,
    "start_time": "2021-11-17T20:59:21.872Z"
   },
   {
    "duration": 4,
    "start_time": "2021-11-17T20:59:45.352Z"
   },
   {
    "duration": 4,
    "start_time": "2021-11-17T20:59:49.646Z"
   },
   {
    "duration": 159,
    "start_time": "2021-11-17T21:02:26.949Z"
   },
   {
    "duration": 3,
    "start_time": "2021-11-17T21:03:53.461Z"
   },
   {
    "duration": 3,
    "start_time": "2021-11-17T21:03:53.694Z"
   },
   {
    "duration": 3,
    "start_time": "2021-11-17T21:05:28.145Z"
   },
   {
    "duration": 116,
    "start_time": "2021-11-17T21:05:57.787Z"
   },
   {
    "duration": 3,
    "start_time": "2021-11-17T21:06:37.993Z"
   },
   {
    "duration": 3,
    "start_time": "2021-11-17T21:06:38.261Z"
   },
   {
    "duration": 3,
    "start_time": "2021-11-17T21:11:54.358Z"
   },
   {
    "duration": 3,
    "start_time": "2021-11-17T21:12:43.846Z"
   },
   {
    "duration": 4,
    "start_time": "2021-11-17T21:13:08.773Z"
   },
   {
    "duration": 3,
    "start_time": "2021-11-17T21:14:44.441Z"
   },
   {
    "duration": 3,
    "start_time": "2021-11-17T21:15:42.059Z"
   },
   {
    "duration": 4,
    "start_time": "2021-11-17T21:15:51.995Z"
   },
   {
    "duration": 3,
    "start_time": "2021-11-17T21:15:53.923Z"
   },
   {
    "duration": 3,
    "start_time": "2021-11-17T21:15:55.282Z"
   },
   {
    "duration": 3,
    "start_time": "2021-11-17T21:16:28.492Z"
   },
   {
    "duration": 3,
    "start_time": "2021-11-17T21:16:32.603Z"
   },
   {
    "duration": 3,
    "start_time": "2021-11-17T21:17:06.941Z"
   },
   {
    "duration": 98,
    "start_time": "2021-11-17T21:18:05.733Z"
   },
   {
    "duration": 4,
    "start_time": "2021-11-17T21:21:35.255Z"
   },
   {
    "duration": 3,
    "start_time": "2021-11-17T21:21:37.804Z"
   },
   {
    "duration": 4,
    "start_time": "2021-11-17T21:23:06.071Z"
   },
   {
    "duration": 3,
    "start_time": "2021-11-17T21:23:24.799Z"
   },
   {
    "duration": 3,
    "start_time": "2021-11-17T21:23:32.591Z"
   },
   {
    "duration": 98,
    "start_time": "2021-11-17T21:28:31.559Z"
   },
   {
    "duration": 3,
    "start_time": "2021-11-17T21:28:45.448Z"
   },
   {
    "duration": 3,
    "start_time": "2021-11-17T21:29:17.303Z"
   },
   {
    "duration": 3,
    "start_time": "2021-11-17T21:29:29.617Z"
   },
   {
    "duration": 3,
    "start_time": "2021-11-17T21:29:32.681Z"
   },
   {
    "duration": 3,
    "start_time": "2021-11-17T21:36:11.474Z"
   },
   {
    "duration": 3,
    "start_time": "2021-11-17T21:36:14.791Z"
   },
   {
    "duration": 3,
    "start_time": "2021-11-17T21:36:53.943Z"
   },
   {
    "duration": 3,
    "start_time": "2021-11-17T21:36:56.165Z"
   },
   {
    "duration": 4,
    "start_time": "2021-11-17T21:37:16.590Z"
   },
   {
    "duration": 3,
    "start_time": "2021-11-17T21:37:22.702Z"
   },
   {
    "duration": 4,
    "start_time": "2021-11-17T21:38:03.479Z"
   },
   {
    "duration": 3,
    "start_time": "2021-11-17T21:38:08.601Z"
   },
   {
    "duration": 3,
    "start_time": "2021-11-17T21:38:12.928Z"
   },
   {
    "duration": 3,
    "start_time": "2021-11-17T21:38:48.896Z"
   },
   {
    "duration": 2,
    "start_time": "2021-11-17T21:38:49.171Z"
   },
   {
    "duration": 4,
    "start_time": "2021-11-17T21:39:57.889Z"
   },
   {
    "duration": 3,
    "start_time": "2021-11-17T21:39:58.057Z"
   },
   {
    "duration": 3,
    "start_time": "2021-11-17T21:41:20.108Z"
   },
   {
    "duration": 3,
    "start_time": "2021-11-17T21:41:20.629Z"
   },
   {
    "duration": 3,
    "start_time": "2021-11-17T21:42:49.136Z"
   },
   {
    "duration": 3,
    "start_time": "2021-11-17T21:43:15.137Z"
   },
   {
    "duration": 4,
    "start_time": "2021-11-17T21:43:16.766Z"
   },
   {
    "duration": 4,
    "start_time": "2021-11-17T21:43:31.711Z"
   },
   {
    "duration": 3,
    "start_time": "2021-11-17T21:43:36.312Z"
   },
   {
    "duration": 4,
    "start_time": "2021-11-17T21:45:08.825Z"
   },
   {
    "duration": 4,
    "start_time": "2021-11-17T21:45:10.119Z"
   },
   {
    "duration": 4,
    "start_time": "2021-11-17T21:45:13.748Z"
   },
   {
    "duration": 3,
    "start_time": "2021-11-17T21:45:22.219Z"
   },
   {
    "duration": 3,
    "start_time": "2021-11-17T21:45:33.412Z"
   },
   {
    "duration": 2,
    "start_time": "2021-11-17T21:46:01.885Z"
   },
   {
    "duration": 3,
    "start_time": "2021-11-17T21:46:03.628Z"
   },
   {
    "duration": 107,
    "start_time": "2021-11-17T21:47:32.512Z"
   },
   {
    "duration": 103,
    "start_time": "2021-11-17T21:50:36.243Z"
   },
   {
    "duration": 3,
    "start_time": "2021-11-18T06:28:31.440Z"
   },
   {
    "duration": 3,
    "start_time": "2021-11-18T06:29:00.168Z"
   },
   {
    "duration": 3,
    "start_time": "2021-11-18T06:31:27.008Z"
   },
   {
    "duration": 2,
    "start_time": "2021-11-18T06:35:34.288Z"
   },
   {
    "duration": 2,
    "start_time": "2021-11-18T06:38:04.527Z"
   },
   {
    "duration": 313,
    "start_time": "2024-05-28T14:29:58.492Z"
   },
   {
    "duration": 476,
    "start_time": "2024-05-28T14:30:07.366Z"
   },
   {
    "duration": 3920,
    "start_time": "2024-05-28T14:30:39.255Z"
   },
   {
    "duration": 626,
    "start_time": "2024-05-28T14:31:05.901Z"
   },
   {
    "duration": 377,
    "start_time": "2024-05-28T14:35:20.806Z"
   },
   {
    "duration": 15,
    "start_time": "2024-05-28T14:36:24.454Z"
   },
   {
    "duration": 16,
    "start_time": "2024-05-28T14:37:14.215Z"
   },
   {
    "duration": 614,
    "start_time": "2024-05-28T14:37:21.129Z"
   },
   {
    "duration": 60,
    "start_time": "2024-05-28T14:44:23.201Z"
   },
   {
    "duration": 14,
    "start_time": "2024-05-28T14:44:40.023Z"
   },
   {
    "duration": 14,
    "start_time": "2024-05-28T14:44:45.729Z"
   },
   {
    "duration": 13,
    "start_time": "2024-05-28T15:00:58.920Z"
   },
   {
    "duration": 13,
    "start_time": "2024-05-28T15:01:05.439Z"
   },
   {
    "duration": 13,
    "start_time": "2024-05-28T15:01:14.584Z"
   },
   {
    "duration": 15,
    "start_time": "2024-05-28T15:01:17.048Z"
   },
   {
    "duration": 13,
    "start_time": "2024-05-28T15:01:19.674Z"
   },
   {
    "duration": 28,
    "start_time": "2024-05-28T15:09:26.999Z"
   },
   {
    "duration": 34,
    "start_time": "2024-05-28T15:09:39.709Z"
   },
   {
    "duration": 12,
    "start_time": "2024-05-28T15:10:57.917Z"
   },
   {
    "duration": 13,
    "start_time": "2024-05-28T15:11:06.647Z"
   },
   {
    "duration": 12,
    "start_time": "2024-05-28T15:11:16.070Z"
   },
   {
    "duration": 12,
    "start_time": "2024-05-28T15:11:27.320Z"
   },
   {
    "duration": 12,
    "start_time": "2024-05-28T15:11:58.129Z"
   },
   {
    "duration": 5,
    "start_time": "2024-05-28T15:13:28.461Z"
   },
   {
    "duration": 25,
    "start_time": "2024-05-28T15:14:11.229Z"
   },
   {
    "duration": 5,
    "start_time": "2024-05-28T15:14:34.435Z"
   },
   {
    "duration": 6,
    "start_time": "2024-05-28T15:14:45.018Z"
   },
   {
    "duration": 6,
    "start_time": "2024-05-28T15:15:10.383Z"
   },
   {
    "duration": 9,
    "start_time": "2024-05-28T15:15:26.971Z"
   },
   {
    "duration": 6,
    "start_time": "2024-05-28T15:15:34.779Z"
   },
   {
    "duration": 6,
    "start_time": "2024-05-28T15:16:24.637Z"
   },
   {
    "duration": 5,
    "start_time": "2024-05-28T15:18:48.769Z"
   },
   {
    "duration": 966,
    "start_time": "2024-05-28T15:26:53.925Z"
   },
   {
    "duration": 22,
    "start_time": "2024-05-28T15:28:12.314Z"
   },
   {
    "duration": 27,
    "start_time": "2024-05-28T15:30:21.469Z"
   },
   {
    "duration": 27,
    "start_time": "2024-05-28T15:30:41.317Z"
   },
   {
    "duration": 4842,
    "start_time": "2024-05-31T12:55:34.820Z"
   },
   {
    "duration": 384,
    "start_time": "2024-05-31T12:55:39.665Z"
   },
   {
    "duration": 16,
    "start_time": "2024-05-31T12:55:40.051Z"
   },
   {
    "duration": 17,
    "start_time": "2024-05-31T12:55:40.070Z"
   },
   {
    "duration": 6,
    "start_time": "2024-05-31T12:55:50.974Z"
   },
   {
    "duration": 5,
    "start_time": "2024-05-31T12:55:56.740Z"
   },
   {
    "duration": 29,
    "start_time": "2024-05-31T12:56:03.960Z"
   },
   {
    "duration": 17,
    "start_time": "2024-05-31T12:57:12.116Z"
   },
   {
    "duration": 16,
    "start_time": "2024-05-31T13:00:19.004Z"
   },
   {
    "duration": 11,
    "start_time": "2024-05-31T13:20:27.905Z"
   },
   {
    "duration": 37,
    "start_time": "2024-05-31T13:46:21.363Z"
   },
   {
    "duration": 35,
    "start_time": "2024-05-31T13:55:25.011Z"
   },
   {
    "duration": 34,
    "start_time": "2024-05-31T14:08:09.915Z"
   },
   {
    "duration": 25,
    "start_time": "2024-05-31T14:17:16.707Z"
   },
   {
    "duration": 16,
    "start_time": "2024-05-31T14:17:30.260Z"
   },
   {
    "duration": 50,
    "start_time": "2024-05-31T14:41:15.396Z"
   },
   {
    "duration": 40,
    "start_time": "2024-05-31T14:42:25.728Z"
   },
   {
    "duration": 163,
    "start_time": "2024-05-31T14:49:41.221Z"
   },
   {
    "duration": 197,
    "start_time": "2024-05-31T14:50:32.252Z"
   },
   {
    "duration": 167,
    "start_time": "2024-05-31T14:50:43.537Z"
   },
   {
    "duration": 5149,
    "start_time": "2024-06-01T13:19:05.037Z"
   },
   {
    "duration": 431,
    "start_time": "2024-06-01T13:19:10.192Z"
   },
   {
    "duration": 16,
    "start_time": "2024-06-01T13:19:10.626Z"
   },
   {
    "duration": 20,
    "start_time": "2024-06-01T13:19:10.646Z"
   },
   {
    "duration": 5,
    "start_time": "2024-06-01T13:19:28.678Z"
   },
   {
    "duration": 8,
    "start_time": "2024-06-01T13:19:33.186Z"
   },
   {
    "duration": 30,
    "start_time": "2024-06-01T13:19:37.279Z"
   },
   {
    "duration": 15,
    "start_time": "2024-06-01T13:19:45.430Z"
   },
   {
    "duration": 13,
    "start_time": "2024-06-01T13:19:49.586Z"
   },
   {
    "duration": 10,
    "start_time": "2024-06-01T13:19:56.637Z"
   },
   {
    "duration": 34,
    "start_time": "2024-06-01T13:20:37.560Z"
   },
   {
    "duration": 33,
    "start_time": "2024-06-01T13:20:40.802Z"
   },
   {
    "duration": 27,
    "start_time": "2024-06-01T13:22:22.452Z"
   },
   {
    "duration": 20,
    "start_time": "2024-06-01T13:22:24.446Z"
   },
   {
    "duration": 58,
    "start_time": "2024-06-01T13:24:25.977Z"
   },
   {
    "duration": 199,
    "start_time": "2024-06-01T13:24:36.133Z"
   },
   {
    "duration": 200,
    "start_time": "2024-06-01T13:31:25.352Z"
   },
   {
    "duration": 206,
    "start_time": "2024-06-01T13:45:37.708Z"
   },
   {
    "duration": 21,
    "start_time": "2024-06-01T13:46:24.662Z"
   },
   {
    "duration": 11,
    "start_time": "2024-06-01T13:46:58.409Z"
   },
   {
    "duration": 40,
    "start_time": "2024-06-01T13:54:52.006Z"
   },
   {
    "duration": 24,
    "start_time": "2024-06-01T13:55:40.446Z"
   },
   {
    "duration": 17,
    "start_time": "2024-06-01T13:56:07.649Z"
   },
   {
    "duration": 6,
    "start_time": "2024-06-01T13:56:32.697Z"
   },
   {
    "duration": 31,
    "start_time": "2024-06-01T13:56:46.474Z"
   },
   {
    "duration": 17,
    "start_time": "2024-06-01T14:00:33.245Z"
   },
   {
    "duration": 32,
    "start_time": "2024-06-01T14:06:34.023Z"
   },
   {
    "duration": 1389,
    "start_time": "2024-06-01T14:08:35.325Z"
   },
   {
    "duration": 108,
    "start_time": "2024-06-01T14:08:56.064Z"
   },
   {
    "duration": 105,
    "start_time": "2024-06-01T14:09:44.493Z"
   },
   {
    "duration": 113,
    "start_time": "2024-06-01T14:09:52.701Z"
   },
   {
    "duration": 94,
    "start_time": "2024-06-01T14:10:04.323Z"
   },
   {
    "duration": 112,
    "start_time": "2024-06-01T14:13:09.668Z"
   },
   {
    "duration": 138,
    "start_time": "2024-06-01T14:13:20.921Z"
   },
   {
    "duration": 136,
    "start_time": "2024-06-01T14:13:30.081Z"
   },
   {
    "duration": 116,
    "start_time": "2024-06-01T14:13:38.135Z"
   },
   {
    "duration": 140,
    "start_time": "2024-06-01T14:14:03.145Z"
   },
   {
    "duration": 125,
    "start_time": "2024-06-01T14:14:13.040Z"
   },
   {
    "duration": 117,
    "start_time": "2024-06-01T14:14:21.547Z"
   },
   {
    "duration": 130,
    "start_time": "2024-06-01T14:14:28.346Z"
   },
   {
    "duration": 117,
    "start_time": "2024-06-01T14:14:53.585Z"
   },
   {
    "duration": 122,
    "start_time": "2024-06-01T14:15:08.468Z"
   },
   {
    "duration": 115,
    "start_time": "2024-06-01T14:15:13.289Z"
   },
   {
    "duration": 118,
    "start_time": "2024-06-01T14:15:15.873Z"
   },
   {
    "duration": 118,
    "start_time": "2024-06-01T14:15:37.581Z"
   },
   {
    "duration": 110,
    "start_time": "2024-06-01T14:15:58.044Z"
   },
   {
    "duration": 136,
    "start_time": "2024-06-01T14:16:25.341Z"
   },
   {
    "duration": 137,
    "start_time": "2024-06-01T14:16:31.861Z"
   },
   {
    "duration": 118,
    "start_time": "2024-06-01T14:16:44.143Z"
   },
   {
    "duration": 145,
    "start_time": "2024-06-01T14:20:31.994Z"
   },
   {
    "duration": 137,
    "start_time": "2024-06-01T14:20:48.231Z"
   },
   {
    "duration": 134,
    "start_time": "2024-06-01T14:20:59.003Z"
   },
   {
    "duration": 134,
    "start_time": "2024-06-01T14:21:20.546Z"
   },
   {
    "duration": 111,
    "start_time": "2024-06-01T14:21:37.081Z"
   },
   {
    "duration": 125,
    "start_time": "2024-06-01T14:21:45.667Z"
   },
   {
    "duration": 156,
    "start_time": "2024-06-01T14:22:23.858Z"
   },
   {
    "duration": 114,
    "start_time": "2024-06-01T14:22:59.861Z"
   },
   {
    "duration": 88,
    "start_time": "2024-06-01T14:23:45.187Z"
   },
   {
    "duration": 96,
    "start_time": "2024-06-01T14:24:08.443Z"
   },
   {
    "duration": 102,
    "start_time": "2024-06-01T14:27:03.021Z"
   },
   {
    "duration": 91,
    "start_time": "2024-06-01T14:27:29.861Z"
   },
   {
    "duration": 561,
    "start_time": "2024-06-01T14:30:41.246Z"
   },
   {
    "duration": 567,
    "start_time": "2024-06-01T14:31:12.049Z"
   },
   {
    "duration": 108,
    "start_time": "2024-06-01T14:31:29.687Z"
   },
   {
    "duration": 140,
    "start_time": "2024-06-01T14:41:15.525Z"
   },
   {
    "duration": 117,
    "start_time": "2024-06-01T14:41:28.246Z"
   },
   {
    "duration": 30,
    "start_time": "2024-06-01T14:41:46.616Z"
   },
   {
    "duration": 16,
    "start_time": "2024-06-01T14:41:47.251Z"
   },
   {
    "duration": 45,
    "start_time": "2024-06-01T14:41:50.420Z"
   },
   {
    "duration": 131,
    "start_time": "2024-06-01T14:41:56.331Z"
   },
   {
    "duration": 124,
    "start_time": "2024-06-01T14:42:48.831Z"
   },
   {
    "duration": 185,
    "start_time": "2024-06-01T14:43:09.994Z"
   },
   {
    "duration": 1407,
    "start_time": "2024-06-01T14:45:33.461Z"
   },
   {
    "duration": 4,
    "start_time": "2024-06-01T14:45:49.354Z"
   },
   {
    "duration": 259,
    "start_time": "2024-06-01T14:45:50.519Z"
   },
   {
    "duration": 15,
    "start_time": "2024-06-01T14:45:56.440Z"
   },
   {
    "duration": 12,
    "start_time": "2024-06-01T14:45:59.787Z"
   },
   {
    "duration": 5,
    "start_time": "2024-06-01T14:49:28.924Z"
   },
   {
    "duration": 5,
    "start_time": "2024-06-01T14:49:29.924Z"
   },
   {
    "duration": 26,
    "start_time": "2024-06-01T14:49:34.819Z"
   },
   {
    "duration": 14,
    "start_time": "2024-06-01T14:49:38.486Z"
   },
   {
    "duration": 15,
    "start_time": "2024-06-01T14:49:41.320Z"
   },
   {
    "duration": 21,
    "start_time": "2024-06-01T14:49:45.510Z"
   },
   {
    "duration": 34,
    "start_time": "2024-06-01T14:49:52.445Z"
   },
   {
    "duration": 25,
    "start_time": "2024-06-01T14:49:59.036Z"
   },
   {
    "duration": 15,
    "start_time": "2024-06-01T14:50:01.093Z"
   },
   {
    "duration": 46,
    "start_time": "2024-06-01T14:50:11.007Z"
   },
   {
    "duration": 184,
    "start_time": "2024-06-01T14:50:16.552Z"
   },
   {
    "duration": 19,
    "start_time": "2024-06-01T14:50:20.365Z"
   },
   {
    "duration": 10,
    "start_time": "2024-06-01T14:50:25.684Z"
   },
   {
    "duration": 34,
    "start_time": "2024-06-01T14:50:33.004Z"
   },
   {
    "duration": 1446,
    "start_time": "2024-06-01T14:50:47.487Z"
   },
   {
    "duration": 165,
    "start_time": "2024-06-01T14:59:09.657Z"
   },
   {
    "duration": 4,
    "start_time": "2024-06-01T14:59:47.145Z"
   },
   {
    "duration": 293,
    "start_time": "2024-06-01T14:59:48.130Z"
   },
   {
    "duration": 13,
    "start_time": "2024-06-01T14:59:50.175Z"
   },
   {
    "duration": 13,
    "start_time": "2024-06-01T14:59:51.055Z"
   },
   {
    "duration": 5,
    "start_time": "2024-06-01T14:59:54.182Z"
   },
   {
    "duration": 4,
    "start_time": "2024-06-01T14:59:54.686Z"
   },
   {
    "duration": 27,
    "start_time": "2024-06-01T14:59:56.235Z"
   },
   {
    "duration": 15,
    "start_time": "2024-06-01T14:59:57.349Z"
   },
   {
    "duration": 15,
    "start_time": "2024-06-01T14:59:57.874Z"
   },
   {
    "duration": 20,
    "start_time": "2024-06-01T15:00:00.556Z"
   },
   {
    "duration": 33,
    "start_time": "2024-06-01T15:00:03.226Z"
   },
   {
    "duration": 25,
    "start_time": "2024-06-01T15:00:05.439Z"
   },
   {
    "duration": 17,
    "start_time": "2024-06-01T15:00:05.922Z"
   },
   {
    "duration": 60,
    "start_time": "2024-06-01T15:00:08.368Z"
   },
   {
    "duration": 181,
    "start_time": "2024-06-01T15:00:10.338Z"
   },
   {
    "duration": 30,
    "start_time": "2024-06-01T15:00:11.752Z"
   },
   {
    "duration": 11,
    "start_time": "2024-06-01T15:00:12.260Z"
   },
   {
    "duration": 30,
    "start_time": "2024-06-01T15:00:14.738Z"
   },
   {
    "duration": 148,
    "start_time": "2024-06-01T15:00:20.874Z"
   },
   {
    "duration": 164,
    "start_time": "2024-06-01T15:05:51.844Z"
   },
   {
    "duration": 172,
    "start_time": "2024-06-01T15:09:30.211Z"
   },
   {
    "duration": 222,
    "start_time": "2024-06-01T15:09:42.734Z"
   },
   {
    "duration": 5,
    "start_time": "2024-06-01T15:10:55.602Z"
   },
   {
    "duration": 266,
    "start_time": "2024-06-01T15:10:56.220Z"
   },
   {
    "duration": 15,
    "start_time": "2024-06-01T15:10:57.098Z"
   },
   {
    "duration": 12,
    "start_time": "2024-06-01T15:10:57.336Z"
   },
   {
    "duration": 5,
    "start_time": "2024-06-01T15:10:58.731Z"
   },
   {
    "duration": 4,
    "start_time": "2024-06-01T15:10:58.904Z"
   },
   {
    "duration": 26,
    "start_time": "2024-06-01T15:10:59.582Z"
   },
   {
    "duration": 14,
    "start_time": "2024-06-01T15:11:00.030Z"
   },
   {
    "duration": 15,
    "start_time": "2024-06-01T15:11:00.239Z"
   },
   {
    "duration": 20,
    "start_time": "2024-06-01T15:11:01.270Z"
   },
   {
    "duration": 35,
    "start_time": "2024-06-01T15:11:02.377Z"
   },
   {
    "duration": 23,
    "start_time": "2024-06-01T15:11:03.236Z"
   },
   {
    "duration": 16,
    "start_time": "2024-06-01T15:11:03.494Z"
   },
   {
    "duration": 45,
    "start_time": "2024-06-01T15:11:04.752Z"
   },
   {
    "duration": 178,
    "start_time": "2024-06-01T15:11:07.140Z"
   },
   {
    "duration": 19,
    "start_time": "2024-06-01T15:11:08.930Z"
   },
   {
    "duration": 10,
    "start_time": "2024-06-01T15:11:09.743Z"
   },
   {
    "duration": 37,
    "start_time": "2024-06-01T15:11:13.163Z"
   },
   {
    "duration": 169,
    "start_time": "2024-06-01T15:11:18.383Z"
   },
   {
    "duration": 207,
    "start_time": "2024-06-01T15:12:38.250Z"
   },
   {
    "duration": 180,
    "start_time": "2024-06-01T15:12:50.090Z"
   },
   {
    "duration": 24,
    "start_time": "2024-06-01T15:27:40.193Z"
   },
   {
    "duration": 11,
    "start_time": "2024-06-01T15:27:58.263Z"
   },
   {
    "duration": 81,
    "start_time": "2024-06-01T15:36:25.648Z"
   },
   {
    "duration": 75,
    "start_time": "2024-06-01T15:36:33.797Z"
   },
   {
    "duration": 187,
    "start_time": "2024-06-01T15:37:23.913Z"
   },
   {
    "duration": 248,
    "start_time": "2024-06-01T15:37:59.561Z"
   },
   {
    "duration": 412,
    "start_time": "2024-06-01T15:38:11.613Z"
   },
   {
    "duration": 177,
    "start_time": "2024-06-01T15:38:37.874Z"
   },
   {
    "duration": 4,
    "start_time": "2024-06-01T15:38:44.839Z"
   },
   {
    "duration": 321,
    "start_time": "2024-06-01T15:38:45.325Z"
   },
   {
    "duration": 132,
    "start_time": "2024-06-01T15:38:45.727Z"
   },
   {
    "duration": 17,
    "start_time": "2024-06-01T15:38:46.503Z"
   },
   {
    "duration": 12,
    "start_time": "2024-06-01T15:38:46.707Z"
   },
   {
    "duration": 6,
    "start_time": "2024-06-01T15:38:47.671Z"
   },
   {
    "duration": 5,
    "start_time": "2024-06-01T15:38:47.900Z"
   },
   {
    "duration": 27,
    "start_time": "2024-06-01T15:38:48.505Z"
   },
   {
    "duration": 13,
    "start_time": "2024-06-01T15:38:48.958Z"
   },
   {
    "duration": 13,
    "start_time": "2024-06-01T15:38:49.127Z"
   },
   {
    "duration": 20,
    "start_time": "2024-06-01T15:38:50.155Z"
   },
   {
    "duration": 36,
    "start_time": "2024-06-01T15:38:51.146Z"
   },
   {
    "duration": 28,
    "start_time": "2024-06-01T15:38:51.899Z"
   },
   {
    "duration": 17,
    "start_time": "2024-06-01T15:38:52.099Z"
   },
   {
    "duration": 59,
    "start_time": "2024-06-01T15:38:53.112Z"
   },
   {
    "duration": 190,
    "start_time": "2024-06-01T15:38:53.952Z"
   },
   {
    "duration": 21,
    "start_time": "2024-06-01T15:38:54.517Z"
   },
   {
    "duration": 17,
    "start_time": "2024-06-01T15:38:55.095Z"
   },
   {
    "duration": 33,
    "start_time": "2024-06-01T15:38:58.154Z"
   },
   {
    "duration": 174,
    "start_time": "2024-06-01T15:39:03.579Z"
   },
   {
    "duration": 25,
    "start_time": "2024-06-01T15:39:09.596Z"
   },
   {
    "duration": 15,
    "start_time": "2024-06-01T15:39:10.939Z"
   },
   {
    "duration": 514,
    "start_time": "2024-06-01T15:41:52.843Z"
   },
   {
    "duration": 10,
    "start_time": "2024-06-01T15:41:58.060Z"
   },
   {
    "duration": 170,
    "start_time": "2024-06-01T15:42:03.643Z"
   },
   {
    "duration": 168,
    "start_time": "2024-06-01T15:42:15.843Z"
   },
   {
    "duration": 46,
    "start_time": "2024-06-01T15:42:38.992Z"
   },
   {
    "duration": 13,
    "start_time": "2024-06-01T15:46:39.003Z"
   },
   {
    "duration": 43,
    "start_time": "2024-06-01T16:09:53.378Z"
   },
   {
    "duration": 4,
    "start_time": "2024-06-01T16:10:00.932Z"
   },
   {
    "duration": 281,
    "start_time": "2024-06-01T16:10:02.879Z"
   },
   {
    "duration": 143,
    "start_time": "2024-06-01T16:10:03.163Z"
   },
   {
    "duration": 13,
    "start_time": "2024-06-01T16:10:04.593Z"
   },
   {
    "duration": 12,
    "start_time": "2024-06-01T16:10:04.797Z"
   },
   {
    "duration": 6,
    "start_time": "2024-06-01T16:10:05.697Z"
   },
   {
    "duration": 4,
    "start_time": "2024-06-01T16:10:05.881Z"
   },
   {
    "duration": 26,
    "start_time": "2024-06-01T16:10:06.440Z"
   },
   {
    "duration": 15,
    "start_time": "2024-06-01T16:10:06.766Z"
   },
   {
    "duration": 13,
    "start_time": "2024-06-01T16:10:06.944Z"
   },
   {
    "duration": 20,
    "start_time": "2024-06-01T16:10:07.874Z"
   },
   {
    "duration": 34,
    "start_time": "2024-06-01T16:10:08.906Z"
   },
   {
    "duration": 27,
    "start_time": "2024-06-01T16:10:09.862Z"
   },
   {
    "duration": 13,
    "start_time": "2024-06-01T16:10:10.048Z"
   },
   {
    "duration": 47,
    "start_time": "2024-06-01T16:10:11.073Z"
   },
   {
    "duration": 189,
    "start_time": "2024-06-01T16:10:11.773Z"
   },
   {
    "duration": 20,
    "start_time": "2024-06-01T16:10:12.286Z"
   },
   {
    "duration": 10,
    "start_time": "2024-06-01T16:10:12.464Z"
   },
   {
    "duration": 31,
    "start_time": "2024-06-01T16:10:14.887Z"
   },
   {
    "duration": 157,
    "start_time": "2024-06-01T16:10:16.965Z"
   },
   {
    "duration": 21,
    "start_time": "2024-06-01T16:10:21.477Z"
   },
   {
    "duration": 11,
    "start_time": "2024-06-01T16:10:22.950Z"
   },
   {
    "duration": 37,
    "start_time": "2024-06-01T16:10:29.329Z"
   },
   {
    "duration": 43,
    "start_time": "2024-06-01T16:10:34.277Z"
   },
   {
    "duration": 120,
    "start_time": "2024-06-01T16:11:59.346Z"
   },
   {
    "duration": 129,
    "start_time": "2024-06-01T16:12:14.503Z"
   },
   {
    "duration": 123,
    "start_time": "2024-06-01T16:12:35.356Z"
   },
   {
    "duration": 4,
    "start_time": "2024-06-01T16:12:58.181Z"
   },
   {
    "duration": 276,
    "start_time": "2024-06-01T16:12:58.508Z"
   },
   {
    "duration": 137,
    "start_time": "2024-06-01T16:12:58.786Z"
   },
   {
    "duration": 13,
    "start_time": "2024-06-01T16:12:59.295Z"
   },
   {
    "duration": 12,
    "start_time": "2024-06-01T16:12:59.442Z"
   },
   {
    "duration": 7,
    "start_time": "2024-06-01T16:13:00.279Z"
   },
   {
    "duration": 4,
    "start_time": "2024-06-01T16:13:00.490Z"
   },
   {
    "duration": 28,
    "start_time": "2024-06-01T16:13:01.017Z"
   },
   {
    "duration": 13,
    "start_time": "2024-06-01T16:13:01.337Z"
   },
   {
    "duration": 13,
    "start_time": "2024-06-01T16:13:01.498Z"
   },
   {
    "duration": 19,
    "start_time": "2024-06-01T16:13:02.343Z"
   },
   {
    "duration": 34,
    "start_time": "2024-06-01T16:13:03.166Z"
   },
   {
    "duration": 24,
    "start_time": "2024-06-01T16:13:03.796Z"
   },
   {
    "duration": 10,
    "start_time": "2024-06-01T16:13:03.970Z"
   },
   {
    "duration": 46,
    "start_time": "2024-06-01T16:13:04.803Z"
   },
   {
    "duration": 197,
    "start_time": "2024-06-01T16:13:05.519Z"
   },
   {
    "duration": 20,
    "start_time": "2024-06-01T16:13:06.083Z"
   },
   {
    "duration": 9,
    "start_time": "2024-06-01T16:13:06.256Z"
   },
   {
    "duration": 30,
    "start_time": "2024-06-01T16:13:07.120Z"
   },
   {
    "duration": 158,
    "start_time": "2024-06-01T16:13:07.800Z"
   },
   {
    "duration": 23,
    "start_time": "2024-06-01T16:13:08.586Z"
   },
   {
    "duration": 12,
    "start_time": "2024-06-01T16:13:08.866Z"
   },
   {
    "duration": 37,
    "start_time": "2024-06-01T16:13:09.774Z"
   },
   {
    "duration": 119,
    "start_time": "2024-06-01T16:13:11.283Z"
   },
   {
    "duration": 14,
    "start_time": "2024-06-01T16:14:05.070Z"
   },
   {
    "duration": 4920,
    "start_time": "2024-06-02T14:22:38.615Z"
   },
   {
    "duration": 379,
    "start_time": "2024-06-02T14:22:43.539Z"
   },
   {
    "duration": 160,
    "start_time": "2024-06-02T14:22:43.922Z"
   },
   {
    "duration": 30,
    "start_time": "2024-06-02T14:22:44.085Z"
   },
   {
    "duration": 17,
    "start_time": "2024-06-02T14:22:44.118Z"
   },
   {
    "duration": 7,
    "start_time": "2024-06-02T14:22:44.137Z"
   },
   {
    "duration": 5,
    "start_time": "2024-06-02T14:22:44.148Z"
   },
   {
    "duration": 73,
    "start_time": "2024-06-02T14:22:44.156Z"
   },
   {
    "duration": 15,
    "start_time": "2024-06-02T14:22:44.516Z"
   },
   {
    "duration": 14,
    "start_time": "2024-06-02T14:22:45.226Z"
   },
   {
    "duration": 20,
    "start_time": "2024-06-02T14:22:46.090Z"
   },
   {
    "duration": 36,
    "start_time": "2024-06-02T14:22:46.972Z"
   },
   {
    "duration": 25,
    "start_time": "2024-06-02T14:22:47.649Z"
   },
   {
    "duration": 11,
    "start_time": "2024-06-02T14:22:47.828Z"
   },
   {
    "duration": 49,
    "start_time": "2024-06-02T14:22:48.749Z"
   },
   {
    "duration": 200,
    "start_time": "2024-06-02T14:22:51.476Z"
   },
   {
    "duration": 20,
    "start_time": "2024-06-02T14:22:51.967Z"
   },
   {
    "duration": 9,
    "start_time": "2024-06-02T14:22:52.115Z"
   },
   {
    "duration": 32,
    "start_time": "2024-06-02T14:22:53.033Z"
   },
   {
    "duration": 167,
    "start_time": "2024-06-02T14:22:54.679Z"
   },
   {
    "duration": 21,
    "start_time": "2024-06-02T14:22:55.410Z"
   },
   {
    "duration": 12,
    "start_time": "2024-06-02T14:22:55.657Z"
   },
   {
    "duration": 37,
    "start_time": "2024-06-02T14:22:58.765Z"
   },
   {
    "duration": 122,
    "start_time": "2024-06-02T14:23:00.439Z"
   },
   {
    "duration": 13,
    "start_time": "2024-06-02T14:23:08.033Z"
   },
   {
    "duration": 144,
    "start_time": "2024-06-02T14:29:12.348Z"
   },
   {
    "duration": 23,
    "start_time": "2024-06-02T14:36:55.958Z"
   },
   {
    "duration": 420,
    "start_time": "2024-06-02T14:38:14.112Z"
   },
   {
    "duration": 38,
    "start_time": "2024-06-02T14:38:26.511Z"
   },
   {
    "duration": 754,
    "start_time": "2024-06-02T14:39:19.969Z"
   },
   {
    "duration": 35,
    "start_time": "2024-06-02T14:39:46.119Z"
   },
   {
    "duration": 35,
    "start_time": "2024-06-02T14:40:11.251Z"
   },
   {
    "duration": 83,
    "start_time": "2024-06-02T14:41:33.269Z"
   },
   {
    "duration": 39,
    "start_time": "2024-06-02T14:45:45.586Z"
   },
   {
    "duration": 96,
    "start_time": "2024-06-02T14:47:39.318Z"
   },
   {
    "duration": 33,
    "start_time": "2024-06-02T14:47:50.822Z"
   },
   {
    "duration": 35,
    "start_time": "2024-06-02T14:48:18.537Z"
   },
   {
    "duration": 32,
    "start_time": "2024-06-02T14:49:40.693Z"
   },
   {
    "duration": 35,
    "start_time": "2024-06-02T14:50:01.760Z"
   },
   {
    "duration": 35,
    "start_time": "2024-06-02T14:58:38.459Z"
   },
   {
    "duration": 4881,
    "start_time": "2024-06-02T16:03:08.993Z"
   },
   {
    "duration": 379,
    "start_time": "2024-06-02T16:03:13.878Z"
   },
   {
    "duration": 170,
    "start_time": "2024-06-02T16:03:14.260Z"
   },
   {
    "duration": 15,
    "start_time": "2024-06-02T16:03:14.435Z"
   },
   {
    "duration": 18,
    "start_time": "2024-06-02T16:03:14.453Z"
   },
   {
    "duration": 6,
    "start_time": "2024-06-02T16:03:14.474Z"
   },
   {
    "duration": 4,
    "start_time": "2024-06-02T16:03:14.484Z"
   },
   {
    "duration": 30,
    "start_time": "2024-06-02T16:03:14.531Z"
   },
   {
    "duration": 14,
    "start_time": "2024-06-02T16:03:14.564Z"
   },
   {
    "duration": 50,
    "start_time": "2024-06-02T16:03:14.583Z"
   },
   {
    "duration": 21,
    "start_time": "2024-06-02T16:03:15.044Z"
   },
   {
    "duration": 33,
    "start_time": "2024-06-02T16:03:16.340Z"
   },
   {
    "duration": 24,
    "start_time": "2024-06-02T16:03:16.935Z"
   },
   {
    "duration": 11,
    "start_time": "2024-06-02T16:03:17.152Z"
   },
   {
    "duration": 47,
    "start_time": "2024-06-02T16:03:18.331Z"
   },
   {
    "duration": 189,
    "start_time": "2024-06-02T16:03:19.030Z"
   },
   {
    "duration": 19,
    "start_time": "2024-06-02T16:03:19.607Z"
   },
   {
    "duration": 9,
    "start_time": "2024-06-02T16:03:19.963Z"
   },
   {
    "duration": 31,
    "start_time": "2024-06-02T16:03:25.477Z"
   },
   {
    "duration": 161,
    "start_time": "2024-06-02T16:03:26.059Z"
   },
   {
    "duration": 22,
    "start_time": "2024-06-02T16:03:26.603Z"
   },
   {
    "duration": 11,
    "start_time": "2024-06-02T16:03:26.826Z"
   },
   {
    "duration": 37,
    "start_time": "2024-06-02T16:03:28.463Z"
   },
   {
    "duration": 120,
    "start_time": "2024-06-02T16:03:33.902Z"
   },
   {
    "duration": 16,
    "start_time": "2024-06-02T16:03:38.688Z"
   },
   {
    "duration": 131,
    "start_time": "2024-06-02T16:03:41.693Z"
   },
   {
    "duration": 39,
    "start_time": "2024-06-02T16:03:46.092Z"
   },
   {
    "duration": 40,
    "start_time": "2024-06-02T16:03:57.203Z"
   },
   {
    "duration": 399,
    "start_time": "2024-06-02T16:04:02.043Z"
   },
   {
    "duration": 27,
    "start_time": "2024-06-02T16:05:16.584Z"
   },
   {
    "duration": 48,
    "start_time": "2024-06-02T16:07:35.092Z"
   },
   {
    "duration": 51,
    "start_time": "2024-06-02T16:07:49.329Z"
   },
   {
    "duration": 21,
    "start_time": "2024-06-02T16:19:24.943Z"
   },
   {
    "duration": 27,
    "start_time": "2024-06-02T16:19:41.371Z"
   },
   {
    "duration": 39,
    "start_time": "2024-06-02T16:19:52.029Z"
   },
   {
    "duration": 32,
    "start_time": "2024-06-02T16:20:16.694Z"
   },
   {
    "duration": 32,
    "start_time": "2024-06-02T16:20:28.770Z"
   },
   {
    "duration": 42,
    "start_time": "2024-06-02T16:21:02.883Z"
   },
   {
    "duration": 40,
    "start_time": "2024-06-02T16:21:18.530Z"
   },
   {
    "duration": 31,
    "start_time": "2024-06-02T16:21:28.871Z"
   },
   {
    "duration": 3,
    "start_time": "2024-06-02T16:21:41.059Z"
   },
   {
    "duration": 301,
    "start_time": "2024-06-02T16:21:41.303Z"
   },
   {
    "duration": 128,
    "start_time": "2024-06-02T16:21:41.607Z"
   },
   {
    "duration": 14,
    "start_time": "2024-06-02T16:21:42.213Z"
   },
   {
    "duration": 15,
    "start_time": "2024-06-02T16:21:42.523Z"
   },
   {
    "duration": 6,
    "start_time": "2024-06-02T16:21:43.402Z"
   },
   {
    "duration": 5,
    "start_time": "2024-06-02T16:21:43.663Z"
   },
   {
    "duration": 27,
    "start_time": "2024-06-02T16:21:44.227Z"
   },
   {
    "duration": 13,
    "start_time": "2024-06-02T16:21:44.543Z"
   },
   {
    "duration": 13,
    "start_time": "2024-06-02T16:21:44.701Z"
   },
   {
    "duration": 23,
    "start_time": "2024-06-02T16:21:45.731Z"
   },
   {
    "duration": 33,
    "start_time": "2024-06-02T16:21:46.436Z"
   },
   {
    "duration": 24,
    "start_time": "2024-06-02T16:21:47.082Z"
   },
   {
    "duration": 11,
    "start_time": "2024-06-02T16:21:47.240Z"
   },
   {
    "duration": 46,
    "start_time": "2024-06-02T16:22:05.587Z"
   },
   {
    "duration": 184,
    "start_time": "2024-06-02T16:22:08.469Z"
   },
   {
    "duration": 19,
    "start_time": "2024-06-02T16:22:09.500Z"
   },
   {
    "duration": 9,
    "start_time": "2024-06-02T16:22:09.619Z"
   },
   {
    "duration": 29,
    "start_time": "2024-06-02T16:22:11.580Z"
   },
   {
    "duration": 163,
    "start_time": "2024-06-02T16:22:12.733Z"
   },
   {
    "duration": 21,
    "start_time": "2024-06-02T16:22:13.320Z"
   },
   {
    "duration": 11,
    "start_time": "2024-06-02T16:22:13.502Z"
   },
   {
    "duration": 37,
    "start_time": "2024-06-02T16:22:14.395Z"
   },
   {
    "duration": 122,
    "start_time": "2024-06-02T16:22:14.918Z"
   },
   {
    "duration": 13,
    "start_time": "2024-06-02T16:22:15.420Z"
   },
   {
    "duration": 96,
    "start_time": "2024-06-02T16:22:15.892Z"
   },
   {
    "duration": 38,
    "start_time": "2024-06-02T16:22:16.075Z"
   },
   {
    "duration": 46,
    "start_time": "2024-06-02T16:22:16.413Z"
   },
   {
    "duration": 28,
    "start_time": "2024-06-02T16:22:16.563Z"
   },
   {
    "duration": 30,
    "start_time": "2024-06-02T16:22:17.314Z"
   },
   {
    "duration": 3,
    "start_time": "2024-06-02T16:22:17.693Z"
   },
   {
    "duration": 3,
    "start_time": "2024-06-02T16:22:17.894Z"
   },
   {
    "duration": 14,
    "start_time": "2024-06-02T16:30:34.156Z"
   },
   {
    "duration": 45,
    "start_time": "2024-06-02T16:31:35.745Z"
   },
   {
    "duration": 28,
    "start_time": "2024-06-02T16:41:06.190Z"
   },
   {
    "duration": 20,
    "start_time": "2024-06-02T16:42:17.039Z"
   },
   {
    "duration": 44,
    "start_time": "2024-06-02T16:42:48.874Z"
   },
   {
    "duration": 37,
    "start_time": "2024-06-02T16:43:59.693Z"
   },
   {
    "duration": 32,
    "start_time": "2024-06-02T16:44:34.084Z"
   },
   {
    "duration": 42,
    "start_time": "2024-06-02T16:47:50.731Z"
   },
   {
    "duration": 42,
    "start_time": "2024-06-02T16:51:21.684Z"
   },
   {
    "duration": 51,
    "start_time": "2024-06-02T16:57:59.484Z"
   },
   {
    "duration": 46,
    "start_time": "2024-06-02T16:58:24.163Z"
   },
   {
    "duration": 49,
    "start_time": "2024-06-02T16:58:38.844Z"
   },
   {
    "duration": 35,
    "start_time": "2024-06-02T16:59:50.153Z"
   },
   {
    "duration": 52,
    "start_time": "2024-06-02T17:00:01.767Z"
   },
   {
    "duration": 59,
    "start_time": "2024-06-02T17:01:12.383Z"
   },
   {
    "duration": 36,
    "start_time": "2024-06-02T17:03:01.592Z"
   },
   {
    "duration": 7,
    "start_time": "2024-06-02T17:03:46.364Z"
   },
   {
    "duration": 47,
    "start_time": "2024-06-02T17:04:36.520Z"
   },
   {
    "duration": 30,
    "start_time": "2024-06-02T17:04:59.885Z"
   },
   {
    "duration": 46,
    "start_time": "2024-06-02T17:05:34.032Z"
   },
   {
    "duration": 106,
    "start_time": "2024-06-02T17:07:15.349Z"
   },
   {
    "duration": 66,
    "start_time": "2024-06-02T17:09:43.000Z"
   },
   {
    "duration": 95,
    "start_time": "2024-06-02T17:13:39.074Z"
   },
   {
    "duration": 41,
    "start_time": "2024-06-02T17:17:57.660Z"
   },
   {
    "duration": 33,
    "start_time": "2024-06-02T17:26:35.064Z"
   },
   {
    "duration": 44,
    "start_time": "2024-06-02T17:28:07.009Z"
   },
   {
    "duration": 61,
    "start_time": "2024-06-02T17:30:24.154Z"
   },
   {
    "duration": 57,
    "start_time": "2024-06-02T17:30:45.521Z"
   },
   {
    "duration": 4,
    "start_time": "2024-06-02T17:35:50.637Z"
   },
   {
    "duration": 282,
    "start_time": "2024-06-02T17:35:51.129Z"
   },
   {
    "duration": 142,
    "start_time": "2024-06-02T17:35:51.462Z"
   },
   {
    "duration": 18,
    "start_time": "2024-06-02T17:35:52.613Z"
   },
   {
    "duration": 12,
    "start_time": "2024-06-02T17:35:52.752Z"
   },
   {
    "duration": 5,
    "start_time": "2024-06-02T17:35:54.192Z"
   },
   {
    "duration": 4,
    "start_time": "2024-06-02T17:35:54.219Z"
   },
   {
    "duration": 26,
    "start_time": "2024-06-02T17:35:54.939Z"
   },
   {
    "duration": 14,
    "start_time": "2024-06-02T17:35:55.474Z"
   },
   {
    "duration": 14,
    "start_time": "2024-06-02T17:35:55.682Z"
   },
   {
    "duration": 19,
    "start_time": "2024-06-02T17:35:56.870Z"
   },
   {
    "duration": 36,
    "start_time": "2024-06-02T17:35:57.822Z"
   },
   {
    "duration": 25,
    "start_time": "2024-06-02T17:35:58.693Z"
   },
   {
    "duration": 12,
    "start_time": "2024-06-02T17:35:58.881Z"
   },
   {
    "duration": 46,
    "start_time": "2024-06-02T17:36:00.125Z"
   },
   {
    "duration": 185,
    "start_time": "2024-06-02T17:36:01.091Z"
   },
   {
    "duration": 22,
    "start_time": "2024-06-02T17:36:01.713Z"
   },
   {
    "duration": 11,
    "start_time": "2024-06-02T17:36:01.912Z"
   },
   {
    "duration": 30,
    "start_time": "2024-06-02T17:36:03.111Z"
   },
   {
    "duration": 158,
    "start_time": "2024-06-02T17:36:03.781Z"
   },
   {
    "duration": 21,
    "start_time": "2024-06-02T17:36:04.393Z"
   },
   {
    "duration": 11,
    "start_time": "2024-06-02T17:36:04.640Z"
   },
   {
    "duration": 48,
    "start_time": "2024-06-02T17:36:05.638Z"
   },
   {
    "duration": 132,
    "start_time": "2024-06-02T17:36:06.266Z"
   },
   {
    "duration": 13,
    "start_time": "2024-06-02T17:36:08.313Z"
   },
   {
    "duration": 104,
    "start_time": "2024-06-02T17:36:10.831Z"
   },
   {
    "duration": 47,
    "start_time": "2024-06-02T17:36:11.981Z"
   },
   {
    "duration": 40,
    "start_time": "2024-06-02T17:36:13.994Z"
   },
   {
    "duration": 27,
    "start_time": "2024-06-02T17:36:15.553Z"
   },
   {
    "duration": 31,
    "start_time": "2024-06-02T17:36:17.079Z"
   },
   {
    "duration": 30,
    "start_time": "2024-06-02T17:36:19.275Z"
   },
   {
    "duration": 56,
    "start_time": "2024-06-02T17:36:20.880Z"
   },
   {
    "duration": 25,
    "start_time": "2024-06-02T17:40:25.934Z"
   },
   {
    "duration": 29,
    "start_time": "2024-06-02T17:40:34.699Z"
   },
   {
    "duration": 28,
    "start_time": "2024-06-02T17:44:10.827Z"
   },
   {
    "duration": 4,
    "start_time": "2024-06-02T17:44:50.851Z"
   },
   {
    "duration": 302,
    "start_time": "2024-06-02T17:44:51.376Z"
   },
   {
    "duration": 150,
    "start_time": "2024-06-02T17:44:51.682Z"
   },
   {
    "duration": 21,
    "start_time": "2024-06-02T17:44:52.674Z"
   },
   {
    "duration": 14,
    "start_time": "2024-06-02T17:44:52.756Z"
   },
   {
    "duration": 5,
    "start_time": "2024-06-02T17:44:53.851Z"
   },
   {
    "duration": 5,
    "start_time": "2024-06-02T17:44:54.029Z"
   },
   {
    "duration": 28,
    "start_time": "2024-06-02T17:44:54.614Z"
   },
   {
    "duration": 25,
    "start_time": "2024-06-02T17:44:55.024Z"
   },
   {
    "duration": 15,
    "start_time": "2024-06-02T17:44:55.253Z"
   },
   {
    "duration": 24,
    "start_time": "2024-06-02T17:44:56.314Z"
   },
   {
    "duration": 40,
    "start_time": "2024-06-02T17:44:57.556Z"
   },
   {
    "duration": 31,
    "start_time": "2024-06-02T17:44:58.213Z"
   },
   {
    "duration": 15,
    "start_time": "2024-06-02T17:44:58.442Z"
   },
   {
    "duration": 46,
    "start_time": "2024-06-02T17:44:59.665Z"
   },
   {
    "duration": 258,
    "start_time": "2024-06-02T17:45:00.341Z"
   },
   {
    "duration": 19,
    "start_time": "2024-06-02T17:45:00.954Z"
   },
   {
    "duration": 9,
    "start_time": "2024-06-02T17:45:01.163Z"
   },
   {
    "duration": 30,
    "start_time": "2024-06-02T17:45:02.581Z"
   },
   {
    "duration": 153,
    "start_time": "2024-06-02T17:45:03.294Z"
   },
   {
    "duration": 21,
    "start_time": "2024-06-02T17:45:03.845Z"
   },
   {
    "duration": 11,
    "start_time": "2024-06-02T17:45:04.055Z"
   },
   {
    "duration": 36,
    "start_time": "2024-06-02T17:45:05.137Z"
   },
   {
    "duration": 158,
    "start_time": "2024-06-02T17:45:05.884Z"
   },
   {
    "duration": 18,
    "start_time": "2024-06-02T17:45:07.933Z"
   },
   {
    "duration": 110,
    "start_time": "2024-06-02T17:45:16.428Z"
   },
   {
    "duration": 40,
    "start_time": "2024-06-02T17:45:36.084Z"
   },
   {
    "duration": 34,
    "start_time": "2024-06-02T17:45:40.032Z"
   },
   {
    "duration": 26,
    "start_time": "2024-06-02T17:45:43.136Z"
   },
   {
    "duration": 31,
    "start_time": "2024-06-02T17:45:47.283Z"
   },
   {
    "duration": 32,
    "start_time": "2024-06-02T17:45:51.834Z"
   },
   {
    "duration": 57,
    "start_time": "2024-06-02T17:46:07.519Z"
   },
   {
    "duration": 26,
    "start_time": "2024-06-02T17:46:20.263Z"
   },
   {
    "duration": 30,
    "start_time": "2024-06-02T17:46:39.260Z"
   },
   {
    "duration": 31,
    "start_time": "2024-06-02T17:46:52.632Z"
   },
   {
    "duration": 69,
    "start_time": "2024-06-02T17:50:34.344Z"
   },
   {
    "duration": 36,
    "start_time": "2024-06-02T17:51:48.074Z"
   },
   {
    "duration": 31,
    "start_time": "2024-06-02T17:52:33.084Z"
   },
   {
    "duration": 34,
    "start_time": "2024-06-02T17:52:40.483Z"
   },
   {
    "duration": 44,
    "start_time": "2024-06-02T17:52:57.560Z"
   },
   {
    "duration": 32,
    "start_time": "2024-06-02T17:53:10.943Z"
   },
   {
    "duration": 28,
    "start_time": "2024-06-02T17:53:17.903Z"
   },
   {
    "duration": 39,
    "start_time": "2024-06-02T17:53:35.104Z"
   },
   {
    "duration": 34,
    "start_time": "2024-06-02T17:53:43.152Z"
   },
   {
    "duration": 42,
    "start_time": "2024-06-02T17:53:58.014Z"
   },
   {
    "duration": 33,
    "start_time": "2024-06-02T17:54:04.992Z"
   },
   {
    "duration": 30,
    "start_time": "2024-06-02T17:54:43.953Z"
   },
   {
    "duration": 57,
    "start_time": "2024-06-02T17:55:07.617Z"
   },
   {
    "duration": 27,
    "start_time": "2024-06-02T18:00:13.831Z"
   },
   {
    "duration": 4,
    "start_time": "2024-06-02T18:00:48.133Z"
   },
   {
    "duration": 275,
    "start_time": "2024-06-02T18:00:48.443Z"
   },
   {
    "duration": 133,
    "start_time": "2024-06-02T18:00:48.721Z"
   },
   {
    "duration": 15,
    "start_time": "2024-06-02T18:00:49.381Z"
   },
   {
    "duration": 13,
    "start_time": "2024-06-02T18:00:49.570Z"
   },
   {
    "duration": 5,
    "start_time": "2024-06-02T18:00:50.701Z"
   },
   {
    "duration": 4,
    "start_time": "2024-06-02T18:00:50.711Z"
   },
   {
    "duration": 26,
    "start_time": "2024-06-02T18:00:51.241Z"
   },
   {
    "duration": 13,
    "start_time": "2024-06-02T18:00:51.616Z"
   },
   {
    "duration": 16,
    "start_time": "2024-06-02T18:00:51.784Z"
   },
   {
    "duration": 21,
    "start_time": "2024-06-02T18:00:52.699Z"
   },
   {
    "duration": 33,
    "start_time": "2024-06-02T18:00:53.778Z"
   },
   {
    "duration": 24,
    "start_time": "2024-06-02T18:00:54.306Z"
   },
   {
    "duration": 11,
    "start_time": "2024-06-02T18:00:54.506Z"
   },
   {
    "duration": 46,
    "start_time": "2024-06-02T18:00:55.580Z"
   },
   {
    "duration": 183,
    "start_time": "2024-06-02T18:00:56.178Z"
   },
   {
    "duration": 22,
    "start_time": "2024-06-02T18:00:56.674Z"
   },
   {
    "duration": 13,
    "start_time": "2024-06-02T18:00:56.893Z"
   },
   {
    "duration": 35,
    "start_time": "2024-06-02T18:00:57.981Z"
   },
   {
    "duration": 154,
    "start_time": "2024-06-02T18:00:58.589Z"
   },
   {
    "duration": 22,
    "start_time": "2024-06-02T18:00:59.285Z"
   },
   {
    "duration": 12,
    "start_time": "2024-06-02T18:00:59.483Z"
   },
   {
    "duration": 36,
    "start_time": "2024-06-02T18:01:00.571Z"
   },
   {
    "duration": 123,
    "start_time": "2024-06-02T18:01:01.029Z"
   },
   {
    "duration": 16,
    "start_time": "2024-06-02T18:01:02.386Z"
   },
   {
    "duration": 105,
    "start_time": "2024-06-02T18:01:03.513Z"
   },
   {
    "duration": 35,
    "start_time": "2024-06-02T18:01:04.017Z"
   },
   {
    "duration": 35,
    "start_time": "2024-06-02T18:01:05.524Z"
   },
   {
    "duration": 26,
    "start_time": "2024-06-02T18:01:06.158Z"
   },
   {
    "duration": 29,
    "start_time": "2024-06-02T18:01:06.590Z"
   },
   {
    "duration": 30,
    "start_time": "2024-06-02T18:01:07.007Z"
   },
   {
    "duration": 63,
    "start_time": "2024-06-02T18:01:07.191Z"
   },
   {
    "duration": 24,
    "start_time": "2024-06-02T18:01:07.597Z"
   },
   {
    "duration": 3,
    "start_time": "2024-06-02T18:01:08.433Z"
   },
   {
    "duration": 3,
    "start_time": "2024-06-02T18:01:08.637Z"
   },
   {
    "duration": 3,
    "start_time": "2024-06-02T18:01:09.993Z"
   },
   {
    "duration": 3,
    "start_time": "2024-06-02T18:01:10.483Z"
   },
   {
    "duration": 65,
    "start_time": "2024-06-02T18:04:05.373Z"
   },
   {
    "duration": 28,
    "start_time": "2024-06-02T18:04:20.594Z"
   },
   {
    "duration": 35,
    "start_time": "2024-06-02T18:04:56.064Z"
   },
   {
    "duration": 32,
    "start_time": "2024-06-02T18:06:23.321Z"
   },
   {
    "duration": 24,
    "start_time": "2024-06-02T18:12:51.432Z"
   },
   {
    "duration": 54,
    "start_time": "2024-06-02T18:14:40.542Z"
   },
   {
    "duration": 26,
    "start_time": "2024-06-02T18:37:31.126Z"
   },
   {
    "duration": 17,
    "start_time": "2024-06-02T18:40:39.614Z"
   },
   {
    "duration": 30,
    "start_time": "2024-06-02T18:51:09.763Z"
   },
   {
    "duration": 23,
    "start_time": "2024-06-02T18:51:21.119Z"
   },
   {
    "duration": 35,
    "start_time": "2024-06-02T18:51:34.474Z"
   },
   {
    "duration": 42,
    "start_time": "2024-06-02T18:55:52.751Z"
   },
   {
    "duration": 35,
    "start_time": "2024-06-02T18:56:05.646Z"
   },
   {
    "duration": 28,
    "start_time": "2024-06-02T18:56:14.281Z"
   },
   {
    "duration": 48,
    "start_time": "2024-06-02T18:56:19.783Z"
   },
   {
    "duration": 54,
    "start_time": "2024-06-02T18:56:31.899Z"
   },
   {
    "duration": 35,
    "start_time": "2024-06-02T18:56:47.873Z"
   },
   {
    "duration": 2503,
    "start_time": "2024-06-02T18:57:48.128Z"
   },
   {
    "duration": 6,
    "start_time": "2024-06-02T19:08:30.828Z"
   },
   {
    "duration": 30,
    "start_time": "2024-06-02T19:08:59.823Z"
   },
   {
    "duration": 1585,
    "start_time": "2024-06-02T19:09:12.954Z"
   },
   {
    "duration": 4999,
    "start_time": "2024-06-02T20:05:40.440Z"
   },
   {
    "duration": 386,
    "start_time": "2024-06-02T20:05:45.443Z"
   },
   {
    "duration": 161,
    "start_time": "2024-06-02T20:05:45.832Z"
   },
   {
    "duration": 29,
    "start_time": "2024-06-02T20:05:45.997Z"
   },
   {
    "duration": 20,
    "start_time": "2024-06-02T20:05:46.030Z"
   },
   {
    "duration": 6,
    "start_time": "2024-06-02T20:05:48.388Z"
   },
   {
    "duration": 5,
    "start_time": "2024-06-02T20:05:48.654Z"
   },
   {
    "duration": 30,
    "start_time": "2024-06-02T20:05:49.461Z"
   },
   {
    "duration": 14,
    "start_time": "2024-06-02T20:05:50.041Z"
   },
   {
    "duration": 16,
    "start_time": "2024-06-02T20:05:50.276Z"
   },
   {
    "duration": 21,
    "start_time": "2024-06-02T20:05:51.356Z"
   },
   {
    "duration": 35,
    "start_time": "2024-06-02T20:05:52.391Z"
   },
   {
    "duration": 25,
    "start_time": "2024-06-02T20:05:53.272Z"
   },
   {
    "duration": 17,
    "start_time": "2024-06-02T20:05:53.465Z"
   },
   {
    "duration": 55,
    "start_time": "2024-06-02T20:05:54.536Z"
   },
   {
    "duration": 192,
    "start_time": "2024-06-02T20:05:55.404Z"
   },
   {
    "duration": 23,
    "start_time": "2024-06-02T20:05:56.291Z"
   },
   {
    "duration": 10,
    "start_time": "2024-06-02T20:05:56.558Z"
   },
   {
    "duration": 31,
    "start_time": "2024-06-02T20:05:57.631Z"
   },
   {
    "duration": 162,
    "start_time": "2024-06-02T20:05:58.611Z"
   },
   {
    "duration": 27,
    "start_time": "2024-06-02T20:05:59.313Z"
   },
   {
    "duration": 13,
    "start_time": "2024-06-02T20:05:59.509Z"
   },
   {
    "duration": 40,
    "start_time": "2024-06-02T20:06:00.605Z"
   },
   {
    "duration": 125,
    "start_time": "2024-06-02T20:06:01.508Z"
   },
   {
    "duration": 14,
    "start_time": "2024-06-02T20:06:02.535Z"
   },
   {
    "duration": 102,
    "start_time": "2024-06-02T20:06:03.534Z"
   },
   {
    "duration": 40,
    "start_time": "2024-06-02T20:06:04.333Z"
   },
   {
    "duration": 41,
    "start_time": "2024-06-02T20:06:05.971Z"
   },
   {
    "duration": 31,
    "start_time": "2024-06-02T20:06:10.856Z"
   },
   {
    "duration": 30,
    "start_time": "2024-06-02T20:06:15.006Z"
   },
   {
    "duration": 34,
    "start_time": "2024-06-02T20:06:18.491Z"
   },
   {
    "duration": 48,
    "start_time": "2024-06-02T20:06:19.263Z"
   },
   {
    "duration": 28,
    "start_time": "2024-06-02T20:06:20.998Z"
   },
   {
    "duration": 19,
    "start_time": "2024-06-02T20:06:25.024Z"
   },
   {
    "duration": 37,
    "start_time": "2024-06-02T20:06:28.306Z"
   },
   {
    "duration": 1799,
    "start_time": "2024-06-02T20:06:30.137Z"
   },
   {
    "duration": 1938,
    "start_time": "2024-06-02T20:06:36.485Z"
   },
   {
    "duration": 1753,
    "start_time": "2024-06-02T20:06:44.076Z"
   },
   {
    "duration": 25,
    "start_time": "2024-06-02T20:09:29.698Z"
   },
   {
    "duration": 8,
    "start_time": "2024-06-02T20:09:49.310Z"
   },
   {
    "duration": 455,
    "start_time": "2024-06-02T20:10:07.304Z"
   },
   {
    "duration": 6,
    "start_time": "2024-06-02T20:13:37.466Z"
   },
   {
    "duration": 414,
    "start_time": "2024-06-02T20:13:47.762Z"
   },
   {
    "duration": 208,
    "start_time": "2024-06-02T20:14:26.587Z"
   },
   {
    "duration": 19,
    "start_time": "2024-06-02T20:14:44.921Z"
   },
   {
    "duration": 437,
    "start_time": "2024-06-02T20:18:05.896Z"
   },
   {
    "duration": 27,
    "start_time": "2024-06-02T20:18:30.202Z"
   },
   {
    "duration": 386,
    "start_time": "2024-06-02T20:19:01.329Z"
   },
   {
    "duration": 623,
    "start_time": "2024-06-02T20:19:51.960Z"
   },
   {
    "duration": 447,
    "start_time": "2024-06-02T20:20:03.426Z"
   },
   {
    "duration": 389,
    "start_time": "2024-06-02T20:23:50.790Z"
   },
   {
    "duration": 22,
    "start_time": "2024-06-02T20:24:25.075Z"
   },
   {
    "duration": 419,
    "start_time": "2024-06-02T20:24:27.444Z"
   },
   {
    "duration": 479,
    "start_time": "2024-06-02T20:24:35.740Z"
   },
   {
    "duration": 362,
    "start_time": "2024-06-02T20:24:44.734Z"
   },
   {
    "duration": 385,
    "start_time": "2024-06-02T20:25:47.002Z"
   },
   {
    "duration": 21,
    "start_time": "2024-06-02T20:28:32.091Z"
   },
   {
    "duration": 371,
    "start_time": "2024-06-02T20:29:19.926Z"
   },
   {
    "duration": 577,
    "start_time": "2024-06-02T20:37:43.458Z"
   },
   {
    "duration": 1862,
    "start_time": "2024-06-02T20:48:31.228Z"
   },
   {
    "duration": 319,
    "start_time": "2024-06-02T20:49:44.513Z"
   },
   {
    "duration": 444,
    "start_time": "2024-06-02T20:50:14.219Z"
   },
   {
    "duration": 328,
    "start_time": "2024-06-02T20:50:23.542Z"
   },
   {
    "duration": 11,
    "start_time": "2024-06-02T20:51:17.750Z"
   },
   {
    "duration": 341,
    "start_time": "2024-06-02T20:51:26.507Z"
   },
   {
    "duration": 314,
    "start_time": "2024-06-02T20:53:41.944Z"
   },
   {
    "duration": 326,
    "start_time": "2024-06-02T20:53:53.540Z"
   },
   {
    "duration": 439,
    "start_time": "2024-06-02T20:53:59.830Z"
   },
   {
    "duration": 416,
    "start_time": "2024-06-02T20:54:17.266Z"
   },
   {
    "duration": 705,
    "start_time": "2024-06-02T20:54:24.692Z"
   },
   {
    "duration": 478,
    "start_time": "2024-06-02T20:55:00.213Z"
   },
   {
    "duration": 649,
    "start_time": "2024-06-02T20:55:09.865Z"
   },
   {
    "duration": 646,
    "start_time": "2024-06-02T20:55:24.400Z"
   },
   {
    "duration": 502,
    "start_time": "2024-06-02T21:01:37.930Z"
   },
   {
    "duration": 552,
    "start_time": "2024-06-02T21:02:47.355Z"
   },
   {
    "duration": 26,
    "start_time": "2024-06-02T21:03:59.931Z"
   },
   {
    "duration": 11,
    "start_time": "2024-06-02T21:04:27.232Z"
   },
   {
    "duration": 19,
    "start_time": "2024-06-02T21:04:44.245Z"
   },
   {
    "duration": 11,
    "start_time": "2024-06-02T21:05:00.976Z"
   },
   {
    "duration": 12,
    "start_time": "2024-06-02T21:05:26.847Z"
   },
   {
    "duration": 33,
    "start_time": "2024-06-02T21:06:05.443Z"
   },
   {
    "duration": 335,
    "start_time": "2024-06-02T21:06:27.503Z"
   },
   {
    "duration": 23,
    "start_time": "2024-06-02T21:19:01.042Z"
   },
   {
    "duration": 32,
    "start_time": "2024-06-02T21:19:26.925Z"
   },
   {
    "duration": 152,
    "start_time": "2024-06-02T21:19:59.492Z"
   },
   {
    "duration": 165,
    "start_time": "2024-06-02T21:23:51.760Z"
   },
   {
    "duration": 1026,
    "start_time": "2024-06-02T21:25:11.387Z"
   },
   {
    "duration": 9,
    "start_time": "2024-06-02T21:25:22.302Z"
   },
   {
    "duration": 176,
    "start_time": "2024-06-02T21:25:43.661Z"
   },
   {
    "duration": 163,
    "start_time": "2024-06-02T21:26:13.867Z"
   },
   {
    "duration": 4816,
    "start_time": "2024-06-03T15:09:44.751Z"
   },
   {
    "duration": 388,
    "start_time": "2024-06-03T15:09:49.572Z"
   },
   {
    "duration": 140,
    "start_time": "2024-06-03T15:09:49.963Z"
   },
   {
    "duration": 15,
    "start_time": "2024-06-03T15:09:50.107Z"
   },
   {
    "duration": 17,
    "start_time": "2024-06-03T15:09:50.125Z"
   },
   {
    "duration": 6,
    "start_time": "2024-06-03T15:09:50.145Z"
   },
   {
    "duration": 5,
    "start_time": "2024-06-03T15:09:50.153Z"
   },
   {
    "duration": 74,
    "start_time": "2024-06-03T15:09:50.161Z"
   },
   {
    "duration": 13,
    "start_time": "2024-06-03T15:09:50.238Z"
   },
   {
    "duration": 51,
    "start_time": "2024-06-03T15:09:50.256Z"
   },
   {
    "duration": 19,
    "start_time": "2024-06-03T15:09:50.420Z"
   },
   {
    "duration": 33,
    "start_time": "2024-06-03T15:09:51.368Z"
   },
   {
    "duration": 24,
    "start_time": "2024-06-03T15:09:52.152Z"
   },
   {
    "duration": 11,
    "start_time": "2024-06-03T15:09:52.334Z"
   },
   {
    "duration": 48,
    "start_time": "2024-06-03T15:09:53.208Z"
   },
   {
    "duration": 189,
    "start_time": "2024-06-03T15:09:53.922Z"
   },
   {
    "duration": 20,
    "start_time": "2024-06-03T15:09:54.475Z"
   },
   {
    "duration": 15,
    "start_time": "2024-06-03T15:09:54.632Z"
   },
   {
    "duration": 29,
    "start_time": "2024-06-03T15:09:55.581Z"
   },
   {
    "duration": 158,
    "start_time": "2024-06-03T15:09:56.317Z"
   },
   {
    "duration": 22,
    "start_time": "2024-06-03T15:09:56.876Z"
   },
   {
    "duration": 11,
    "start_time": "2024-06-03T15:09:57.084Z"
   },
   {
    "duration": 46,
    "start_time": "2024-06-03T15:09:57.991Z"
   },
   {
    "duration": 118,
    "start_time": "2024-06-03T15:09:58.522Z"
   },
   {
    "duration": 13,
    "start_time": "2024-06-03T15:09:59.052Z"
   },
   {
    "duration": 98,
    "start_time": "2024-06-03T15:09:59.400Z"
   },
   {
    "duration": 38,
    "start_time": "2024-06-03T15:10:00.060Z"
   },
   {
    "duration": 39,
    "start_time": "2024-06-03T15:10:01.085Z"
   },
   {
    "duration": 29,
    "start_time": "2024-06-03T15:10:02.078Z"
   },
   {
    "duration": 33,
    "start_time": "2024-06-03T15:10:03.034Z"
   },
   {
    "duration": 31,
    "start_time": "2024-06-03T15:10:04.072Z"
   },
   {
    "duration": 44,
    "start_time": "2024-06-03T15:10:04.395Z"
   },
   {
    "duration": 25,
    "start_time": "2024-06-03T15:10:07.943Z"
   },
   {
    "duration": 18,
    "start_time": "2024-06-03T15:10:13.724Z"
   },
   {
    "duration": 18,
    "start_time": "2024-06-03T15:10:14.300Z"
   },
   {
    "duration": 382,
    "start_time": "2024-06-03T15:10:15.324Z"
   },
   {
    "duration": 511,
    "start_time": "2024-06-03T15:10:15.927Z"
   },
   {
    "duration": 17,
    "start_time": "2024-06-03T15:10:17.625Z"
   },
   {
    "duration": 158,
    "start_time": "2024-06-03T15:10:18.347Z"
   },
   {
    "duration": 328,
    "start_time": "2024-06-03T15:21:18.151Z"
   },
   {
    "duration": 378,
    "start_time": "2024-06-03T15:21:33.865Z"
   },
   {
    "duration": 441,
    "start_time": "2024-06-03T15:23:49.592Z"
   },
   {
    "duration": 486,
    "start_time": "2024-06-03T15:25:23.820Z"
   },
   {
    "duration": 360,
    "start_time": "2024-06-03T15:25:41.580Z"
   },
   {
    "duration": 5152,
    "start_time": "2024-06-04T14:04:29.037Z"
   },
   {
    "duration": 389,
    "start_time": "2024-06-04T14:04:34.195Z"
   },
   {
    "duration": 146,
    "start_time": "2024-06-04T14:04:34.587Z"
   },
   {
    "duration": 17,
    "start_time": "2024-06-04T14:04:34.738Z"
   },
   {
    "duration": 18,
    "start_time": "2024-06-04T14:04:34.759Z"
   },
   {
    "duration": 6,
    "start_time": "2024-06-04T14:04:34.814Z"
   },
   {
    "duration": 5,
    "start_time": "2024-06-04T14:04:34.823Z"
   },
   {
    "duration": 29,
    "start_time": "2024-06-04T14:04:34.832Z"
   },
   {
    "duration": 54,
    "start_time": "2024-06-04T14:04:34.864Z"
   },
   {
    "duration": 13,
    "start_time": "2024-06-04T14:04:34.925Z"
   },
   {
    "duration": 21,
    "start_time": "2024-06-04T14:04:34.941Z"
   },
   {
    "duration": 34,
    "start_time": "2024-06-04T14:04:35.569Z"
   },
   {
    "duration": 24,
    "start_time": "2024-06-04T14:04:36.493Z"
   },
   {
    "duration": 11,
    "start_time": "2024-06-04T14:04:36.867Z"
   },
   {
    "duration": 48,
    "start_time": "2024-06-04T14:04:38.126Z"
   },
   {
    "duration": 188,
    "start_time": "2024-06-04T14:04:38.811Z"
   },
   {
    "duration": 21,
    "start_time": "2024-06-04T14:04:39.327Z"
   },
   {
    "duration": 10,
    "start_time": "2024-06-04T14:04:39.524Z"
   },
   {
    "duration": 29,
    "start_time": "2024-06-04T14:04:40.409Z"
   },
   {
    "duration": 169,
    "start_time": "2024-06-04T14:04:41.134Z"
   },
   {
    "duration": 21,
    "start_time": "2024-06-04T14:04:41.685Z"
   },
   {
    "duration": 11,
    "start_time": "2024-06-04T14:04:41.853Z"
   },
   {
    "duration": 36,
    "start_time": "2024-06-04T14:04:42.858Z"
   },
   {
    "duration": 124,
    "start_time": "2024-06-04T14:04:43.396Z"
   },
   {
    "duration": 13,
    "start_time": "2024-06-04T14:04:43.946Z"
   },
   {
    "duration": 99,
    "start_time": "2024-06-04T14:04:44.280Z"
   },
   {
    "duration": 49,
    "start_time": "2024-06-04T14:04:44.467Z"
   },
   {
    "duration": 41,
    "start_time": "2024-06-04T14:04:44.940Z"
   },
   {
    "duration": 28,
    "start_time": "2024-06-04T14:04:45.503Z"
   },
   {
    "duration": 29,
    "start_time": "2024-06-04T14:04:46.505Z"
   },
   {
    "duration": 32,
    "start_time": "2024-06-04T14:04:48.649Z"
   },
   {
    "duration": 44,
    "start_time": "2024-06-04T14:04:49.584Z"
   },
   {
    "duration": 27,
    "start_time": "2024-06-04T14:04:52.037Z"
   },
   {
    "duration": 17,
    "start_time": "2024-06-04T14:04:56.069Z"
   },
   {
    "duration": 18,
    "start_time": "2024-06-04T14:04:56.839Z"
   },
   {
    "duration": 419,
    "start_time": "2024-06-04T14:04:57.777Z"
   },
   {
    "duration": 514,
    "start_time": "2024-06-04T14:04:58.391Z"
   },
   {
    "duration": 18,
    "start_time": "2024-06-04T14:05:00.309Z"
   },
   {
    "duration": 161,
    "start_time": "2024-06-04T14:05:01.498Z"
   },
   {
    "duration": 468,
    "start_time": "2024-06-04T14:08:17.521Z"
   },
   {
    "duration": 375,
    "start_time": "2024-06-04T14:09:46.996Z"
   },
   {
    "duration": 147,
    "start_time": "2024-06-04T14:12:13.961Z"
   },
   {
    "duration": 4,
    "start_time": "2024-06-04T14:19:08.504Z"
   },
   {
    "duration": 17,
    "start_time": "2024-06-04T14:22:55.196Z"
   },
   {
    "duration": 11,
    "start_time": "2024-06-04T14:23:16.450Z"
   },
   {
    "duration": 19,
    "start_time": "2024-06-04T14:23:32.968Z"
   },
   {
    "duration": 17,
    "start_time": "2024-06-04T14:23:45.454Z"
   },
   {
    "duration": 16,
    "start_time": "2024-06-04T14:24:58.926Z"
   },
   {
    "duration": 17,
    "start_time": "2024-06-04T14:25:59.735Z"
   },
   {
    "duration": 26,
    "start_time": "2024-06-04T14:28:34.713Z"
   },
   {
    "duration": 21,
    "start_time": "2024-06-04T14:28:38.602Z"
   },
   {
    "duration": 13,
    "start_time": "2024-06-04T14:28:48.789Z"
   },
   {
    "duration": 257,
    "start_time": "2024-06-04T14:29:47.613Z"
   },
   {
    "duration": 49,
    "start_time": "2024-06-04T14:30:41.509Z"
   },
   {
    "duration": 18,
    "start_time": "2024-06-04T14:31:57.943Z"
   },
   {
    "duration": 4,
    "start_time": "2024-06-04T14:32:26.577Z"
   },
   {
    "duration": 317,
    "start_time": "2024-06-04T14:32:27.168Z"
   },
   {
    "duration": 144,
    "start_time": "2024-06-04T14:32:27.488Z"
   },
   {
    "duration": 14,
    "start_time": "2024-06-04T14:32:28.198Z"
   },
   {
    "duration": 13,
    "start_time": "2024-06-04T14:32:28.422Z"
   },
   {
    "duration": 5,
    "start_time": "2024-06-04T14:32:29.369Z"
   },
   {
    "duration": 7,
    "start_time": "2024-06-04T14:32:29.602Z"
   },
   {
    "duration": 33,
    "start_time": "2024-06-04T14:32:30.207Z"
   },
   {
    "duration": 15,
    "start_time": "2024-06-04T14:32:30.550Z"
   },
   {
    "duration": 16,
    "start_time": "2024-06-04T14:32:30.730Z"
   },
   {
    "duration": 19,
    "start_time": "2024-06-04T14:32:31.632Z"
   },
   {
    "duration": 33,
    "start_time": "2024-06-04T14:32:32.522Z"
   },
   {
    "duration": 26,
    "start_time": "2024-06-04T14:32:33.240Z"
   },
   {
    "duration": 11,
    "start_time": "2024-06-04T14:32:33.399Z"
   },
   {
    "duration": 47,
    "start_time": "2024-06-04T14:32:34.239Z"
   },
   {
    "duration": 186,
    "start_time": "2024-06-04T14:32:35.268Z"
   },
   {
    "duration": 19,
    "start_time": "2024-06-04T14:32:35.789Z"
   },
   {
    "duration": 11,
    "start_time": "2024-06-04T14:32:35.962Z"
   },
   {
    "duration": 31,
    "start_time": "2024-06-04T14:32:36.887Z"
   },
   {
    "duration": 162,
    "start_time": "2024-06-04T14:32:37.705Z"
   },
   {
    "duration": 22,
    "start_time": "2024-06-04T14:32:38.247Z"
   },
   {
    "duration": 12,
    "start_time": "2024-06-04T14:32:38.418Z"
   },
   {
    "duration": 38,
    "start_time": "2024-06-04T14:32:39.356Z"
   },
   {
    "duration": 121,
    "start_time": "2024-06-04T14:32:39.871Z"
   },
   {
    "duration": 15,
    "start_time": "2024-06-04T14:32:40.439Z"
   },
   {
    "duration": 97,
    "start_time": "2024-06-04T14:32:40.794Z"
   },
   {
    "duration": 42,
    "start_time": "2024-06-04T14:32:41.365Z"
   },
   {
    "duration": 40,
    "start_time": "2024-06-04T14:32:41.754Z"
   },
   {
    "duration": 32,
    "start_time": "2024-06-04T14:32:42.082Z"
   },
   {
    "duration": 32,
    "start_time": "2024-06-04T14:32:42.460Z"
   },
   {
    "duration": 33,
    "start_time": "2024-06-04T14:32:42.817Z"
   },
   {
    "duration": 52,
    "start_time": "2024-06-04T14:32:43.018Z"
   },
   {
    "duration": 28,
    "start_time": "2024-06-04T14:32:45.274Z"
   },
   {
    "duration": 17,
    "start_time": "2024-06-04T14:32:48.576Z"
   },
   {
    "duration": 15,
    "start_time": "2024-06-04T14:32:49.375Z"
   },
   {
    "duration": 462,
    "start_time": "2024-06-04T14:32:50.153Z"
   },
   {
    "duration": 526,
    "start_time": "2024-06-04T14:32:50.714Z"
   },
   {
    "duration": 19,
    "start_time": "2024-06-04T14:32:51.848Z"
   },
   {
    "duration": 154,
    "start_time": "2024-06-04T14:32:52.541Z"
   },
   {
    "duration": 17,
    "start_time": "2024-06-04T14:32:55.789Z"
   },
   {
    "duration": 10,
    "start_time": "2024-06-04T14:32:57.001Z"
   },
   {
    "duration": 14,
    "start_time": "2024-06-04T14:33:26.108Z"
   },
   {
    "duration": 5271,
    "start_time": "2024-06-05T14:31:48.131Z"
   },
   {
    "duration": 465,
    "start_time": "2024-06-05T14:31:53.409Z"
   },
   {
    "duration": 201,
    "start_time": "2024-06-05T14:31:53.877Z"
   },
   {
    "duration": 25,
    "start_time": "2024-06-05T14:31:54.082Z"
   },
   {
    "duration": 26,
    "start_time": "2024-06-05T14:31:54.111Z"
   },
   {
    "duration": 9,
    "start_time": "2024-06-05T14:31:54.141Z"
   },
   {
    "duration": 4,
    "start_time": "2024-06-05T14:31:54.155Z"
   },
   {
    "duration": 46,
    "start_time": "2024-06-05T14:31:54.208Z"
   },
   {
    "duration": 14,
    "start_time": "2024-06-05T14:31:54.258Z"
   },
   {
    "duration": 29,
    "start_time": "2024-06-05T14:31:54.305Z"
   },
   {
    "duration": 32,
    "start_time": "2024-06-05T14:31:54.340Z"
   },
   {
    "duration": 59,
    "start_time": "2024-06-05T14:31:54.401Z"
   },
   {
    "duration": 55,
    "start_time": "2024-06-05T14:31:54.464Z"
   },
   {
    "duration": 11,
    "start_time": "2024-06-05T14:31:54.574Z"
   },
   {
    "duration": 81,
    "start_time": "2024-06-05T14:31:55.463Z"
   },
   {
    "duration": 251,
    "start_time": "2024-06-05T14:31:56.145Z"
   },
   {
    "duration": 20,
    "start_time": "2024-06-05T14:31:56.660Z"
   },
   {
    "duration": 17,
    "start_time": "2024-06-05T14:31:56.838Z"
   },
   {
    "duration": 36,
    "start_time": "2024-06-05T14:31:57.731Z"
   },
   {
    "duration": 207,
    "start_time": "2024-06-05T14:31:58.447Z"
   },
   {
    "duration": 21,
    "start_time": "2024-06-05T14:31:58.982Z"
   },
   {
    "duration": 18,
    "start_time": "2024-06-05T14:31:59.139Z"
   },
   {
    "duration": 54,
    "start_time": "2024-06-05T14:32:00.015Z"
   },
   {
    "duration": 155,
    "start_time": "2024-06-05T14:32:00.531Z"
   },
   {
    "duration": 24,
    "start_time": "2024-06-05T14:32:01.021Z"
   },
   {
    "duration": 128,
    "start_time": "2024-06-05T14:32:01.360Z"
   },
   {
    "duration": 45,
    "start_time": "2024-06-05T14:32:01.535Z"
   },
   {
    "duration": 59,
    "start_time": "2024-06-05T14:32:01.906Z"
   },
   {
    "duration": 41,
    "start_time": "2024-06-05T14:32:02.222Z"
   },
   {
    "duration": 31,
    "start_time": "2024-06-05T14:32:02.554Z"
   },
   {
    "duration": 50,
    "start_time": "2024-06-05T14:32:02.911Z"
   },
   {
    "duration": 52,
    "start_time": "2024-06-05T14:32:03.082Z"
   },
   {
    "duration": 30,
    "start_time": "2024-06-05T14:32:03.744Z"
   },
   {
    "duration": 23,
    "start_time": "2024-06-05T14:32:04.806Z"
   },
   {
    "duration": 21,
    "start_time": "2024-06-05T14:32:05.100Z"
   },
   {
    "duration": 443,
    "start_time": "2024-06-05T14:32:05.996Z"
   },
   {
    "duration": 590,
    "start_time": "2024-06-05T14:32:06.495Z"
   },
   {
    "duration": 19,
    "start_time": "2024-06-05T14:32:07.674Z"
   },
   {
    "duration": 175,
    "start_time": "2024-06-05T14:32:08.250Z"
   },
   {
    "duration": 19,
    "start_time": "2024-06-05T14:32:10.386Z"
   },
   {
    "duration": 16,
    "start_time": "2024-06-05T14:32:10.910Z"
   },
   {
    "duration": 19,
    "start_time": "2024-06-05T14:33:21.298Z"
   },
   {
    "duration": 17,
    "start_time": "2024-06-05T14:42:54.863Z"
   },
   {
    "duration": 375,
    "start_time": "2024-06-05T14:43:36.400Z"
   },
   {
    "duration": 386,
    "start_time": "2024-06-05T14:44:19.880Z"
   },
   {
    "duration": 9,
    "start_time": "2024-06-05T14:47:05.662Z"
   },
   {
    "duration": 459,
    "start_time": "2024-06-05T14:47:18.682Z"
   },
   {
    "duration": 353,
    "start_time": "2024-06-05T14:47:42.850Z"
   },
   {
    "duration": 411,
    "start_time": "2024-06-05T14:48:24.770Z"
   },
   {
    "duration": 11,
    "start_time": "2024-06-05T14:48:32.929Z"
   },
   {
    "duration": 350,
    "start_time": "2024-06-05T14:49:06.442Z"
   },
   {
    "duration": 48,
    "start_time": "2024-06-05T15:02:47.769Z"
   },
   {
    "duration": 480,
    "start_time": "2024-06-05T15:07:45.781Z"
   },
   {
    "duration": 1025,
    "start_time": "2024-06-05T15:07:58.395Z"
   },
   {
    "duration": 15,
    "start_time": "2024-06-05T15:09:31.081Z"
   },
   {
    "duration": 123,
    "start_time": "2024-06-05T15:11:29.296Z"
   },
   {
    "duration": 17,
    "start_time": "2024-06-05T15:11:46.672Z"
   },
   {
    "duration": 264,
    "start_time": "2024-06-05T15:19:28.845Z"
   },
   {
    "duration": 27,
    "start_time": "2024-06-05T15:20:25.747Z"
   },
   {
    "duration": 4,
    "start_time": "2024-06-05T15:20:37.471Z"
   },
   {
    "duration": 317,
    "start_time": "2024-06-05T15:20:37.824Z"
   },
   {
    "duration": 152,
    "start_time": "2024-06-05T15:20:38.145Z"
   },
   {
    "duration": 18,
    "start_time": "2024-06-05T15:20:38.641Z"
   },
   {
    "duration": 12,
    "start_time": "2024-06-05T15:20:38.829Z"
   },
   {
    "duration": 6,
    "start_time": "2024-06-05T15:20:39.681Z"
   },
   {
    "duration": 7,
    "start_time": "2024-06-05T15:20:39.860Z"
   },
   {
    "duration": 27,
    "start_time": "2024-06-05T15:20:40.367Z"
   },
   {
    "duration": 16,
    "start_time": "2024-06-05T15:20:40.707Z"
   },
   {
    "duration": 15,
    "start_time": "2024-06-05T15:20:40.869Z"
   },
   {
    "duration": 23,
    "start_time": "2024-06-05T15:20:41.711Z"
   },
   {
    "duration": 136,
    "start_time": "2024-06-05T15:20:42.535Z"
   },
   {
    "duration": 31,
    "start_time": "2024-06-05T15:20:43.211Z"
   },
   {
    "duration": 11,
    "start_time": "2024-06-05T15:20:43.385Z"
   },
   {
    "duration": 47,
    "start_time": "2024-06-05T15:20:44.362Z"
   },
   {
    "duration": 195,
    "start_time": "2024-06-05T15:20:45.071Z"
   },
   {
    "duration": 20,
    "start_time": "2024-06-05T15:20:45.567Z"
   },
   {
    "duration": 10,
    "start_time": "2024-06-05T15:20:45.737Z"
   },
   {
    "duration": 42,
    "start_time": "2024-06-05T15:20:46.584Z"
   },
   {
    "duration": 164,
    "start_time": "2024-06-05T15:20:47.255Z"
   },
   {
    "duration": 27,
    "start_time": "2024-06-05T15:20:47.759Z"
   },
   {
    "duration": 11,
    "start_time": "2024-06-05T15:20:47.934Z"
   },
   {
    "duration": 50,
    "start_time": "2024-06-05T15:20:48.762Z"
   },
   {
    "duration": 126,
    "start_time": "2024-06-05T15:20:49.269Z"
   },
   {
    "duration": 16,
    "start_time": "2024-06-05T15:20:49.786Z"
   },
   {
    "duration": 107,
    "start_time": "2024-06-05T15:20:50.127Z"
   },
   {
    "duration": 40,
    "start_time": "2024-06-05T15:20:50.306Z"
   },
   {
    "duration": 45,
    "start_time": "2024-06-05T15:20:50.631Z"
   },
   {
    "duration": 33,
    "start_time": "2024-06-05T15:20:50.955Z"
   },
   {
    "duration": 37,
    "start_time": "2024-06-05T15:20:51.301Z"
   },
   {
    "duration": 35,
    "start_time": "2024-06-05T15:20:51.714Z"
   },
   {
    "duration": 42,
    "start_time": "2024-06-05T15:20:51.828Z"
   },
   {
    "duration": 31,
    "start_time": "2024-06-05T15:20:52.323Z"
   },
   {
    "duration": 21,
    "start_time": "2024-06-05T15:20:53.127Z"
   },
   {
    "duration": 34,
    "start_time": "2024-06-05T15:20:53.307Z"
   },
   {
    "duration": 382,
    "start_time": "2024-06-05T15:20:53.454Z"
   },
   {
    "duration": 572,
    "start_time": "2024-06-05T15:20:53.840Z"
   },
   {
    "duration": 18,
    "start_time": "2024-06-05T15:20:54.416Z"
   },
   {
    "duration": 183,
    "start_time": "2024-06-05T15:20:54.437Z"
   },
   {
    "duration": 347,
    "start_time": "2024-06-05T15:20:54.726Z"
   },
   {
    "duration": 11,
    "start_time": "2024-06-05T15:20:55.080Z"
   },
   {
    "duration": 13,
    "start_time": "2024-06-05T15:20:55.235Z"
   },
   {
    "duration": 24,
    "start_time": "2024-06-05T15:21:00.712Z"
   },
   {
    "duration": 17,
    "start_time": "2024-06-05T15:21:18.482Z"
   },
   {
    "duration": 24,
    "start_time": "2024-06-05T15:21:34.496Z"
   },
   {
    "duration": 5065,
    "start_time": "2024-06-06T13:00:17.758Z"
   },
   {
    "duration": 413,
    "start_time": "2024-06-06T13:00:22.829Z"
   },
   {
    "duration": 159,
    "start_time": "2024-06-06T13:00:23.246Z"
   },
   {
    "duration": 25,
    "start_time": "2024-06-06T13:00:23.412Z"
   },
   {
    "duration": 23,
    "start_time": "2024-06-06T13:00:23.440Z"
   },
   {
    "duration": 6,
    "start_time": "2024-06-06T13:00:23.467Z"
   },
   {
    "duration": 29,
    "start_time": "2024-06-06T13:00:23.493Z"
   },
   {
    "duration": 38,
    "start_time": "2024-06-06T13:00:23.526Z"
   },
   {
    "duration": 18,
    "start_time": "2024-06-06T13:00:23.568Z"
   },
   {
    "duration": 16,
    "start_time": "2024-06-06T13:00:23.624Z"
   },
   {
    "duration": 21,
    "start_time": "2024-06-06T13:00:23.643Z"
   },
   {
    "duration": 78,
    "start_time": "2024-06-06T13:00:23.667Z"
   },
   {
    "duration": 28,
    "start_time": "2024-06-06T13:00:23.748Z"
   },
   {
    "duration": 42,
    "start_time": "2024-06-06T13:00:23.781Z"
   },
   {
    "duration": 50,
    "start_time": "2024-06-06T13:00:24.501Z"
   },
   {
    "duration": 258,
    "start_time": "2024-06-06T13:00:25.176Z"
   },
   {
    "duration": 27,
    "start_time": "2024-06-06T13:00:25.675Z"
   },
   {
    "duration": 13,
    "start_time": "2024-06-06T13:00:25.827Z"
   },
   {
    "duration": 38,
    "start_time": "2024-06-06T13:00:26.669Z"
   },
   {
    "duration": 202,
    "start_time": "2024-06-06T13:00:27.313Z"
   },
   {
    "duration": 26,
    "start_time": "2024-06-06T13:00:27.834Z"
   },
   {
    "duration": 17,
    "start_time": "2024-06-06T13:00:28.014Z"
   },
   {
    "duration": 39,
    "start_time": "2024-06-06T13:00:28.891Z"
   },
   {
    "duration": 129,
    "start_time": "2024-06-06T13:00:29.412Z"
   },
   {
    "duration": 17,
    "start_time": "2024-06-06T13:00:29.930Z"
   },
   {
    "duration": 114,
    "start_time": "2024-06-06T13:00:30.288Z"
   },
   {
    "duration": 42,
    "start_time": "2024-06-06T13:00:30.452Z"
   },
   {
    "duration": 44,
    "start_time": "2024-06-06T13:00:30.772Z"
   },
   {
    "duration": 35,
    "start_time": "2024-06-06T13:00:31.122Z"
   },
   {
    "duration": 45,
    "start_time": "2024-06-06T13:00:31.448Z"
   },
   {
    "duration": 39,
    "start_time": "2024-06-06T13:00:31.806Z"
   },
   {
    "duration": 52,
    "start_time": "2024-06-06T13:00:31.953Z"
   },
   {
    "duration": 34,
    "start_time": "2024-06-06T13:00:32.454Z"
   },
   {
    "duration": 18,
    "start_time": "2024-06-06T13:00:33.308Z"
   },
   {
    "duration": 20,
    "start_time": "2024-06-06T13:00:33.486Z"
   },
   {
    "duration": 461,
    "start_time": "2024-06-06T13:00:33.664Z"
   },
   {
    "duration": 552,
    "start_time": "2024-06-06T13:00:34.129Z"
   },
   {
    "duration": 38,
    "start_time": "2024-06-06T13:00:34.685Z"
   },
   {
    "duration": 203,
    "start_time": "2024-06-06T13:00:34.726Z"
   },
   {
    "duration": 373,
    "start_time": "2024-06-06T13:00:35.014Z"
   },
   {
    "duration": 12,
    "start_time": "2024-06-06T13:00:35.391Z"
   },
   {
    "duration": 15,
    "start_time": "2024-06-06T13:00:35.425Z"
   },
   {
    "duration": 33,
    "start_time": "2024-06-06T13:00:37.889Z"
   },
   {
    "duration": 490,
    "start_time": "2024-06-06T13:05:25.722Z"
   },
   {
    "duration": 12,
    "start_time": "2024-06-06T13:05:50.043Z"
   },
   {
    "duration": 14,
    "start_time": "2024-06-06T13:05:56.350Z"
   },
   {
    "duration": 11,
    "start_time": "2024-06-06T13:06:25.844Z"
   },
   {
    "duration": 13,
    "start_time": "2024-06-06T13:06:49.213Z"
   },
   {
    "duration": 17,
    "start_time": "2024-06-06T13:06:58.856Z"
   },
   {
    "duration": 15,
    "start_time": "2024-06-06T13:09:43.947Z"
   },
   {
    "duration": 30,
    "start_time": "2024-06-06T13:12:42.722Z"
   },
   {
    "duration": 12,
    "start_time": "2024-06-06T13:12:48.136Z"
   },
   {
    "duration": 45,
    "start_time": "2024-06-06T13:15:22.905Z"
   },
   {
    "duration": 15,
    "start_time": "2024-06-06T13:15:29.673Z"
   },
   {
    "duration": 11,
    "start_time": "2024-06-06T13:18:04.696Z"
   },
   {
    "duration": 35,
    "start_time": "2024-06-06T13:19:07.961Z"
   },
   {
    "duration": 11,
    "start_time": "2024-06-06T13:19:12.824Z"
   },
   {
    "duration": 44,
    "start_time": "2024-06-06T13:21:54.372Z"
   },
   {
    "duration": 38,
    "start_time": "2024-06-06T13:22:10.502Z"
   },
   {
    "duration": 12,
    "start_time": "2024-06-06T13:22:33.062Z"
   },
   {
    "duration": 23,
    "start_time": "2024-06-06T13:37:37.935Z"
   },
   {
    "duration": 18,
    "start_time": "2024-06-06T13:40:18.939Z"
   },
   {
    "duration": 9,
    "start_time": "2024-06-06T13:41:24.511Z"
   },
   {
    "duration": 15,
    "start_time": "2024-06-06T13:45:11.197Z"
   },
   {
    "duration": 14,
    "start_time": "2024-06-06T13:46:22.635Z"
   },
   {
    "duration": 11,
    "start_time": "2024-06-06T13:47:17.307Z"
   },
   {
    "duration": 15,
    "start_time": "2024-06-06T13:48:14.318Z"
   },
   {
    "duration": 13,
    "start_time": "2024-06-06T13:48:17.256Z"
   },
   {
    "duration": 4866,
    "start_time": "2024-06-07T13:51:37.798Z"
   },
   {
    "duration": 385,
    "start_time": "2024-06-07T13:51:42.669Z"
   },
   {
    "duration": 146,
    "start_time": "2024-06-07T13:51:43.057Z"
   },
   {
    "duration": 14,
    "start_time": "2024-06-07T13:51:47.658Z"
   },
   {
    "duration": 19,
    "start_time": "2024-06-07T13:51:51.330Z"
   },
   {
    "duration": 6,
    "start_time": "2024-06-07T13:51:56.770Z"
   },
   {
    "duration": 4,
    "start_time": "2024-06-07T13:51:59.649Z"
   },
   {
    "duration": 28,
    "start_time": "2024-06-07T13:52:06.961Z"
   },
   {
    "duration": 15,
    "start_time": "2024-06-07T13:52:11.510Z"
   },
   {
    "duration": 15,
    "start_time": "2024-06-07T13:52:14.021Z"
   },
   {
    "duration": 26,
    "start_time": "2024-06-07T13:52:25.647Z"
   },
   {
    "duration": 34,
    "start_time": "2024-06-07T13:52:58.078Z"
   },
   {
    "duration": 24,
    "start_time": "2024-06-07T13:52:58.876Z"
   },
   {
    "duration": 11,
    "start_time": "2024-06-07T13:52:59.100Z"
   },
   {
    "duration": 8,
    "start_time": "2024-06-07T13:54:54.258Z"
   },
   {
    "duration": 48,
    "start_time": "2024-06-07T13:55:09.082Z"
   },
   {
    "duration": 173,
    "start_time": "2024-06-07T13:56:00.771Z"
   },
   {
    "duration": 12,
    "start_time": "2024-06-07T13:58:33.507Z"
   },
   {
    "duration": 241,
    "start_time": "2024-06-07T13:59:05.676Z"
   },
   {
    "duration": 834,
    "start_time": "2024-06-07T14:00:13.501Z"
   },
   {
    "duration": 231,
    "start_time": "2024-06-07T14:00:34.162Z"
   },
   {
    "duration": 206,
    "start_time": "2024-06-07T14:01:08.426Z"
   },
   {
    "duration": 188,
    "start_time": "2024-06-07T14:01:18.570Z"
   },
   {
    "duration": 204,
    "start_time": "2024-06-07T14:01:33.163Z"
   },
   {
    "duration": 207,
    "start_time": "2024-06-07T14:01:49.918Z"
   },
   {
    "duration": 435,
    "start_time": "2024-06-07T14:02:28.408Z"
   },
   {
    "duration": 213,
    "start_time": "2024-06-07T14:02:57.854Z"
   },
   {
    "duration": 188,
    "start_time": "2024-06-07T14:03:11.001Z"
   },
   {
    "duration": 206,
    "start_time": "2024-06-07T14:03:41.341Z"
   },
   {
    "duration": 188,
    "start_time": "2024-06-07T14:03:49.720Z"
   },
   {
    "duration": 195,
    "start_time": "2024-06-07T14:05:17.702Z"
   },
   {
    "duration": 195,
    "start_time": "2024-06-07T14:05:25.320Z"
   },
   {
    "duration": 195,
    "start_time": "2024-06-07T14:05:58.947Z"
   },
   {
    "duration": 200,
    "start_time": "2024-06-07T14:06:11.038Z"
   },
   {
    "duration": 194,
    "start_time": "2024-06-07T14:09:40.432Z"
   },
   {
    "duration": 201,
    "start_time": "2024-06-07T14:10:28.680Z"
   },
   {
    "duration": 203,
    "start_time": "2024-06-07T14:11:30.318Z"
   },
   {
    "duration": 829,
    "start_time": "2024-06-07T14:14:10.401Z"
   },
   {
    "duration": 282,
    "start_time": "2024-06-07T14:15:42.679Z"
   },
   {
    "duration": 199,
    "start_time": "2024-06-07T14:15:54.215Z"
   },
   {
    "duration": 217,
    "start_time": "2024-06-07T14:16:33.144Z"
   },
   {
    "duration": 205,
    "start_time": "2024-06-07T14:17:29.402Z"
   },
   {
    "duration": 197,
    "start_time": "2024-06-07T14:19:00.435Z"
   },
   {
    "duration": 204,
    "start_time": "2024-06-07T14:19:49.922Z"
   },
   {
    "duration": 377,
    "start_time": "2024-06-07T14:22:30.277Z"
   },
   {
    "duration": 207,
    "start_time": "2024-06-07T14:24:33.405Z"
   },
   {
    "duration": 200,
    "start_time": "2024-06-07T14:24:50.920Z"
   },
   {
    "duration": 195,
    "start_time": "2024-06-07T14:25:42.178Z"
   },
   {
    "duration": 231,
    "start_time": "2024-06-07T14:26:45.067Z"
   },
   {
    "duration": 12,
    "start_time": "2024-06-07T14:27:32.310Z"
   },
   {
    "duration": 235,
    "start_time": "2024-06-07T14:27:40.561Z"
   },
   {
    "duration": 228,
    "start_time": "2024-06-07T14:28:04.116Z"
   },
   {
    "duration": 226,
    "start_time": "2024-06-07T14:28:18.886Z"
   },
   {
    "duration": 215,
    "start_time": "2024-06-07T14:28:29.401Z"
   },
   {
    "duration": 196,
    "start_time": "2024-06-07T14:29:18.345Z"
   },
   {
    "duration": 213,
    "start_time": "2024-06-07T14:33:57.750Z"
   },
   {
    "duration": 197,
    "start_time": "2024-06-07T14:34:31.756Z"
   },
   {
    "duration": 30,
    "start_time": "2024-06-07T14:39:25.747Z"
   },
   {
    "duration": 4,
    "start_time": "2024-06-07T14:39:45.539Z"
   },
   {
    "duration": 287,
    "start_time": "2024-06-07T14:39:45.829Z"
   },
   {
    "duration": 135,
    "start_time": "2024-06-07T14:39:46.145Z"
   },
   {
    "duration": 13,
    "start_time": "2024-06-07T14:39:46.895Z"
   },
   {
    "duration": 15,
    "start_time": "2024-06-07T14:39:47.147Z"
   },
   {
    "duration": 5,
    "start_time": "2024-06-07T14:39:47.920Z"
   },
   {
    "duration": 5,
    "start_time": "2024-06-07T14:39:48.062Z"
   },
   {
    "duration": 28,
    "start_time": "2024-06-07T14:39:48.520Z"
   },
   {
    "duration": 14,
    "start_time": "2024-06-07T14:39:48.967Z"
   },
   {
    "duration": 13,
    "start_time": "2024-06-07T14:39:49.133Z"
   },
   {
    "duration": 19,
    "start_time": "2024-06-07T14:39:49.889Z"
   },
   {
    "duration": 36,
    "start_time": "2024-06-07T14:39:50.858Z"
   },
   {
    "duration": 24,
    "start_time": "2024-06-07T14:39:51.461Z"
   },
   {
    "duration": 12,
    "start_time": "2024-06-07T14:39:51.632Z"
   },
   {
    "duration": 48,
    "start_time": "2024-06-07T14:39:52.413Z"
   },
   {
    "duration": 204,
    "start_time": "2024-06-07T14:39:53.041Z"
   },
   {
    "duration": 18,
    "start_time": "2024-06-07T14:39:53.878Z"
   },
   {
    "duration": 11,
    "start_time": "2024-06-07T14:39:54.049Z"
   },
   {
    "duration": 30,
    "start_time": "2024-06-07T14:39:54.867Z"
   },
   {
    "duration": 162,
    "start_time": "2024-06-07T14:39:55.503Z"
   },
   {
    "duration": 22,
    "start_time": "2024-06-07T14:39:56.018Z"
   },
   {
    "duration": 15,
    "start_time": "2024-06-07T14:39:56.157Z"
   },
   {
    "duration": 36,
    "start_time": "2024-06-07T14:39:56.972Z"
   },
   {
    "duration": 125,
    "start_time": "2024-06-07T14:39:57.441Z"
   },
   {
    "duration": 14,
    "start_time": "2024-06-07T14:39:57.933Z"
   },
   {
    "duration": 101,
    "start_time": "2024-06-07T14:39:58.211Z"
   },
   {
    "duration": 37,
    "start_time": "2024-06-07T14:39:58.391Z"
   },
   {
    "duration": 34,
    "start_time": "2024-06-07T14:39:58.859Z"
   },
   {
    "duration": 29,
    "start_time": "2024-06-07T14:39:59.164Z"
   },
   {
    "duration": 30,
    "start_time": "2024-06-07T14:39:59.638Z"
   },
   {
    "duration": 31,
    "start_time": "2024-06-07T14:39:59.963Z"
   },
   {
    "duration": 54,
    "start_time": "2024-06-07T14:40:00.436Z"
   },
   {
    "duration": 31,
    "start_time": "2024-06-07T14:40:00.937Z"
   },
   {
    "duration": 16,
    "start_time": "2024-06-07T14:40:01.775Z"
   },
   {
    "duration": 16,
    "start_time": "2024-06-07T14:40:02.089Z"
   },
   {
    "duration": 381,
    "start_time": "2024-06-07T14:40:02.244Z"
   },
   {
    "duration": 551,
    "start_time": "2024-06-07T14:40:02.630Z"
   },
   {
    "duration": 37,
    "start_time": "2024-06-07T14:40:03.184Z"
   },
   {
    "duration": 180,
    "start_time": "2024-06-07T14:40:03.223Z"
   },
   {
    "duration": 358,
    "start_time": "2024-06-07T14:40:03.565Z"
   },
   {
    "duration": 12,
    "start_time": "2024-06-07T14:40:03.927Z"
   },
   {
    "duration": 17,
    "start_time": "2024-06-07T14:40:03.943Z"
   },
   {
    "duration": 23,
    "start_time": "2024-06-07T14:40:05.773Z"
   },
   {
    "duration": 12,
    "start_time": "2024-06-07T14:40:17.301Z"
   },
   {
    "duration": 11,
    "start_time": "2024-06-07T14:40:38.141Z"
   },
   {
    "duration": 15,
    "start_time": "2024-06-07T14:40:40.968Z"
   },
   {
    "duration": 17,
    "start_time": "2024-06-07T14:45:08.579Z"
   },
   {
    "duration": 18,
    "start_time": "2024-06-07T14:49:25.708Z"
   },
   {
    "duration": 4,
    "start_time": "2024-06-07T14:57:11.188Z"
   },
   {
    "duration": 304,
    "start_time": "2024-06-07T14:57:11.482Z"
   },
   {
    "duration": 145,
    "start_time": "2024-06-07T14:57:11.789Z"
   },
   {
    "duration": 14,
    "start_time": "2024-06-07T14:57:12.510Z"
   },
   {
    "duration": 13,
    "start_time": "2024-06-07T14:57:12.655Z"
   },
   {
    "duration": 6,
    "start_time": "2024-06-07T14:57:13.417Z"
   },
   {
    "duration": 6,
    "start_time": "2024-06-07T14:57:13.556Z"
   },
   {
    "duration": 29,
    "start_time": "2024-06-07T14:57:14.016Z"
   },
   {
    "duration": 21,
    "start_time": "2024-06-07T14:57:14.492Z"
   },
   {
    "duration": 13,
    "start_time": "2024-06-07T14:57:14.651Z"
   },
   {
    "duration": 21,
    "start_time": "2024-06-07T14:57:15.418Z"
   },
   {
    "duration": 33,
    "start_time": "2024-06-07T14:57:16.306Z"
   },
   {
    "duration": 29,
    "start_time": "2024-06-07T14:57:16.918Z"
   },
   {
    "duration": 11,
    "start_time": "2024-06-07T14:57:17.088Z"
   },
   {
    "duration": 48,
    "start_time": "2024-06-07T14:57:17.855Z"
   },
   {
    "duration": 192,
    "start_time": "2024-06-07T14:57:18.485Z"
   },
   {
    "duration": 20,
    "start_time": "2024-06-07T14:57:19.303Z"
   },
   {
    "duration": 10,
    "start_time": "2024-06-07T14:57:19.447Z"
   },
   {
    "duration": 31,
    "start_time": "2024-06-07T14:57:20.211Z"
   },
   {
    "duration": 168,
    "start_time": "2024-06-07T14:57:20.860Z"
   },
   {
    "duration": 26,
    "start_time": "2024-06-07T14:57:21.330Z"
   },
   {
    "duration": 12,
    "start_time": "2024-06-07T14:57:21.482Z"
   },
   {
    "duration": 39,
    "start_time": "2024-06-07T14:57:22.321Z"
   },
   {
    "duration": 120,
    "start_time": "2024-06-07T14:57:22.788Z"
   },
   {
    "duration": 19,
    "start_time": "2024-06-07T14:57:23.305Z"
   },
   {
    "duration": 101,
    "start_time": "2024-06-07T14:57:23.635Z"
   },
   {
    "duration": 36,
    "start_time": "2024-06-07T14:57:23.804Z"
   },
   {
    "duration": 34,
    "start_time": "2024-06-07T14:57:24.299Z"
   },
   {
    "duration": 26,
    "start_time": "2024-06-07T14:57:24.625Z"
   },
   {
    "duration": 32,
    "start_time": "2024-06-07T14:57:24.930Z"
   },
   {
    "duration": 32,
    "start_time": "2024-06-07T14:57:25.272Z"
   },
   {
    "duration": 44,
    "start_time": "2024-06-07T14:57:25.618Z"
   },
   {
    "duration": 26,
    "start_time": "2024-06-07T14:57:26.111Z"
   },
   {
    "duration": 19,
    "start_time": "2024-06-07T14:57:26.882Z"
   },
   {
    "duration": 18,
    "start_time": "2024-06-07T14:57:27.065Z"
   },
   {
    "duration": 368,
    "start_time": "2024-06-07T14:57:27.227Z"
   },
   {
    "duration": 522,
    "start_time": "2024-06-07T14:57:27.598Z"
   },
   {
    "duration": 17,
    "start_time": "2024-06-07T14:57:28.124Z"
   },
   {
    "duration": 200,
    "start_time": "2024-06-07T14:57:28.144Z"
   },
   {
    "duration": 337,
    "start_time": "2024-06-07T14:57:28.533Z"
   },
   {
    "duration": 11,
    "start_time": "2024-06-07T14:57:28.873Z"
   },
   {
    "duration": 34,
    "start_time": "2024-06-07T14:57:28.887Z"
   },
   {
    "duration": 22,
    "start_time": "2024-06-07T14:57:30.351Z"
   },
   {
    "duration": 17,
    "start_time": "2024-06-07T14:57:32.041Z"
   },
   {
    "duration": 18,
    "start_time": "2024-06-07T14:57:33.424Z"
   },
   {
    "duration": 5072,
    "start_time": "2024-06-10T18:02:43.267Z"
   },
   {
    "duration": 389,
    "start_time": "2024-06-10T18:02:48.342Z"
   },
   {
    "duration": 159,
    "start_time": "2024-06-10T18:02:48.734Z"
   },
   {
    "duration": 15,
    "start_time": "2024-06-10T18:02:48.899Z"
   },
   {
    "duration": 17,
    "start_time": "2024-06-10T18:02:48.935Z"
   },
   {
    "duration": 7,
    "start_time": "2024-06-10T18:02:48.956Z"
   },
   {
    "duration": 5,
    "start_time": "2024-06-10T18:02:48.966Z"
   },
   {
    "duration": 68,
    "start_time": "2024-06-10T18:02:48.974Z"
   },
   {
    "duration": 17,
    "start_time": "2024-06-10T18:02:49.045Z"
   },
   {
    "duration": 16,
    "start_time": "2024-06-10T18:02:49.068Z"
   },
   {
    "duration": 56,
    "start_time": "2024-06-10T18:02:49.088Z"
   },
   {
    "duration": 39,
    "start_time": "2024-06-10T18:02:49.147Z"
   },
   {
    "duration": 24,
    "start_time": "2024-06-10T18:02:49.418Z"
   },
   {
    "duration": 16,
    "start_time": "2024-06-10T18:02:49.577Z"
   },
   {
    "duration": 60,
    "start_time": "2024-06-10T18:02:50.396Z"
   },
   {
    "duration": 228,
    "start_time": "2024-06-10T18:02:51.038Z"
   },
   {
    "duration": 20,
    "start_time": "2024-06-10T18:02:51.981Z"
   },
   {
    "duration": 10,
    "start_time": "2024-06-10T18:02:52.157Z"
   },
   {
    "duration": 40,
    "start_time": "2024-06-10T18:02:52.935Z"
   },
   {
    "duration": 166,
    "start_time": "2024-06-10T18:02:53.525Z"
   },
   {
    "duration": 27,
    "start_time": "2024-06-10T18:02:53.995Z"
   },
   {
    "duration": 11,
    "start_time": "2024-06-10T18:02:54.143Z"
   },
   {
    "duration": 45,
    "start_time": "2024-06-10T18:02:54.915Z"
   },
   {
    "duration": 128,
    "start_time": "2024-06-10T18:02:55.418Z"
   },
   {
    "duration": 19,
    "start_time": "2024-06-10T18:02:55.887Z"
   },
   {
    "duration": 149,
    "start_time": "2024-06-10T18:02:56.251Z"
   },
   {
    "duration": 46,
    "start_time": "2024-06-10T18:02:56.416Z"
   },
   {
    "duration": 45,
    "start_time": "2024-06-10T18:02:56.913Z"
   },
   {
    "duration": 36,
    "start_time": "2024-06-10T18:02:57.248Z"
   },
   {
    "duration": 37,
    "start_time": "2024-06-10T18:02:57.606Z"
   },
   {
    "duration": 37,
    "start_time": "2024-06-10T18:02:57.931Z"
   },
   {
    "duration": 56,
    "start_time": "2024-06-10T18:02:58.409Z"
   },
   {
    "duration": 45,
    "start_time": "2024-06-10T18:02:58.936Z"
   },
   {
    "duration": 20,
    "start_time": "2024-06-10T18:02:59.818Z"
   },
   {
    "duration": 23,
    "start_time": "2024-06-10T18:03:00.010Z"
   },
   {
    "duration": 474,
    "start_time": "2024-06-10T18:03:00.179Z"
   },
   {
    "duration": 662,
    "start_time": "2024-06-10T18:03:00.656Z"
   },
   {
    "duration": 27,
    "start_time": "2024-06-10T18:03:01.321Z"
   },
   {
    "duration": 266,
    "start_time": "2024-06-10T18:03:01.352Z"
   },
   {
    "duration": 435,
    "start_time": "2024-06-10T18:03:01.669Z"
   },
   {
    "duration": 12,
    "start_time": "2024-06-10T18:03:02.107Z"
   },
   {
    "duration": 19,
    "start_time": "2024-06-10T18:03:02.122Z"
   },
   {
    "duration": 24,
    "start_time": "2024-06-10T18:03:03.299Z"
   },
   {
    "duration": 18,
    "start_time": "2024-06-10T18:03:04.862Z"
   },
   {
    "duration": 17,
    "start_time": "2024-06-10T18:03:06.791Z"
   }
  ],
  "colab": {
   "provenance": []
  },
  "kernelspec": {
   "display_name": "Python 3 (ipykernel)",
   "language": "python",
   "name": "python3"
  },
  "language_info": {
   "codemirror_mode": {
    "name": "ipython",
    "version": 3
   },
   "file_extension": ".py",
   "mimetype": "text/x-python",
   "name": "python",
   "nbconvert_exporter": "python",
   "pygments_lexer": "ipython3",
   "version": "3.9.19"
  },
  "toc": {
   "base_numbering": 1,
   "nav_menu": {},
   "number_sections": true,
   "sideBar": true,
   "skip_h1_title": false,
   "title_cell": "Table of Contents",
   "title_sidebar": "Contents",
   "toc_cell": false,
   "toc_position": {},
   "toc_section_display": true,
   "toc_window_display": true
  }
 },
 "nbformat": 4,
 "nbformat_minor": 1
}
